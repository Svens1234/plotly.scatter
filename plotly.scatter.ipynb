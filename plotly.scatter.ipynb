{
 "cells": [
  {
   "cell_type": "code",
   "execution_count": 1,
   "id": "9d7a54a0",
   "metadata": {},
   "outputs": [],
   "source": [
    "import plotly.express as px"
   ]
  },
  {
   "cell_type": "code",
   "execution_count": 2,
   "id": "9ec7e2a5",
   "metadata": {},
   "outputs": [],
   "source": [
    "import pandas as pd"
   ]
  },
  {
   "cell_type": "code",
   "execution_count": 4,
   "id": "4caf73e7",
   "metadata": {},
   "outputs": [
    {
     "data": {
      "text/html": [
       "<div>\n",
       "<style scoped>\n",
       "    .dataframe tbody tr th:only-of-type {\n",
       "        vertical-align: middle;\n",
       "    }\n",
       "\n",
       "    .dataframe tbody tr th {\n",
       "        vertical-align: top;\n",
       "    }\n",
       "\n",
       "    .dataframe thead th {\n",
       "        text-align: right;\n",
       "    }\n",
       "</style>\n",
       "<table border=\"1\" class=\"dataframe\">\n",
       "  <thead>\n",
       "    <tr style=\"text-align: right;\">\n",
       "      <th></th>\n",
       "      <th>Unnamed: 0</th>\n",
       "      <th>n_pop</th>\n",
       "      <th>mean_wage</th>\n",
       "      <th>mean_size_house</th>\n",
       "      <th>investments_per_capita</th>\n",
       "    </tr>\n",
       "  </thead>\n",
       "  <tbody>\n",
       "    <tr>\n",
       "      <th>0</th>\n",
       "      <td>Анадырь</td>\n",
       "      <td>15.6</td>\n",
       "      <td>107061.80</td>\n",
       "      <td>18.4</td>\n",
       "      <td>0.456923</td>\n",
       "    </tr>\n",
       "    <tr>\n",
       "      <th>1</th>\n",
       "      <td>Салехард</td>\n",
       "      <td>49.5</td>\n",
       "      <td>95496.00</td>\n",
       "      <td>24.1</td>\n",
       "      <td>0.923465</td>\n",
       "    </tr>\n",
       "    <tr>\n",
       "      <th>2</th>\n",
       "      <td>Южно-Сахалинск</td>\n",
       "      <td>199.0</td>\n",
       "      <td>88147.74</td>\n",
       "      <td>23.3</td>\n",
       "      <td>0.237090</td>\n",
       "    </tr>\n",
       "    <tr>\n",
       "      <th>3</th>\n",
       "      <td>Магадан</td>\n",
       "      <td>99.7</td>\n",
       "      <td>79539.30</td>\n",
       "      <td>24.9</td>\n",
       "      <td>0.053662</td>\n",
       "    </tr>\n",
       "    <tr>\n",
       "      <th>4</th>\n",
       "      <td>Петропавловск-Камчатский</td>\n",
       "      <td>181.2</td>\n",
       "      <td>76525.40</td>\n",
       "      <td>25.2</td>\n",
       "      <td>0.086970</td>\n",
       "    </tr>\n",
       "  </tbody>\n",
       "</table>\n",
       "</div>"
      ],
      "text/plain": [
       "                 Unnamed: 0  n_pop  mean_wage  mean_size_house  \\\n",
       "0                   Анадырь   15.6  107061.80             18.4   \n",
       "1                  Салехард   49.5   95496.00             24.1   \n",
       "2            Южно-Сахалинск  199.0   88147.74             23.3   \n",
       "3                   Магадан   99.7   79539.30             24.9   \n",
       "4  Петропавловск-Камчатский  181.2   76525.40             25.2   \n",
       "\n",
       "   investments_per_capita  \n",
       "0                0.456923  \n",
       "1                0.923465  \n",
       "2                0.237090  \n",
       "3                0.053662  \n",
       "4                0.086970  "
      ]
     },
     "execution_count": 4,
     "metadata": {},
     "output_type": "execute_result"
    }
   ],
   "source": [
    "df=pd.read_excel(r\"C:\\Users\\German\\Desktop\\Эконом_показатели_по_городам.xlsx\")\n",
    "df.head()"
   ]
  },
  {
   "cell_type": "code",
   "execution_count": 5,
   "id": "5f42bc91",
   "metadata": {},
   "outputs": [
    {
     "data": {
      "text/html": [
       "<div>\n",
       "<style scoped>\n",
       "    .dataframe tbody tr th:only-of-type {\n",
       "        vertical-align: middle;\n",
       "    }\n",
       "\n",
       "    .dataframe tbody tr th {\n",
       "        vertical-align: top;\n",
       "    }\n",
       "\n",
       "    .dataframe thead th {\n",
       "        text-align: right;\n",
       "    }\n",
       "</style>\n",
       "<table border=\"1\" class=\"dataframe\">\n",
       "  <thead>\n",
       "    <tr style=\"text-align: right;\">\n",
       "      <th></th>\n",
       "      <th>город</th>\n",
       "      <th>n_pop</th>\n",
       "      <th>mean_wage</th>\n",
       "      <th>mean_size_house</th>\n",
       "      <th>investments_per_capita</th>\n",
       "    </tr>\n",
       "  </thead>\n",
       "  <tbody>\n",
       "    <tr>\n",
       "      <th>0</th>\n",
       "      <td>Анадырь</td>\n",
       "      <td>15.6</td>\n",
       "      <td>107061.80</td>\n",
       "      <td>18.4</td>\n",
       "      <td>0.456923</td>\n",
       "    </tr>\n",
       "    <tr>\n",
       "      <th>1</th>\n",
       "      <td>Салехард</td>\n",
       "      <td>49.5</td>\n",
       "      <td>95496.00</td>\n",
       "      <td>24.1</td>\n",
       "      <td>0.923465</td>\n",
       "    </tr>\n",
       "    <tr>\n",
       "      <th>2</th>\n",
       "      <td>Южно-Сахалинск</td>\n",
       "      <td>199.0</td>\n",
       "      <td>88147.74</td>\n",
       "      <td>23.3</td>\n",
       "      <td>0.237090</td>\n",
       "    </tr>\n",
       "    <tr>\n",
       "      <th>3</th>\n",
       "      <td>Магадан</td>\n",
       "      <td>99.7</td>\n",
       "      <td>79539.30</td>\n",
       "      <td>24.9</td>\n",
       "      <td>0.053662</td>\n",
       "    </tr>\n",
       "    <tr>\n",
       "      <th>4</th>\n",
       "      <td>Петропавловск-Камчатский</td>\n",
       "      <td>181.2</td>\n",
       "      <td>76525.40</td>\n",
       "      <td>25.2</td>\n",
       "      <td>0.086970</td>\n",
       "    </tr>\n",
       "  </tbody>\n",
       "</table>\n",
       "</div>"
      ],
      "text/plain": [
       "                      город  n_pop  mean_wage  mean_size_house  \\\n",
       "0                   Анадырь   15.6  107061.80             18.4   \n",
       "1                  Салехард   49.5   95496.00             24.1   \n",
       "2            Южно-Сахалинск  199.0   88147.74             23.3   \n",
       "3                   Магадан   99.7   79539.30             24.9   \n",
       "4  Петропавловск-Камчатский  181.2   76525.40             25.2   \n",
       "\n",
       "   investments_per_capita  \n",
       "0                0.456923  \n",
       "1                0.923465  \n",
       "2                0.237090  \n",
       "3                0.053662  \n",
       "4                0.086970  "
      ]
     },
     "execution_count": 5,
     "metadata": {},
     "output_type": "execute_result"
    }
   ],
   "source": [
    "df.rename(columns={'Unnamed: 0':'город'},inplace=True)\n",
    "df.head()"
   ]
  },
  {
   "cell_type": "code",
   "execution_count": 8,
   "id": "8fcfa459",
   "metadata": {},
   "outputs": [
    {
     "data": {
      "application/vnd.plotly.v1+json": {
       "config": {
        "plotlyServerURL": "https://plot.ly"
       },
       "data": [
        {
         "hovertemplate": "mean_size_house=%{x}<br>mean_wage=%{y}<extra></extra>",
         "legendgroup": "",
         "marker": {
          "color": "#1F77B4",
          "symbol": "circle"
         },
         "mode": "markers",
         "name": "",
         "orientation": "v",
         "showlegend": false,
         "type": "scatter",
         "x": [
          18.4,
          24.1,
          23.3,
          24.9,
          25.2,
          25.3,
          24.9,
          19.1,
          23.8,
          29.3,
          23,
          21.9,
          25,
          27.7,
          23.3,
          24.1,
          23.7,
          23.1,
          24.8,
          23.6,
          21,
          34.2,
          25.1,
          25.2,
          15.4,
          23.5,
          25.4,
          24.1,
          25.3,
          26.9,
          25.3,
          23.2,
          28.1,
          28.6,
          28.7,
          25.4,
          23,
          24.1,
          25,
          20.1,
          67.3,
          24.7,
          27.1,
          26.2,
          26.6,
          26.6,
          24.1,
          28.1,
          24.8,
          21.1,
          23.6,
          23.9,
          24.8,
          29.6,
          12.1,
          25.6,
          24.3,
          26,
          28.9,
          27.1,
          25.4,
          28.7,
          25.5,
          23.9,
          29.2,
          25.3,
          23.4,
          26.7,
          25.4,
          27.1,
          29.1,
          24.3,
          26.6,
          17.5,
          23.7,
          35.3,
          20,
          25.5,
          28.6,
          24.4,
          29.1,
          19.3,
          24.9
         ],
         "xaxis": "x",
         "y": [
          107061.8,
          95496,
          88147.74,
          79539.3,
          76525.4,
          72093.6,
          70421.9,
          64801.3,
          61261.6,
          53830.5,
          52986.9,
          51830.5,
          47265.6,
          46980,
          45097.7,
          44384.3,
          44181.4,
          43410.8,
          42469.5,
          42312.8,
          42204.2,
          42028.7,
          41884,
          41808.1,
          41383,
          41325.9,
          41234.4,
          41203.1,
          41020.8,
          40556.7,
          39653.2,
          39317.8,
          39298.9,
          39180.2,
          38686,
          38228.1,
          37587.3,
          37533.7,
          36640.1,
          36536.7,
          36523.2,
          36516.2,
          36194.5,
          36097,
          36072.3,
          36024.7,
          35602,
          35202.3,
          35179,
          35011.6,
          33956.9,
          33718.9,
          33566.7,
          33290.1,
          33279.7,
          33213.1,
          32720.3,
          32555.7,
          32504.7,
          31462,
          31201.4,
          31129.7,
          31100.1,
          31013.5,
          30540.9,
          30539.1,
          30510.3,
          30455,
          30365.5,
          29746.8,
          29583.6,
          29496.4,
          28931.7,
          28610.2,
          28210.8,
          28184.3,
          27958.3,
          27687,
          27481.1,
          26960.8,
          26639.8,
          73812,
          53740
         ],
         "yaxis": "y"
        }
       ],
       "layout": {
        "legend": {
         "tracegroupgap": 0
        },
        "margin": {
         "t": 60
        },
        "template": {
         "data": {
          "bar": [
           {
            "error_x": {
             "color": "rgb(36,36,36)"
            },
            "error_y": {
             "color": "rgb(36,36,36)"
            },
            "marker": {
             "line": {
              "color": "white",
              "width": 0.5
             },
             "pattern": {
              "fillmode": "overlay",
              "size": 10,
              "solidity": 0.2
             }
            },
            "type": "bar"
           }
          ],
          "barpolar": [
           {
            "marker": {
             "line": {
              "color": "white",
              "width": 0.5
             },
             "pattern": {
              "fillmode": "overlay",
              "size": 10,
              "solidity": 0.2
             }
            },
            "type": "barpolar"
           }
          ],
          "carpet": [
           {
            "aaxis": {
             "endlinecolor": "rgb(36,36,36)",
             "gridcolor": "white",
             "linecolor": "white",
             "minorgridcolor": "white",
             "startlinecolor": "rgb(36,36,36)"
            },
            "baxis": {
             "endlinecolor": "rgb(36,36,36)",
             "gridcolor": "white",
             "linecolor": "white",
             "minorgridcolor": "white",
             "startlinecolor": "rgb(36,36,36)"
            },
            "type": "carpet"
           }
          ],
          "choropleth": [
           {
            "colorbar": {
             "outlinewidth": 1,
             "tickcolor": "rgb(36,36,36)",
             "ticks": "outside"
            },
            "type": "choropleth"
           }
          ],
          "contour": [
           {
            "colorbar": {
             "outlinewidth": 1,
             "tickcolor": "rgb(36,36,36)",
             "ticks": "outside"
            },
            "colorscale": [
             [
              0,
              "#440154"
             ],
             [
              0.1111111111111111,
              "#482878"
             ],
             [
              0.2222222222222222,
              "#3e4989"
             ],
             [
              0.3333333333333333,
              "#31688e"
             ],
             [
              0.4444444444444444,
              "#26828e"
             ],
             [
              0.5555555555555556,
              "#1f9e89"
             ],
             [
              0.6666666666666666,
              "#35b779"
             ],
             [
              0.7777777777777778,
              "#6ece58"
             ],
             [
              0.8888888888888888,
              "#b5de2b"
             ],
             [
              1,
              "#fde725"
             ]
            ],
            "type": "contour"
           }
          ],
          "contourcarpet": [
           {
            "colorbar": {
             "outlinewidth": 1,
             "tickcolor": "rgb(36,36,36)",
             "ticks": "outside"
            },
            "type": "contourcarpet"
           }
          ],
          "heatmap": [
           {
            "colorbar": {
             "outlinewidth": 1,
             "tickcolor": "rgb(36,36,36)",
             "ticks": "outside"
            },
            "colorscale": [
             [
              0,
              "#440154"
             ],
             [
              0.1111111111111111,
              "#482878"
             ],
             [
              0.2222222222222222,
              "#3e4989"
             ],
             [
              0.3333333333333333,
              "#31688e"
             ],
             [
              0.4444444444444444,
              "#26828e"
             ],
             [
              0.5555555555555556,
              "#1f9e89"
             ],
             [
              0.6666666666666666,
              "#35b779"
             ],
             [
              0.7777777777777778,
              "#6ece58"
             ],
             [
              0.8888888888888888,
              "#b5de2b"
             ],
             [
              1,
              "#fde725"
             ]
            ],
            "type": "heatmap"
           }
          ],
          "heatmapgl": [
           {
            "colorbar": {
             "outlinewidth": 1,
             "tickcolor": "rgb(36,36,36)",
             "ticks": "outside"
            },
            "colorscale": [
             [
              0,
              "#440154"
             ],
             [
              0.1111111111111111,
              "#482878"
             ],
             [
              0.2222222222222222,
              "#3e4989"
             ],
             [
              0.3333333333333333,
              "#31688e"
             ],
             [
              0.4444444444444444,
              "#26828e"
             ],
             [
              0.5555555555555556,
              "#1f9e89"
             ],
             [
              0.6666666666666666,
              "#35b779"
             ],
             [
              0.7777777777777778,
              "#6ece58"
             ],
             [
              0.8888888888888888,
              "#b5de2b"
             ],
             [
              1,
              "#fde725"
             ]
            ],
            "type": "heatmapgl"
           }
          ],
          "histogram": [
           {
            "marker": {
             "line": {
              "color": "white",
              "width": 0.6
             }
            },
            "type": "histogram"
           }
          ],
          "histogram2d": [
           {
            "colorbar": {
             "outlinewidth": 1,
             "tickcolor": "rgb(36,36,36)",
             "ticks": "outside"
            },
            "colorscale": [
             [
              0,
              "#440154"
             ],
             [
              0.1111111111111111,
              "#482878"
             ],
             [
              0.2222222222222222,
              "#3e4989"
             ],
             [
              0.3333333333333333,
              "#31688e"
             ],
             [
              0.4444444444444444,
              "#26828e"
             ],
             [
              0.5555555555555556,
              "#1f9e89"
             ],
             [
              0.6666666666666666,
              "#35b779"
             ],
             [
              0.7777777777777778,
              "#6ece58"
             ],
             [
              0.8888888888888888,
              "#b5de2b"
             ],
             [
              1,
              "#fde725"
             ]
            ],
            "type": "histogram2d"
           }
          ],
          "histogram2dcontour": [
           {
            "colorbar": {
             "outlinewidth": 1,
             "tickcolor": "rgb(36,36,36)",
             "ticks": "outside"
            },
            "colorscale": [
             [
              0,
              "#440154"
             ],
             [
              0.1111111111111111,
              "#482878"
             ],
             [
              0.2222222222222222,
              "#3e4989"
             ],
             [
              0.3333333333333333,
              "#31688e"
             ],
             [
              0.4444444444444444,
              "#26828e"
             ],
             [
              0.5555555555555556,
              "#1f9e89"
             ],
             [
              0.6666666666666666,
              "#35b779"
             ],
             [
              0.7777777777777778,
              "#6ece58"
             ],
             [
              0.8888888888888888,
              "#b5de2b"
             ],
             [
              1,
              "#fde725"
             ]
            ],
            "type": "histogram2dcontour"
           }
          ],
          "mesh3d": [
           {
            "colorbar": {
             "outlinewidth": 1,
             "tickcolor": "rgb(36,36,36)",
             "ticks": "outside"
            },
            "type": "mesh3d"
           }
          ],
          "parcoords": [
           {
            "line": {
             "colorbar": {
              "outlinewidth": 1,
              "tickcolor": "rgb(36,36,36)",
              "ticks": "outside"
             }
            },
            "type": "parcoords"
           }
          ],
          "pie": [
           {
            "automargin": true,
            "type": "pie"
           }
          ],
          "scatter": [
           {
            "fillpattern": {
             "fillmode": "overlay",
             "size": 10,
             "solidity": 0.2
            },
            "type": "scatter"
           }
          ],
          "scatter3d": [
           {
            "line": {
             "colorbar": {
              "outlinewidth": 1,
              "tickcolor": "rgb(36,36,36)",
              "ticks": "outside"
             }
            },
            "marker": {
             "colorbar": {
              "outlinewidth": 1,
              "tickcolor": "rgb(36,36,36)",
              "ticks": "outside"
             }
            },
            "type": "scatter3d"
           }
          ],
          "scattercarpet": [
           {
            "marker": {
             "colorbar": {
              "outlinewidth": 1,
              "tickcolor": "rgb(36,36,36)",
              "ticks": "outside"
             }
            },
            "type": "scattercarpet"
           }
          ],
          "scattergeo": [
           {
            "marker": {
             "colorbar": {
              "outlinewidth": 1,
              "tickcolor": "rgb(36,36,36)",
              "ticks": "outside"
             }
            },
            "type": "scattergeo"
           }
          ],
          "scattergl": [
           {
            "marker": {
             "colorbar": {
              "outlinewidth": 1,
              "tickcolor": "rgb(36,36,36)",
              "ticks": "outside"
             }
            },
            "type": "scattergl"
           }
          ],
          "scattermapbox": [
           {
            "marker": {
             "colorbar": {
              "outlinewidth": 1,
              "tickcolor": "rgb(36,36,36)",
              "ticks": "outside"
             }
            },
            "type": "scattermapbox"
           }
          ],
          "scatterpolar": [
           {
            "marker": {
             "colorbar": {
              "outlinewidth": 1,
              "tickcolor": "rgb(36,36,36)",
              "ticks": "outside"
             }
            },
            "type": "scatterpolar"
           }
          ],
          "scatterpolargl": [
           {
            "marker": {
             "colorbar": {
              "outlinewidth": 1,
              "tickcolor": "rgb(36,36,36)",
              "ticks": "outside"
             }
            },
            "type": "scatterpolargl"
           }
          ],
          "scatterternary": [
           {
            "marker": {
             "colorbar": {
              "outlinewidth": 1,
              "tickcolor": "rgb(36,36,36)",
              "ticks": "outside"
             }
            },
            "type": "scatterternary"
           }
          ],
          "surface": [
           {
            "colorbar": {
             "outlinewidth": 1,
             "tickcolor": "rgb(36,36,36)",
             "ticks": "outside"
            },
            "colorscale": [
             [
              0,
              "#440154"
             ],
             [
              0.1111111111111111,
              "#482878"
             ],
             [
              0.2222222222222222,
              "#3e4989"
             ],
             [
              0.3333333333333333,
              "#31688e"
             ],
             [
              0.4444444444444444,
              "#26828e"
             ],
             [
              0.5555555555555556,
              "#1f9e89"
             ],
             [
              0.6666666666666666,
              "#35b779"
             ],
             [
              0.7777777777777778,
              "#6ece58"
             ],
             [
              0.8888888888888888,
              "#b5de2b"
             ],
             [
              1,
              "#fde725"
             ]
            ],
            "type": "surface"
           }
          ],
          "table": [
           {
            "cells": {
             "fill": {
              "color": "rgb(237,237,237)"
             },
             "line": {
              "color": "white"
             }
            },
            "header": {
             "fill": {
              "color": "rgb(217,217,217)"
             },
             "line": {
              "color": "white"
             }
            },
            "type": "table"
           }
          ]
         },
         "layout": {
          "annotationdefaults": {
           "arrowhead": 0,
           "arrowwidth": 1
          },
          "autotypenumbers": "strict",
          "coloraxis": {
           "colorbar": {
            "outlinewidth": 1,
            "tickcolor": "rgb(36,36,36)",
            "ticks": "outside"
           }
          },
          "colorscale": {
           "diverging": [
            [
             0,
             "rgb(103,0,31)"
            ],
            [
             0.1,
             "rgb(178,24,43)"
            ],
            [
             0.2,
             "rgb(214,96,77)"
            ],
            [
             0.3,
             "rgb(244,165,130)"
            ],
            [
             0.4,
             "rgb(253,219,199)"
            ],
            [
             0.5,
             "rgb(247,247,247)"
            ],
            [
             0.6,
             "rgb(209,229,240)"
            ],
            [
             0.7,
             "rgb(146,197,222)"
            ],
            [
             0.8,
             "rgb(67,147,195)"
            ],
            [
             0.9,
             "rgb(33,102,172)"
            ],
            [
             1,
             "rgb(5,48,97)"
            ]
           ],
           "sequential": [
            [
             0,
             "#440154"
            ],
            [
             0.1111111111111111,
             "#482878"
            ],
            [
             0.2222222222222222,
             "#3e4989"
            ],
            [
             0.3333333333333333,
             "#31688e"
            ],
            [
             0.4444444444444444,
             "#26828e"
            ],
            [
             0.5555555555555556,
             "#1f9e89"
            ],
            [
             0.6666666666666666,
             "#35b779"
            ],
            [
             0.7777777777777778,
             "#6ece58"
            ],
            [
             0.8888888888888888,
             "#b5de2b"
            ],
            [
             1,
             "#fde725"
            ]
           ],
           "sequentialminus": [
            [
             0,
             "#440154"
            ],
            [
             0.1111111111111111,
             "#482878"
            ],
            [
             0.2222222222222222,
             "#3e4989"
            ],
            [
             0.3333333333333333,
             "#31688e"
            ],
            [
             0.4444444444444444,
             "#26828e"
            ],
            [
             0.5555555555555556,
             "#1f9e89"
            ],
            [
             0.6666666666666666,
             "#35b779"
            ],
            [
             0.7777777777777778,
             "#6ece58"
            ],
            [
             0.8888888888888888,
             "#b5de2b"
            ],
            [
             1,
             "#fde725"
            ]
           ]
          },
          "colorway": [
           "#1F77B4",
           "#FF7F0E",
           "#2CA02C",
           "#D62728",
           "#9467BD",
           "#8C564B",
           "#E377C2",
           "#7F7F7F",
           "#BCBD22",
           "#17BECF"
          ],
          "font": {
           "color": "rgb(36,36,36)"
          },
          "geo": {
           "bgcolor": "white",
           "lakecolor": "white",
           "landcolor": "white",
           "showlakes": true,
           "showland": true,
           "subunitcolor": "white"
          },
          "hoverlabel": {
           "align": "left"
          },
          "hovermode": "closest",
          "mapbox": {
           "style": "light"
          },
          "paper_bgcolor": "white",
          "plot_bgcolor": "white",
          "polar": {
           "angularaxis": {
            "gridcolor": "rgb(232,232,232)",
            "linecolor": "rgb(36,36,36)",
            "showgrid": false,
            "showline": true,
            "ticks": "outside"
           },
           "bgcolor": "white",
           "radialaxis": {
            "gridcolor": "rgb(232,232,232)",
            "linecolor": "rgb(36,36,36)",
            "showgrid": false,
            "showline": true,
            "ticks": "outside"
           }
          },
          "scene": {
           "xaxis": {
            "backgroundcolor": "white",
            "gridcolor": "rgb(232,232,232)",
            "gridwidth": 2,
            "linecolor": "rgb(36,36,36)",
            "showbackground": true,
            "showgrid": false,
            "showline": true,
            "ticks": "outside",
            "zeroline": false,
            "zerolinecolor": "rgb(36,36,36)"
           },
           "yaxis": {
            "backgroundcolor": "white",
            "gridcolor": "rgb(232,232,232)",
            "gridwidth": 2,
            "linecolor": "rgb(36,36,36)",
            "showbackground": true,
            "showgrid": false,
            "showline": true,
            "ticks": "outside",
            "zeroline": false,
            "zerolinecolor": "rgb(36,36,36)"
           },
           "zaxis": {
            "backgroundcolor": "white",
            "gridcolor": "rgb(232,232,232)",
            "gridwidth": 2,
            "linecolor": "rgb(36,36,36)",
            "showbackground": true,
            "showgrid": false,
            "showline": true,
            "ticks": "outside",
            "zeroline": false,
            "zerolinecolor": "rgb(36,36,36)"
           }
          },
          "shapedefaults": {
           "fillcolor": "black",
           "line": {
            "width": 0
           },
           "opacity": 0.3
          },
          "ternary": {
           "aaxis": {
            "gridcolor": "rgb(232,232,232)",
            "linecolor": "rgb(36,36,36)",
            "showgrid": false,
            "showline": true,
            "ticks": "outside"
           },
           "baxis": {
            "gridcolor": "rgb(232,232,232)",
            "linecolor": "rgb(36,36,36)",
            "showgrid": false,
            "showline": true,
            "ticks": "outside"
           },
           "bgcolor": "white",
           "caxis": {
            "gridcolor": "rgb(232,232,232)",
            "linecolor": "rgb(36,36,36)",
            "showgrid": false,
            "showline": true,
            "ticks": "outside"
           }
          },
          "title": {
           "x": 0.05
          },
          "xaxis": {
           "automargin": true,
           "gridcolor": "rgb(232,232,232)",
           "linecolor": "rgb(36,36,36)",
           "showgrid": false,
           "showline": true,
           "ticks": "outside",
           "title": {
            "standoff": 15
           },
           "zeroline": false,
           "zerolinecolor": "rgb(36,36,36)"
          },
          "yaxis": {
           "automargin": true,
           "gridcolor": "rgb(232,232,232)",
           "linecolor": "rgb(36,36,36)",
           "showgrid": false,
           "showline": true,
           "ticks": "outside",
           "title": {
            "standoff": 15
           },
           "zeroline": false,
           "zerolinecolor": "rgb(36,36,36)"
          }
         }
        },
        "xaxis": {
         "anchor": "y",
         "domain": [
          0,
          1
         ],
         "title": {
          "text": "mean_size_house"
         }
        },
        "yaxis": {
         "anchor": "x",
         "domain": [
          0,
          1
         ],
         "title": {
          "text": "mean_wage"
         }
        }
       }
      },
      "text/html": [
       "<div>                            <div id=\"25df2458-4127-44a7-bcaa-c2456f32e23b\" class=\"plotly-graph-div\" style=\"height:525px; width:100%;\"></div>            <script type=\"text/javascript\">                require([\"plotly\"], function(Plotly) {                    window.PLOTLYENV=window.PLOTLYENV || {};                                    if (document.getElementById(\"25df2458-4127-44a7-bcaa-c2456f32e23b\")) {                    Plotly.newPlot(                        \"25df2458-4127-44a7-bcaa-c2456f32e23b\",                        [{\"hovertemplate\":\"mean_size_house=%{x}<br>mean_wage=%{y}<extra></extra>\",\"legendgroup\":\"\",\"marker\":{\"color\":\"#1F77B4\",\"symbol\":\"circle\"},\"mode\":\"markers\",\"name\":\"\",\"orientation\":\"v\",\"showlegend\":false,\"x\":[18.4,24.1,23.3,24.9,25.2,25.3,24.9,19.1,23.8,29.3,23.0,21.9,25.0,27.7,23.3,24.1,23.7,23.1,24.8,23.6,21.0,34.2,25.1,25.2,15.4,23.5,25.4,24.1,25.3,26.9,25.3,23.2,28.1,28.6,28.7,25.4,23.0,24.1,25.0,20.1,67.3,24.7,27.1,26.2,26.6,26.6,24.1,28.1,24.8,21.1,23.6,23.9,24.8,29.6,12.1,25.6,24.3,26.0,28.9,27.1,25.4,28.7,25.5,23.9,29.2,25.3,23.4,26.7,25.4,27.1,29.1,24.3,26.6,17.5,23.7,35.3,20.0,25.5,28.6,24.4,29.1,19.3,24.9],\"xaxis\":\"x\",\"y\":[107061.8,95496.0,88147.74,79539.3,76525.4,72093.6,70421.9,64801.3,61261.6,53830.5,52986.9,51830.5,47265.6,46980.0,45097.7,44384.3,44181.4,43410.8,42469.5,42312.8,42204.2,42028.7,41884.0,41808.1,41383.0,41325.9,41234.4,41203.1,41020.8,40556.7,39653.2,39317.8,39298.9,39180.2,38686.0,38228.1,37587.3,37533.7,36640.1,36536.7,36523.2,36516.2,36194.5,36097.0,36072.3,36024.7,35602.0,35202.3,35179.0,35011.6,33956.9,33718.9,33566.7,33290.1,33279.7,33213.1,32720.3,32555.7,32504.7,31462.0,31201.4,31129.7,31100.1,31013.5,30540.9,30539.1,30510.3,30455.0,30365.5,29746.8,29583.6,29496.4,28931.7,28610.2,28210.8,28184.3,27958.3,27687.0,27481.1,26960.8,26639.8,73812.0,53740.0],\"yaxis\":\"y\",\"type\":\"scatter\"}],                        {\"template\":{\"data\":{\"barpolar\":[{\"marker\":{\"line\":{\"color\":\"white\",\"width\":0.5},\"pattern\":{\"fillmode\":\"overlay\",\"size\":10,\"solidity\":0.2}},\"type\":\"barpolar\"}],\"bar\":[{\"error_x\":{\"color\":\"rgb(36,36,36)\"},\"error_y\":{\"color\":\"rgb(36,36,36)\"},\"marker\":{\"line\":{\"color\":\"white\",\"width\":0.5},\"pattern\":{\"fillmode\":\"overlay\",\"size\":10,\"solidity\":0.2}},\"type\":\"bar\"}],\"carpet\":[{\"aaxis\":{\"endlinecolor\":\"rgb(36,36,36)\",\"gridcolor\":\"white\",\"linecolor\":\"white\",\"minorgridcolor\":\"white\",\"startlinecolor\":\"rgb(36,36,36)\"},\"baxis\":{\"endlinecolor\":\"rgb(36,36,36)\",\"gridcolor\":\"white\",\"linecolor\":\"white\",\"minorgridcolor\":\"white\",\"startlinecolor\":\"rgb(36,36,36)\"},\"type\":\"carpet\"}],\"choropleth\":[{\"colorbar\":{\"outlinewidth\":1,\"tickcolor\":\"rgb(36,36,36)\",\"ticks\":\"outside\"},\"type\":\"choropleth\"}],\"contourcarpet\":[{\"colorbar\":{\"outlinewidth\":1,\"tickcolor\":\"rgb(36,36,36)\",\"ticks\":\"outside\"},\"type\":\"contourcarpet\"}],\"contour\":[{\"colorbar\":{\"outlinewidth\":1,\"tickcolor\":\"rgb(36,36,36)\",\"ticks\":\"outside\"},\"colorscale\":[[0.0,\"#440154\"],[0.1111111111111111,\"#482878\"],[0.2222222222222222,\"#3e4989\"],[0.3333333333333333,\"#31688e\"],[0.4444444444444444,\"#26828e\"],[0.5555555555555556,\"#1f9e89\"],[0.6666666666666666,\"#35b779\"],[0.7777777777777778,\"#6ece58\"],[0.8888888888888888,\"#b5de2b\"],[1.0,\"#fde725\"]],\"type\":\"contour\"}],\"heatmapgl\":[{\"colorbar\":{\"outlinewidth\":1,\"tickcolor\":\"rgb(36,36,36)\",\"ticks\":\"outside\"},\"colorscale\":[[0.0,\"#440154\"],[0.1111111111111111,\"#482878\"],[0.2222222222222222,\"#3e4989\"],[0.3333333333333333,\"#31688e\"],[0.4444444444444444,\"#26828e\"],[0.5555555555555556,\"#1f9e89\"],[0.6666666666666666,\"#35b779\"],[0.7777777777777778,\"#6ece58\"],[0.8888888888888888,\"#b5de2b\"],[1.0,\"#fde725\"]],\"type\":\"heatmapgl\"}],\"heatmap\":[{\"colorbar\":{\"outlinewidth\":1,\"tickcolor\":\"rgb(36,36,36)\",\"ticks\":\"outside\"},\"colorscale\":[[0.0,\"#440154\"],[0.1111111111111111,\"#482878\"],[0.2222222222222222,\"#3e4989\"],[0.3333333333333333,\"#31688e\"],[0.4444444444444444,\"#26828e\"],[0.5555555555555556,\"#1f9e89\"],[0.6666666666666666,\"#35b779\"],[0.7777777777777778,\"#6ece58\"],[0.8888888888888888,\"#b5de2b\"],[1.0,\"#fde725\"]],\"type\":\"heatmap\"}],\"histogram2dcontour\":[{\"colorbar\":{\"outlinewidth\":1,\"tickcolor\":\"rgb(36,36,36)\",\"ticks\":\"outside\"},\"colorscale\":[[0.0,\"#440154\"],[0.1111111111111111,\"#482878\"],[0.2222222222222222,\"#3e4989\"],[0.3333333333333333,\"#31688e\"],[0.4444444444444444,\"#26828e\"],[0.5555555555555556,\"#1f9e89\"],[0.6666666666666666,\"#35b779\"],[0.7777777777777778,\"#6ece58\"],[0.8888888888888888,\"#b5de2b\"],[1.0,\"#fde725\"]],\"type\":\"histogram2dcontour\"}],\"histogram2d\":[{\"colorbar\":{\"outlinewidth\":1,\"tickcolor\":\"rgb(36,36,36)\",\"ticks\":\"outside\"},\"colorscale\":[[0.0,\"#440154\"],[0.1111111111111111,\"#482878\"],[0.2222222222222222,\"#3e4989\"],[0.3333333333333333,\"#31688e\"],[0.4444444444444444,\"#26828e\"],[0.5555555555555556,\"#1f9e89\"],[0.6666666666666666,\"#35b779\"],[0.7777777777777778,\"#6ece58\"],[0.8888888888888888,\"#b5de2b\"],[1.0,\"#fde725\"]],\"type\":\"histogram2d\"}],\"histogram\":[{\"marker\":{\"line\":{\"color\":\"white\",\"width\":0.6}},\"type\":\"histogram\"}],\"mesh3d\":[{\"colorbar\":{\"outlinewidth\":1,\"tickcolor\":\"rgb(36,36,36)\",\"ticks\":\"outside\"},\"type\":\"mesh3d\"}],\"parcoords\":[{\"line\":{\"colorbar\":{\"outlinewidth\":1,\"tickcolor\":\"rgb(36,36,36)\",\"ticks\":\"outside\"}},\"type\":\"parcoords\"}],\"pie\":[{\"automargin\":true,\"type\":\"pie\"}],\"scatter3d\":[{\"line\":{\"colorbar\":{\"outlinewidth\":1,\"tickcolor\":\"rgb(36,36,36)\",\"ticks\":\"outside\"}},\"marker\":{\"colorbar\":{\"outlinewidth\":1,\"tickcolor\":\"rgb(36,36,36)\",\"ticks\":\"outside\"}},\"type\":\"scatter3d\"}],\"scattercarpet\":[{\"marker\":{\"colorbar\":{\"outlinewidth\":1,\"tickcolor\":\"rgb(36,36,36)\",\"ticks\":\"outside\"}},\"type\":\"scattercarpet\"}],\"scattergeo\":[{\"marker\":{\"colorbar\":{\"outlinewidth\":1,\"tickcolor\":\"rgb(36,36,36)\",\"ticks\":\"outside\"}},\"type\":\"scattergeo\"}],\"scattergl\":[{\"marker\":{\"colorbar\":{\"outlinewidth\":1,\"tickcolor\":\"rgb(36,36,36)\",\"ticks\":\"outside\"}},\"type\":\"scattergl\"}],\"scattermapbox\":[{\"marker\":{\"colorbar\":{\"outlinewidth\":1,\"tickcolor\":\"rgb(36,36,36)\",\"ticks\":\"outside\"}},\"type\":\"scattermapbox\"}],\"scatterpolargl\":[{\"marker\":{\"colorbar\":{\"outlinewidth\":1,\"tickcolor\":\"rgb(36,36,36)\",\"ticks\":\"outside\"}},\"type\":\"scatterpolargl\"}],\"scatterpolar\":[{\"marker\":{\"colorbar\":{\"outlinewidth\":1,\"tickcolor\":\"rgb(36,36,36)\",\"ticks\":\"outside\"}},\"type\":\"scatterpolar\"}],\"scatter\":[{\"fillpattern\":{\"fillmode\":\"overlay\",\"size\":10,\"solidity\":0.2},\"type\":\"scatter\"}],\"scatterternary\":[{\"marker\":{\"colorbar\":{\"outlinewidth\":1,\"tickcolor\":\"rgb(36,36,36)\",\"ticks\":\"outside\"}},\"type\":\"scatterternary\"}],\"surface\":[{\"colorbar\":{\"outlinewidth\":1,\"tickcolor\":\"rgb(36,36,36)\",\"ticks\":\"outside\"},\"colorscale\":[[0.0,\"#440154\"],[0.1111111111111111,\"#482878\"],[0.2222222222222222,\"#3e4989\"],[0.3333333333333333,\"#31688e\"],[0.4444444444444444,\"#26828e\"],[0.5555555555555556,\"#1f9e89\"],[0.6666666666666666,\"#35b779\"],[0.7777777777777778,\"#6ece58\"],[0.8888888888888888,\"#b5de2b\"],[1.0,\"#fde725\"]],\"type\":\"surface\"}],\"table\":[{\"cells\":{\"fill\":{\"color\":\"rgb(237,237,237)\"},\"line\":{\"color\":\"white\"}},\"header\":{\"fill\":{\"color\":\"rgb(217,217,217)\"},\"line\":{\"color\":\"white\"}},\"type\":\"table\"}]},\"layout\":{\"annotationdefaults\":{\"arrowhead\":0,\"arrowwidth\":1},\"autotypenumbers\":\"strict\",\"coloraxis\":{\"colorbar\":{\"outlinewidth\":1,\"tickcolor\":\"rgb(36,36,36)\",\"ticks\":\"outside\"}},\"colorscale\":{\"diverging\":[[0.0,\"rgb(103,0,31)\"],[0.1,\"rgb(178,24,43)\"],[0.2,\"rgb(214,96,77)\"],[0.3,\"rgb(244,165,130)\"],[0.4,\"rgb(253,219,199)\"],[0.5,\"rgb(247,247,247)\"],[0.6,\"rgb(209,229,240)\"],[0.7,\"rgb(146,197,222)\"],[0.8,\"rgb(67,147,195)\"],[0.9,\"rgb(33,102,172)\"],[1.0,\"rgb(5,48,97)\"]],\"sequential\":[[0.0,\"#440154\"],[0.1111111111111111,\"#482878\"],[0.2222222222222222,\"#3e4989\"],[0.3333333333333333,\"#31688e\"],[0.4444444444444444,\"#26828e\"],[0.5555555555555556,\"#1f9e89\"],[0.6666666666666666,\"#35b779\"],[0.7777777777777778,\"#6ece58\"],[0.8888888888888888,\"#b5de2b\"],[1.0,\"#fde725\"]],\"sequentialminus\":[[0.0,\"#440154\"],[0.1111111111111111,\"#482878\"],[0.2222222222222222,\"#3e4989\"],[0.3333333333333333,\"#31688e\"],[0.4444444444444444,\"#26828e\"],[0.5555555555555556,\"#1f9e89\"],[0.6666666666666666,\"#35b779\"],[0.7777777777777778,\"#6ece58\"],[0.8888888888888888,\"#b5de2b\"],[1.0,\"#fde725\"]]},\"colorway\":[\"#1F77B4\",\"#FF7F0E\",\"#2CA02C\",\"#D62728\",\"#9467BD\",\"#8C564B\",\"#E377C2\",\"#7F7F7F\",\"#BCBD22\",\"#17BECF\"],\"font\":{\"color\":\"rgb(36,36,36)\"},\"geo\":{\"bgcolor\":\"white\",\"lakecolor\":\"white\",\"landcolor\":\"white\",\"showlakes\":true,\"showland\":true,\"subunitcolor\":\"white\"},\"hoverlabel\":{\"align\":\"left\"},\"hovermode\":\"closest\",\"mapbox\":{\"style\":\"light\"},\"paper_bgcolor\":\"white\",\"plot_bgcolor\":\"white\",\"polar\":{\"angularaxis\":{\"gridcolor\":\"rgb(232,232,232)\",\"linecolor\":\"rgb(36,36,36)\",\"showgrid\":false,\"showline\":true,\"ticks\":\"outside\"},\"bgcolor\":\"white\",\"radialaxis\":{\"gridcolor\":\"rgb(232,232,232)\",\"linecolor\":\"rgb(36,36,36)\",\"showgrid\":false,\"showline\":true,\"ticks\":\"outside\"}},\"scene\":{\"xaxis\":{\"backgroundcolor\":\"white\",\"gridcolor\":\"rgb(232,232,232)\",\"gridwidth\":2,\"linecolor\":\"rgb(36,36,36)\",\"showbackground\":true,\"showgrid\":false,\"showline\":true,\"ticks\":\"outside\",\"zeroline\":false,\"zerolinecolor\":\"rgb(36,36,36)\"},\"yaxis\":{\"backgroundcolor\":\"white\",\"gridcolor\":\"rgb(232,232,232)\",\"gridwidth\":2,\"linecolor\":\"rgb(36,36,36)\",\"showbackground\":true,\"showgrid\":false,\"showline\":true,\"ticks\":\"outside\",\"zeroline\":false,\"zerolinecolor\":\"rgb(36,36,36)\"},\"zaxis\":{\"backgroundcolor\":\"white\",\"gridcolor\":\"rgb(232,232,232)\",\"gridwidth\":2,\"linecolor\":\"rgb(36,36,36)\",\"showbackground\":true,\"showgrid\":false,\"showline\":true,\"ticks\":\"outside\",\"zeroline\":false,\"zerolinecolor\":\"rgb(36,36,36)\"}},\"shapedefaults\":{\"fillcolor\":\"black\",\"line\":{\"width\":0},\"opacity\":0.3},\"ternary\":{\"aaxis\":{\"gridcolor\":\"rgb(232,232,232)\",\"linecolor\":\"rgb(36,36,36)\",\"showgrid\":false,\"showline\":true,\"ticks\":\"outside\"},\"baxis\":{\"gridcolor\":\"rgb(232,232,232)\",\"linecolor\":\"rgb(36,36,36)\",\"showgrid\":false,\"showline\":true,\"ticks\":\"outside\"},\"bgcolor\":\"white\",\"caxis\":{\"gridcolor\":\"rgb(232,232,232)\",\"linecolor\":\"rgb(36,36,36)\",\"showgrid\":false,\"showline\":true,\"ticks\":\"outside\"}},\"title\":{\"x\":0.05},\"xaxis\":{\"automargin\":true,\"gridcolor\":\"rgb(232,232,232)\",\"linecolor\":\"rgb(36,36,36)\",\"showgrid\":false,\"showline\":true,\"ticks\":\"outside\",\"title\":{\"standoff\":15},\"zeroline\":false,\"zerolinecolor\":\"rgb(36,36,36)\"},\"yaxis\":{\"automargin\":true,\"gridcolor\":\"rgb(232,232,232)\",\"linecolor\":\"rgb(36,36,36)\",\"showgrid\":false,\"showline\":true,\"ticks\":\"outside\",\"title\":{\"standoff\":15},\"zeroline\":false,\"zerolinecolor\":\"rgb(36,36,36)\"}}},\"xaxis\":{\"anchor\":\"y\",\"domain\":[0.0,1.0],\"title\":{\"text\":\"mean_size_house\"}},\"yaxis\":{\"anchor\":\"x\",\"domain\":[0.0,1.0],\"title\":{\"text\":\"mean_wage\"}},\"legend\":{\"tracegroupgap\":0},\"margin\":{\"t\":60}},                        {\"responsive\": true}                    ).then(function(){\n",
       "                            \n",
       "var gd = document.getElementById('25df2458-4127-44a7-bcaa-c2456f32e23b');\n",
       "var x = new MutationObserver(function (mutations, observer) {{\n",
       "        var display = window.getComputedStyle(gd).display;\n",
       "        if (!display || display === 'none') {{\n",
       "            console.log([gd, 'removed!']);\n",
       "            Plotly.purge(gd);\n",
       "            observer.disconnect();\n",
       "        }}\n",
       "}});\n",
       "\n",
       "// Listen for the removal of the full notebook cells\n",
       "var notebookContainer = gd.closest('#notebook-container');\n",
       "if (notebookContainer) {{\n",
       "    x.observe(notebookContainer, {childList: true});\n",
       "}}\n",
       "\n",
       "// Listen for the clearing of the current output cell\n",
       "var outputEl = gd.closest('.output');\n",
       "if (outputEl) {{\n",
       "    x.observe(outputEl, {childList: true});\n",
       "}}\n",
       "\n",
       "                        })                };                });            </script>        </div>"
      ]
     },
     "metadata": {},
     "output_type": "display_data"
    }
   ],
   "source": [
    "px.scatter(df, x='mean_size_house', y='mean_wage', template='simple_white')"
   ]
  },
  {
   "cell_type": "code",
   "execution_count": 9,
   "id": "8c92840d",
   "metadata": {},
   "outputs": [
    {
     "data": {
      "application/vnd.plotly.v1+json": {
       "config": {
        "plotlyServerURL": "https://plot.ly"
       },
       "data": [
        {
         "hovertemplate": "<b>%{hovertext}</b><br><br>mean_size_house=%{x}<br>mean_wage=%{y}<extra></extra>",
         "hovertext": [
          "Анадырь",
          "Салехард",
          "Южно-Сахалинск",
          "Магадан",
          "Петропавловск-Камчатский",
          "Ханты-Мансийск",
          "Нарьян-Мар",
          "Якутск",
          "Мурманск",
          "Тюмень",
          "Хабаровск",
          "Владивосток",
          "Екатеринбург",
          "Иркутск",
          "Архангельск",
          "Красноярск",
          "Сыктывкар",
          "Томск",
          "Нижний Новгород",
          "Уфа",
          "Чита",
          "Краснодар",
          "Новосибирск",
          "Благовещенск",
          "Кызыл",
          "Пермь",
          "Петрозаводск",
          "Абакан",
          "Казань",
          "Ростов-на-Дону",
          "Калуга",
          "Кемерово",
          "Самара",
          "Тула",
          "Калининград",
          "Челябинск",
          "Биробиджан",
          "Ярославль",
          "Великий Новгород",
          "Улан-Удэ",
          "Магас",
          "Оренбург",
          "Липецк",
          "Тверь",
          "Вологда",
          "Рязань",
          "Омск",
          "Воронеж",
          "Астрахань",
          "Ижевск",
          "Горно-Алтайск",
          "Волгоград ",
          "Белгород",
          "Ставрополь",
          "Симферополь",
          "Владимир",
          "Киров",
          "Ульяновск",
          "Саратов",
          "Смоленск",
          "Курган",
          "Пенза",
          "Йошкар-Ола",
          "Барнаул",
          "Брянск",
          "Псков",
          "Чебоксары",
          "Грозный",
          "Кострома",
          "Курск",
          "Орел",
          "Иваново",
          "Тамбов",
          "Махачкала",
          "Саранск",
          "Владикавказ",
          "Нальчик",
          "Севастополь",
          "Майкоп",
          "Черкесск",
          "Элиста",
          "Москва",
          "Санкт-Петербург"
         ],
         "legendgroup": "",
         "marker": {
          "color": "#1F77B4",
          "symbol": "circle"
         },
         "mode": "markers",
         "name": "",
         "orientation": "v",
         "showlegend": false,
         "type": "scatter",
         "x": [
          18.4,
          24.1,
          23.3,
          24.9,
          25.2,
          25.3,
          24.9,
          19.1,
          23.8,
          29.3,
          23,
          21.9,
          25,
          27.7,
          23.3,
          24.1,
          23.7,
          23.1,
          24.8,
          23.6,
          21,
          34.2,
          25.1,
          25.2,
          15.4,
          23.5,
          25.4,
          24.1,
          25.3,
          26.9,
          25.3,
          23.2,
          28.1,
          28.6,
          28.7,
          25.4,
          23,
          24.1,
          25,
          20.1,
          67.3,
          24.7,
          27.1,
          26.2,
          26.6,
          26.6,
          24.1,
          28.1,
          24.8,
          21.1,
          23.6,
          23.9,
          24.8,
          29.6,
          12.1,
          25.6,
          24.3,
          26,
          28.9,
          27.1,
          25.4,
          28.7,
          25.5,
          23.9,
          29.2,
          25.3,
          23.4,
          26.7,
          25.4,
          27.1,
          29.1,
          24.3,
          26.6,
          17.5,
          23.7,
          35.3,
          20,
          25.5,
          28.6,
          24.4,
          29.1,
          19.3,
          24.9
         ],
         "xaxis": "x",
         "y": [
          107061.8,
          95496,
          88147.74,
          79539.3,
          76525.4,
          72093.6,
          70421.9,
          64801.3,
          61261.6,
          53830.5,
          52986.9,
          51830.5,
          47265.6,
          46980,
          45097.7,
          44384.3,
          44181.4,
          43410.8,
          42469.5,
          42312.8,
          42204.2,
          42028.7,
          41884,
          41808.1,
          41383,
          41325.9,
          41234.4,
          41203.1,
          41020.8,
          40556.7,
          39653.2,
          39317.8,
          39298.9,
          39180.2,
          38686,
          38228.1,
          37587.3,
          37533.7,
          36640.1,
          36536.7,
          36523.2,
          36516.2,
          36194.5,
          36097,
          36072.3,
          36024.7,
          35602,
          35202.3,
          35179,
          35011.6,
          33956.9,
          33718.9,
          33566.7,
          33290.1,
          33279.7,
          33213.1,
          32720.3,
          32555.7,
          32504.7,
          31462,
          31201.4,
          31129.7,
          31100.1,
          31013.5,
          30540.9,
          30539.1,
          30510.3,
          30455,
          30365.5,
          29746.8,
          29583.6,
          29496.4,
          28931.7,
          28610.2,
          28210.8,
          28184.3,
          27958.3,
          27687,
          27481.1,
          26960.8,
          26639.8,
          73812,
          53740
         ],
         "yaxis": "y"
        }
       ],
       "layout": {
        "legend": {
         "tracegroupgap": 0
        },
        "margin": {
         "t": 60
        },
        "template": {
         "data": {
          "bar": [
           {
            "error_x": {
             "color": "rgb(36,36,36)"
            },
            "error_y": {
             "color": "rgb(36,36,36)"
            },
            "marker": {
             "line": {
              "color": "white",
              "width": 0.5
             },
             "pattern": {
              "fillmode": "overlay",
              "size": 10,
              "solidity": 0.2
             }
            },
            "type": "bar"
           }
          ],
          "barpolar": [
           {
            "marker": {
             "line": {
              "color": "white",
              "width": 0.5
             },
             "pattern": {
              "fillmode": "overlay",
              "size": 10,
              "solidity": 0.2
             }
            },
            "type": "barpolar"
           }
          ],
          "carpet": [
           {
            "aaxis": {
             "endlinecolor": "rgb(36,36,36)",
             "gridcolor": "white",
             "linecolor": "white",
             "minorgridcolor": "white",
             "startlinecolor": "rgb(36,36,36)"
            },
            "baxis": {
             "endlinecolor": "rgb(36,36,36)",
             "gridcolor": "white",
             "linecolor": "white",
             "minorgridcolor": "white",
             "startlinecolor": "rgb(36,36,36)"
            },
            "type": "carpet"
           }
          ],
          "choropleth": [
           {
            "colorbar": {
             "outlinewidth": 1,
             "tickcolor": "rgb(36,36,36)",
             "ticks": "outside"
            },
            "type": "choropleth"
           }
          ],
          "contour": [
           {
            "colorbar": {
             "outlinewidth": 1,
             "tickcolor": "rgb(36,36,36)",
             "ticks": "outside"
            },
            "colorscale": [
             [
              0,
              "#440154"
             ],
             [
              0.1111111111111111,
              "#482878"
             ],
             [
              0.2222222222222222,
              "#3e4989"
             ],
             [
              0.3333333333333333,
              "#31688e"
             ],
             [
              0.4444444444444444,
              "#26828e"
             ],
             [
              0.5555555555555556,
              "#1f9e89"
             ],
             [
              0.6666666666666666,
              "#35b779"
             ],
             [
              0.7777777777777778,
              "#6ece58"
             ],
             [
              0.8888888888888888,
              "#b5de2b"
             ],
             [
              1,
              "#fde725"
             ]
            ],
            "type": "contour"
           }
          ],
          "contourcarpet": [
           {
            "colorbar": {
             "outlinewidth": 1,
             "tickcolor": "rgb(36,36,36)",
             "ticks": "outside"
            },
            "type": "contourcarpet"
           }
          ],
          "heatmap": [
           {
            "colorbar": {
             "outlinewidth": 1,
             "tickcolor": "rgb(36,36,36)",
             "ticks": "outside"
            },
            "colorscale": [
             [
              0,
              "#440154"
             ],
             [
              0.1111111111111111,
              "#482878"
             ],
             [
              0.2222222222222222,
              "#3e4989"
             ],
             [
              0.3333333333333333,
              "#31688e"
             ],
             [
              0.4444444444444444,
              "#26828e"
             ],
             [
              0.5555555555555556,
              "#1f9e89"
             ],
             [
              0.6666666666666666,
              "#35b779"
             ],
             [
              0.7777777777777778,
              "#6ece58"
             ],
             [
              0.8888888888888888,
              "#b5de2b"
             ],
             [
              1,
              "#fde725"
             ]
            ],
            "type": "heatmap"
           }
          ],
          "heatmapgl": [
           {
            "colorbar": {
             "outlinewidth": 1,
             "tickcolor": "rgb(36,36,36)",
             "ticks": "outside"
            },
            "colorscale": [
             [
              0,
              "#440154"
             ],
             [
              0.1111111111111111,
              "#482878"
             ],
             [
              0.2222222222222222,
              "#3e4989"
             ],
             [
              0.3333333333333333,
              "#31688e"
             ],
             [
              0.4444444444444444,
              "#26828e"
             ],
             [
              0.5555555555555556,
              "#1f9e89"
             ],
             [
              0.6666666666666666,
              "#35b779"
             ],
             [
              0.7777777777777778,
              "#6ece58"
             ],
             [
              0.8888888888888888,
              "#b5de2b"
             ],
             [
              1,
              "#fde725"
             ]
            ],
            "type": "heatmapgl"
           }
          ],
          "histogram": [
           {
            "marker": {
             "line": {
              "color": "white",
              "width": 0.6
             }
            },
            "type": "histogram"
           }
          ],
          "histogram2d": [
           {
            "colorbar": {
             "outlinewidth": 1,
             "tickcolor": "rgb(36,36,36)",
             "ticks": "outside"
            },
            "colorscale": [
             [
              0,
              "#440154"
             ],
             [
              0.1111111111111111,
              "#482878"
             ],
             [
              0.2222222222222222,
              "#3e4989"
             ],
             [
              0.3333333333333333,
              "#31688e"
             ],
             [
              0.4444444444444444,
              "#26828e"
             ],
             [
              0.5555555555555556,
              "#1f9e89"
             ],
             [
              0.6666666666666666,
              "#35b779"
             ],
             [
              0.7777777777777778,
              "#6ece58"
             ],
             [
              0.8888888888888888,
              "#b5de2b"
             ],
             [
              1,
              "#fde725"
             ]
            ],
            "type": "histogram2d"
           }
          ],
          "histogram2dcontour": [
           {
            "colorbar": {
             "outlinewidth": 1,
             "tickcolor": "rgb(36,36,36)",
             "ticks": "outside"
            },
            "colorscale": [
             [
              0,
              "#440154"
             ],
             [
              0.1111111111111111,
              "#482878"
             ],
             [
              0.2222222222222222,
              "#3e4989"
             ],
             [
              0.3333333333333333,
              "#31688e"
             ],
             [
              0.4444444444444444,
              "#26828e"
             ],
             [
              0.5555555555555556,
              "#1f9e89"
             ],
             [
              0.6666666666666666,
              "#35b779"
             ],
             [
              0.7777777777777778,
              "#6ece58"
             ],
             [
              0.8888888888888888,
              "#b5de2b"
             ],
             [
              1,
              "#fde725"
             ]
            ],
            "type": "histogram2dcontour"
           }
          ],
          "mesh3d": [
           {
            "colorbar": {
             "outlinewidth": 1,
             "tickcolor": "rgb(36,36,36)",
             "ticks": "outside"
            },
            "type": "mesh3d"
           }
          ],
          "parcoords": [
           {
            "line": {
             "colorbar": {
              "outlinewidth": 1,
              "tickcolor": "rgb(36,36,36)",
              "ticks": "outside"
             }
            },
            "type": "parcoords"
           }
          ],
          "pie": [
           {
            "automargin": true,
            "type": "pie"
           }
          ],
          "scatter": [
           {
            "fillpattern": {
             "fillmode": "overlay",
             "size": 10,
             "solidity": 0.2
            },
            "type": "scatter"
           }
          ],
          "scatter3d": [
           {
            "line": {
             "colorbar": {
              "outlinewidth": 1,
              "tickcolor": "rgb(36,36,36)",
              "ticks": "outside"
             }
            },
            "marker": {
             "colorbar": {
              "outlinewidth": 1,
              "tickcolor": "rgb(36,36,36)",
              "ticks": "outside"
             }
            },
            "type": "scatter3d"
           }
          ],
          "scattercarpet": [
           {
            "marker": {
             "colorbar": {
              "outlinewidth": 1,
              "tickcolor": "rgb(36,36,36)",
              "ticks": "outside"
             }
            },
            "type": "scattercarpet"
           }
          ],
          "scattergeo": [
           {
            "marker": {
             "colorbar": {
              "outlinewidth": 1,
              "tickcolor": "rgb(36,36,36)",
              "ticks": "outside"
             }
            },
            "type": "scattergeo"
           }
          ],
          "scattergl": [
           {
            "marker": {
             "colorbar": {
              "outlinewidth": 1,
              "tickcolor": "rgb(36,36,36)",
              "ticks": "outside"
             }
            },
            "type": "scattergl"
           }
          ],
          "scattermapbox": [
           {
            "marker": {
             "colorbar": {
              "outlinewidth": 1,
              "tickcolor": "rgb(36,36,36)",
              "ticks": "outside"
             }
            },
            "type": "scattermapbox"
           }
          ],
          "scatterpolar": [
           {
            "marker": {
             "colorbar": {
              "outlinewidth": 1,
              "tickcolor": "rgb(36,36,36)",
              "ticks": "outside"
             }
            },
            "type": "scatterpolar"
           }
          ],
          "scatterpolargl": [
           {
            "marker": {
             "colorbar": {
              "outlinewidth": 1,
              "tickcolor": "rgb(36,36,36)",
              "ticks": "outside"
             }
            },
            "type": "scatterpolargl"
           }
          ],
          "scatterternary": [
           {
            "marker": {
             "colorbar": {
              "outlinewidth": 1,
              "tickcolor": "rgb(36,36,36)",
              "ticks": "outside"
             }
            },
            "type": "scatterternary"
           }
          ],
          "surface": [
           {
            "colorbar": {
             "outlinewidth": 1,
             "tickcolor": "rgb(36,36,36)",
             "ticks": "outside"
            },
            "colorscale": [
             [
              0,
              "#440154"
             ],
             [
              0.1111111111111111,
              "#482878"
             ],
             [
              0.2222222222222222,
              "#3e4989"
             ],
             [
              0.3333333333333333,
              "#31688e"
             ],
             [
              0.4444444444444444,
              "#26828e"
             ],
             [
              0.5555555555555556,
              "#1f9e89"
             ],
             [
              0.6666666666666666,
              "#35b779"
             ],
             [
              0.7777777777777778,
              "#6ece58"
             ],
             [
              0.8888888888888888,
              "#b5de2b"
             ],
             [
              1,
              "#fde725"
             ]
            ],
            "type": "surface"
           }
          ],
          "table": [
           {
            "cells": {
             "fill": {
              "color": "rgb(237,237,237)"
             },
             "line": {
              "color": "white"
             }
            },
            "header": {
             "fill": {
              "color": "rgb(217,217,217)"
             },
             "line": {
              "color": "white"
             }
            },
            "type": "table"
           }
          ]
         },
         "layout": {
          "annotationdefaults": {
           "arrowhead": 0,
           "arrowwidth": 1
          },
          "autotypenumbers": "strict",
          "coloraxis": {
           "colorbar": {
            "outlinewidth": 1,
            "tickcolor": "rgb(36,36,36)",
            "ticks": "outside"
           }
          },
          "colorscale": {
           "diverging": [
            [
             0,
             "rgb(103,0,31)"
            ],
            [
             0.1,
             "rgb(178,24,43)"
            ],
            [
             0.2,
             "rgb(214,96,77)"
            ],
            [
             0.3,
             "rgb(244,165,130)"
            ],
            [
             0.4,
             "rgb(253,219,199)"
            ],
            [
             0.5,
             "rgb(247,247,247)"
            ],
            [
             0.6,
             "rgb(209,229,240)"
            ],
            [
             0.7,
             "rgb(146,197,222)"
            ],
            [
             0.8,
             "rgb(67,147,195)"
            ],
            [
             0.9,
             "rgb(33,102,172)"
            ],
            [
             1,
             "rgb(5,48,97)"
            ]
           ],
           "sequential": [
            [
             0,
             "#440154"
            ],
            [
             0.1111111111111111,
             "#482878"
            ],
            [
             0.2222222222222222,
             "#3e4989"
            ],
            [
             0.3333333333333333,
             "#31688e"
            ],
            [
             0.4444444444444444,
             "#26828e"
            ],
            [
             0.5555555555555556,
             "#1f9e89"
            ],
            [
             0.6666666666666666,
             "#35b779"
            ],
            [
             0.7777777777777778,
             "#6ece58"
            ],
            [
             0.8888888888888888,
             "#b5de2b"
            ],
            [
             1,
             "#fde725"
            ]
           ],
           "sequentialminus": [
            [
             0,
             "#440154"
            ],
            [
             0.1111111111111111,
             "#482878"
            ],
            [
             0.2222222222222222,
             "#3e4989"
            ],
            [
             0.3333333333333333,
             "#31688e"
            ],
            [
             0.4444444444444444,
             "#26828e"
            ],
            [
             0.5555555555555556,
             "#1f9e89"
            ],
            [
             0.6666666666666666,
             "#35b779"
            ],
            [
             0.7777777777777778,
             "#6ece58"
            ],
            [
             0.8888888888888888,
             "#b5de2b"
            ],
            [
             1,
             "#fde725"
            ]
           ]
          },
          "colorway": [
           "#1F77B4",
           "#FF7F0E",
           "#2CA02C",
           "#D62728",
           "#9467BD",
           "#8C564B",
           "#E377C2",
           "#7F7F7F",
           "#BCBD22",
           "#17BECF"
          ],
          "font": {
           "color": "rgb(36,36,36)"
          },
          "geo": {
           "bgcolor": "white",
           "lakecolor": "white",
           "landcolor": "white",
           "showlakes": true,
           "showland": true,
           "subunitcolor": "white"
          },
          "hoverlabel": {
           "align": "left"
          },
          "hovermode": "closest",
          "mapbox": {
           "style": "light"
          },
          "paper_bgcolor": "white",
          "plot_bgcolor": "white",
          "polar": {
           "angularaxis": {
            "gridcolor": "rgb(232,232,232)",
            "linecolor": "rgb(36,36,36)",
            "showgrid": false,
            "showline": true,
            "ticks": "outside"
           },
           "bgcolor": "white",
           "radialaxis": {
            "gridcolor": "rgb(232,232,232)",
            "linecolor": "rgb(36,36,36)",
            "showgrid": false,
            "showline": true,
            "ticks": "outside"
           }
          },
          "scene": {
           "xaxis": {
            "backgroundcolor": "white",
            "gridcolor": "rgb(232,232,232)",
            "gridwidth": 2,
            "linecolor": "rgb(36,36,36)",
            "showbackground": true,
            "showgrid": false,
            "showline": true,
            "ticks": "outside",
            "zeroline": false,
            "zerolinecolor": "rgb(36,36,36)"
           },
           "yaxis": {
            "backgroundcolor": "white",
            "gridcolor": "rgb(232,232,232)",
            "gridwidth": 2,
            "linecolor": "rgb(36,36,36)",
            "showbackground": true,
            "showgrid": false,
            "showline": true,
            "ticks": "outside",
            "zeroline": false,
            "zerolinecolor": "rgb(36,36,36)"
           },
           "zaxis": {
            "backgroundcolor": "white",
            "gridcolor": "rgb(232,232,232)",
            "gridwidth": 2,
            "linecolor": "rgb(36,36,36)",
            "showbackground": true,
            "showgrid": false,
            "showline": true,
            "ticks": "outside",
            "zeroline": false,
            "zerolinecolor": "rgb(36,36,36)"
           }
          },
          "shapedefaults": {
           "fillcolor": "black",
           "line": {
            "width": 0
           },
           "opacity": 0.3
          },
          "ternary": {
           "aaxis": {
            "gridcolor": "rgb(232,232,232)",
            "linecolor": "rgb(36,36,36)",
            "showgrid": false,
            "showline": true,
            "ticks": "outside"
           },
           "baxis": {
            "gridcolor": "rgb(232,232,232)",
            "linecolor": "rgb(36,36,36)",
            "showgrid": false,
            "showline": true,
            "ticks": "outside"
           },
           "bgcolor": "white",
           "caxis": {
            "gridcolor": "rgb(232,232,232)",
            "linecolor": "rgb(36,36,36)",
            "showgrid": false,
            "showline": true,
            "ticks": "outside"
           }
          },
          "title": {
           "x": 0.05
          },
          "xaxis": {
           "automargin": true,
           "gridcolor": "rgb(232,232,232)",
           "linecolor": "rgb(36,36,36)",
           "showgrid": false,
           "showline": true,
           "ticks": "outside",
           "title": {
            "standoff": 15
           },
           "zeroline": false,
           "zerolinecolor": "rgb(36,36,36)"
          },
          "yaxis": {
           "automargin": true,
           "gridcolor": "rgb(232,232,232)",
           "linecolor": "rgb(36,36,36)",
           "showgrid": false,
           "showline": true,
           "ticks": "outside",
           "title": {
            "standoff": 15
           },
           "zeroline": false,
           "zerolinecolor": "rgb(36,36,36)"
          }
         }
        },
        "xaxis": {
         "anchor": "y",
         "domain": [
          0,
          1
         ],
         "title": {
          "text": "mean_size_house"
         }
        },
        "yaxis": {
         "anchor": "x",
         "domain": [
          0,
          1
         ],
         "title": {
          "text": "mean_wage"
         }
        }
       }
      },
      "text/html": [
       "<div>                            <div id=\"fffc3980-863b-47ea-9451-cfa0ca523f64\" class=\"plotly-graph-div\" style=\"height:525px; width:100%;\"></div>            <script type=\"text/javascript\">                require([\"plotly\"], function(Plotly) {                    window.PLOTLYENV=window.PLOTLYENV || {};                                    if (document.getElementById(\"fffc3980-863b-47ea-9451-cfa0ca523f64\")) {                    Plotly.newPlot(                        \"fffc3980-863b-47ea-9451-cfa0ca523f64\",                        [{\"hovertemplate\":\"<b>%{hovertext}</b><br><br>mean_size_house=%{x}<br>mean_wage=%{y}<extra></extra>\",\"hovertext\":[\"\\u0410\\u043d\\u0430\\u0434\\u044b\\u0440\\u044c\",\"\\u0421\\u0430\\u043b\\u0435\\u0445\\u0430\\u0440\\u0434\",\"\\u042e\\u0436\\u043d\\u043e-\\u0421\\u0430\\u0445\\u0430\\u043b\\u0438\\u043d\\u0441\\u043a\",\"\\u041c\\u0430\\u0433\\u0430\\u0434\\u0430\\u043d\",\"\\u041f\\u0435\\u0442\\u0440\\u043e\\u043f\\u0430\\u0432\\u043b\\u043e\\u0432\\u0441\\u043a-\\u041a\\u0430\\u043c\\u0447\\u0430\\u0442\\u0441\\u043a\\u0438\\u0439\",\"\\u0425\\u0430\\u043d\\u0442\\u044b-\\u041c\\u0430\\u043d\\u0441\\u0438\\u0439\\u0441\\u043a\",\"\\u041d\\u0430\\u0440\\u044c\\u044f\\u043d-\\u041c\\u0430\\u0440\",\"\\u042f\\u043a\\u0443\\u0442\\u0441\\u043a\",\"\\u041c\\u0443\\u0440\\u043c\\u0430\\u043d\\u0441\\u043a\",\"\\u0422\\u044e\\u043c\\u0435\\u043d\\u044c\",\"\\u0425\\u0430\\u0431\\u0430\\u0440\\u043e\\u0432\\u0441\\u043a\",\"\\u0412\\u043b\\u0430\\u0434\\u0438\\u0432\\u043e\\u0441\\u0442\\u043e\\u043a\",\"\\u0415\\u043a\\u0430\\u0442\\u0435\\u0440\\u0438\\u043d\\u0431\\u0443\\u0440\\u0433\",\"\\u0418\\u0440\\u043a\\u0443\\u0442\\u0441\\u043a\",\"\\u0410\\u0440\\u0445\\u0430\\u043d\\u0433\\u0435\\u043b\\u044c\\u0441\\u043a\",\"\\u041a\\u0440\\u0430\\u0441\\u043d\\u043e\\u044f\\u0440\\u0441\\u043a\",\"\\u0421\\u044b\\u043a\\u0442\\u044b\\u0432\\u043a\\u0430\\u0440\",\"\\u0422\\u043e\\u043c\\u0441\\u043a\",\"\\u041d\\u0438\\u0436\\u043d\\u0438\\u0439 \\u041d\\u043e\\u0432\\u0433\\u043e\\u0440\\u043e\\u0434\",\"\\u0423\\u0444\\u0430\",\"\\u0427\\u0438\\u0442\\u0430\",\"\\u041a\\u0440\\u0430\\u0441\\u043d\\u043e\\u0434\\u0430\\u0440\",\"\\u041d\\u043e\\u0432\\u043e\\u0441\\u0438\\u0431\\u0438\\u0440\\u0441\\u043a\",\"\\u0411\\u043b\\u0430\\u0433\\u043e\\u0432\\u0435\\u0449\\u0435\\u043d\\u0441\\u043a\",\"\\u041a\\u044b\\u0437\\u044b\\u043b\",\"\\u041f\\u0435\\u0440\\u043c\\u044c\",\"\\u041f\\u0435\\u0442\\u0440\\u043e\\u0437\\u0430\\u0432\\u043e\\u0434\\u0441\\u043a\",\"\\u0410\\u0431\\u0430\\u043a\\u0430\\u043d\",\"\\u041a\\u0430\\u0437\\u0430\\u043d\\u044c\",\"\\u0420\\u043e\\u0441\\u0442\\u043e\\u0432-\\u043d\\u0430-\\u0414\\u043e\\u043d\\u0443\",\"\\u041a\\u0430\\u043b\\u0443\\u0433\\u0430\",\"\\u041a\\u0435\\u043c\\u0435\\u0440\\u043e\\u0432\\u043e\",\"\\u0421\\u0430\\u043c\\u0430\\u0440\\u0430\",\"\\u0422\\u0443\\u043b\\u0430\",\"\\u041a\\u0430\\u043b\\u0438\\u043d\\u0438\\u043d\\u0433\\u0440\\u0430\\u0434\",\"\\u0427\\u0435\\u043b\\u044f\\u0431\\u0438\\u043d\\u0441\\u043a\",\"\\u0411\\u0438\\u0440\\u043e\\u0431\\u0438\\u0434\\u0436\\u0430\\u043d\",\"\\u042f\\u0440\\u043e\\u0441\\u043b\\u0430\\u0432\\u043b\\u044c\",\"\\u0412\\u0435\\u043b\\u0438\\u043a\\u0438\\u0439 \\u041d\\u043e\\u0432\\u0433\\u043e\\u0440\\u043e\\u0434\",\"\\u0423\\u043b\\u0430\\u043d-\\u0423\\u0434\\u044d\",\"\\u041c\\u0430\\u0433\\u0430\\u0441\",\"\\u041e\\u0440\\u0435\\u043d\\u0431\\u0443\\u0440\\u0433\",\"\\u041b\\u0438\\u043f\\u0435\\u0446\\u043a\",\"\\u0422\\u0432\\u0435\\u0440\\u044c\",\"\\u0412\\u043e\\u043b\\u043e\\u0433\\u0434\\u0430\",\"\\u0420\\u044f\\u0437\\u0430\\u043d\\u044c\",\"\\u041e\\u043c\\u0441\\u043a\",\"\\u0412\\u043e\\u0440\\u043e\\u043d\\u0435\\u0436\",\"\\u0410\\u0441\\u0442\\u0440\\u0430\\u0445\\u0430\\u043d\\u044c\",\"\\u0418\\u0436\\u0435\\u0432\\u0441\\u043a\",\"\\u0413\\u043e\\u0440\\u043d\\u043e-\\u0410\\u043b\\u0442\\u0430\\u0439\\u0441\\u043a\",\"\\u0412\\u043e\\u043b\\u0433\\u043e\\u0433\\u0440\\u0430\\u0434 \",\"\\u0411\\u0435\\u043b\\u0433\\u043e\\u0440\\u043e\\u0434\",\"\\u0421\\u0442\\u0430\\u0432\\u0440\\u043e\\u043f\\u043e\\u043b\\u044c\",\"\\u0421\\u0438\\u043c\\u0444\\u0435\\u0440\\u043e\\u043f\\u043e\\u043b\\u044c\",\"\\u0412\\u043b\\u0430\\u0434\\u0438\\u043c\\u0438\\u0440\",\"\\u041a\\u0438\\u0440\\u043e\\u0432\",\"\\u0423\\u043b\\u044c\\u044f\\u043d\\u043e\\u0432\\u0441\\u043a\",\"\\u0421\\u0430\\u0440\\u0430\\u0442\\u043e\\u0432\",\"\\u0421\\u043c\\u043e\\u043b\\u0435\\u043d\\u0441\\u043a\",\"\\u041a\\u0443\\u0440\\u0433\\u0430\\u043d\",\"\\u041f\\u0435\\u043d\\u0437\\u0430\",\"\\u0419\\u043e\\u0448\\u043a\\u0430\\u0440-\\u041e\\u043b\\u0430\",\"\\u0411\\u0430\\u0440\\u043d\\u0430\\u0443\\u043b\",\"\\u0411\\u0440\\u044f\\u043d\\u0441\\u043a\",\"\\u041f\\u0441\\u043a\\u043e\\u0432\",\"\\u0427\\u0435\\u0431\\u043e\\u043a\\u0441\\u0430\\u0440\\u044b\",\"\\u0413\\u0440\\u043e\\u0437\\u043d\\u044b\\u0439\",\"\\u041a\\u043e\\u0441\\u0442\\u0440\\u043e\\u043c\\u0430\",\"\\u041a\\u0443\\u0440\\u0441\\u043a\",\"\\u041e\\u0440\\u0435\\u043b\",\"\\u0418\\u0432\\u0430\\u043d\\u043e\\u0432\\u043e\",\"\\u0422\\u0430\\u043c\\u0431\\u043e\\u0432\",\"\\u041c\\u0430\\u0445\\u0430\\u0447\\u043a\\u0430\\u043b\\u0430\",\"\\u0421\\u0430\\u0440\\u0430\\u043d\\u0441\\u043a\",\"\\u0412\\u043b\\u0430\\u0434\\u0438\\u043a\\u0430\\u0432\\u043a\\u0430\\u0437\",\"\\u041d\\u0430\\u043b\\u044c\\u0447\\u0438\\u043a\",\"\\u0421\\u0435\\u0432\\u0430\\u0441\\u0442\\u043e\\u043f\\u043e\\u043b\\u044c\",\"\\u041c\\u0430\\u0439\\u043a\\u043e\\u043f\",\"\\u0427\\u0435\\u0440\\u043a\\u0435\\u0441\\u0441\\u043a\",\"\\u042d\\u043b\\u0438\\u0441\\u0442\\u0430\",\"\\u041c\\u043e\\u0441\\u043a\\u0432\\u0430\",\"\\u0421\\u0430\\u043d\\u043a\\u0442-\\u041f\\u0435\\u0442\\u0435\\u0440\\u0431\\u0443\\u0440\\u0433\"],\"legendgroup\":\"\",\"marker\":{\"color\":\"#1F77B4\",\"symbol\":\"circle\"},\"mode\":\"markers\",\"name\":\"\",\"orientation\":\"v\",\"showlegend\":false,\"x\":[18.4,24.1,23.3,24.9,25.2,25.3,24.9,19.1,23.8,29.3,23.0,21.9,25.0,27.7,23.3,24.1,23.7,23.1,24.8,23.6,21.0,34.2,25.1,25.2,15.4,23.5,25.4,24.1,25.3,26.9,25.3,23.2,28.1,28.6,28.7,25.4,23.0,24.1,25.0,20.1,67.3,24.7,27.1,26.2,26.6,26.6,24.1,28.1,24.8,21.1,23.6,23.9,24.8,29.6,12.1,25.6,24.3,26.0,28.9,27.1,25.4,28.7,25.5,23.9,29.2,25.3,23.4,26.7,25.4,27.1,29.1,24.3,26.6,17.5,23.7,35.3,20.0,25.5,28.6,24.4,29.1,19.3,24.9],\"xaxis\":\"x\",\"y\":[107061.8,95496.0,88147.74,79539.3,76525.4,72093.6,70421.9,64801.3,61261.6,53830.5,52986.9,51830.5,47265.6,46980.0,45097.7,44384.3,44181.4,43410.8,42469.5,42312.8,42204.2,42028.7,41884.0,41808.1,41383.0,41325.9,41234.4,41203.1,41020.8,40556.7,39653.2,39317.8,39298.9,39180.2,38686.0,38228.1,37587.3,37533.7,36640.1,36536.7,36523.2,36516.2,36194.5,36097.0,36072.3,36024.7,35602.0,35202.3,35179.0,35011.6,33956.9,33718.9,33566.7,33290.1,33279.7,33213.1,32720.3,32555.7,32504.7,31462.0,31201.4,31129.7,31100.1,31013.5,30540.9,30539.1,30510.3,30455.0,30365.5,29746.8,29583.6,29496.4,28931.7,28610.2,28210.8,28184.3,27958.3,27687.0,27481.1,26960.8,26639.8,73812.0,53740.0],\"yaxis\":\"y\",\"type\":\"scatter\"}],                        {\"template\":{\"data\":{\"barpolar\":[{\"marker\":{\"line\":{\"color\":\"white\",\"width\":0.5},\"pattern\":{\"fillmode\":\"overlay\",\"size\":10,\"solidity\":0.2}},\"type\":\"barpolar\"}],\"bar\":[{\"error_x\":{\"color\":\"rgb(36,36,36)\"},\"error_y\":{\"color\":\"rgb(36,36,36)\"},\"marker\":{\"line\":{\"color\":\"white\",\"width\":0.5},\"pattern\":{\"fillmode\":\"overlay\",\"size\":10,\"solidity\":0.2}},\"type\":\"bar\"}],\"carpet\":[{\"aaxis\":{\"endlinecolor\":\"rgb(36,36,36)\",\"gridcolor\":\"white\",\"linecolor\":\"white\",\"minorgridcolor\":\"white\",\"startlinecolor\":\"rgb(36,36,36)\"},\"baxis\":{\"endlinecolor\":\"rgb(36,36,36)\",\"gridcolor\":\"white\",\"linecolor\":\"white\",\"minorgridcolor\":\"white\",\"startlinecolor\":\"rgb(36,36,36)\"},\"type\":\"carpet\"}],\"choropleth\":[{\"colorbar\":{\"outlinewidth\":1,\"tickcolor\":\"rgb(36,36,36)\",\"ticks\":\"outside\"},\"type\":\"choropleth\"}],\"contourcarpet\":[{\"colorbar\":{\"outlinewidth\":1,\"tickcolor\":\"rgb(36,36,36)\",\"ticks\":\"outside\"},\"type\":\"contourcarpet\"}],\"contour\":[{\"colorbar\":{\"outlinewidth\":1,\"tickcolor\":\"rgb(36,36,36)\",\"ticks\":\"outside\"},\"colorscale\":[[0.0,\"#440154\"],[0.1111111111111111,\"#482878\"],[0.2222222222222222,\"#3e4989\"],[0.3333333333333333,\"#31688e\"],[0.4444444444444444,\"#26828e\"],[0.5555555555555556,\"#1f9e89\"],[0.6666666666666666,\"#35b779\"],[0.7777777777777778,\"#6ece58\"],[0.8888888888888888,\"#b5de2b\"],[1.0,\"#fde725\"]],\"type\":\"contour\"}],\"heatmapgl\":[{\"colorbar\":{\"outlinewidth\":1,\"tickcolor\":\"rgb(36,36,36)\",\"ticks\":\"outside\"},\"colorscale\":[[0.0,\"#440154\"],[0.1111111111111111,\"#482878\"],[0.2222222222222222,\"#3e4989\"],[0.3333333333333333,\"#31688e\"],[0.4444444444444444,\"#26828e\"],[0.5555555555555556,\"#1f9e89\"],[0.6666666666666666,\"#35b779\"],[0.7777777777777778,\"#6ece58\"],[0.8888888888888888,\"#b5de2b\"],[1.0,\"#fde725\"]],\"type\":\"heatmapgl\"}],\"heatmap\":[{\"colorbar\":{\"outlinewidth\":1,\"tickcolor\":\"rgb(36,36,36)\",\"ticks\":\"outside\"},\"colorscale\":[[0.0,\"#440154\"],[0.1111111111111111,\"#482878\"],[0.2222222222222222,\"#3e4989\"],[0.3333333333333333,\"#31688e\"],[0.4444444444444444,\"#26828e\"],[0.5555555555555556,\"#1f9e89\"],[0.6666666666666666,\"#35b779\"],[0.7777777777777778,\"#6ece58\"],[0.8888888888888888,\"#b5de2b\"],[1.0,\"#fde725\"]],\"type\":\"heatmap\"}],\"histogram2dcontour\":[{\"colorbar\":{\"outlinewidth\":1,\"tickcolor\":\"rgb(36,36,36)\",\"ticks\":\"outside\"},\"colorscale\":[[0.0,\"#440154\"],[0.1111111111111111,\"#482878\"],[0.2222222222222222,\"#3e4989\"],[0.3333333333333333,\"#31688e\"],[0.4444444444444444,\"#26828e\"],[0.5555555555555556,\"#1f9e89\"],[0.6666666666666666,\"#35b779\"],[0.7777777777777778,\"#6ece58\"],[0.8888888888888888,\"#b5de2b\"],[1.0,\"#fde725\"]],\"type\":\"histogram2dcontour\"}],\"histogram2d\":[{\"colorbar\":{\"outlinewidth\":1,\"tickcolor\":\"rgb(36,36,36)\",\"ticks\":\"outside\"},\"colorscale\":[[0.0,\"#440154\"],[0.1111111111111111,\"#482878\"],[0.2222222222222222,\"#3e4989\"],[0.3333333333333333,\"#31688e\"],[0.4444444444444444,\"#26828e\"],[0.5555555555555556,\"#1f9e89\"],[0.6666666666666666,\"#35b779\"],[0.7777777777777778,\"#6ece58\"],[0.8888888888888888,\"#b5de2b\"],[1.0,\"#fde725\"]],\"type\":\"histogram2d\"}],\"histogram\":[{\"marker\":{\"line\":{\"color\":\"white\",\"width\":0.6}},\"type\":\"histogram\"}],\"mesh3d\":[{\"colorbar\":{\"outlinewidth\":1,\"tickcolor\":\"rgb(36,36,36)\",\"ticks\":\"outside\"},\"type\":\"mesh3d\"}],\"parcoords\":[{\"line\":{\"colorbar\":{\"outlinewidth\":1,\"tickcolor\":\"rgb(36,36,36)\",\"ticks\":\"outside\"}},\"type\":\"parcoords\"}],\"pie\":[{\"automargin\":true,\"type\":\"pie\"}],\"scatter3d\":[{\"line\":{\"colorbar\":{\"outlinewidth\":1,\"tickcolor\":\"rgb(36,36,36)\",\"ticks\":\"outside\"}},\"marker\":{\"colorbar\":{\"outlinewidth\":1,\"tickcolor\":\"rgb(36,36,36)\",\"ticks\":\"outside\"}},\"type\":\"scatter3d\"}],\"scattercarpet\":[{\"marker\":{\"colorbar\":{\"outlinewidth\":1,\"tickcolor\":\"rgb(36,36,36)\",\"ticks\":\"outside\"}},\"type\":\"scattercarpet\"}],\"scattergeo\":[{\"marker\":{\"colorbar\":{\"outlinewidth\":1,\"tickcolor\":\"rgb(36,36,36)\",\"ticks\":\"outside\"}},\"type\":\"scattergeo\"}],\"scattergl\":[{\"marker\":{\"colorbar\":{\"outlinewidth\":1,\"tickcolor\":\"rgb(36,36,36)\",\"ticks\":\"outside\"}},\"type\":\"scattergl\"}],\"scattermapbox\":[{\"marker\":{\"colorbar\":{\"outlinewidth\":1,\"tickcolor\":\"rgb(36,36,36)\",\"ticks\":\"outside\"}},\"type\":\"scattermapbox\"}],\"scatterpolargl\":[{\"marker\":{\"colorbar\":{\"outlinewidth\":1,\"tickcolor\":\"rgb(36,36,36)\",\"ticks\":\"outside\"}},\"type\":\"scatterpolargl\"}],\"scatterpolar\":[{\"marker\":{\"colorbar\":{\"outlinewidth\":1,\"tickcolor\":\"rgb(36,36,36)\",\"ticks\":\"outside\"}},\"type\":\"scatterpolar\"}],\"scatter\":[{\"fillpattern\":{\"fillmode\":\"overlay\",\"size\":10,\"solidity\":0.2},\"type\":\"scatter\"}],\"scatterternary\":[{\"marker\":{\"colorbar\":{\"outlinewidth\":1,\"tickcolor\":\"rgb(36,36,36)\",\"ticks\":\"outside\"}},\"type\":\"scatterternary\"}],\"surface\":[{\"colorbar\":{\"outlinewidth\":1,\"tickcolor\":\"rgb(36,36,36)\",\"ticks\":\"outside\"},\"colorscale\":[[0.0,\"#440154\"],[0.1111111111111111,\"#482878\"],[0.2222222222222222,\"#3e4989\"],[0.3333333333333333,\"#31688e\"],[0.4444444444444444,\"#26828e\"],[0.5555555555555556,\"#1f9e89\"],[0.6666666666666666,\"#35b779\"],[0.7777777777777778,\"#6ece58\"],[0.8888888888888888,\"#b5de2b\"],[1.0,\"#fde725\"]],\"type\":\"surface\"}],\"table\":[{\"cells\":{\"fill\":{\"color\":\"rgb(237,237,237)\"},\"line\":{\"color\":\"white\"}},\"header\":{\"fill\":{\"color\":\"rgb(217,217,217)\"},\"line\":{\"color\":\"white\"}},\"type\":\"table\"}]},\"layout\":{\"annotationdefaults\":{\"arrowhead\":0,\"arrowwidth\":1},\"autotypenumbers\":\"strict\",\"coloraxis\":{\"colorbar\":{\"outlinewidth\":1,\"tickcolor\":\"rgb(36,36,36)\",\"ticks\":\"outside\"}},\"colorscale\":{\"diverging\":[[0.0,\"rgb(103,0,31)\"],[0.1,\"rgb(178,24,43)\"],[0.2,\"rgb(214,96,77)\"],[0.3,\"rgb(244,165,130)\"],[0.4,\"rgb(253,219,199)\"],[0.5,\"rgb(247,247,247)\"],[0.6,\"rgb(209,229,240)\"],[0.7,\"rgb(146,197,222)\"],[0.8,\"rgb(67,147,195)\"],[0.9,\"rgb(33,102,172)\"],[1.0,\"rgb(5,48,97)\"]],\"sequential\":[[0.0,\"#440154\"],[0.1111111111111111,\"#482878\"],[0.2222222222222222,\"#3e4989\"],[0.3333333333333333,\"#31688e\"],[0.4444444444444444,\"#26828e\"],[0.5555555555555556,\"#1f9e89\"],[0.6666666666666666,\"#35b779\"],[0.7777777777777778,\"#6ece58\"],[0.8888888888888888,\"#b5de2b\"],[1.0,\"#fde725\"]],\"sequentialminus\":[[0.0,\"#440154\"],[0.1111111111111111,\"#482878\"],[0.2222222222222222,\"#3e4989\"],[0.3333333333333333,\"#31688e\"],[0.4444444444444444,\"#26828e\"],[0.5555555555555556,\"#1f9e89\"],[0.6666666666666666,\"#35b779\"],[0.7777777777777778,\"#6ece58\"],[0.8888888888888888,\"#b5de2b\"],[1.0,\"#fde725\"]]},\"colorway\":[\"#1F77B4\",\"#FF7F0E\",\"#2CA02C\",\"#D62728\",\"#9467BD\",\"#8C564B\",\"#E377C2\",\"#7F7F7F\",\"#BCBD22\",\"#17BECF\"],\"font\":{\"color\":\"rgb(36,36,36)\"},\"geo\":{\"bgcolor\":\"white\",\"lakecolor\":\"white\",\"landcolor\":\"white\",\"showlakes\":true,\"showland\":true,\"subunitcolor\":\"white\"},\"hoverlabel\":{\"align\":\"left\"},\"hovermode\":\"closest\",\"mapbox\":{\"style\":\"light\"},\"paper_bgcolor\":\"white\",\"plot_bgcolor\":\"white\",\"polar\":{\"angularaxis\":{\"gridcolor\":\"rgb(232,232,232)\",\"linecolor\":\"rgb(36,36,36)\",\"showgrid\":false,\"showline\":true,\"ticks\":\"outside\"},\"bgcolor\":\"white\",\"radialaxis\":{\"gridcolor\":\"rgb(232,232,232)\",\"linecolor\":\"rgb(36,36,36)\",\"showgrid\":false,\"showline\":true,\"ticks\":\"outside\"}},\"scene\":{\"xaxis\":{\"backgroundcolor\":\"white\",\"gridcolor\":\"rgb(232,232,232)\",\"gridwidth\":2,\"linecolor\":\"rgb(36,36,36)\",\"showbackground\":true,\"showgrid\":false,\"showline\":true,\"ticks\":\"outside\",\"zeroline\":false,\"zerolinecolor\":\"rgb(36,36,36)\"},\"yaxis\":{\"backgroundcolor\":\"white\",\"gridcolor\":\"rgb(232,232,232)\",\"gridwidth\":2,\"linecolor\":\"rgb(36,36,36)\",\"showbackground\":true,\"showgrid\":false,\"showline\":true,\"ticks\":\"outside\",\"zeroline\":false,\"zerolinecolor\":\"rgb(36,36,36)\"},\"zaxis\":{\"backgroundcolor\":\"white\",\"gridcolor\":\"rgb(232,232,232)\",\"gridwidth\":2,\"linecolor\":\"rgb(36,36,36)\",\"showbackground\":true,\"showgrid\":false,\"showline\":true,\"ticks\":\"outside\",\"zeroline\":false,\"zerolinecolor\":\"rgb(36,36,36)\"}},\"shapedefaults\":{\"fillcolor\":\"black\",\"line\":{\"width\":0},\"opacity\":0.3},\"ternary\":{\"aaxis\":{\"gridcolor\":\"rgb(232,232,232)\",\"linecolor\":\"rgb(36,36,36)\",\"showgrid\":false,\"showline\":true,\"ticks\":\"outside\"},\"baxis\":{\"gridcolor\":\"rgb(232,232,232)\",\"linecolor\":\"rgb(36,36,36)\",\"showgrid\":false,\"showline\":true,\"ticks\":\"outside\"},\"bgcolor\":\"white\",\"caxis\":{\"gridcolor\":\"rgb(232,232,232)\",\"linecolor\":\"rgb(36,36,36)\",\"showgrid\":false,\"showline\":true,\"ticks\":\"outside\"}},\"title\":{\"x\":0.05},\"xaxis\":{\"automargin\":true,\"gridcolor\":\"rgb(232,232,232)\",\"linecolor\":\"rgb(36,36,36)\",\"showgrid\":false,\"showline\":true,\"ticks\":\"outside\",\"title\":{\"standoff\":15},\"zeroline\":false,\"zerolinecolor\":\"rgb(36,36,36)\"},\"yaxis\":{\"automargin\":true,\"gridcolor\":\"rgb(232,232,232)\",\"linecolor\":\"rgb(36,36,36)\",\"showgrid\":false,\"showline\":true,\"ticks\":\"outside\",\"title\":{\"standoff\":15},\"zeroline\":false,\"zerolinecolor\":\"rgb(36,36,36)\"}}},\"xaxis\":{\"anchor\":\"y\",\"domain\":[0.0,1.0],\"title\":{\"text\":\"mean_size_house\"}},\"yaxis\":{\"anchor\":\"x\",\"domain\":[0.0,1.0],\"title\":{\"text\":\"mean_wage\"}},\"legend\":{\"tracegroupgap\":0},\"margin\":{\"t\":60}},                        {\"responsive\": true}                    ).then(function(){\n",
       "                            \n",
       "var gd = document.getElementById('fffc3980-863b-47ea-9451-cfa0ca523f64');\n",
       "var x = new MutationObserver(function (mutations, observer) {{\n",
       "        var display = window.getComputedStyle(gd).display;\n",
       "        if (!display || display === 'none') {{\n",
       "            console.log([gd, 'removed!']);\n",
       "            Plotly.purge(gd);\n",
       "            observer.disconnect();\n",
       "        }}\n",
       "}});\n",
       "\n",
       "// Listen for the removal of the full notebook cells\n",
       "var notebookContainer = gd.closest('#notebook-container');\n",
       "if (notebookContainer) {{\n",
       "    x.observe(notebookContainer, {childList: true});\n",
       "}}\n",
       "\n",
       "// Listen for the clearing of the current output cell\n",
       "var outputEl = gd.closest('.output');\n",
       "if (outputEl) {{\n",
       "    x.observe(outputEl, {childList: true});\n",
       "}}\n",
       "\n",
       "                        })                };                });            </script>        </div>"
      ]
     },
     "metadata": {},
     "output_type": "display_data"
    }
   ],
   "source": [
    "px.scatter(df, x='mean_size_house', y='mean_wage', template='simple_white',\n",
    "          hover_name='город')"
   ]
  },
  {
   "cell_type": "code",
   "execution_count": 10,
   "id": "0b1006ef",
   "metadata": {},
   "outputs": [
    {
     "data": {
      "application/vnd.plotly.v1+json": {
       "config": {
        "plotlyServerURL": "https://plot.ly"
       },
       "data": [
        {
         "hovertemplate": "<b>%{hovertext}</b><br><br>город=Анадырь<br>mean_size_house=%{x}<br>mean_wage=%{y}<extra></extra>",
         "hovertext": [
          "Анадырь"
         ],
         "legendgroup": "Анадырь",
         "marker": {
          "color": "#1F77B4",
          "symbol": "circle"
         },
         "mode": "markers",
         "name": "Анадырь",
         "orientation": "v",
         "showlegend": true,
         "type": "scatter",
         "x": [
          18.4
         ],
         "xaxis": "x",
         "y": [
          107061.8
         ],
         "yaxis": "y"
        },
        {
         "hovertemplate": "<b>%{hovertext}</b><br><br>город=Салехард<br>mean_size_house=%{x}<br>mean_wage=%{y}<extra></extra>",
         "hovertext": [
          "Салехард"
         ],
         "legendgroup": "Салехард",
         "marker": {
          "color": "#FF7F0E",
          "symbol": "circle"
         },
         "mode": "markers",
         "name": "Салехард",
         "orientation": "v",
         "showlegend": true,
         "type": "scatter",
         "x": [
          24.1
         ],
         "xaxis": "x",
         "y": [
          95496
         ],
         "yaxis": "y"
        },
        {
         "hovertemplate": "<b>%{hovertext}</b><br><br>город=Южно-Сахалинск<br>mean_size_house=%{x}<br>mean_wage=%{y}<extra></extra>",
         "hovertext": [
          "Южно-Сахалинск"
         ],
         "legendgroup": "Южно-Сахалинск",
         "marker": {
          "color": "#2CA02C",
          "symbol": "circle"
         },
         "mode": "markers",
         "name": "Южно-Сахалинск",
         "orientation": "v",
         "showlegend": true,
         "type": "scatter",
         "x": [
          23.3
         ],
         "xaxis": "x",
         "y": [
          88147.74
         ],
         "yaxis": "y"
        },
        {
         "hovertemplate": "<b>%{hovertext}</b><br><br>город=Магадан<br>mean_size_house=%{x}<br>mean_wage=%{y}<extra></extra>",
         "hovertext": [
          "Магадан"
         ],
         "legendgroup": "Магадан",
         "marker": {
          "color": "#D62728",
          "symbol": "circle"
         },
         "mode": "markers",
         "name": "Магадан",
         "orientation": "v",
         "showlegend": true,
         "type": "scatter",
         "x": [
          24.9
         ],
         "xaxis": "x",
         "y": [
          79539.3
         ],
         "yaxis": "y"
        },
        {
         "hovertemplate": "<b>%{hovertext}</b><br><br>город=Петропавловск-Камчатский<br>mean_size_house=%{x}<br>mean_wage=%{y}<extra></extra>",
         "hovertext": [
          "Петропавловск-Камчатский"
         ],
         "legendgroup": "Петропавловск-Камчатский",
         "marker": {
          "color": "#9467BD",
          "symbol": "circle"
         },
         "mode": "markers",
         "name": "Петропавловск-Камчатский",
         "orientation": "v",
         "showlegend": true,
         "type": "scatter",
         "x": [
          25.2
         ],
         "xaxis": "x",
         "y": [
          76525.4
         ],
         "yaxis": "y"
        },
        {
         "hovertemplate": "<b>%{hovertext}</b><br><br>город=Ханты-Мансийск<br>mean_size_house=%{x}<br>mean_wage=%{y}<extra></extra>",
         "hovertext": [
          "Ханты-Мансийск"
         ],
         "legendgroup": "Ханты-Мансийск",
         "marker": {
          "color": "#8C564B",
          "symbol": "circle"
         },
         "mode": "markers",
         "name": "Ханты-Мансийск",
         "orientation": "v",
         "showlegend": true,
         "type": "scatter",
         "x": [
          25.3
         ],
         "xaxis": "x",
         "y": [
          72093.6
         ],
         "yaxis": "y"
        },
        {
         "hovertemplate": "<b>%{hovertext}</b><br><br>город=Нарьян-Мар<br>mean_size_house=%{x}<br>mean_wage=%{y}<extra></extra>",
         "hovertext": [
          "Нарьян-Мар"
         ],
         "legendgroup": "Нарьян-Мар",
         "marker": {
          "color": "#E377C2",
          "symbol": "circle"
         },
         "mode": "markers",
         "name": "Нарьян-Мар",
         "orientation": "v",
         "showlegend": true,
         "type": "scatter",
         "x": [
          24.9
         ],
         "xaxis": "x",
         "y": [
          70421.9
         ],
         "yaxis": "y"
        },
        {
         "hovertemplate": "<b>%{hovertext}</b><br><br>город=Якутск<br>mean_size_house=%{x}<br>mean_wage=%{y}<extra></extra>",
         "hovertext": [
          "Якутск"
         ],
         "legendgroup": "Якутск",
         "marker": {
          "color": "#7F7F7F",
          "symbol": "circle"
         },
         "mode": "markers",
         "name": "Якутск",
         "orientation": "v",
         "showlegend": true,
         "type": "scatter",
         "x": [
          19.1
         ],
         "xaxis": "x",
         "y": [
          64801.3
         ],
         "yaxis": "y"
        },
        {
         "hovertemplate": "<b>%{hovertext}</b><br><br>город=Мурманск<br>mean_size_house=%{x}<br>mean_wage=%{y}<extra></extra>",
         "hovertext": [
          "Мурманск"
         ],
         "legendgroup": "Мурманск",
         "marker": {
          "color": "#BCBD22",
          "symbol": "circle"
         },
         "mode": "markers",
         "name": "Мурманск",
         "orientation": "v",
         "showlegend": true,
         "type": "scatter",
         "x": [
          23.8
         ],
         "xaxis": "x",
         "y": [
          61261.6
         ],
         "yaxis": "y"
        },
        {
         "hovertemplate": "<b>%{hovertext}</b><br><br>город=Тюмень<br>mean_size_house=%{x}<br>mean_wage=%{y}<extra></extra>",
         "hovertext": [
          "Тюмень"
         ],
         "legendgroup": "Тюмень",
         "marker": {
          "color": "#17BECF",
          "symbol": "circle"
         },
         "mode": "markers",
         "name": "Тюмень",
         "orientation": "v",
         "showlegend": true,
         "type": "scatter",
         "x": [
          29.3
         ],
         "xaxis": "x",
         "y": [
          53830.5
         ],
         "yaxis": "y"
        },
        {
         "hovertemplate": "<b>%{hovertext}</b><br><br>город=Хабаровск<br>mean_size_house=%{x}<br>mean_wage=%{y}<extra></extra>",
         "hovertext": [
          "Хабаровск"
         ],
         "legendgroup": "Хабаровск",
         "marker": {
          "color": "#1F77B4",
          "symbol": "circle"
         },
         "mode": "markers",
         "name": "Хабаровск",
         "orientation": "v",
         "showlegend": true,
         "type": "scatter",
         "x": [
          23
         ],
         "xaxis": "x",
         "y": [
          52986.9
         ],
         "yaxis": "y"
        },
        {
         "hovertemplate": "<b>%{hovertext}</b><br><br>город=Владивосток<br>mean_size_house=%{x}<br>mean_wage=%{y}<extra></extra>",
         "hovertext": [
          "Владивосток"
         ],
         "legendgroup": "Владивосток",
         "marker": {
          "color": "#FF7F0E",
          "symbol": "circle"
         },
         "mode": "markers",
         "name": "Владивосток",
         "orientation": "v",
         "showlegend": true,
         "type": "scatter",
         "x": [
          21.9
         ],
         "xaxis": "x",
         "y": [
          51830.5
         ],
         "yaxis": "y"
        },
        {
         "hovertemplate": "<b>%{hovertext}</b><br><br>город=Екатеринбург<br>mean_size_house=%{x}<br>mean_wage=%{y}<extra></extra>",
         "hovertext": [
          "Екатеринбург"
         ],
         "legendgroup": "Екатеринбург",
         "marker": {
          "color": "#2CA02C",
          "symbol": "circle"
         },
         "mode": "markers",
         "name": "Екатеринбург",
         "orientation": "v",
         "showlegend": true,
         "type": "scatter",
         "x": [
          25
         ],
         "xaxis": "x",
         "y": [
          47265.6
         ],
         "yaxis": "y"
        },
        {
         "hovertemplate": "<b>%{hovertext}</b><br><br>город=Иркутск<br>mean_size_house=%{x}<br>mean_wage=%{y}<extra></extra>",
         "hovertext": [
          "Иркутск"
         ],
         "legendgroup": "Иркутск",
         "marker": {
          "color": "#D62728",
          "symbol": "circle"
         },
         "mode": "markers",
         "name": "Иркутск",
         "orientation": "v",
         "showlegend": true,
         "type": "scatter",
         "x": [
          27.7
         ],
         "xaxis": "x",
         "y": [
          46980
         ],
         "yaxis": "y"
        },
        {
         "hovertemplate": "<b>%{hovertext}</b><br><br>город=Архангельск<br>mean_size_house=%{x}<br>mean_wage=%{y}<extra></extra>",
         "hovertext": [
          "Архангельск"
         ],
         "legendgroup": "Архангельск",
         "marker": {
          "color": "#9467BD",
          "symbol": "circle"
         },
         "mode": "markers",
         "name": "Архангельск",
         "orientation": "v",
         "showlegend": true,
         "type": "scatter",
         "x": [
          23.3
         ],
         "xaxis": "x",
         "y": [
          45097.7
         ],
         "yaxis": "y"
        },
        {
         "hovertemplate": "<b>%{hovertext}</b><br><br>город=Красноярск<br>mean_size_house=%{x}<br>mean_wage=%{y}<extra></extra>",
         "hovertext": [
          "Красноярск"
         ],
         "legendgroup": "Красноярск",
         "marker": {
          "color": "#8C564B",
          "symbol": "circle"
         },
         "mode": "markers",
         "name": "Красноярск",
         "orientation": "v",
         "showlegend": true,
         "type": "scatter",
         "x": [
          24.1
         ],
         "xaxis": "x",
         "y": [
          44384.3
         ],
         "yaxis": "y"
        },
        {
         "hovertemplate": "<b>%{hovertext}</b><br><br>город=Сыктывкар<br>mean_size_house=%{x}<br>mean_wage=%{y}<extra></extra>",
         "hovertext": [
          "Сыктывкар"
         ],
         "legendgroup": "Сыктывкар",
         "marker": {
          "color": "#E377C2",
          "symbol": "circle"
         },
         "mode": "markers",
         "name": "Сыктывкар",
         "orientation": "v",
         "showlegend": true,
         "type": "scatter",
         "x": [
          23.7
         ],
         "xaxis": "x",
         "y": [
          44181.4
         ],
         "yaxis": "y"
        },
        {
         "hovertemplate": "<b>%{hovertext}</b><br><br>город=Томск<br>mean_size_house=%{x}<br>mean_wage=%{y}<extra></extra>",
         "hovertext": [
          "Томск"
         ],
         "legendgroup": "Томск",
         "marker": {
          "color": "#7F7F7F",
          "symbol": "circle"
         },
         "mode": "markers",
         "name": "Томск",
         "orientation": "v",
         "showlegend": true,
         "type": "scatter",
         "x": [
          23.1
         ],
         "xaxis": "x",
         "y": [
          43410.8
         ],
         "yaxis": "y"
        },
        {
         "hovertemplate": "<b>%{hovertext}</b><br><br>город=Нижний Новгород<br>mean_size_house=%{x}<br>mean_wage=%{y}<extra></extra>",
         "hovertext": [
          "Нижний Новгород"
         ],
         "legendgroup": "Нижний Новгород",
         "marker": {
          "color": "#BCBD22",
          "symbol": "circle"
         },
         "mode": "markers",
         "name": "Нижний Новгород",
         "orientation": "v",
         "showlegend": true,
         "type": "scatter",
         "x": [
          24.8
         ],
         "xaxis": "x",
         "y": [
          42469.5
         ],
         "yaxis": "y"
        },
        {
         "hovertemplate": "<b>%{hovertext}</b><br><br>город=Уфа<br>mean_size_house=%{x}<br>mean_wage=%{y}<extra></extra>",
         "hovertext": [
          "Уфа"
         ],
         "legendgroup": "Уфа",
         "marker": {
          "color": "#17BECF",
          "symbol": "circle"
         },
         "mode": "markers",
         "name": "Уфа",
         "orientation": "v",
         "showlegend": true,
         "type": "scatter",
         "x": [
          23.6
         ],
         "xaxis": "x",
         "y": [
          42312.8
         ],
         "yaxis": "y"
        },
        {
         "hovertemplate": "<b>%{hovertext}</b><br><br>город=Чита<br>mean_size_house=%{x}<br>mean_wage=%{y}<extra></extra>",
         "hovertext": [
          "Чита"
         ],
         "legendgroup": "Чита",
         "marker": {
          "color": "#1F77B4",
          "symbol": "circle"
         },
         "mode": "markers",
         "name": "Чита",
         "orientation": "v",
         "showlegend": true,
         "type": "scatter",
         "x": [
          21
         ],
         "xaxis": "x",
         "y": [
          42204.2
         ],
         "yaxis": "y"
        },
        {
         "hovertemplate": "<b>%{hovertext}</b><br><br>город=Краснодар<br>mean_size_house=%{x}<br>mean_wage=%{y}<extra></extra>",
         "hovertext": [
          "Краснодар"
         ],
         "legendgroup": "Краснодар",
         "marker": {
          "color": "#FF7F0E",
          "symbol": "circle"
         },
         "mode": "markers",
         "name": "Краснодар",
         "orientation": "v",
         "showlegend": true,
         "type": "scatter",
         "x": [
          34.2
         ],
         "xaxis": "x",
         "y": [
          42028.7
         ],
         "yaxis": "y"
        },
        {
         "hovertemplate": "<b>%{hovertext}</b><br><br>город=Новосибирск<br>mean_size_house=%{x}<br>mean_wage=%{y}<extra></extra>",
         "hovertext": [
          "Новосибирск"
         ],
         "legendgroup": "Новосибирск",
         "marker": {
          "color": "#2CA02C",
          "symbol": "circle"
         },
         "mode": "markers",
         "name": "Новосибирск",
         "orientation": "v",
         "showlegend": true,
         "type": "scatter",
         "x": [
          25.1
         ],
         "xaxis": "x",
         "y": [
          41884
         ],
         "yaxis": "y"
        },
        {
         "hovertemplate": "<b>%{hovertext}</b><br><br>город=Благовещенск<br>mean_size_house=%{x}<br>mean_wage=%{y}<extra></extra>",
         "hovertext": [
          "Благовещенск"
         ],
         "legendgroup": "Благовещенск",
         "marker": {
          "color": "#D62728",
          "symbol": "circle"
         },
         "mode": "markers",
         "name": "Благовещенск",
         "orientation": "v",
         "showlegend": true,
         "type": "scatter",
         "x": [
          25.2
         ],
         "xaxis": "x",
         "y": [
          41808.1
         ],
         "yaxis": "y"
        },
        {
         "hovertemplate": "<b>%{hovertext}</b><br><br>город=Кызыл<br>mean_size_house=%{x}<br>mean_wage=%{y}<extra></extra>",
         "hovertext": [
          "Кызыл"
         ],
         "legendgroup": "Кызыл",
         "marker": {
          "color": "#9467BD",
          "symbol": "circle"
         },
         "mode": "markers",
         "name": "Кызыл",
         "orientation": "v",
         "showlegend": true,
         "type": "scatter",
         "x": [
          15.4
         ],
         "xaxis": "x",
         "y": [
          41383
         ],
         "yaxis": "y"
        },
        {
         "hovertemplate": "<b>%{hovertext}</b><br><br>город=Пермь<br>mean_size_house=%{x}<br>mean_wage=%{y}<extra></extra>",
         "hovertext": [
          "Пермь"
         ],
         "legendgroup": "Пермь",
         "marker": {
          "color": "#8C564B",
          "symbol": "circle"
         },
         "mode": "markers",
         "name": "Пермь",
         "orientation": "v",
         "showlegend": true,
         "type": "scatter",
         "x": [
          23.5
         ],
         "xaxis": "x",
         "y": [
          41325.9
         ],
         "yaxis": "y"
        },
        {
         "hovertemplate": "<b>%{hovertext}</b><br><br>город=Петрозаводск<br>mean_size_house=%{x}<br>mean_wage=%{y}<extra></extra>",
         "hovertext": [
          "Петрозаводск"
         ],
         "legendgroup": "Петрозаводск",
         "marker": {
          "color": "#E377C2",
          "symbol": "circle"
         },
         "mode": "markers",
         "name": "Петрозаводск",
         "orientation": "v",
         "showlegend": true,
         "type": "scatter",
         "x": [
          25.4
         ],
         "xaxis": "x",
         "y": [
          41234.4
         ],
         "yaxis": "y"
        },
        {
         "hovertemplate": "<b>%{hovertext}</b><br><br>город=Абакан<br>mean_size_house=%{x}<br>mean_wage=%{y}<extra></extra>",
         "hovertext": [
          "Абакан"
         ],
         "legendgroup": "Абакан",
         "marker": {
          "color": "#7F7F7F",
          "symbol": "circle"
         },
         "mode": "markers",
         "name": "Абакан",
         "orientation": "v",
         "showlegend": true,
         "type": "scatter",
         "x": [
          24.1
         ],
         "xaxis": "x",
         "y": [
          41203.1
         ],
         "yaxis": "y"
        },
        {
         "hovertemplate": "<b>%{hovertext}</b><br><br>город=Казань<br>mean_size_house=%{x}<br>mean_wage=%{y}<extra></extra>",
         "hovertext": [
          "Казань"
         ],
         "legendgroup": "Казань",
         "marker": {
          "color": "#BCBD22",
          "symbol": "circle"
         },
         "mode": "markers",
         "name": "Казань",
         "orientation": "v",
         "showlegend": true,
         "type": "scatter",
         "x": [
          25.3
         ],
         "xaxis": "x",
         "y": [
          41020.8
         ],
         "yaxis": "y"
        },
        {
         "hovertemplate": "<b>%{hovertext}</b><br><br>город=Ростов-на-Дону<br>mean_size_house=%{x}<br>mean_wage=%{y}<extra></extra>",
         "hovertext": [
          "Ростов-на-Дону"
         ],
         "legendgroup": "Ростов-на-Дону",
         "marker": {
          "color": "#17BECF",
          "symbol": "circle"
         },
         "mode": "markers",
         "name": "Ростов-на-Дону",
         "orientation": "v",
         "showlegend": true,
         "type": "scatter",
         "x": [
          26.9
         ],
         "xaxis": "x",
         "y": [
          40556.7
         ],
         "yaxis": "y"
        },
        {
         "hovertemplate": "<b>%{hovertext}</b><br><br>город=Калуга<br>mean_size_house=%{x}<br>mean_wage=%{y}<extra></extra>",
         "hovertext": [
          "Калуга"
         ],
         "legendgroup": "Калуга",
         "marker": {
          "color": "#1F77B4",
          "symbol": "circle"
         },
         "mode": "markers",
         "name": "Калуга",
         "orientation": "v",
         "showlegend": true,
         "type": "scatter",
         "x": [
          25.3
         ],
         "xaxis": "x",
         "y": [
          39653.2
         ],
         "yaxis": "y"
        },
        {
         "hovertemplate": "<b>%{hovertext}</b><br><br>город=Кемерово<br>mean_size_house=%{x}<br>mean_wage=%{y}<extra></extra>",
         "hovertext": [
          "Кемерово"
         ],
         "legendgroup": "Кемерово",
         "marker": {
          "color": "#FF7F0E",
          "symbol": "circle"
         },
         "mode": "markers",
         "name": "Кемерово",
         "orientation": "v",
         "showlegend": true,
         "type": "scatter",
         "x": [
          23.2
         ],
         "xaxis": "x",
         "y": [
          39317.8
         ],
         "yaxis": "y"
        },
        {
         "hovertemplate": "<b>%{hovertext}</b><br><br>город=Самара<br>mean_size_house=%{x}<br>mean_wage=%{y}<extra></extra>",
         "hovertext": [
          "Самара"
         ],
         "legendgroup": "Самара",
         "marker": {
          "color": "#2CA02C",
          "symbol": "circle"
         },
         "mode": "markers",
         "name": "Самара",
         "orientation": "v",
         "showlegend": true,
         "type": "scatter",
         "x": [
          28.1
         ],
         "xaxis": "x",
         "y": [
          39298.9
         ],
         "yaxis": "y"
        },
        {
         "hovertemplate": "<b>%{hovertext}</b><br><br>город=Тула<br>mean_size_house=%{x}<br>mean_wage=%{y}<extra></extra>",
         "hovertext": [
          "Тула"
         ],
         "legendgroup": "Тула",
         "marker": {
          "color": "#D62728",
          "symbol": "circle"
         },
         "mode": "markers",
         "name": "Тула",
         "orientation": "v",
         "showlegend": true,
         "type": "scatter",
         "x": [
          28.6
         ],
         "xaxis": "x",
         "y": [
          39180.2
         ],
         "yaxis": "y"
        },
        {
         "hovertemplate": "<b>%{hovertext}</b><br><br>город=Калининград<br>mean_size_house=%{x}<br>mean_wage=%{y}<extra></extra>",
         "hovertext": [
          "Калининград"
         ],
         "legendgroup": "Калининград",
         "marker": {
          "color": "#9467BD",
          "symbol": "circle"
         },
         "mode": "markers",
         "name": "Калининград",
         "orientation": "v",
         "showlegend": true,
         "type": "scatter",
         "x": [
          28.7
         ],
         "xaxis": "x",
         "y": [
          38686
         ],
         "yaxis": "y"
        },
        {
         "hovertemplate": "<b>%{hovertext}</b><br><br>город=Челябинск<br>mean_size_house=%{x}<br>mean_wage=%{y}<extra></extra>",
         "hovertext": [
          "Челябинск"
         ],
         "legendgroup": "Челябинск",
         "marker": {
          "color": "#8C564B",
          "symbol": "circle"
         },
         "mode": "markers",
         "name": "Челябинск",
         "orientation": "v",
         "showlegend": true,
         "type": "scatter",
         "x": [
          25.4
         ],
         "xaxis": "x",
         "y": [
          38228.1
         ],
         "yaxis": "y"
        },
        {
         "hovertemplate": "<b>%{hovertext}</b><br><br>город=Биробиджан<br>mean_size_house=%{x}<br>mean_wage=%{y}<extra></extra>",
         "hovertext": [
          "Биробиджан"
         ],
         "legendgroup": "Биробиджан",
         "marker": {
          "color": "#E377C2",
          "symbol": "circle"
         },
         "mode": "markers",
         "name": "Биробиджан",
         "orientation": "v",
         "showlegend": true,
         "type": "scatter",
         "x": [
          23
         ],
         "xaxis": "x",
         "y": [
          37587.3
         ],
         "yaxis": "y"
        },
        {
         "hovertemplate": "<b>%{hovertext}</b><br><br>город=Ярославль<br>mean_size_house=%{x}<br>mean_wage=%{y}<extra></extra>",
         "hovertext": [
          "Ярославль"
         ],
         "legendgroup": "Ярославль",
         "marker": {
          "color": "#7F7F7F",
          "symbol": "circle"
         },
         "mode": "markers",
         "name": "Ярославль",
         "orientation": "v",
         "showlegend": true,
         "type": "scatter",
         "x": [
          24.1
         ],
         "xaxis": "x",
         "y": [
          37533.7
         ],
         "yaxis": "y"
        },
        {
         "hovertemplate": "<b>%{hovertext}</b><br><br>город=Великий Новгород<br>mean_size_house=%{x}<br>mean_wage=%{y}<extra></extra>",
         "hovertext": [
          "Великий Новгород"
         ],
         "legendgroup": "Великий Новгород",
         "marker": {
          "color": "#BCBD22",
          "symbol": "circle"
         },
         "mode": "markers",
         "name": "Великий Новгород",
         "orientation": "v",
         "showlegend": true,
         "type": "scatter",
         "x": [
          25
         ],
         "xaxis": "x",
         "y": [
          36640.1
         ],
         "yaxis": "y"
        },
        {
         "hovertemplate": "<b>%{hovertext}</b><br><br>город=Улан-Удэ<br>mean_size_house=%{x}<br>mean_wage=%{y}<extra></extra>",
         "hovertext": [
          "Улан-Удэ"
         ],
         "legendgroup": "Улан-Удэ",
         "marker": {
          "color": "#17BECF",
          "symbol": "circle"
         },
         "mode": "markers",
         "name": "Улан-Удэ",
         "orientation": "v",
         "showlegend": true,
         "type": "scatter",
         "x": [
          20.1
         ],
         "xaxis": "x",
         "y": [
          36536.7
         ],
         "yaxis": "y"
        },
        {
         "hovertemplate": "<b>%{hovertext}</b><br><br>город=Магас<br>mean_size_house=%{x}<br>mean_wage=%{y}<extra></extra>",
         "hovertext": [
          "Магас"
         ],
         "legendgroup": "Магас",
         "marker": {
          "color": "#1F77B4",
          "symbol": "circle"
         },
         "mode": "markers",
         "name": "Магас",
         "orientation": "v",
         "showlegend": true,
         "type": "scatter",
         "x": [
          67.3
         ],
         "xaxis": "x",
         "y": [
          36523.2
         ],
         "yaxis": "y"
        },
        {
         "hovertemplate": "<b>%{hovertext}</b><br><br>город=Оренбург<br>mean_size_house=%{x}<br>mean_wage=%{y}<extra></extra>",
         "hovertext": [
          "Оренбург"
         ],
         "legendgroup": "Оренбург",
         "marker": {
          "color": "#FF7F0E",
          "symbol": "circle"
         },
         "mode": "markers",
         "name": "Оренбург",
         "orientation": "v",
         "showlegend": true,
         "type": "scatter",
         "x": [
          24.7
         ],
         "xaxis": "x",
         "y": [
          36516.2
         ],
         "yaxis": "y"
        },
        {
         "hovertemplate": "<b>%{hovertext}</b><br><br>город=Липецк<br>mean_size_house=%{x}<br>mean_wage=%{y}<extra></extra>",
         "hovertext": [
          "Липецк"
         ],
         "legendgroup": "Липецк",
         "marker": {
          "color": "#2CA02C",
          "symbol": "circle"
         },
         "mode": "markers",
         "name": "Липецк",
         "orientation": "v",
         "showlegend": true,
         "type": "scatter",
         "x": [
          27.1
         ],
         "xaxis": "x",
         "y": [
          36194.5
         ],
         "yaxis": "y"
        },
        {
         "hovertemplate": "<b>%{hovertext}</b><br><br>город=Тверь<br>mean_size_house=%{x}<br>mean_wage=%{y}<extra></extra>",
         "hovertext": [
          "Тверь"
         ],
         "legendgroup": "Тверь",
         "marker": {
          "color": "#D62728",
          "symbol": "circle"
         },
         "mode": "markers",
         "name": "Тверь",
         "orientation": "v",
         "showlegend": true,
         "type": "scatter",
         "x": [
          26.2
         ],
         "xaxis": "x",
         "y": [
          36097
         ],
         "yaxis": "y"
        },
        {
         "hovertemplate": "<b>%{hovertext}</b><br><br>город=Вологда<br>mean_size_house=%{x}<br>mean_wage=%{y}<extra></extra>",
         "hovertext": [
          "Вологда"
         ],
         "legendgroup": "Вологда",
         "marker": {
          "color": "#9467BD",
          "symbol": "circle"
         },
         "mode": "markers",
         "name": "Вологда",
         "orientation": "v",
         "showlegend": true,
         "type": "scatter",
         "x": [
          26.6
         ],
         "xaxis": "x",
         "y": [
          36072.3
         ],
         "yaxis": "y"
        },
        {
         "hovertemplate": "<b>%{hovertext}</b><br><br>город=Рязань<br>mean_size_house=%{x}<br>mean_wage=%{y}<extra></extra>",
         "hovertext": [
          "Рязань"
         ],
         "legendgroup": "Рязань",
         "marker": {
          "color": "#8C564B",
          "symbol": "circle"
         },
         "mode": "markers",
         "name": "Рязань",
         "orientation": "v",
         "showlegend": true,
         "type": "scatter",
         "x": [
          26.6
         ],
         "xaxis": "x",
         "y": [
          36024.7
         ],
         "yaxis": "y"
        },
        {
         "hovertemplate": "<b>%{hovertext}</b><br><br>город=Омск<br>mean_size_house=%{x}<br>mean_wage=%{y}<extra></extra>",
         "hovertext": [
          "Омск"
         ],
         "legendgroup": "Омск",
         "marker": {
          "color": "#E377C2",
          "symbol": "circle"
         },
         "mode": "markers",
         "name": "Омск",
         "orientation": "v",
         "showlegend": true,
         "type": "scatter",
         "x": [
          24.1
         ],
         "xaxis": "x",
         "y": [
          35602
         ],
         "yaxis": "y"
        },
        {
         "hovertemplate": "<b>%{hovertext}</b><br><br>город=Воронеж<br>mean_size_house=%{x}<br>mean_wage=%{y}<extra></extra>",
         "hovertext": [
          "Воронеж"
         ],
         "legendgroup": "Воронеж",
         "marker": {
          "color": "#7F7F7F",
          "symbol": "circle"
         },
         "mode": "markers",
         "name": "Воронеж",
         "orientation": "v",
         "showlegend": true,
         "type": "scatter",
         "x": [
          28.1
         ],
         "xaxis": "x",
         "y": [
          35202.3
         ],
         "yaxis": "y"
        },
        {
         "hovertemplate": "<b>%{hovertext}</b><br><br>город=Астрахань<br>mean_size_house=%{x}<br>mean_wage=%{y}<extra></extra>",
         "hovertext": [
          "Астрахань"
         ],
         "legendgroup": "Астрахань",
         "marker": {
          "color": "#BCBD22",
          "symbol": "circle"
         },
         "mode": "markers",
         "name": "Астрахань",
         "orientation": "v",
         "showlegend": true,
         "type": "scatter",
         "x": [
          24.8
         ],
         "xaxis": "x",
         "y": [
          35179
         ],
         "yaxis": "y"
        },
        {
         "hovertemplate": "<b>%{hovertext}</b><br><br>город=Ижевск<br>mean_size_house=%{x}<br>mean_wage=%{y}<extra></extra>",
         "hovertext": [
          "Ижевск"
         ],
         "legendgroup": "Ижевск",
         "marker": {
          "color": "#17BECF",
          "symbol": "circle"
         },
         "mode": "markers",
         "name": "Ижевск",
         "orientation": "v",
         "showlegend": true,
         "type": "scatter",
         "x": [
          21.1
         ],
         "xaxis": "x",
         "y": [
          35011.6
         ],
         "yaxis": "y"
        },
        {
         "hovertemplate": "<b>%{hovertext}</b><br><br>город=Горно-Алтайск<br>mean_size_house=%{x}<br>mean_wage=%{y}<extra></extra>",
         "hovertext": [
          "Горно-Алтайск"
         ],
         "legendgroup": "Горно-Алтайск",
         "marker": {
          "color": "#1F77B4",
          "symbol": "circle"
         },
         "mode": "markers",
         "name": "Горно-Алтайск",
         "orientation": "v",
         "showlegend": true,
         "type": "scatter",
         "x": [
          23.6
         ],
         "xaxis": "x",
         "y": [
          33956.9
         ],
         "yaxis": "y"
        },
        {
         "hovertemplate": "<b>%{hovertext}</b><br><br>город=Волгоград <br>mean_size_house=%{x}<br>mean_wage=%{y}<extra></extra>",
         "hovertext": [
          "Волгоград "
         ],
         "legendgroup": "Волгоград ",
         "marker": {
          "color": "#FF7F0E",
          "symbol": "circle"
         },
         "mode": "markers",
         "name": "Волгоград ",
         "orientation": "v",
         "showlegend": true,
         "type": "scatter",
         "x": [
          23.9
         ],
         "xaxis": "x",
         "y": [
          33718.9
         ],
         "yaxis": "y"
        },
        {
         "hovertemplate": "<b>%{hovertext}</b><br><br>город=Белгород<br>mean_size_house=%{x}<br>mean_wage=%{y}<extra></extra>",
         "hovertext": [
          "Белгород"
         ],
         "legendgroup": "Белгород",
         "marker": {
          "color": "#2CA02C",
          "symbol": "circle"
         },
         "mode": "markers",
         "name": "Белгород",
         "orientation": "v",
         "showlegend": true,
         "type": "scatter",
         "x": [
          24.8
         ],
         "xaxis": "x",
         "y": [
          33566.7
         ],
         "yaxis": "y"
        },
        {
         "hovertemplate": "<b>%{hovertext}</b><br><br>город=Ставрополь<br>mean_size_house=%{x}<br>mean_wage=%{y}<extra></extra>",
         "hovertext": [
          "Ставрополь"
         ],
         "legendgroup": "Ставрополь",
         "marker": {
          "color": "#D62728",
          "symbol": "circle"
         },
         "mode": "markers",
         "name": "Ставрополь",
         "orientation": "v",
         "showlegend": true,
         "type": "scatter",
         "x": [
          29.6
         ],
         "xaxis": "x",
         "y": [
          33290.1
         ],
         "yaxis": "y"
        },
        {
         "hovertemplate": "<b>%{hovertext}</b><br><br>город=Симферополь<br>mean_size_house=%{x}<br>mean_wage=%{y}<extra></extra>",
         "hovertext": [
          "Симферополь"
         ],
         "legendgroup": "Симферополь",
         "marker": {
          "color": "#9467BD",
          "symbol": "circle"
         },
         "mode": "markers",
         "name": "Симферополь",
         "orientation": "v",
         "showlegend": true,
         "type": "scatter",
         "x": [
          12.1
         ],
         "xaxis": "x",
         "y": [
          33279.7
         ],
         "yaxis": "y"
        },
        {
         "hovertemplate": "<b>%{hovertext}</b><br><br>город=Владимир<br>mean_size_house=%{x}<br>mean_wage=%{y}<extra></extra>",
         "hovertext": [
          "Владимир"
         ],
         "legendgroup": "Владимир",
         "marker": {
          "color": "#8C564B",
          "symbol": "circle"
         },
         "mode": "markers",
         "name": "Владимир",
         "orientation": "v",
         "showlegend": true,
         "type": "scatter",
         "x": [
          25.6
         ],
         "xaxis": "x",
         "y": [
          33213.1
         ],
         "yaxis": "y"
        },
        {
         "hovertemplate": "<b>%{hovertext}</b><br><br>город=Киров<br>mean_size_house=%{x}<br>mean_wage=%{y}<extra></extra>",
         "hovertext": [
          "Киров"
         ],
         "legendgroup": "Киров",
         "marker": {
          "color": "#E377C2",
          "symbol": "circle"
         },
         "mode": "markers",
         "name": "Киров",
         "orientation": "v",
         "showlegend": true,
         "type": "scatter",
         "x": [
          24.3
         ],
         "xaxis": "x",
         "y": [
          32720.3
         ],
         "yaxis": "y"
        },
        {
         "hovertemplate": "<b>%{hovertext}</b><br><br>город=Ульяновск<br>mean_size_house=%{x}<br>mean_wage=%{y}<extra></extra>",
         "hovertext": [
          "Ульяновск"
         ],
         "legendgroup": "Ульяновск",
         "marker": {
          "color": "#7F7F7F",
          "symbol": "circle"
         },
         "mode": "markers",
         "name": "Ульяновск",
         "orientation": "v",
         "showlegend": true,
         "type": "scatter",
         "x": [
          26
         ],
         "xaxis": "x",
         "y": [
          32555.7
         ],
         "yaxis": "y"
        },
        {
         "hovertemplate": "<b>%{hovertext}</b><br><br>город=Саратов<br>mean_size_house=%{x}<br>mean_wage=%{y}<extra></extra>",
         "hovertext": [
          "Саратов"
         ],
         "legendgroup": "Саратов",
         "marker": {
          "color": "#BCBD22",
          "symbol": "circle"
         },
         "mode": "markers",
         "name": "Саратов",
         "orientation": "v",
         "showlegend": true,
         "type": "scatter",
         "x": [
          28.9
         ],
         "xaxis": "x",
         "y": [
          32504.7
         ],
         "yaxis": "y"
        },
        {
         "hovertemplate": "<b>%{hovertext}</b><br><br>город=Смоленск<br>mean_size_house=%{x}<br>mean_wage=%{y}<extra></extra>",
         "hovertext": [
          "Смоленск"
         ],
         "legendgroup": "Смоленск",
         "marker": {
          "color": "#17BECF",
          "symbol": "circle"
         },
         "mode": "markers",
         "name": "Смоленск",
         "orientation": "v",
         "showlegend": true,
         "type": "scatter",
         "x": [
          27.1
         ],
         "xaxis": "x",
         "y": [
          31462
         ],
         "yaxis": "y"
        },
        {
         "hovertemplate": "<b>%{hovertext}</b><br><br>город=Курган<br>mean_size_house=%{x}<br>mean_wage=%{y}<extra></extra>",
         "hovertext": [
          "Курган"
         ],
         "legendgroup": "Курган",
         "marker": {
          "color": "#1F77B4",
          "symbol": "circle"
         },
         "mode": "markers",
         "name": "Курган",
         "orientation": "v",
         "showlegend": true,
         "type": "scatter",
         "x": [
          25.4
         ],
         "xaxis": "x",
         "y": [
          31201.4
         ],
         "yaxis": "y"
        },
        {
         "hovertemplate": "<b>%{hovertext}</b><br><br>город=Пенза<br>mean_size_house=%{x}<br>mean_wage=%{y}<extra></extra>",
         "hovertext": [
          "Пенза"
         ],
         "legendgroup": "Пенза",
         "marker": {
          "color": "#FF7F0E",
          "symbol": "circle"
         },
         "mode": "markers",
         "name": "Пенза",
         "orientation": "v",
         "showlegend": true,
         "type": "scatter",
         "x": [
          28.7
         ],
         "xaxis": "x",
         "y": [
          31129.7
         ],
         "yaxis": "y"
        },
        {
         "hovertemplate": "<b>%{hovertext}</b><br><br>город=Йошкар-Ола<br>mean_size_house=%{x}<br>mean_wage=%{y}<extra></extra>",
         "hovertext": [
          "Йошкар-Ола"
         ],
         "legendgroup": "Йошкар-Ола",
         "marker": {
          "color": "#2CA02C",
          "symbol": "circle"
         },
         "mode": "markers",
         "name": "Йошкар-Ола",
         "orientation": "v",
         "showlegend": true,
         "type": "scatter",
         "x": [
          25.5
         ],
         "xaxis": "x",
         "y": [
          31100.1
         ],
         "yaxis": "y"
        },
        {
         "hovertemplate": "<b>%{hovertext}</b><br><br>город=Барнаул<br>mean_size_house=%{x}<br>mean_wage=%{y}<extra></extra>",
         "hovertext": [
          "Барнаул"
         ],
         "legendgroup": "Барнаул",
         "marker": {
          "color": "#D62728",
          "symbol": "circle"
         },
         "mode": "markers",
         "name": "Барнаул",
         "orientation": "v",
         "showlegend": true,
         "type": "scatter",
         "x": [
          23.9
         ],
         "xaxis": "x",
         "y": [
          31013.5
         ],
         "yaxis": "y"
        },
        {
         "hovertemplate": "<b>%{hovertext}</b><br><br>город=Брянск<br>mean_size_house=%{x}<br>mean_wage=%{y}<extra></extra>",
         "hovertext": [
          "Брянск"
         ],
         "legendgroup": "Брянск",
         "marker": {
          "color": "#9467BD",
          "symbol": "circle"
         },
         "mode": "markers",
         "name": "Брянск",
         "orientation": "v",
         "showlegend": true,
         "type": "scatter",
         "x": [
          29.2
         ],
         "xaxis": "x",
         "y": [
          30540.9
         ],
         "yaxis": "y"
        },
        {
         "hovertemplate": "<b>%{hovertext}</b><br><br>город=Псков<br>mean_size_house=%{x}<br>mean_wage=%{y}<extra></extra>",
         "hovertext": [
          "Псков"
         ],
         "legendgroup": "Псков",
         "marker": {
          "color": "#8C564B",
          "symbol": "circle"
         },
         "mode": "markers",
         "name": "Псков",
         "orientation": "v",
         "showlegend": true,
         "type": "scatter",
         "x": [
          25.3
         ],
         "xaxis": "x",
         "y": [
          30539.1
         ],
         "yaxis": "y"
        },
        {
         "hovertemplate": "<b>%{hovertext}</b><br><br>город=Чебоксары<br>mean_size_house=%{x}<br>mean_wage=%{y}<extra></extra>",
         "hovertext": [
          "Чебоксары"
         ],
         "legendgroup": "Чебоксары",
         "marker": {
          "color": "#E377C2",
          "symbol": "circle"
         },
         "mode": "markers",
         "name": "Чебоксары",
         "orientation": "v",
         "showlegend": true,
         "type": "scatter",
         "x": [
          23.4
         ],
         "xaxis": "x",
         "y": [
          30510.3
         ],
         "yaxis": "y"
        },
        {
         "hovertemplate": "<b>%{hovertext}</b><br><br>город=Грозный<br>mean_size_house=%{x}<br>mean_wage=%{y}<extra></extra>",
         "hovertext": [
          "Грозный"
         ],
         "legendgroup": "Грозный",
         "marker": {
          "color": "#7F7F7F",
          "symbol": "circle"
         },
         "mode": "markers",
         "name": "Грозный",
         "orientation": "v",
         "showlegend": true,
         "type": "scatter",
         "x": [
          26.7
         ],
         "xaxis": "x",
         "y": [
          30455
         ],
         "yaxis": "y"
        },
        {
         "hovertemplate": "<b>%{hovertext}</b><br><br>город=Кострома<br>mean_size_house=%{x}<br>mean_wage=%{y}<extra></extra>",
         "hovertext": [
          "Кострома"
         ],
         "legendgroup": "Кострома",
         "marker": {
          "color": "#BCBD22",
          "symbol": "circle"
         },
         "mode": "markers",
         "name": "Кострома",
         "orientation": "v",
         "showlegend": true,
         "type": "scatter",
         "x": [
          25.4
         ],
         "xaxis": "x",
         "y": [
          30365.5
         ],
         "yaxis": "y"
        },
        {
         "hovertemplate": "<b>%{hovertext}</b><br><br>город=Курск<br>mean_size_house=%{x}<br>mean_wage=%{y}<extra></extra>",
         "hovertext": [
          "Курск"
         ],
         "legendgroup": "Курск",
         "marker": {
          "color": "#17BECF",
          "symbol": "circle"
         },
         "mode": "markers",
         "name": "Курск",
         "orientation": "v",
         "showlegend": true,
         "type": "scatter",
         "x": [
          27.1
         ],
         "xaxis": "x",
         "y": [
          29746.8
         ],
         "yaxis": "y"
        },
        {
         "hovertemplate": "<b>%{hovertext}</b><br><br>город=Орел<br>mean_size_house=%{x}<br>mean_wage=%{y}<extra></extra>",
         "hovertext": [
          "Орел"
         ],
         "legendgroup": "Орел",
         "marker": {
          "color": "#1F77B4",
          "symbol": "circle"
         },
         "mode": "markers",
         "name": "Орел",
         "orientation": "v",
         "showlegend": true,
         "type": "scatter",
         "x": [
          29.1
         ],
         "xaxis": "x",
         "y": [
          29583.6
         ],
         "yaxis": "y"
        },
        {
         "hovertemplate": "<b>%{hovertext}</b><br><br>город=Иваново<br>mean_size_house=%{x}<br>mean_wage=%{y}<extra></extra>",
         "hovertext": [
          "Иваново"
         ],
         "legendgroup": "Иваново",
         "marker": {
          "color": "#FF7F0E",
          "symbol": "circle"
         },
         "mode": "markers",
         "name": "Иваново",
         "orientation": "v",
         "showlegend": true,
         "type": "scatter",
         "x": [
          24.3
         ],
         "xaxis": "x",
         "y": [
          29496.4
         ],
         "yaxis": "y"
        },
        {
         "hovertemplate": "<b>%{hovertext}</b><br><br>город=Тамбов<br>mean_size_house=%{x}<br>mean_wage=%{y}<extra></extra>",
         "hovertext": [
          "Тамбов"
         ],
         "legendgroup": "Тамбов",
         "marker": {
          "color": "#2CA02C",
          "symbol": "circle"
         },
         "mode": "markers",
         "name": "Тамбов",
         "orientation": "v",
         "showlegend": true,
         "type": "scatter",
         "x": [
          26.6
         ],
         "xaxis": "x",
         "y": [
          28931.7
         ],
         "yaxis": "y"
        },
        {
         "hovertemplate": "<b>%{hovertext}</b><br><br>город=Махачкала<br>mean_size_house=%{x}<br>mean_wage=%{y}<extra></extra>",
         "hovertext": [
          "Махачкала"
         ],
         "legendgroup": "Махачкала",
         "marker": {
          "color": "#D62728",
          "symbol": "circle"
         },
         "mode": "markers",
         "name": "Махачкала",
         "orientation": "v",
         "showlegend": true,
         "type": "scatter",
         "x": [
          17.5
         ],
         "xaxis": "x",
         "y": [
          28610.2
         ],
         "yaxis": "y"
        },
        {
         "hovertemplate": "<b>%{hovertext}</b><br><br>город=Саранск<br>mean_size_house=%{x}<br>mean_wage=%{y}<extra></extra>",
         "hovertext": [
          "Саранск"
         ],
         "legendgroup": "Саранск",
         "marker": {
          "color": "#9467BD",
          "symbol": "circle"
         },
         "mode": "markers",
         "name": "Саранск",
         "orientation": "v",
         "showlegend": true,
         "type": "scatter",
         "x": [
          23.7
         ],
         "xaxis": "x",
         "y": [
          28210.8
         ],
         "yaxis": "y"
        },
        {
         "hovertemplate": "<b>%{hovertext}</b><br><br>город=Владикавказ<br>mean_size_house=%{x}<br>mean_wage=%{y}<extra></extra>",
         "hovertext": [
          "Владикавказ"
         ],
         "legendgroup": "Владикавказ",
         "marker": {
          "color": "#8C564B",
          "symbol": "circle"
         },
         "mode": "markers",
         "name": "Владикавказ",
         "orientation": "v",
         "showlegend": true,
         "type": "scatter",
         "x": [
          35.3
         ],
         "xaxis": "x",
         "y": [
          28184.3
         ],
         "yaxis": "y"
        },
        {
         "hovertemplate": "<b>%{hovertext}</b><br><br>город=Нальчик<br>mean_size_house=%{x}<br>mean_wage=%{y}<extra></extra>",
         "hovertext": [
          "Нальчик"
         ],
         "legendgroup": "Нальчик",
         "marker": {
          "color": "#E377C2",
          "symbol": "circle"
         },
         "mode": "markers",
         "name": "Нальчик",
         "orientation": "v",
         "showlegend": true,
         "type": "scatter",
         "x": [
          20
         ],
         "xaxis": "x",
         "y": [
          27958.3
         ],
         "yaxis": "y"
        },
        {
         "hovertemplate": "<b>%{hovertext}</b><br><br>город=Севастополь<br>mean_size_house=%{x}<br>mean_wage=%{y}<extra></extra>",
         "hovertext": [
          "Севастополь"
         ],
         "legendgroup": "Севастополь",
         "marker": {
          "color": "#7F7F7F",
          "symbol": "circle"
         },
         "mode": "markers",
         "name": "Севастополь",
         "orientation": "v",
         "showlegend": true,
         "type": "scatter",
         "x": [
          25.5
         ],
         "xaxis": "x",
         "y": [
          27687
         ],
         "yaxis": "y"
        },
        {
         "hovertemplate": "<b>%{hovertext}</b><br><br>город=Майкоп<br>mean_size_house=%{x}<br>mean_wage=%{y}<extra></extra>",
         "hovertext": [
          "Майкоп"
         ],
         "legendgroup": "Майкоп",
         "marker": {
          "color": "#BCBD22",
          "symbol": "circle"
         },
         "mode": "markers",
         "name": "Майкоп",
         "orientation": "v",
         "showlegend": true,
         "type": "scatter",
         "x": [
          28.6
         ],
         "xaxis": "x",
         "y": [
          27481.1
         ],
         "yaxis": "y"
        },
        {
         "hovertemplate": "<b>%{hovertext}</b><br><br>город=Черкесск<br>mean_size_house=%{x}<br>mean_wage=%{y}<extra></extra>",
         "hovertext": [
          "Черкесск"
         ],
         "legendgroup": "Черкесск",
         "marker": {
          "color": "#17BECF",
          "symbol": "circle"
         },
         "mode": "markers",
         "name": "Черкесск",
         "orientation": "v",
         "showlegend": true,
         "type": "scatter",
         "x": [
          24.4
         ],
         "xaxis": "x",
         "y": [
          26960.8
         ],
         "yaxis": "y"
        },
        {
         "hovertemplate": "<b>%{hovertext}</b><br><br>город=Элиста<br>mean_size_house=%{x}<br>mean_wage=%{y}<extra></extra>",
         "hovertext": [
          "Элиста"
         ],
         "legendgroup": "Элиста",
         "marker": {
          "color": "#1F77B4",
          "symbol": "circle"
         },
         "mode": "markers",
         "name": "Элиста",
         "orientation": "v",
         "showlegend": true,
         "type": "scatter",
         "x": [
          29.1
         ],
         "xaxis": "x",
         "y": [
          26639.8
         ],
         "yaxis": "y"
        },
        {
         "hovertemplate": "<b>%{hovertext}</b><br><br>город=Москва<br>mean_size_house=%{x}<br>mean_wage=%{y}<extra></extra>",
         "hovertext": [
          "Москва"
         ],
         "legendgroup": "Москва",
         "marker": {
          "color": "#FF7F0E",
          "symbol": "circle"
         },
         "mode": "markers",
         "name": "Москва",
         "orientation": "v",
         "showlegend": true,
         "type": "scatter",
         "x": [
          19.3
         ],
         "xaxis": "x",
         "y": [
          73812
         ],
         "yaxis": "y"
        },
        {
         "hovertemplate": "<b>%{hovertext}</b><br><br>город=Санкт-Петербург<br>mean_size_house=%{x}<br>mean_wage=%{y}<extra></extra>",
         "hovertext": [
          "Санкт-Петербург"
         ],
         "legendgroup": "Санкт-Петербург",
         "marker": {
          "color": "#2CA02C",
          "symbol": "circle"
         },
         "mode": "markers",
         "name": "Санкт-Петербург",
         "orientation": "v",
         "showlegend": true,
         "type": "scatter",
         "x": [
          24.9
         ],
         "xaxis": "x",
         "y": [
          53740
         ],
         "yaxis": "y"
        }
       ],
       "layout": {
        "legend": {
         "title": {
          "text": "город"
         },
         "tracegroupgap": 0
        },
        "margin": {
         "t": 60
        },
        "template": {
         "data": {
          "bar": [
           {
            "error_x": {
             "color": "rgb(36,36,36)"
            },
            "error_y": {
             "color": "rgb(36,36,36)"
            },
            "marker": {
             "line": {
              "color": "white",
              "width": 0.5
             },
             "pattern": {
              "fillmode": "overlay",
              "size": 10,
              "solidity": 0.2
             }
            },
            "type": "bar"
           }
          ],
          "barpolar": [
           {
            "marker": {
             "line": {
              "color": "white",
              "width": 0.5
             },
             "pattern": {
              "fillmode": "overlay",
              "size": 10,
              "solidity": 0.2
             }
            },
            "type": "barpolar"
           }
          ],
          "carpet": [
           {
            "aaxis": {
             "endlinecolor": "rgb(36,36,36)",
             "gridcolor": "white",
             "linecolor": "white",
             "minorgridcolor": "white",
             "startlinecolor": "rgb(36,36,36)"
            },
            "baxis": {
             "endlinecolor": "rgb(36,36,36)",
             "gridcolor": "white",
             "linecolor": "white",
             "minorgridcolor": "white",
             "startlinecolor": "rgb(36,36,36)"
            },
            "type": "carpet"
           }
          ],
          "choropleth": [
           {
            "colorbar": {
             "outlinewidth": 1,
             "tickcolor": "rgb(36,36,36)",
             "ticks": "outside"
            },
            "type": "choropleth"
           }
          ],
          "contour": [
           {
            "colorbar": {
             "outlinewidth": 1,
             "tickcolor": "rgb(36,36,36)",
             "ticks": "outside"
            },
            "colorscale": [
             [
              0,
              "#440154"
             ],
             [
              0.1111111111111111,
              "#482878"
             ],
             [
              0.2222222222222222,
              "#3e4989"
             ],
             [
              0.3333333333333333,
              "#31688e"
             ],
             [
              0.4444444444444444,
              "#26828e"
             ],
             [
              0.5555555555555556,
              "#1f9e89"
             ],
             [
              0.6666666666666666,
              "#35b779"
             ],
             [
              0.7777777777777778,
              "#6ece58"
             ],
             [
              0.8888888888888888,
              "#b5de2b"
             ],
             [
              1,
              "#fde725"
             ]
            ],
            "type": "contour"
           }
          ],
          "contourcarpet": [
           {
            "colorbar": {
             "outlinewidth": 1,
             "tickcolor": "rgb(36,36,36)",
             "ticks": "outside"
            },
            "type": "contourcarpet"
           }
          ],
          "heatmap": [
           {
            "colorbar": {
             "outlinewidth": 1,
             "tickcolor": "rgb(36,36,36)",
             "ticks": "outside"
            },
            "colorscale": [
             [
              0,
              "#440154"
             ],
             [
              0.1111111111111111,
              "#482878"
             ],
             [
              0.2222222222222222,
              "#3e4989"
             ],
             [
              0.3333333333333333,
              "#31688e"
             ],
             [
              0.4444444444444444,
              "#26828e"
             ],
             [
              0.5555555555555556,
              "#1f9e89"
             ],
             [
              0.6666666666666666,
              "#35b779"
             ],
             [
              0.7777777777777778,
              "#6ece58"
             ],
             [
              0.8888888888888888,
              "#b5de2b"
             ],
             [
              1,
              "#fde725"
             ]
            ],
            "type": "heatmap"
           }
          ],
          "heatmapgl": [
           {
            "colorbar": {
             "outlinewidth": 1,
             "tickcolor": "rgb(36,36,36)",
             "ticks": "outside"
            },
            "colorscale": [
             [
              0,
              "#440154"
             ],
             [
              0.1111111111111111,
              "#482878"
             ],
             [
              0.2222222222222222,
              "#3e4989"
             ],
             [
              0.3333333333333333,
              "#31688e"
             ],
             [
              0.4444444444444444,
              "#26828e"
             ],
             [
              0.5555555555555556,
              "#1f9e89"
             ],
             [
              0.6666666666666666,
              "#35b779"
             ],
             [
              0.7777777777777778,
              "#6ece58"
             ],
             [
              0.8888888888888888,
              "#b5de2b"
             ],
             [
              1,
              "#fde725"
             ]
            ],
            "type": "heatmapgl"
           }
          ],
          "histogram": [
           {
            "marker": {
             "line": {
              "color": "white",
              "width": 0.6
             }
            },
            "type": "histogram"
           }
          ],
          "histogram2d": [
           {
            "colorbar": {
             "outlinewidth": 1,
             "tickcolor": "rgb(36,36,36)",
             "ticks": "outside"
            },
            "colorscale": [
             [
              0,
              "#440154"
             ],
             [
              0.1111111111111111,
              "#482878"
             ],
             [
              0.2222222222222222,
              "#3e4989"
             ],
             [
              0.3333333333333333,
              "#31688e"
             ],
             [
              0.4444444444444444,
              "#26828e"
             ],
             [
              0.5555555555555556,
              "#1f9e89"
             ],
             [
              0.6666666666666666,
              "#35b779"
             ],
             [
              0.7777777777777778,
              "#6ece58"
             ],
             [
              0.8888888888888888,
              "#b5de2b"
             ],
             [
              1,
              "#fde725"
             ]
            ],
            "type": "histogram2d"
           }
          ],
          "histogram2dcontour": [
           {
            "colorbar": {
             "outlinewidth": 1,
             "tickcolor": "rgb(36,36,36)",
             "ticks": "outside"
            },
            "colorscale": [
             [
              0,
              "#440154"
             ],
             [
              0.1111111111111111,
              "#482878"
             ],
             [
              0.2222222222222222,
              "#3e4989"
             ],
             [
              0.3333333333333333,
              "#31688e"
             ],
             [
              0.4444444444444444,
              "#26828e"
             ],
             [
              0.5555555555555556,
              "#1f9e89"
             ],
             [
              0.6666666666666666,
              "#35b779"
             ],
             [
              0.7777777777777778,
              "#6ece58"
             ],
             [
              0.8888888888888888,
              "#b5de2b"
             ],
             [
              1,
              "#fde725"
             ]
            ],
            "type": "histogram2dcontour"
           }
          ],
          "mesh3d": [
           {
            "colorbar": {
             "outlinewidth": 1,
             "tickcolor": "rgb(36,36,36)",
             "ticks": "outside"
            },
            "type": "mesh3d"
           }
          ],
          "parcoords": [
           {
            "line": {
             "colorbar": {
              "outlinewidth": 1,
              "tickcolor": "rgb(36,36,36)",
              "ticks": "outside"
             }
            },
            "type": "parcoords"
           }
          ],
          "pie": [
           {
            "automargin": true,
            "type": "pie"
           }
          ],
          "scatter": [
           {
            "fillpattern": {
             "fillmode": "overlay",
             "size": 10,
             "solidity": 0.2
            },
            "type": "scatter"
           }
          ],
          "scatter3d": [
           {
            "line": {
             "colorbar": {
              "outlinewidth": 1,
              "tickcolor": "rgb(36,36,36)",
              "ticks": "outside"
             }
            },
            "marker": {
             "colorbar": {
              "outlinewidth": 1,
              "tickcolor": "rgb(36,36,36)",
              "ticks": "outside"
             }
            },
            "type": "scatter3d"
           }
          ],
          "scattercarpet": [
           {
            "marker": {
             "colorbar": {
              "outlinewidth": 1,
              "tickcolor": "rgb(36,36,36)",
              "ticks": "outside"
             }
            },
            "type": "scattercarpet"
           }
          ],
          "scattergeo": [
           {
            "marker": {
             "colorbar": {
              "outlinewidth": 1,
              "tickcolor": "rgb(36,36,36)",
              "ticks": "outside"
             }
            },
            "type": "scattergeo"
           }
          ],
          "scattergl": [
           {
            "marker": {
             "colorbar": {
              "outlinewidth": 1,
              "tickcolor": "rgb(36,36,36)",
              "ticks": "outside"
             }
            },
            "type": "scattergl"
           }
          ],
          "scattermapbox": [
           {
            "marker": {
             "colorbar": {
              "outlinewidth": 1,
              "tickcolor": "rgb(36,36,36)",
              "ticks": "outside"
             }
            },
            "type": "scattermapbox"
           }
          ],
          "scatterpolar": [
           {
            "marker": {
             "colorbar": {
              "outlinewidth": 1,
              "tickcolor": "rgb(36,36,36)",
              "ticks": "outside"
             }
            },
            "type": "scatterpolar"
           }
          ],
          "scatterpolargl": [
           {
            "marker": {
             "colorbar": {
              "outlinewidth": 1,
              "tickcolor": "rgb(36,36,36)",
              "ticks": "outside"
             }
            },
            "type": "scatterpolargl"
           }
          ],
          "scatterternary": [
           {
            "marker": {
             "colorbar": {
              "outlinewidth": 1,
              "tickcolor": "rgb(36,36,36)",
              "ticks": "outside"
             }
            },
            "type": "scatterternary"
           }
          ],
          "surface": [
           {
            "colorbar": {
             "outlinewidth": 1,
             "tickcolor": "rgb(36,36,36)",
             "ticks": "outside"
            },
            "colorscale": [
             [
              0,
              "#440154"
             ],
             [
              0.1111111111111111,
              "#482878"
             ],
             [
              0.2222222222222222,
              "#3e4989"
             ],
             [
              0.3333333333333333,
              "#31688e"
             ],
             [
              0.4444444444444444,
              "#26828e"
             ],
             [
              0.5555555555555556,
              "#1f9e89"
             ],
             [
              0.6666666666666666,
              "#35b779"
             ],
             [
              0.7777777777777778,
              "#6ece58"
             ],
             [
              0.8888888888888888,
              "#b5de2b"
             ],
             [
              1,
              "#fde725"
             ]
            ],
            "type": "surface"
           }
          ],
          "table": [
           {
            "cells": {
             "fill": {
              "color": "rgb(237,237,237)"
             },
             "line": {
              "color": "white"
             }
            },
            "header": {
             "fill": {
              "color": "rgb(217,217,217)"
             },
             "line": {
              "color": "white"
             }
            },
            "type": "table"
           }
          ]
         },
         "layout": {
          "annotationdefaults": {
           "arrowhead": 0,
           "arrowwidth": 1
          },
          "autotypenumbers": "strict",
          "coloraxis": {
           "colorbar": {
            "outlinewidth": 1,
            "tickcolor": "rgb(36,36,36)",
            "ticks": "outside"
           }
          },
          "colorscale": {
           "diverging": [
            [
             0,
             "rgb(103,0,31)"
            ],
            [
             0.1,
             "rgb(178,24,43)"
            ],
            [
             0.2,
             "rgb(214,96,77)"
            ],
            [
             0.3,
             "rgb(244,165,130)"
            ],
            [
             0.4,
             "rgb(253,219,199)"
            ],
            [
             0.5,
             "rgb(247,247,247)"
            ],
            [
             0.6,
             "rgb(209,229,240)"
            ],
            [
             0.7,
             "rgb(146,197,222)"
            ],
            [
             0.8,
             "rgb(67,147,195)"
            ],
            [
             0.9,
             "rgb(33,102,172)"
            ],
            [
             1,
             "rgb(5,48,97)"
            ]
           ],
           "sequential": [
            [
             0,
             "#440154"
            ],
            [
             0.1111111111111111,
             "#482878"
            ],
            [
             0.2222222222222222,
             "#3e4989"
            ],
            [
             0.3333333333333333,
             "#31688e"
            ],
            [
             0.4444444444444444,
             "#26828e"
            ],
            [
             0.5555555555555556,
             "#1f9e89"
            ],
            [
             0.6666666666666666,
             "#35b779"
            ],
            [
             0.7777777777777778,
             "#6ece58"
            ],
            [
             0.8888888888888888,
             "#b5de2b"
            ],
            [
             1,
             "#fde725"
            ]
           ],
           "sequentialminus": [
            [
             0,
             "#440154"
            ],
            [
             0.1111111111111111,
             "#482878"
            ],
            [
             0.2222222222222222,
             "#3e4989"
            ],
            [
             0.3333333333333333,
             "#31688e"
            ],
            [
             0.4444444444444444,
             "#26828e"
            ],
            [
             0.5555555555555556,
             "#1f9e89"
            ],
            [
             0.6666666666666666,
             "#35b779"
            ],
            [
             0.7777777777777778,
             "#6ece58"
            ],
            [
             0.8888888888888888,
             "#b5de2b"
            ],
            [
             1,
             "#fde725"
            ]
           ]
          },
          "colorway": [
           "#1F77B4",
           "#FF7F0E",
           "#2CA02C",
           "#D62728",
           "#9467BD",
           "#8C564B",
           "#E377C2",
           "#7F7F7F",
           "#BCBD22",
           "#17BECF"
          ],
          "font": {
           "color": "rgb(36,36,36)"
          },
          "geo": {
           "bgcolor": "white",
           "lakecolor": "white",
           "landcolor": "white",
           "showlakes": true,
           "showland": true,
           "subunitcolor": "white"
          },
          "hoverlabel": {
           "align": "left"
          },
          "hovermode": "closest",
          "mapbox": {
           "style": "light"
          },
          "paper_bgcolor": "white",
          "plot_bgcolor": "white",
          "polar": {
           "angularaxis": {
            "gridcolor": "rgb(232,232,232)",
            "linecolor": "rgb(36,36,36)",
            "showgrid": false,
            "showline": true,
            "ticks": "outside"
           },
           "bgcolor": "white",
           "radialaxis": {
            "gridcolor": "rgb(232,232,232)",
            "linecolor": "rgb(36,36,36)",
            "showgrid": false,
            "showline": true,
            "ticks": "outside"
           }
          },
          "scene": {
           "xaxis": {
            "backgroundcolor": "white",
            "gridcolor": "rgb(232,232,232)",
            "gridwidth": 2,
            "linecolor": "rgb(36,36,36)",
            "showbackground": true,
            "showgrid": false,
            "showline": true,
            "ticks": "outside",
            "zeroline": false,
            "zerolinecolor": "rgb(36,36,36)"
           },
           "yaxis": {
            "backgroundcolor": "white",
            "gridcolor": "rgb(232,232,232)",
            "gridwidth": 2,
            "linecolor": "rgb(36,36,36)",
            "showbackground": true,
            "showgrid": false,
            "showline": true,
            "ticks": "outside",
            "zeroline": false,
            "zerolinecolor": "rgb(36,36,36)"
           },
           "zaxis": {
            "backgroundcolor": "white",
            "gridcolor": "rgb(232,232,232)",
            "gridwidth": 2,
            "linecolor": "rgb(36,36,36)",
            "showbackground": true,
            "showgrid": false,
            "showline": true,
            "ticks": "outside",
            "zeroline": false,
            "zerolinecolor": "rgb(36,36,36)"
           }
          },
          "shapedefaults": {
           "fillcolor": "black",
           "line": {
            "width": 0
           },
           "opacity": 0.3
          },
          "ternary": {
           "aaxis": {
            "gridcolor": "rgb(232,232,232)",
            "linecolor": "rgb(36,36,36)",
            "showgrid": false,
            "showline": true,
            "ticks": "outside"
           },
           "baxis": {
            "gridcolor": "rgb(232,232,232)",
            "linecolor": "rgb(36,36,36)",
            "showgrid": false,
            "showline": true,
            "ticks": "outside"
           },
           "bgcolor": "white",
           "caxis": {
            "gridcolor": "rgb(232,232,232)",
            "linecolor": "rgb(36,36,36)",
            "showgrid": false,
            "showline": true,
            "ticks": "outside"
           }
          },
          "title": {
           "x": 0.05
          },
          "xaxis": {
           "automargin": true,
           "gridcolor": "rgb(232,232,232)",
           "linecolor": "rgb(36,36,36)",
           "showgrid": false,
           "showline": true,
           "ticks": "outside",
           "title": {
            "standoff": 15
           },
           "zeroline": false,
           "zerolinecolor": "rgb(36,36,36)"
          },
          "yaxis": {
           "automargin": true,
           "gridcolor": "rgb(232,232,232)",
           "linecolor": "rgb(36,36,36)",
           "showgrid": false,
           "showline": true,
           "ticks": "outside",
           "title": {
            "standoff": 15
           },
           "zeroline": false,
           "zerolinecolor": "rgb(36,36,36)"
          }
         }
        },
        "xaxis": {
         "anchor": "y",
         "domain": [
          0,
          1
         ],
         "title": {
          "text": "mean_size_house"
         }
        },
        "yaxis": {
         "anchor": "x",
         "domain": [
          0,
          1
         ],
         "title": {
          "text": "mean_wage"
         }
        }
       }
      },
      "text/html": [
       "<div>                            <div id=\"8e24921f-588d-4c8b-a192-87dd4b86dada\" class=\"plotly-graph-div\" style=\"height:525px; width:100%;\"></div>            <script type=\"text/javascript\">                require([\"plotly\"], function(Plotly) {                    window.PLOTLYENV=window.PLOTLYENV || {};                                    if (document.getElementById(\"8e24921f-588d-4c8b-a192-87dd4b86dada\")) {                    Plotly.newPlot(                        \"8e24921f-588d-4c8b-a192-87dd4b86dada\",                        [{\"hovertemplate\":\"<b>%{hovertext}</b><br><br>\\u0433\\u043e\\u0440\\u043e\\u0434=\\u0410\\u043d\\u0430\\u0434\\u044b\\u0440\\u044c<br>mean_size_house=%{x}<br>mean_wage=%{y}<extra></extra>\",\"hovertext\":[\"\\u0410\\u043d\\u0430\\u0434\\u044b\\u0440\\u044c\"],\"legendgroup\":\"\\u0410\\u043d\\u0430\\u0434\\u044b\\u0440\\u044c\",\"marker\":{\"color\":\"#1F77B4\",\"symbol\":\"circle\"},\"mode\":\"markers\",\"name\":\"\\u0410\\u043d\\u0430\\u0434\\u044b\\u0440\\u044c\",\"orientation\":\"v\",\"showlegend\":true,\"x\":[18.4],\"xaxis\":\"x\",\"y\":[107061.8],\"yaxis\":\"y\",\"type\":\"scatter\"},{\"hovertemplate\":\"<b>%{hovertext}</b><br><br>\\u0433\\u043e\\u0440\\u043e\\u0434=\\u0421\\u0430\\u043b\\u0435\\u0445\\u0430\\u0440\\u0434<br>mean_size_house=%{x}<br>mean_wage=%{y}<extra></extra>\",\"hovertext\":[\"\\u0421\\u0430\\u043b\\u0435\\u0445\\u0430\\u0440\\u0434\"],\"legendgroup\":\"\\u0421\\u0430\\u043b\\u0435\\u0445\\u0430\\u0440\\u0434\",\"marker\":{\"color\":\"#FF7F0E\",\"symbol\":\"circle\"},\"mode\":\"markers\",\"name\":\"\\u0421\\u0430\\u043b\\u0435\\u0445\\u0430\\u0440\\u0434\",\"orientation\":\"v\",\"showlegend\":true,\"x\":[24.1],\"xaxis\":\"x\",\"y\":[95496.0],\"yaxis\":\"y\",\"type\":\"scatter\"},{\"hovertemplate\":\"<b>%{hovertext}</b><br><br>\\u0433\\u043e\\u0440\\u043e\\u0434=\\u042e\\u0436\\u043d\\u043e-\\u0421\\u0430\\u0445\\u0430\\u043b\\u0438\\u043d\\u0441\\u043a<br>mean_size_house=%{x}<br>mean_wage=%{y}<extra></extra>\",\"hovertext\":[\"\\u042e\\u0436\\u043d\\u043e-\\u0421\\u0430\\u0445\\u0430\\u043b\\u0438\\u043d\\u0441\\u043a\"],\"legendgroup\":\"\\u042e\\u0436\\u043d\\u043e-\\u0421\\u0430\\u0445\\u0430\\u043b\\u0438\\u043d\\u0441\\u043a\",\"marker\":{\"color\":\"#2CA02C\",\"symbol\":\"circle\"},\"mode\":\"markers\",\"name\":\"\\u042e\\u0436\\u043d\\u043e-\\u0421\\u0430\\u0445\\u0430\\u043b\\u0438\\u043d\\u0441\\u043a\",\"orientation\":\"v\",\"showlegend\":true,\"x\":[23.3],\"xaxis\":\"x\",\"y\":[88147.74],\"yaxis\":\"y\",\"type\":\"scatter\"},{\"hovertemplate\":\"<b>%{hovertext}</b><br><br>\\u0433\\u043e\\u0440\\u043e\\u0434=\\u041c\\u0430\\u0433\\u0430\\u0434\\u0430\\u043d<br>mean_size_house=%{x}<br>mean_wage=%{y}<extra></extra>\",\"hovertext\":[\"\\u041c\\u0430\\u0433\\u0430\\u0434\\u0430\\u043d\"],\"legendgroup\":\"\\u041c\\u0430\\u0433\\u0430\\u0434\\u0430\\u043d\",\"marker\":{\"color\":\"#D62728\",\"symbol\":\"circle\"},\"mode\":\"markers\",\"name\":\"\\u041c\\u0430\\u0433\\u0430\\u0434\\u0430\\u043d\",\"orientation\":\"v\",\"showlegend\":true,\"x\":[24.9],\"xaxis\":\"x\",\"y\":[79539.3],\"yaxis\":\"y\",\"type\":\"scatter\"},{\"hovertemplate\":\"<b>%{hovertext}</b><br><br>\\u0433\\u043e\\u0440\\u043e\\u0434=\\u041f\\u0435\\u0442\\u0440\\u043e\\u043f\\u0430\\u0432\\u043b\\u043e\\u0432\\u0441\\u043a-\\u041a\\u0430\\u043c\\u0447\\u0430\\u0442\\u0441\\u043a\\u0438\\u0439<br>mean_size_house=%{x}<br>mean_wage=%{y}<extra></extra>\",\"hovertext\":[\"\\u041f\\u0435\\u0442\\u0440\\u043e\\u043f\\u0430\\u0432\\u043b\\u043e\\u0432\\u0441\\u043a-\\u041a\\u0430\\u043c\\u0447\\u0430\\u0442\\u0441\\u043a\\u0438\\u0439\"],\"legendgroup\":\"\\u041f\\u0435\\u0442\\u0440\\u043e\\u043f\\u0430\\u0432\\u043b\\u043e\\u0432\\u0441\\u043a-\\u041a\\u0430\\u043c\\u0447\\u0430\\u0442\\u0441\\u043a\\u0438\\u0439\",\"marker\":{\"color\":\"#9467BD\",\"symbol\":\"circle\"},\"mode\":\"markers\",\"name\":\"\\u041f\\u0435\\u0442\\u0440\\u043e\\u043f\\u0430\\u0432\\u043b\\u043e\\u0432\\u0441\\u043a-\\u041a\\u0430\\u043c\\u0447\\u0430\\u0442\\u0441\\u043a\\u0438\\u0439\",\"orientation\":\"v\",\"showlegend\":true,\"x\":[25.2],\"xaxis\":\"x\",\"y\":[76525.4],\"yaxis\":\"y\",\"type\":\"scatter\"},{\"hovertemplate\":\"<b>%{hovertext}</b><br><br>\\u0433\\u043e\\u0440\\u043e\\u0434=\\u0425\\u0430\\u043d\\u0442\\u044b-\\u041c\\u0430\\u043d\\u0441\\u0438\\u0439\\u0441\\u043a<br>mean_size_house=%{x}<br>mean_wage=%{y}<extra></extra>\",\"hovertext\":[\"\\u0425\\u0430\\u043d\\u0442\\u044b-\\u041c\\u0430\\u043d\\u0441\\u0438\\u0439\\u0441\\u043a\"],\"legendgroup\":\"\\u0425\\u0430\\u043d\\u0442\\u044b-\\u041c\\u0430\\u043d\\u0441\\u0438\\u0439\\u0441\\u043a\",\"marker\":{\"color\":\"#8C564B\",\"symbol\":\"circle\"},\"mode\":\"markers\",\"name\":\"\\u0425\\u0430\\u043d\\u0442\\u044b-\\u041c\\u0430\\u043d\\u0441\\u0438\\u0439\\u0441\\u043a\",\"orientation\":\"v\",\"showlegend\":true,\"x\":[25.3],\"xaxis\":\"x\",\"y\":[72093.6],\"yaxis\":\"y\",\"type\":\"scatter\"},{\"hovertemplate\":\"<b>%{hovertext}</b><br><br>\\u0433\\u043e\\u0440\\u043e\\u0434=\\u041d\\u0430\\u0440\\u044c\\u044f\\u043d-\\u041c\\u0430\\u0440<br>mean_size_house=%{x}<br>mean_wage=%{y}<extra></extra>\",\"hovertext\":[\"\\u041d\\u0430\\u0440\\u044c\\u044f\\u043d-\\u041c\\u0430\\u0440\"],\"legendgroup\":\"\\u041d\\u0430\\u0440\\u044c\\u044f\\u043d-\\u041c\\u0430\\u0440\",\"marker\":{\"color\":\"#E377C2\",\"symbol\":\"circle\"},\"mode\":\"markers\",\"name\":\"\\u041d\\u0430\\u0440\\u044c\\u044f\\u043d-\\u041c\\u0430\\u0440\",\"orientation\":\"v\",\"showlegend\":true,\"x\":[24.9],\"xaxis\":\"x\",\"y\":[70421.9],\"yaxis\":\"y\",\"type\":\"scatter\"},{\"hovertemplate\":\"<b>%{hovertext}</b><br><br>\\u0433\\u043e\\u0440\\u043e\\u0434=\\u042f\\u043a\\u0443\\u0442\\u0441\\u043a<br>mean_size_house=%{x}<br>mean_wage=%{y}<extra></extra>\",\"hovertext\":[\"\\u042f\\u043a\\u0443\\u0442\\u0441\\u043a\"],\"legendgroup\":\"\\u042f\\u043a\\u0443\\u0442\\u0441\\u043a\",\"marker\":{\"color\":\"#7F7F7F\",\"symbol\":\"circle\"},\"mode\":\"markers\",\"name\":\"\\u042f\\u043a\\u0443\\u0442\\u0441\\u043a\",\"orientation\":\"v\",\"showlegend\":true,\"x\":[19.1],\"xaxis\":\"x\",\"y\":[64801.3],\"yaxis\":\"y\",\"type\":\"scatter\"},{\"hovertemplate\":\"<b>%{hovertext}</b><br><br>\\u0433\\u043e\\u0440\\u043e\\u0434=\\u041c\\u0443\\u0440\\u043c\\u0430\\u043d\\u0441\\u043a<br>mean_size_house=%{x}<br>mean_wage=%{y}<extra></extra>\",\"hovertext\":[\"\\u041c\\u0443\\u0440\\u043c\\u0430\\u043d\\u0441\\u043a\"],\"legendgroup\":\"\\u041c\\u0443\\u0440\\u043c\\u0430\\u043d\\u0441\\u043a\",\"marker\":{\"color\":\"#BCBD22\",\"symbol\":\"circle\"},\"mode\":\"markers\",\"name\":\"\\u041c\\u0443\\u0440\\u043c\\u0430\\u043d\\u0441\\u043a\",\"orientation\":\"v\",\"showlegend\":true,\"x\":[23.8],\"xaxis\":\"x\",\"y\":[61261.6],\"yaxis\":\"y\",\"type\":\"scatter\"},{\"hovertemplate\":\"<b>%{hovertext}</b><br><br>\\u0433\\u043e\\u0440\\u043e\\u0434=\\u0422\\u044e\\u043c\\u0435\\u043d\\u044c<br>mean_size_house=%{x}<br>mean_wage=%{y}<extra></extra>\",\"hovertext\":[\"\\u0422\\u044e\\u043c\\u0435\\u043d\\u044c\"],\"legendgroup\":\"\\u0422\\u044e\\u043c\\u0435\\u043d\\u044c\",\"marker\":{\"color\":\"#17BECF\",\"symbol\":\"circle\"},\"mode\":\"markers\",\"name\":\"\\u0422\\u044e\\u043c\\u0435\\u043d\\u044c\",\"orientation\":\"v\",\"showlegend\":true,\"x\":[29.3],\"xaxis\":\"x\",\"y\":[53830.5],\"yaxis\":\"y\",\"type\":\"scatter\"},{\"hovertemplate\":\"<b>%{hovertext}</b><br><br>\\u0433\\u043e\\u0440\\u043e\\u0434=\\u0425\\u0430\\u0431\\u0430\\u0440\\u043e\\u0432\\u0441\\u043a<br>mean_size_house=%{x}<br>mean_wage=%{y}<extra></extra>\",\"hovertext\":[\"\\u0425\\u0430\\u0431\\u0430\\u0440\\u043e\\u0432\\u0441\\u043a\"],\"legendgroup\":\"\\u0425\\u0430\\u0431\\u0430\\u0440\\u043e\\u0432\\u0441\\u043a\",\"marker\":{\"color\":\"#1F77B4\",\"symbol\":\"circle\"},\"mode\":\"markers\",\"name\":\"\\u0425\\u0430\\u0431\\u0430\\u0440\\u043e\\u0432\\u0441\\u043a\",\"orientation\":\"v\",\"showlegend\":true,\"x\":[23.0],\"xaxis\":\"x\",\"y\":[52986.9],\"yaxis\":\"y\",\"type\":\"scatter\"},{\"hovertemplate\":\"<b>%{hovertext}</b><br><br>\\u0433\\u043e\\u0440\\u043e\\u0434=\\u0412\\u043b\\u0430\\u0434\\u0438\\u0432\\u043e\\u0441\\u0442\\u043e\\u043a<br>mean_size_house=%{x}<br>mean_wage=%{y}<extra></extra>\",\"hovertext\":[\"\\u0412\\u043b\\u0430\\u0434\\u0438\\u0432\\u043e\\u0441\\u0442\\u043e\\u043a\"],\"legendgroup\":\"\\u0412\\u043b\\u0430\\u0434\\u0438\\u0432\\u043e\\u0441\\u0442\\u043e\\u043a\",\"marker\":{\"color\":\"#FF7F0E\",\"symbol\":\"circle\"},\"mode\":\"markers\",\"name\":\"\\u0412\\u043b\\u0430\\u0434\\u0438\\u0432\\u043e\\u0441\\u0442\\u043e\\u043a\",\"orientation\":\"v\",\"showlegend\":true,\"x\":[21.9],\"xaxis\":\"x\",\"y\":[51830.5],\"yaxis\":\"y\",\"type\":\"scatter\"},{\"hovertemplate\":\"<b>%{hovertext}</b><br><br>\\u0433\\u043e\\u0440\\u043e\\u0434=\\u0415\\u043a\\u0430\\u0442\\u0435\\u0440\\u0438\\u043d\\u0431\\u0443\\u0440\\u0433<br>mean_size_house=%{x}<br>mean_wage=%{y}<extra></extra>\",\"hovertext\":[\"\\u0415\\u043a\\u0430\\u0442\\u0435\\u0440\\u0438\\u043d\\u0431\\u0443\\u0440\\u0433\"],\"legendgroup\":\"\\u0415\\u043a\\u0430\\u0442\\u0435\\u0440\\u0438\\u043d\\u0431\\u0443\\u0440\\u0433\",\"marker\":{\"color\":\"#2CA02C\",\"symbol\":\"circle\"},\"mode\":\"markers\",\"name\":\"\\u0415\\u043a\\u0430\\u0442\\u0435\\u0440\\u0438\\u043d\\u0431\\u0443\\u0440\\u0433\",\"orientation\":\"v\",\"showlegend\":true,\"x\":[25.0],\"xaxis\":\"x\",\"y\":[47265.6],\"yaxis\":\"y\",\"type\":\"scatter\"},{\"hovertemplate\":\"<b>%{hovertext}</b><br><br>\\u0433\\u043e\\u0440\\u043e\\u0434=\\u0418\\u0440\\u043a\\u0443\\u0442\\u0441\\u043a<br>mean_size_house=%{x}<br>mean_wage=%{y}<extra></extra>\",\"hovertext\":[\"\\u0418\\u0440\\u043a\\u0443\\u0442\\u0441\\u043a\"],\"legendgroup\":\"\\u0418\\u0440\\u043a\\u0443\\u0442\\u0441\\u043a\",\"marker\":{\"color\":\"#D62728\",\"symbol\":\"circle\"},\"mode\":\"markers\",\"name\":\"\\u0418\\u0440\\u043a\\u0443\\u0442\\u0441\\u043a\",\"orientation\":\"v\",\"showlegend\":true,\"x\":[27.7],\"xaxis\":\"x\",\"y\":[46980.0],\"yaxis\":\"y\",\"type\":\"scatter\"},{\"hovertemplate\":\"<b>%{hovertext}</b><br><br>\\u0433\\u043e\\u0440\\u043e\\u0434=\\u0410\\u0440\\u0445\\u0430\\u043d\\u0433\\u0435\\u043b\\u044c\\u0441\\u043a<br>mean_size_house=%{x}<br>mean_wage=%{y}<extra></extra>\",\"hovertext\":[\"\\u0410\\u0440\\u0445\\u0430\\u043d\\u0433\\u0435\\u043b\\u044c\\u0441\\u043a\"],\"legendgroup\":\"\\u0410\\u0440\\u0445\\u0430\\u043d\\u0433\\u0435\\u043b\\u044c\\u0441\\u043a\",\"marker\":{\"color\":\"#9467BD\",\"symbol\":\"circle\"},\"mode\":\"markers\",\"name\":\"\\u0410\\u0440\\u0445\\u0430\\u043d\\u0433\\u0435\\u043b\\u044c\\u0441\\u043a\",\"orientation\":\"v\",\"showlegend\":true,\"x\":[23.3],\"xaxis\":\"x\",\"y\":[45097.7],\"yaxis\":\"y\",\"type\":\"scatter\"},{\"hovertemplate\":\"<b>%{hovertext}</b><br><br>\\u0433\\u043e\\u0440\\u043e\\u0434=\\u041a\\u0440\\u0430\\u0441\\u043d\\u043e\\u044f\\u0440\\u0441\\u043a<br>mean_size_house=%{x}<br>mean_wage=%{y}<extra></extra>\",\"hovertext\":[\"\\u041a\\u0440\\u0430\\u0441\\u043d\\u043e\\u044f\\u0440\\u0441\\u043a\"],\"legendgroup\":\"\\u041a\\u0440\\u0430\\u0441\\u043d\\u043e\\u044f\\u0440\\u0441\\u043a\",\"marker\":{\"color\":\"#8C564B\",\"symbol\":\"circle\"},\"mode\":\"markers\",\"name\":\"\\u041a\\u0440\\u0430\\u0441\\u043d\\u043e\\u044f\\u0440\\u0441\\u043a\",\"orientation\":\"v\",\"showlegend\":true,\"x\":[24.1],\"xaxis\":\"x\",\"y\":[44384.3],\"yaxis\":\"y\",\"type\":\"scatter\"},{\"hovertemplate\":\"<b>%{hovertext}</b><br><br>\\u0433\\u043e\\u0440\\u043e\\u0434=\\u0421\\u044b\\u043a\\u0442\\u044b\\u0432\\u043a\\u0430\\u0440<br>mean_size_house=%{x}<br>mean_wage=%{y}<extra></extra>\",\"hovertext\":[\"\\u0421\\u044b\\u043a\\u0442\\u044b\\u0432\\u043a\\u0430\\u0440\"],\"legendgroup\":\"\\u0421\\u044b\\u043a\\u0442\\u044b\\u0432\\u043a\\u0430\\u0440\",\"marker\":{\"color\":\"#E377C2\",\"symbol\":\"circle\"},\"mode\":\"markers\",\"name\":\"\\u0421\\u044b\\u043a\\u0442\\u044b\\u0432\\u043a\\u0430\\u0440\",\"orientation\":\"v\",\"showlegend\":true,\"x\":[23.7],\"xaxis\":\"x\",\"y\":[44181.4],\"yaxis\":\"y\",\"type\":\"scatter\"},{\"hovertemplate\":\"<b>%{hovertext}</b><br><br>\\u0433\\u043e\\u0440\\u043e\\u0434=\\u0422\\u043e\\u043c\\u0441\\u043a<br>mean_size_house=%{x}<br>mean_wage=%{y}<extra></extra>\",\"hovertext\":[\"\\u0422\\u043e\\u043c\\u0441\\u043a\"],\"legendgroup\":\"\\u0422\\u043e\\u043c\\u0441\\u043a\",\"marker\":{\"color\":\"#7F7F7F\",\"symbol\":\"circle\"},\"mode\":\"markers\",\"name\":\"\\u0422\\u043e\\u043c\\u0441\\u043a\",\"orientation\":\"v\",\"showlegend\":true,\"x\":[23.1],\"xaxis\":\"x\",\"y\":[43410.8],\"yaxis\":\"y\",\"type\":\"scatter\"},{\"hovertemplate\":\"<b>%{hovertext}</b><br><br>\\u0433\\u043e\\u0440\\u043e\\u0434=\\u041d\\u0438\\u0436\\u043d\\u0438\\u0439 \\u041d\\u043e\\u0432\\u0433\\u043e\\u0440\\u043e\\u0434<br>mean_size_house=%{x}<br>mean_wage=%{y}<extra></extra>\",\"hovertext\":[\"\\u041d\\u0438\\u0436\\u043d\\u0438\\u0439 \\u041d\\u043e\\u0432\\u0433\\u043e\\u0440\\u043e\\u0434\"],\"legendgroup\":\"\\u041d\\u0438\\u0436\\u043d\\u0438\\u0439 \\u041d\\u043e\\u0432\\u0433\\u043e\\u0440\\u043e\\u0434\",\"marker\":{\"color\":\"#BCBD22\",\"symbol\":\"circle\"},\"mode\":\"markers\",\"name\":\"\\u041d\\u0438\\u0436\\u043d\\u0438\\u0439 \\u041d\\u043e\\u0432\\u0433\\u043e\\u0440\\u043e\\u0434\",\"orientation\":\"v\",\"showlegend\":true,\"x\":[24.8],\"xaxis\":\"x\",\"y\":[42469.5],\"yaxis\":\"y\",\"type\":\"scatter\"},{\"hovertemplate\":\"<b>%{hovertext}</b><br><br>\\u0433\\u043e\\u0440\\u043e\\u0434=\\u0423\\u0444\\u0430<br>mean_size_house=%{x}<br>mean_wage=%{y}<extra></extra>\",\"hovertext\":[\"\\u0423\\u0444\\u0430\"],\"legendgroup\":\"\\u0423\\u0444\\u0430\",\"marker\":{\"color\":\"#17BECF\",\"symbol\":\"circle\"},\"mode\":\"markers\",\"name\":\"\\u0423\\u0444\\u0430\",\"orientation\":\"v\",\"showlegend\":true,\"x\":[23.6],\"xaxis\":\"x\",\"y\":[42312.8],\"yaxis\":\"y\",\"type\":\"scatter\"},{\"hovertemplate\":\"<b>%{hovertext}</b><br><br>\\u0433\\u043e\\u0440\\u043e\\u0434=\\u0427\\u0438\\u0442\\u0430<br>mean_size_house=%{x}<br>mean_wage=%{y}<extra></extra>\",\"hovertext\":[\"\\u0427\\u0438\\u0442\\u0430\"],\"legendgroup\":\"\\u0427\\u0438\\u0442\\u0430\",\"marker\":{\"color\":\"#1F77B4\",\"symbol\":\"circle\"},\"mode\":\"markers\",\"name\":\"\\u0427\\u0438\\u0442\\u0430\",\"orientation\":\"v\",\"showlegend\":true,\"x\":[21.0],\"xaxis\":\"x\",\"y\":[42204.2],\"yaxis\":\"y\",\"type\":\"scatter\"},{\"hovertemplate\":\"<b>%{hovertext}</b><br><br>\\u0433\\u043e\\u0440\\u043e\\u0434=\\u041a\\u0440\\u0430\\u0441\\u043d\\u043e\\u0434\\u0430\\u0440<br>mean_size_house=%{x}<br>mean_wage=%{y}<extra></extra>\",\"hovertext\":[\"\\u041a\\u0440\\u0430\\u0441\\u043d\\u043e\\u0434\\u0430\\u0440\"],\"legendgroup\":\"\\u041a\\u0440\\u0430\\u0441\\u043d\\u043e\\u0434\\u0430\\u0440\",\"marker\":{\"color\":\"#FF7F0E\",\"symbol\":\"circle\"},\"mode\":\"markers\",\"name\":\"\\u041a\\u0440\\u0430\\u0441\\u043d\\u043e\\u0434\\u0430\\u0440\",\"orientation\":\"v\",\"showlegend\":true,\"x\":[34.2],\"xaxis\":\"x\",\"y\":[42028.7],\"yaxis\":\"y\",\"type\":\"scatter\"},{\"hovertemplate\":\"<b>%{hovertext}</b><br><br>\\u0433\\u043e\\u0440\\u043e\\u0434=\\u041d\\u043e\\u0432\\u043e\\u0441\\u0438\\u0431\\u0438\\u0440\\u0441\\u043a<br>mean_size_house=%{x}<br>mean_wage=%{y}<extra></extra>\",\"hovertext\":[\"\\u041d\\u043e\\u0432\\u043e\\u0441\\u0438\\u0431\\u0438\\u0440\\u0441\\u043a\"],\"legendgroup\":\"\\u041d\\u043e\\u0432\\u043e\\u0441\\u0438\\u0431\\u0438\\u0440\\u0441\\u043a\",\"marker\":{\"color\":\"#2CA02C\",\"symbol\":\"circle\"},\"mode\":\"markers\",\"name\":\"\\u041d\\u043e\\u0432\\u043e\\u0441\\u0438\\u0431\\u0438\\u0440\\u0441\\u043a\",\"orientation\":\"v\",\"showlegend\":true,\"x\":[25.1],\"xaxis\":\"x\",\"y\":[41884.0],\"yaxis\":\"y\",\"type\":\"scatter\"},{\"hovertemplate\":\"<b>%{hovertext}</b><br><br>\\u0433\\u043e\\u0440\\u043e\\u0434=\\u0411\\u043b\\u0430\\u0433\\u043e\\u0432\\u0435\\u0449\\u0435\\u043d\\u0441\\u043a<br>mean_size_house=%{x}<br>mean_wage=%{y}<extra></extra>\",\"hovertext\":[\"\\u0411\\u043b\\u0430\\u0433\\u043e\\u0432\\u0435\\u0449\\u0435\\u043d\\u0441\\u043a\"],\"legendgroup\":\"\\u0411\\u043b\\u0430\\u0433\\u043e\\u0432\\u0435\\u0449\\u0435\\u043d\\u0441\\u043a\",\"marker\":{\"color\":\"#D62728\",\"symbol\":\"circle\"},\"mode\":\"markers\",\"name\":\"\\u0411\\u043b\\u0430\\u0433\\u043e\\u0432\\u0435\\u0449\\u0435\\u043d\\u0441\\u043a\",\"orientation\":\"v\",\"showlegend\":true,\"x\":[25.2],\"xaxis\":\"x\",\"y\":[41808.1],\"yaxis\":\"y\",\"type\":\"scatter\"},{\"hovertemplate\":\"<b>%{hovertext}</b><br><br>\\u0433\\u043e\\u0440\\u043e\\u0434=\\u041a\\u044b\\u0437\\u044b\\u043b<br>mean_size_house=%{x}<br>mean_wage=%{y}<extra></extra>\",\"hovertext\":[\"\\u041a\\u044b\\u0437\\u044b\\u043b\"],\"legendgroup\":\"\\u041a\\u044b\\u0437\\u044b\\u043b\",\"marker\":{\"color\":\"#9467BD\",\"symbol\":\"circle\"},\"mode\":\"markers\",\"name\":\"\\u041a\\u044b\\u0437\\u044b\\u043b\",\"orientation\":\"v\",\"showlegend\":true,\"x\":[15.4],\"xaxis\":\"x\",\"y\":[41383.0],\"yaxis\":\"y\",\"type\":\"scatter\"},{\"hovertemplate\":\"<b>%{hovertext}</b><br><br>\\u0433\\u043e\\u0440\\u043e\\u0434=\\u041f\\u0435\\u0440\\u043c\\u044c<br>mean_size_house=%{x}<br>mean_wage=%{y}<extra></extra>\",\"hovertext\":[\"\\u041f\\u0435\\u0440\\u043c\\u044c\"],\"legendgroup\":\"\\u041f\\u0435\\u0440\\u043c\\u044c\",\"marker\":{\"color\":\"#8C564B\",\"symbol\":\"circle\"},\"mode\":\"markers\",\"name\":\"\\u041f\\u0435\\u0440\\u043c\\u044c\",\"orientation\":\"v\",\"showlegend\":true,\"x\":[23.5],\"xaxis\":\"x\",\"y\":[41325.9],\"yaxis\":\"y\",\"type\":\"scatter\"},{\"hovertemplate\":\"<b>%{hovertext}</b><br><br>\\u0433\\u043e\\u0440\\u043e\\u0434=\\u041f\\u0435\\u0442\\u0440\\u043e\\u0437\\u0430\\u0432\\u043e\\u0434\\u0441\\u043a<br>mean_size_house=%{x}<br>mean_wage=%{y}<extra></extra>\",\"hovertext\":[\"\\u041f\\u0435\\u0442\\u0440\\u043e\\u0437\\u0430\\u0432\\u043e\\u0434\\u0441\\u043a\"],\"legendgroup\":\"\\u041f\\u0435\\u0442\\u0440\\u043e\\u0437\\u0430\\u0432\\u043e\\u0434\\u0441\\u043a\",\"marker\":{\"color\":\"#E377C2\",\"symbol\":\"circle\"},\"mode\":\"markers\",\"name\":\"\\u041f\\u0435\\u0442\\u0440\\u043e\\u0437\\u0430\\u0432\\u043e\\u0434\\u0441\\u043a\",\"orientation\":\"v\",\"showlegend\":true,\"x\":[25.4],\"xaxis\":\"x\",\"y\":[41234.4],\"yaxis\":\"y\",\"type\":\"scatter\"},{\"hovertemplate\":\"<b>%{hovertext}</b><br><br>\\u0433\\u043e\\u0440\\u043e\\u0434=\\u0410\\u0431\\u0430\\u043a\\u0430\\u043d<br>mean_size_house=%{x}<br>mean_wage=%{y}<extra></extra>\",\"hovertext\":[\"\\u0410\\u0431\\u0430\\u043a\\u0430\\u043d\"],\"legendgroup\":\"\\u0410\\u0431\\u0430\\u043a\\u0430\\u043d\",\"marker\":{\"color\":\"#7F7F7F\",\"symbol\":\"circle\"},\"mode\":\"markers\",\"name\":\"\\u0410\\u0431\\u0430\\u043a\\u0430\\u043d\",\"orientation\":\"v\",\"showlegend\":true,\"x\":[24.1],\"xaxis\":\"x\",\"y\":[41203.1],\"yaxis\":\"y\",\"type\":\"scatter\"},{\"hovertemplate\":\"<b>%{hovertext}</b><br><br>\\u0433\\u043e\\u0440\\u043e\\u0434=\\u041a\\u0430\\u0437\\u0430\\u043d\\u044c<br>mean_size_house=%{x}<br>mean_wage=%{y}<extra></extra>\",\"hovertext\":[\"\\u041a\\u0430\\u0437\\u0430\\u043d\\u044c\"],\"legendgroup\":\"\\u041a\\u0430\\u0437\\u0430\\u043d\\u044c\",\"marker\":{\"color\":\"#BCBD22\",\"symbol\":\"circle\"},\"mode\":\"markers\",\"name\":\"\\u041a\\u0430\\u0437\\u0430\\u043d\\u044c\",\"orientation\":\"v\",\"showlegend\":true,\"x\":[25.3],\"xaxis\":\"x\",\"y\":[41020.8],\"yaxis\":\"y\",\"type\":\"scatter\"},{\"hovertemplate\":\"<b>%{hovertext}</b><br><br>\\u0433\\u043e\\u0440\\u043e\\u0434=\\u0420\\u043e\\u0441\\u0442\\u043e\\u0432-\\u043d\\u0430-\\u0414\\u043e\\u043d\\u0443<br>mean_size_house=%{x}<br>mean_wage=%{y}<extra></extra>\",\"hovertext\":[\"\\u0420\\u043e\\u0441\\u0442\\u043e\\u0432-\\u043d\\u0430-\\u0414\\u043e\\u043d\\u0443\"],\"legendgroup\":\"\\u0420\\u043e\\u0441\\u0442\\u043e\\u0432-\\u043d\\u0430-\\u0414\\u043e\\u043d\\u0443\",\"marker\":{\"color\":\"#17BECF\",\"symbol\":\"circle\"},\"mode\":\"markers\",\"name\":\"\\u0420\\u043e\\u0441\\u0442\\u043e\\u0432-\\u043d\\u0430-\\u0414\\u043e\\u043d\\u0443\",\"orientation\":\"v\",\"showlegend\":true,\"x\":[26.9],\"xaxis\":\"x\",\"y\":[40556.7],\"yaxis\":\"y\",\"type\":\"scatter\"},{\"hovertemplate\":\"<b>%{hovertext}</b><br><br>\\u0433\\u043e\\u0440\\u043e\\u0434=\\u041a\\u0430\\u043b\\u0443\\u0433\\u0430<br>mean_size_house=%{x}<br>mean_wage=%{y}<extra></extra>\",\"hovertext\":[\"\\u041a\\u0430\\u043b\\u0443\\u0433\\u0430\"],\"legendgroup\":\"\\u041a\\u0430\\u043b\\u0443\\u0433\\u0430\",\"marker\":{\"color\":\"#1F77B4\",\"symbol\":\"circle\"},\"mode\":\"markers\",\"name\":\"\\u041a\\u0430\\u043b\\u0443\\u0433\\u0430\",\"orientation\":\"v\",\"showlegend\":true,\"x\":[25.3],\"xaxis\":\"x\",\"y\":[39653.2],\"yaxis\":\"y\",\"type\":\"scatter\"},{\"hovertemplate\":\"<b>%{hovertext}</b><br><br>\\u0433\\u043e\\u0440\\u043e\\u0434=\\u041a\\u0435\\u043c\\u0435\\u0440\\u043e\\u0432\\u043e<br>mean_size_house=%{x}<br>mean_wage=%{y}<extra></extra>\",\"hovertext\":[\"\\u041a\\u0435\\u043c\\u0435\\u0440\\u043e\\u0432\\u043e\"],\"legendgroup\":\"\\u041a\\u0435\\u043c\\u0435\\u0440\\u043e\\u0432\\u043e\",\"marker\":{\"color\":\"#FF7F0E\",\"symbol\":\"circle\"},\"mode\":\"markers\",\"name\":\"\\u041a\\u0435\\u043c\\u0435\\u0440\\u043e\\u0432\\u043e\",\"orientation\":\"v\",\"showlegend\":true,\"x\":[23.2],\"xaxis\":\"x\",\"y\":[39317.8],\"yaxis\":\"y\",\"type\":\"scatter\"},{\"hovertemplate\":\"<b>%{hovertext}</b><br><br>\\u0433\\u043e\\u0440\\u043e\\u0434=\\u0421\\u0430\\u043c\\u0430\\u0440\\u0430<br>mean_size_house=%{x}<br>mean_wage=%{y}<extra></extra>\",\"hovertext\":[\"\\u0421\\u0430\\u043c\\u0430\\u0440\\u0430\"],\"legendgroup\":\"\\u0421\\u0430\\u043c\\u0430\\u0440\\u0430\",\"marker\":{\"color\":\"#2CA02C\",\"symbol\":\"circle\"},\"mode\":\"markers\",\"name\":\"\\u0421\\u0430\\u043c\\u0430\\u0440\\u0430\",\"orientation\":\"v\",\"showlegend\":true,\"x\":[28.1],\"xaxis\":\"x\",\"y\":[39298.9],\"yaxis\":\"y\",\"type\":\"scatter\"},{\"hovertemplate\":\"<b>%{hovertext}</b><br><br>\\u0433\\u043e\\u0440\\u043e\\u0434=\\u0422\\u0443\\u043b\\u0430<br>mean_size_house=%{x}<br>mean_wage=%{y}<extra></extra>\",\"hovertext\":[\"\\u0422\\u0443\\u043b\\u0430\"],\"legendgroup\":\"\\u0422\\u0443\\u043b\\u0430\",\"marker\":{\"color\":\"#D62728\",\"symbol\":\"circle\"},\"mode\":\"markers\",\"name\":\"\\u0422\\u0443\\u043b\\u0430\",\"orientation\":\"v\",\"showlegend\":true,\"x\":[28.6],\"xaxis\":\"x\",\"y\":[39180.2],\"yaxis\":\"y\",\"type\":\"scatter\"},{\"hovertemplate\":\"<b>%{hovertext}</b><br><br>\\u0433\\u043e\\u0440\\u043e\\u0434=\\u041a\\u0430\\u043b\\u0438\\u043d\\u0438\\u043d\\u0433\\u0440\\u0430\\u0434<br>mean_size_house=%{x}<br>mean_wage=%{y}<extra></extra>\",\"hovertext\":[\"\\u041a\\u0430\\u043b\\u0438\\u043d\\u0438\\u043d\\u0433\\u0440\\u0430\\u0434\"],\"legendgroup\":\"\\u041a\\u0430\\u043b\\u0438\\u043d\\u0438\\u043d\\u0433\\u0440\\u0430\\u0434\",\"marker\":{\"color\":\"#9467BD\",\"symbol\":\"circle\"},\"mode\":\"markers\",\"name\":\"\\u041a\\u0430\\u043b\\u0438\\u043d\\u0438\\u043d\\u0433\\u0440\\u0430\\u0434\",\"orientation\":\"v\",\"showlegend\":true,\"x\":[28.7],\"xaxis\":\"x\",\"y\":[38686.0],\"yaxis\":\"y\",\"type\":\"scatter\"},{\"hovertemplate\":\"<b>%{hovertext}</b><br><br>\\u0433\\u043e\\u0440\\u043e\\u0434=\\u0427\\u0435\\u043b\\u044f\\u0431\\u0438\\u043d\\u0441\\u043a<br>mean_size_house=%{x}<br>mean_wage=%{y}<extra></extra>\",\"hovertext\":[\"\\u0427\\u0435\\u043b\\u044f\\u0431\\u0438\\u043d\\u0441\\u043a\"],\"legendgroup\":\"\\u0427\\u0435\\u043b\\u044f\\u0431\\u0438\\u043d\\u0441\\u043a\",\"marker\":{\"color\":\"#8C564B\",\"symbol\":\"circle\"},\"mode\":\"markers\",\"name\":\"\\u0427\\u0435\\u043b\\u044f\\u0431\\u0438\\u043d\\u0441\\u043a\",\"orientation\":\"v\",\"showlegend\":true,\"x\":[25.4],\"xaxis\":\"x\",\"y\":[38228.1],\"yaxis\":\"y\",\"type\":\"scatter\"},{\"hovertemplate\":\"<b>%{hovertext}</b><br><br>\\u0433\\u043e\\u0440\\u043e\\u0434=\\u0411\\u0438\\u0440\\u043e\\u0431\\u0438\\u0434\\u0436\\u0430\\u043d<br>mean_size_house=%{x}<br>mean_wage=%{y}<extra></extra>\",\"hovertext\":[\"\\u0411\\u0438\\u0440\\u043e\\u0431\\u0438\\u0434\\u0436\\u0430\\u043d\"],\"legendgroup\":\"\\u0411\\u0438\\u0440\\u043e\\u0431\\u0438\\u0434\\u0436\\u0430\\u043d\",\"marker\":{\"color\":\"#E377C2\",\"symbol\":\"circle\"},\"mode\":\"markers\",\"name\":\"\\u0411\\u0438\\u0440\\u043e\\u0431\\u0438\\u0434\\u0436\\u0430\\u043d\",\"orientation\":\"v\",\"showlegend\":true,\"x\":[23.0],\"xaxis\":\"x\",\"y\":[37587.3],\"yaxis\":\"y\",\"type\":\"scatter\"},{\"hovertemplate\":\"<b>%{hovertext}</b><br><br>\\u0433\\u043e\\u0440\\u043e\\u0434=\\u042f\\u0440\\u043e\\u0441\\u043b\\u0430\\u0432\\u043b\\u044c<br>mean_size_house=%{x}<br>mean_wage=%{y}<extra></extra>\",\"hovertext\":[\"\\u042f\\u0440\\u043e\\u0441\\u043b\\u0430\\u0432\\u043b\\u044c\"],\"legendgroup\":\"\\u042f\\u0440\\u043e\\u0441\\u043b\\u0430\\u0432\\u043b\\u044c\",\"marker\":{\"color\":\"#7F7F7F\",\"symbol\":\"circle\"},\"mode\":\"markers\",\"name\":\"\\u042f\\u0440\\u043e\\u0441\\u043b\\u0430\\u0432\\u043b\\u044c\",\"orientation\":\"v\",\"showlegend\":true,\"x\":[24.1],\"xaxis\":\"x\",\"y\":[37533.7],\"yaxis\":\"y\",\"type\":\"scatter\"},{\"hovertemplate\":\"<b>%{hovertext}</b><br><br>\\u0433\\u043e\\u0440\\u043e\\u0434=\\u0412\\u0435\\u043b\\u0438\\u043a\\u0438\\u0439 \\u041d\\u043e\\u0432\\u0433\\u043e\\u0440\\u043e\\u0434<br>mean_size_house=%{x}<br>mean_wage=%{y}<extra></extra>\",\"hovertext\":[\"\\u0412\\u0435\\u043b\\u0438\\u043a\\u0438\\u0439 \\u041d\\u043e\\u0432\\u0433\\u043e\\u0440\\u043e\\u0434\"],\"legendgroup\":\"\\u0412\\u0435\\u043b\\u0438\\u043a\\u0438\\u0439 \\u041d\\u043e\\u0432\\u0433\\u043e\\u0440\\u043e\\u0434\",\"marker\":{\"color\":\"#BCBD22\",\"symbol\":\"circle\"},\"mode\":\"markers\",\"name\":\"\\u0412\\u0435\\u043b\\u0438\\u043a\\u0438\\u0439 \\u041d\\u043e\\u0432\\u0433\\u043e\\u0440\\u043e\\u0434\",\"orientation\":\"v\",\"showlegend\":true,\"x\":[25.0],\"xaxis\":\"x\",\"y\":[36640.1],\"yaxis\":\"y\",\"type\":\"scatter\"},{\"hovertemplate\":\"<b>%{hovertext}</b><br><br>\\u0433\\u043e\\u0440\\u043e\\u0434=\\u0423\\u043b\\u0430\\u043d-\\u0423\\u0434\\u044d<br>mean_size_house=%{x}<br>mean_wage=%{y}<extra></extra>\",\"hovertext\":[\"\\u0423\\u043b\\u0430\\u043d-\\u0423\\u0434\\u044d\"],\"legendgroup\":\"\\u0423\\u043b\\u0430\\u043d-\\u0423\\u0434\\u044d\",\"marker\":{\"color\":\"#17BECF\",\"symbol\":\"circle\"},\"mode\":\"markers\",\"name\":\"\\u0423\\u043b\\u0430\\u043d-\\u0423\\u0434\\u044d\",\"orientation\":\"v\",\"showlegend\":true,\"x\":[20.1],\"xaxis\":\"x\",\"y\":[36536.7],\"yaxis\":\"y\",\"type\":\"scatter\"},{\"hovertemplate\":\"<b>%{hovertext}</b><br><br>\\u0433\\u043e\\u0440\\u043e\\u0434=\\u041c\\u0430\\u0433\\u0430\\u0441<br>mean_size_house=%{x}<br>mean_wage=%{y}<extra></extra>\",\"hovertext\":[\"\\u041c\\u0430\\u0433\\u0430\\u0441\"],\"legendgroup\":\"\\u041c\\u0430\\u0433\\u0430\\u0441\",\"marker\":{\"color\":\"#1F77B4\",\"symbol\":\"circle\"},\"mode\":\"markers\",\"name\":\"\\u041c\\u0430\\u0433\\u0430\\u0441\",\"orientation\":\"v\",\"showlegend\":true,\"x\":[67.3],\"xaxis\":\"x\",\"y\":[36523.2],\"yaxis\":\"y\",\"type\":\"scatter\"},{\"hovertemplate\":\"<b>%{hovertext}</b><br><br>\\u0433\\u043e\\u0440\\u043e\\u0434=\\u041e\\u0440\\u0435\\u043d\\u0431\\u0443\\u0440\\u0433<br>mean_size_house=%{x}<br>mean_wage=%{y}<extra></extra>\",\"hovertext\":[\"\\u041e\\u0440\\u0435\\u043d\\u0431\\u0443\\u0440\\u0433\"],\"legendgroup\":\"\\u041e\\u0440\\u0435\\u043d\\u0431\\u0443\\u0440\\u0433\",\"marker\":{\"color\":\"#FF7F0E\",\"symbol\":\"circle\"},\"mode\":\"markers\",\"name\":\"\\u041e\\u0440\\u0435\\u043d\\u0431\\u0443\\u0440\\u0433\",\"orientation\":\"v\",\"showlegend\":true,\"x\":[24.7],\"xaxis\":\"x\",\"y\":[36516.2],\"yaxis\":\"y\",\"type\":\"scatter\"},{\"hovertemplate\":\"<b>%{hovertext}</b><br><br>\\u0433\\u043e\\u0440\\u043e\\u0434=\\u041b\\u0438\\u043f\\u0435\\u0446\\u043a<br>mean_size_house=%{x}<br>mean_wage=%{y}<extra></extra>\",\"hovertext\":[\"\\u041b\\u0438\\u043f\\u0435\\u0446\\u043a\"],\"legendgroup\":\"\\u041b\\u0438\\u043f\\u0435\\u0446\\u043a\",\"marker\":{\"color\":\"#2CA02C\",\"symbol\":\"circle\"},\"mode\":\"markers\",\"name\":\"\\u041b\\u0438\\u043f\\u0435\\u0446\\u043a\",\"orientation\":\"v\",\"showlegend\":true,\"x\":[27.1],\"xaxis\":\"x\",\"y\":[36194.5],\"yaxis\":\"y\",\"type\":\"scatter\"},{\"hovertemplate\":\"<b>%{hovertext}</b><br><br>\\u0433\\u043e\\u0440\\u043e\\u0434=\\u0422\\u0432\\u0435\\u0440\\u044c<br>mean_size_house=%{x}<br>mean_wage=%{y}<extra></extra>\",\"hovertext\":[\"\\u0422\\u0432\\u0435\\u0440\\u044c\"],\"legendgroup\":\"\\u0422\\u0432\\u0435\\u0440\\u044c\",\"marker\":{\"color\":\"#D62728\",\"symbol\":\"circle\"},\"mode\":\"markers\",\"name\":\"\\u0422\\u0432\\u0435\\u0440\\u044c\",\"orientation\":\"v\",\"showlegend\":true,\"x\":[26.2],\"xaxis\":\"x\",\"y\":[36097.0],\"yaxis\":\"y\",\"type\":\"scatter\"},{\"hovertemplate\":\"<b>%{hovertext}</b><br><br>\\u0433\\u043e\\u0440\\u043e\\u0434=\\u0412\\u043e\\u043b\\u043e\\u0433\\u0434\\u0430<br>mean_size_house=%{x}<br>mean_wage=%{y}<extra></extra>\",\"hovertext\":[\"\\u0412\\u043e\\u043b\\u043e\\u0433\\u0434\\u0430\"],\"legendgroup\":\"\\u0412\\u043e\\u043b\\u043e\\u0433\\u0434\\u0430\",\"marker\":{\"color\":\"#9467BD\",\"symbol\":\"circle\"},\"mode\":\"markers\",\"name\":\"\\u0412\\u043e\\u043b\\u043e\\u0433\\u0434\\u0430\",\"orientation\":\"v\",\"showlegend\":true,\"x\":[26.6],\"xaxis\":\"x\",\"y\":[36072.3],\"yaxis\":\"y\",\"type\":\"scatter\"},{\"hovertemplate\":\"<b>%{hovertext}</b><br><br>\\u0433\\u043e\\u0440\\u043e\\u0434=\\u0420\\u044f\\u0437\\u0430\\u043d\\u044c<br>mean_size_house=%{x}<br>mean_wage=%{y}<extra></extra>\",\"hovertext\":[\"\\u0420\\u044f\\u0437\\u0430\\u043d\\u044c\"],\"legendgroup\":\"\\u0420\\u044f\\u0437\\u0430\\u043d\\u044c\",\"marker\":{\"color\":\"#8C564B\",\"symbol\":\"circle\"},\"mode\":\"markers\",\"name\":\"\\u0420\\u044f\\u0437\\u0430\\u043d\\u044c\",\"orientation\":\"v\",\"showlegend\":true,\"x\":[26.6],\"xaxis\":\"x\",\"y\":[36024.7],\"yaxis\":\"y\",\"type\":\"scatter\"},{\"hovertemplate\":\"<b>%{hovertext}</b><br><br>\\u0433\\u043e\\u0440\\u043e\\u0434=\\u041e\\u043c\\u0441\\u043a<br>mean_size_house=%{x}<br>mean_wage=%{y}<extra></extra>\",\"hovertext\":[\"\\u041e\\u043c\\u0441\\u043a\"],\"legendgroup\":\"\\u041e\\u043c\\u0441\\u043a\",\"marker\":{\"color\":\"#E377C2\",\"symbol\":\"circle\"},\"mode\":\"markers\",\"name\":\"\\u041e\\u043c\\u0441\\u043a\",\"orientation\":\"v\",\"showlegend\":true,\"x\":[24.1],\"xaxis\":\"x\",\"y\":[35602.0],\"yaxis\":\"y\",\"type\":\"scatter\"},{\"hovertemplate\":\"<b>%{hovertext}</b><br><br>\\u0433\\u043e\\u0440\\u043e\\u0434=\\u0412\\u043e\\u0440\\u043e\\u043d\\u0435\\u0436<br>mean_size_house=%{x}<br>mean_wage=%{y}<extra></extra>\",\"hovertext\":[\"\\u0412\\u043e\\u0440\\u043e\\u043d\\u0435\\u0436\"],\"legendgroup\":\"\\u0412\\u043e\\u0440\\u043e\\u043d\\u0435\\u0436\",\"marker\":{\"color\":\"#7F7F7F\",\"symbol\":\"circle\"},\"mode\":\"markers\",\"name\":\"\\u0412\\u043e\\u0440\\u043e\\u043d\\u0435\\u0436\",\"orientation\":\"v\",\"showlegend\":true,\"x\":[28.1],\"xaxis\":\"x\",\"y\":[35202.3],\"yaxis\":\"y\",\"type\":\"scatter\"},{\"hovertemplate\":\"<b>%{hovertext}</b><br><br>\\u0433\\u043e\\u0440\\u043e\\u0434=\\u0410\\u0441\\u0442\\u0440\\u0430\\u0445\\u0430\\u043d\\u044c<br>mean_size_house=%{x}<br>mean_wage=%{y}<extra></extra>\",\"hovertext\":[\"\\u0410\\u0441\\u0442\\u0440\\u0430\\u0445\\u0430\\u043d\\u044c\"],\"legendgroup\":\"\\u0410\\u0441\\u0442\\u0440\\u0430\\u0445\\u0430\\u043d\\u044c\",\"marker\":{\"color\":\"#BCBD22\",\"symbol\":\"circle\"},\"mode\":\"markers\",\"name\":\"\\u0410\\u0441\\u0442\\u0440\\u0430\\u0445\\u0430\\u043d\\u044c\",\"orientation\":\"v\",\"showlegend\":true,\"x\":[24.8],\"xaxis\":\"x\",\"y\":[35179.0],\"yaxis\":\"y\",\"type\":\"scatter\"},{\"hovertemplate\":\"<b>%{hovertext}</b><br><br>\\u0433\\u043e\\u0440\\u043e\\u0434=\\u0418\\u0436\\u0435\\u0432\\u0441\\u043a<br>mean_size_house=%{x}<br>mean_wage=%{y}<extra></extra>\",\"hovertext\":[\"\\u0418\\u0436\\u0435\\u0432\\u0441\\u043a\"],\"legendgroup\":\"\\u0418\\u0436\\u0435\\u0432\\u0441\\u043a\",\"marker\":{\"color\":\"#17BECF\",\"symbol\":\"circle\"},\"mode\":\"markers\",\"name\":\"\\u0418\\u0436\\u0435\\u0432\\u0441\\u043a\",\"orientation\":\"v\",\"showlegend\":true,\"x\":[21.1],\"xaxis\":\"x\",\"y\":[35011.6],\"yaxis\":\"y\",\"type\":\"scatter\"},{\"hovertemplate\":\"<b>%{hovertext}</b><br><br>\\u0433\\u043e\\u0440\\u043e\\u0434=\\u0413\\u043e\\u0440\\u043d\\u043e-\\u0410\\u043b\\u0442\\u0430\\u0439\\u0441\\u043a<br>mean_size_house=%{x}<br>mean_wage=%{y}<extra></extra>\",\"hovertext\":[\"\\u0413\\u043e\\u0440\\u043d\\u043e-\\u0410\\u043b\\u0442\\u0430\\u0439\\u0441\\u043a\"],\"legendgroup\":\"\\u0413\\u043e\\u0440\\u043d\\u043e-\\u0410\\u043b\\u0442\\u0430\\u0439\\u0441\\u043a\",\"marker\":{\"color\":\"#1F77B4\",\"symbol\":\"circle\"},\"mode\":\"markers\",\"name\":\"\\u0413\\u043e\\u0440\\u043d\\u043e-\\u0410\\u043b\\u0442\\u0430\\u0439\\u0441\\u043a\",\"orientation\":\"v\",\"showlegend\":true,\"x\":[23.6],\"xaxis\":\"x\",\"y\":[33956.9],\"yaxis\":\"y\",\"type\":\"scatter\"},{\"hovertemplate\":\"<b>%{hovertext}</b><br><br>\\u0433\\u043e\\u0440\\u043e\\u0434=\\u0412\\u043e\\u043b\\u0433\\u043e\\u0433\\u0440\\u0430\\u0434 <br>mean_size_house=%{x}<br>mean_wage=%{y}<extra></extra>\",\"hovertext\":[\"\\u0412\\u043e\\u043b\\u0433\\u043e\\u0433\\u0440\\u0430\\u0434 \"],\"legendgroup\":\"\\u0412\\u043e\\u043b\\u0433\\u043e\\u0433\\u0440\\u0430\\u0434 \",\"marker\":{\"color\":\"#FF7F0E\",\"symbol\":\"circle\"},\"mode\":\"markers\",\"name\":\"\\u0412\\u043e\\u043b\\u0433\\u043e\\u0433\\u0440\\u0430\\u0434 \",\"orientation\":\"v\",\"showlegend\":true,\"x\":[23.9],\"xaxis\":\"x\",\"y\":[33718.9],\"yaxis\":\"y\",\"type\":\"scatter\"},{\"hovertemplate\":\"<b>%{hovertext}</b><br><br>\\u0433\\u043e\\u0440\\u043e\\u0434=\\u0411\\u0435\\u043b\\u0433\\u043e\\u0440\\u043e\\u0434<br>mean_size_house=%{x}<br>mean_wage=%{y}<extra></extra>\",\"hovertext\":[\"\\u0411\\u0435\\u043b\\u0433\\u043e\\u0440\\u043e\\u0434\"],\"legendgroup\":\"\\u0411\\u0435\\u043b\\u0433\\u043e\\u0440\\u043e\\u0434\",\"marker\":{\"color\":\"#2CA02C\",\"symbol\":\"circle\"},\"mode\":\"markers\",\"name\":\"\\u0411\\u0435\\u043b\\u0433\\u043e\\u0440\\u043e\\u0434\",\"orientation\":\"v\",\"showlegend\":true,\"x\":[24.8],\"xaxis\":\"x\",\"y\":[33566.7],\"yaxis\":\"y\",\"type\":\"scatter\"},{\"hovertemplate\":\"<b>%{hovertext}</b><br><br>\\u0433\\u043e\\u0440\\u043e\\u0434=\\u0421\\u0442\\u0430\\u0432\\u0440\\u043e\\u043f\\u043e\\u043b\\u044c<br>mean_size_house=%{x}<br>mean_wage=%{y}<extra></extra>\",\"hovertext\":[\"\\u0421\\u0442\\u0430\\u0432\\u0440\\u043e\\u043f\\u043e\\u043b\\u044c\"],\"legendgroup\":\"\\u0421\\u0442\\u0430\\u0432\\u0440\\u043e\\u043f\\u043e\\u043b\\u044c\",\"marker\":{\"color\":\"#D62728\",\"symbol\":\"circle\"},\"mode\":\"markers\",\"name\":\"\\u0421\\u0442\\u0430\\u0432\\u0440\\u043e\\u043f\\u043e\\u043b\\u044c\",\"orientation\":\"v\",\"showlegend\":true,\"x\":[29.6],\"xaxis\":\"x\",\"y\":[33290.1],\"yaxis\":\"y\",\"type\":\"scatter\"},{\"hovertemplate\":\"<b>%{hovertext}</b><br><br>\\u0433\\u043e\\u0440\\u043e\\u0434=\\u0421\\u0438\\u043c\\u0444\\u0435\\u0440\\u043e\\u043f\\u043e\\u043b\\u044c<br>mean_size_house=%{x}<br>mean_wage=%{y}<extra></extra>\",\"hovertext\":[\"\\u0421\\u0438\\u043c\\u0444\\u0435\\u0440\\u043e\\u043f\\u043e\\u043b\\u044c\"],\"legendgroup\":\"\\u0421\\u0438\\u043c\\u0444\\u0435\\u0440\\u043e\\u043f\\u043e\\u043b\\u044c\",\"marker\":{\"color\":\"#9467BD\",\"symbol\":\"circle\"},\"mode\":\"markers\",\"name\":\"\\u0421\\u0438\\u043c\\u0444\\u0435\\u0440\\u043e\\u043f\\u043e\\u043b\\u044c\",\"orientation\":\"v\",\"showlegend\":true,\"x\":[12.1],\"xaxis\":\"x\",\"y\":[33279.7],\"yaxis\":\"y\",\"type\":\"scatter\"},{\"hovertemplate\":\"<b>%{hovertext}</b><br><br>\\u0433\\u043e\\u0440\\u043e\\u0434=\\u0412\\u043b\\u0430\\u0434\\u0438\\u043c\\u0438\\u0440<br>mean_size_house=%{x}<br>mean_wage=%{y}<extra></extra>\",\"hovertext\":[\"\\u0412\\u043b\\u0430\\u0434\\u0438\\u043c\\u0438\\u0440\"],\"legendgroup\":\"\\u0412\\u043b\\u0430\\u0434\\u0438\\u043c\\u0438\\u0440\",\"marker\":{\"color\":\"#8C564B\",\"symbol\":\"circle\"},\"mode\":\"markers\",\"name\":\"\\u0412\\u043b\\u0430\\u0434\\u0438\\u043c\\u0438\\u0440\",\"orientation\":\"v\",\"showlegend\":true,\"x\":[25.6],\"xaxis\":\"x\",\"y\":[33213.1],\"yaxis\":\"y\",\"type\":\"scatter\"},{\"hovertemplate\":\"<b>%{hovertext}</b><br><br>\\u0433\\u043e\\u0440\\u043e\\u0434=\\u041a\\u0438\\u0440\\u043e\\u0432<br>mean_size_house=%{x}<br>mean_wage=%{y}<extra></extra>\",\"hovertext\":[\"\\u041a\\u0438\\u0440\\u043e\\u0432\"],\"legendgroup\":\"\\u041a\\u0438\\u0440\\u043e\\u0432\",\"marker\":{\"color\":\"#E377C2\",\"symbol\":\"circle\"},\"mode\":\"markers\",\"name\":\"\\u041a\\u0438\\u0440\\u043e\\u0432\",\"orientation\":\"v\",\"showlegend\":true,\"x\":[24.3],\"xaxis\":\"x\",\"y\":[32720.3],\"yaxis\":\"y\",\"type\":\"scatter\"},{\"hovertemplate\":\"<b>%{hovertext}</b><br><br>\\u0433\\u043e\\u0440\\u043e\\u0434=\\u0423\\u043b\\u044c\\u044f\\u043d\\u043e\\u0432\\u0441\\u043a<br>mean_size_house=%{x}<br>mean_wage=%{y}<extra></extra>\",\"hovertext\":[\"\\u0423\\u043b\\u044c\\u044f\\u043d\\u043e\\u0432\\u0441\\u043a\"],\"legendgroup\":\"\\u0423\\u043b\\u044c\\u044f\\u043d\\u043e\\u0432\\u0441\\u043a\",\"marker\":{\"color\":\"#7F7F7F\",\"symbol\":\"circle\"},\"mode\":\"markers\",\"name\":\"\\u0423\\u043b\\u044c\\u044f\\u043d\\u043e\\u0432\\u0441\\u043a\",\"orientation\":\"v\",\"showlegend\":true,\"x\":[26.0],\"xaxis\":\"x\",\"y\":[32555.7],\"yaxis\":\"y\",\"type\":\"scatter\"},{\"hovertemplate\":\"<b>%{hovertext}</b><br><br>\\u0433\\u043e\\u0440\\u043e\\u0434=\\u0421\\u0430\\u0440\\u0430\\u0442\\u043e\\u0432<br>mean_size_house=%{x}<br>mean_wage=%{y}<extra></extra>\",\"hovertext\":[\"\\u0421\\u0430\\u0440\\u0430\\u0442\\u043e\\u0432\"],\"legendgroup\":\"\\u0421\\u0430\\u0440\\u0430\\u0442\\u043e\\u0432\",\"marker\":{\"color\":\"#BCBD22\",\"symbol\":\"circle\"},\"mode\":\"markers\",\"name\":\"\\u0421\\u0430\\u0440\\u0430\\u0442\\u043e\\u0432\",\"orientation\":\"v\",\"showlegend\":true,\"x\":[28.9],\"xaxis\":\"x\",\"y\":[32504.7],\"yaxis\":\"y\",\"type\":\"scatter\"},{\"hovertemplate\":\"<b>%{hovertext}</b><br><br>\\u0433\\u043e\\u0440\\u043e\\u0434=\\u0421\\u043c\\u043e\\u043b\\u0435\\u043d\\u0441\\u043a<br>mean_size_house=%{x}<br>mean_wage=%{y}<extra></extra>\",\"hovertext\":[\"\\u0421\\u043c\\u043e\\u043b\\u0435\\u043d\\u0441\\u043a\"],\"legendgroup\":\"\\u0421\\u043c\\u043e\\u043b\\u0435\\u043d\\u0441\\u043a\",\"marker\":{\"color\":\"#17BECF\",\"symbol\":\"circle\"},\"mode\":\"markers\",\"name\":\"\\u0421\\u043c\\u043e\\u043b\\u0435\\u043d\\u0441\\u043a\",\"orientation\":\"v\",\"showlegend\":true,\"x\":[27.1],\"xaxis\":\"x\",\"y\":[31462.0],\"yaxis\":\"y\",\"type\":\"scatter\"},{\"hovertemplate\":\"<b>%{hovertext}</b><br><br>\\u0433\\u043e\\u0440\\u043e\\u0434=\\u041a\\u0443\\u0440\\u0433\\u0430\\u043d<br>mean_size_house=%{x}<br>mean_wage=%{y}<extra></extra>\",\"hovertext\":[\"\\u041a\\u0443\\u0440\\u0433\\u0430\\u043d\"],\"legendgroup\":\"\\u041a\\u0443\\u0440\\u0433\\u0430\\u043d\",\"marker\":{\"color\":\"#1F77B4\",\"symbol\":\"circle\"},\"mode\":\"markers\",\"name\":\"\\u041a\\u0443\\u0440\\u0433\\u0430\\u043d\",\"orientation\":\"v\",\"showlegend\":true,\"x\":[25.4],\"xaxis\":\"x\",\"y\":[31201.4],\"yaxis\":\"y\",\"type\":\"scatter\"},{\"hovertemplate\":\"<b>%{hovertext}</b><br><br>\\u0433\\u043e\\u0440\\u043e\\u0434=\\u041f\\u0435\\u043d\\u0437\\u0430<br>mean_size_house=%{x}<br>mean_wage=%{y}<extra></extra>\",\"hovertext\":[\"\\u041f\\u0435\\u043d\\u0437\\u0430\"],\"legendgroup\":\"\\u041f\\u0435\\u043d\\u0437\\u0430\",\"marker\":{\"color\":\"#FF7F0E\",\"symbol\":\"circle\"},\"mode\":\"markers\",\"name\":\"\\u041f\\u0435\\u043d\\u0437\\u0430\",\"orientation\":\"v\",\"showlegend\":true,\"x\":[28.7],\"xaxis\":\"x\",\"y\":[31129.7],\"yaxis\":\"y\",\"type\":\"scatter\"},{\"hovertemplate\":\"<b>%{hovertext}</b><br><br>\\u0433\\u043e\\u0440\\u043e\\u0434=\\u0419\\u043e\\u0448\\u043a\\u0430\\u0440-\\u041e\\u043b\\u0430<br>mean_size_house=%{x}<br>mean_wage=%{y}<extra></extra>\",\"hovertext\":[\"\\u0419\\u043e\\u0448\\u043a\\u0430\\u0440-\\u041e\\u043b\\u0430\"],\"legendgroup\":\"\\u0419\\u043e\\u0448\\u043a\\u0430\\u0440-\\u041e\\u043b\\u0430\",\"marker\":{\"color\":\"#2CA02C\",\"symbol\":\"circle\"},\"mode\":\"markers\",\"name\":\"\\u0419\\u043e\\u0448\\u043a\\u0430\\u0440-\\u041e\\u043b\\u0430\",\"orientation\":\"v\",\"showlegend\":true,\"x\":[25.5],\"xaxis\":\"x\",\"y\":[31100.1],\"yaxis\":\"y\",\"type\":\"scatter\"},{\"hovertemplate\":\"<b>%{hovertext}</b><br><br>\\u0433\\u043e\\u0440\\u043e\\u0434=\\u0411\\u0430\\u0440\\u043d\\u0430\\u0443\\u043b<br>mean_size_house=%{x}<br>mean_wage=%{y}<extra></extra>\",\"hovertext\":[\"\\u0411\\u0430\\u0440\\u043d\\u0430\\u0443\\u043b\"],\"legendgroup\":\"\\u0411\\u0430\\u0440\\u043d\\u0430\\u0443\\u043b\",\"marker\":{\"color\":\"#D62728\",\"symbol\":\"circle\"},\"mode\":\"markers\",\"name\":\"\\u0411\\u0430\\u0440\\u043d\\u0430\\u0443\\u043b\",\"orientation\":\"v\",\"showlegend\":true,\"x\":[23.9],\"xaxis\":\"x\",\"y\":[31013.5],\"yaxis\":\"y\",\"type\":\"scatter\"},{\"hovertemplate\":\"<b>%{hovertext}</b><br><br>\\u0433\\u043e\\u0440\\u043e\\u0434=\\u0411\\u0440\\u044f\\u043d\\u0441\\u043a<br>mean_size_house=%{x}<br>mean_wage=%{y}<extra></extra>\",\"hovertext\":[\"\\u0411\\u0440\\u044f\\u043d\\u0441\\u043a\"],\"legendgroup\":\"\\u0411\\u0440\\u044f\\u043d\\u0441\\u043a\",\"marker\":{\"color\":\"#9467BD\",\"symbol\":\"circle\"},\"mode\":\"markers\",\"name\":\"\\u0411\\u0440\\u044f\\u043d\\u0441\\u043a\",\"orientation\":\"v\",\"showlegend\":true,\"x\":[29.2],\"xaxis\":\"x\",\"y\":[30540.9],\"yaxis\":\"y\",\"type\":\"scatter\"},{\"hovertemplate\":\"<b>%{hovertext}</b><br><br>\\u0433\\u043e\\u0440\\u043e\\u0434=\\u041f\\u0441\\u043a\\u043e\\u0432<br>mean_size_house=%{x}<br>mean_wage=%{y}<extra></extra>\",\"hovertext\":[\"\\u041f\\u0441\\u043a\\u043e\\u0432\"],\"legendgroup\":\"\\u041f\\u0441\\u043a\\u043e\\u0432\",\"marker\":{\"color\":\"#8C564B\",\"symbol\":\"circle\"},\"mode\":\"markers\",\"name\":\"\\u041f\\u0441\\u043a\\u043e\\u0432\",\"orientation\":\"v\",\"showlegend\":true,\"x\":[25.3],\"xaxis\":\"x\",\"y\":[30539.1],\"yaxis\":\"y\",\"type\":\"scatter\"},{\"hovertemplate\":\"<b>%{hovertext}</b><br><br>\\u0433\\u043e\\u0440\\u043e\\u0434=\\u0427\\u0435\\u0431\\u043e\\u043a\\u0441\\u0430\\u0440\\u044b<br>mean_size_house=%{x}<br>mean_wage=%{y}<extra></extra>\",\"hovertext\":[\"\\u0427\\u0435\\u0431\\u043e\\u043a\\u0441\\u0430\\u0440\\u044b\"],\"legendgroup\":\"\\u0427\\u0435\\u0431\\u043e\\u043a\\u0441\\u0430\\u0440\\u044b\",\"marker\":{\"color\":\"#E377C2\",\"symbol\":\"circle\"},\"mode\":\"markers\",\"name\":\"\\u0427\\u0435\\u0431\\u043e\\u043a\\u0441\\u0430\\u0440\\u044b\",\"orientation\":\"v\",\"showlegend\":true,\"x\":[23.4],\"xaxis\":\"x\",\"y\":[30510.3],\"yaxis\":\"y\",\"type\":\"scatter\"},{\"hovertemplate\":\"<b>%{hovertext}</b><br><br>\\u0433\\u043e\\u0440\\u043e\\u0434=\\u0413\\u0440\\u043e\\u0437\\u043d\\u044b\\u0439<br>mean_size_house=%{x}<br>mean_wage=%{y}<extra></extra>\",\"hovertext\":[\"\\u0413\\u0440\\u043e\\u0437\\u043d\\u044b\\u0439\"],\"legendgroup\":\"\\u0413\\u0440\\u043e\\u0437\\u043d\\u044b\\u0439\",\"marker\":{\"color\":\"#7F7F7F\",\"symbol\":\"circle\"},\"mode\":\"markers\",\"name\":\"\\u0413\\u0440\\u043e\\u0437\\u043d\\u044b\\u0439\",\"orientation\":\"v\",\"showlegend\":true,\"x\":[26.7],\"xaxis\":\"x\",\"y\":[30455.0],\"yaxis\":\"y\",\"type\":\"scatter\"},{\"hovertemplate\":\"<b>%{hovertext}</b><br><br>\\u0433\\u043e\\u0440\\u043e\\u0434=\\u041a\\u043e\\u0441\\u0442\\u0440\\u043e\\u043c\\u0430<br>mean_size_house=%{x}<br>mean_wage=%{y}<extra></extra>\",\"hovertext\":[\"\\u041a\\u043e\\u0441\\u0442\\u0440\\u043e\\u043c\\u0430\"],\"legendgroup\":\"\\u041a\\u043e\\u0441\\u0442\\u0440\\u043e\\u043c\\u0430\",\"marker\":{\"color\":\"#BCBD22\",\"symbol\":\"circle\"},\"mode\":\"markers\",\"name\":\"\\u041a\\u043e\\u0441\\u0442\\u0440\\u043e\\u043c\\u0430\",\"orientation\":\"v\",\"showlegend\":true,\"x\":[25.4],\"xaxis\":\"x\",\"y\":[30365.5],\"yaxis\":\"y\",\"type\":\"scatter\"},{\"hovertemplate\":\"<b>%{hovertext}</b><br><br>\\u0433\\u043e\\u0440\\u043e\\u0434=\\u041a\\u0443\\u0440\\u0441\\u043a<br>mean_size_house=%{x}<br>mean_wage=%{y}<extra></extra>\",\"hovertext\":[\"\\u041a\\u0443\\u0440\\u0441\\u043a\"],\"legendgroup\":\"\\u041a\\u0443\\u0440\\u0441\\u043a\",\"marker\":{\"color\":\"#17BECF\",\"symbol\":\"circle\"},\"mode\":\"markers\",\"name\":\"\\u041a\\u0443\\u0440\\u0441\\u043a\",\"orientation\":\"v\",\"showlegend\":true,\"x\":[27.1],\"xaxis\":\"x\",\"y\":[29746.8],\"yaxis\":\"y\",\"type\":\"scatter\"},{\"hovertemplate\":\"<b>%{hovertext}</b><br><br>\\u0433\\u043e\\u0440\\u043e\\u0434=\\u041e\\u0440\\u0435\\u043b<br>mean_size_house=%{x}<br>mean_wage=%{y}<extra></extra>\",\"hovertext\":[\"\\u041e\\u0440\\u0435\\u043b\"],\"legendgroup\":\"\\u041e\\u0440\\u0435\\u043b\",\"marker\":{\"color\":\"#1F77B4\",\"symbol\":\"circle\"},\"mode\":\"markers\",\"name\":\"\\u041e\\u0440\\u0435\\u043b\",\"orientation\":\"v\",\"showlegend\":true,\"x\":[29.1],\"xaxis\":\"x\",\"y\":[29583.6],\"yaxis\":\"y\",\"type\":\"scatter\"},{\"hovertemplate\":\"<b>%{hovertext}</b><br><br>\\u0433\\u043e\\u0440\\u043e\\u0434=\\u0418\\u0432\\u0430\\u043d\\u043e\\u0432\\u043e<br>mean_size_house=%{x}<br>mean_wage=%{y}<extra></extra>\",\"hovertext\":[\"\\u0418\\u0432\\u0430\\u043d\\u043e\\u0432\\u043e\"],\"legendgroup\":\"\\u0418\\u0432\\u0430\\u043d\\u043e\\u0432\\u043e\",\"marker\":{\"color\":\"#FF7F0E\",\"symbol\":\"circle\"},\"mode\":\"markers\",\"name\":\"\\u0418\\u0432\\u0430\\u043d\\u043e\\u0432\\u043e\",\"orientation\":\"v\",\"showlegend\":true,\"x\":[24.3],\"xaxis\":\"x\",\"y\":[29496.4],\"yaxis\":\"y\",\"type\":\"scatter\"},{\"hovertemplate\":\"<b>%{hovertext}</b><br><br>\\u0433\\u043e\\u0440\\u043e\\u0434=\\u0422\\u0430\\u043c\\u0431\\u043e\\u0432<br>mean_size_house=%{x}<br>mean_wage=%{y}<extra></extra>\",\"hovertext\":[\"\\u0422\\u0430\\u043c\\u0431\\u043e\\u0432\"],\"legendgroup\":\"\\u0422\\u0430\\u043c\\u0431\\u043e\\u0432\",\"marker\":{\"color\":\"#2CA02C\",\"symbol\":\"circle\"},\"mode\":\"markers\",\"name\":\"\\u0422\\u0430\\u043c\\u0431\\u043e\\u0432\",\"orientation\":\"v\",\"showlegend\":true,\"x\":[26.6],\"xaxis\":\"x\",\"y\":[28931.7],\"yaxis\":\"y\",\"type\":\"scatter\"},{\"hovertemplate\":\"<b>%{hovertext}</b><br><br>\\u0433\\u043e\\u0440\\u043e\\u0434=\\u041c\\u0430\\u0445\\u0430\\u0447\\u043a\\u0430\\u043b\\u0430<br>mean_size_house=%{x}<br>mean_wage=%{y}<extra></extra>\",\"hovertext\":[\"\\u041c\\u0430\\u0445\\u0430\\u0447\\u043a\\u0430\\u043b\\u0430\"],\"legendgroup\":\"\\u041c\\u0430\\u0445\\u0430\\u0447\\u043a\\u0430\\u043b\\u0430\",\"marker\":{\"color\":\"#D62728\",\"symbol\":\"circle\"},\"mode\":\"markers\",\"name\":\"\\u041c\\u0430\\u0445\\u0430\\u0447\\u043a\\u0430\\u043b\\u0430\",\"orientation\":\"v\",\"showlegend\":true,\"x\":[17.5],\"xaxis\":\"x\",\"y\":[28610.2],\"yaxis\":\"y\",\"type\":\"scatter\"},{\"hovertemplate\":\"<b>%{hovertext}</b><br><br>\\u0433\\u043e\\u0440\\u043e\\u0434=\\u0421\\u0430\\u0440\\u0430\\u043d\\u0441\\u043a<br>mean_size_house=%{x}<br>mean_wage=%{y}<extra></extra>\",\"hovertext\":[\"\\u0421\\u0430\\u0440\\u0430\\u043d\\u0441\\u043a\"],\"legendgroup\":\"\\u0421\\u0430\\u0440\\u0430\\u043d\\u0441\\u043a\",\"marker\":{\"color\":\"#9467BD\",\"symbol\":\"circle\"},\"mode\":\"markers\",\"name\":\"\\u0421\\u0430\\u0440\\u0430\\u043d\\u0441\\u043a\",\"orientation\":\"v\",\"showlegend\":true,\"x\":[23.7],\"xaxis\":\"x\",\"y\":[28210.8],\"yaxis\":\"y\",\"type\":\"scatter\"},{\"hovertemplate\":\"<b>%{hovertext}</b><br><br>\\u0433\\u043e\\u0440\\u043e\\u0434=\\u0412\\u043b\\u0430\\u0434\\u0438\\u043a\\u0430\\u0432\\u043a\\u0430\\u0437<br>mean_size_house=%{x}<br>mean_wage=%{y}<extra></extra>\",\"hovertext\":[\"\\u0412\\u043b\\u0430\\u0434\\u0438\\u043a\\u0430\\u0432\\u043a\\u0430\\u0437\"],\"legendgroup\":\"\\u0412\\u043b\\u0430\\u0434\\u0438\\u043a\\u0430\\u0432\\u043a\\u0430\\u0437\",\"marker\":{\"color\":\"#8C564B\",\"symbol\":\"circle\"},\"mode\":\"markers\",\"name\":\"\\u0412\\u043b\\u0430\\u0434\\u0438\\u043a\\u0430\\u0432\\u043a\\u0430\\u0437\",\"orientation\":\"v\",\"showlegend\":true,\"x\":[35.3],\"xaxis\":\"x\",\"y\":[28184.3],\"yaxis\":\"y\",\"type\":\"scatter\"},{\"hovertemplate\":\"<b>%{hovertext}</b><br><br>\\u0433\\u043e\\u0440\\u043e\\u0434=\\u041d\\u0430\\u043b\\u044c\\u0447\\u0438\\u043a<br>mean_size_house=%{x}<br>mean_wage=%{y}<extra></extra>\",\"hovertext\":[\"\\u041d\\u0430\\u043b\\u044c\\u0447\\u0438\\u043a\"],\"legendgroup\":\"\\u041d\\u0430\\u043b\\u044c\\u0447\\u0438\\u043a\",\"marker\":{\"color\":\"#E377C2\",\"symbol\":\"circle\"},\"mode\":\"markers\",\"name\":\"\\u041d\\u0430\\u043b\\u044c\\u0447\\u0438\\u043a\",\"orientation\":\"v\",\"showlegend\":true,\"x\":[20.0],\"xaxis\":\"x\",\"y\":[27958.3],\"yaxis\":\"y\",\"type\":\"scatter\"},{\"hovertemplate\":\"<b>%{hovertext}</b><br><br>\\u0433\\u043e\\u0440\\u043e\\u0434=\\u0421\\u0435\\u0432\\u0430\\u0441\\u0442\\u043e\\u043f\\u043e\\u043b\\u044c<br>mean_size_house=%{x}<br>mean_wage=%{y}<extra></extra>\",\"hovertext\":[\"\\u0421\\u0435\\u0432\\u0430\\u0441\\u0442\\u043e\\u043f\\u043e\\u043b\\u044c\"],\"legendgroup\":\"\\u0421\\u0435\\u0432\\u0430\\u0441\\u0442\\u043e\\u043f\\u043e\\u043b\\u044c\",\"marker\":{\"color\":\"#7F7F7F\",\"symbol\":\"circle\"},\"mode\":\"markers\",\"name\":\"\\u0421\\u0435\\u0432\\u0430\\u0441\\u0442\\u043e\\u043f\\u043e\\u043b\\u044c\",\"orientation\":\"v\",\"showlegend\":true,\"x\":[25.5],\"xaxis\":\"x\",\"y\":[27687.0],\"yaxis\":\"y\",\"type\":\"scatter\"},{\"hovertemplate\":\"<b>%{hovertext}</b><br><br>\\u0433\\u043e\\u0440\\u043e\\u0434=\\u041c\\u0430\\u0439\\u043a\\u043e\\u043f<br>mean_size_house=%{x}<br>mean_wage=%{y}<extra></extra>\",\"hovertext\":[\"\\u041c\\u0430\\u0439\\u043a\\u043e\\u043f\"],\"legendgroup\":\"\\u041c\\u0430\\u0439\\u043a\\u043e\\u043f\",\"marker\":{\"color\":\"#BCBD22\",\"symbol\":\"circle\"},\"mode\":\"markers\",\"name\":\"\\u041c\\u0430\\u0439\\u043a\\u043e\\u043f\",\"orientation\":\"v\",\"showlegend\":true,\"x\":[28.6],\"xaxis\":\"x\",\"y\":[27481.1],\"yaxis\":\"y\",\"type\":\"scatter\"},{\"hovertemplate\":\"<b>%{hovertext}</b><br><br>\\u0433\\u043e\\u0440\\u043e\\u0434=\\u0427\\u0435\\u0440\\u043a\\u0435\\u0441\\u0441\\u043a<br>mean_size_house=%{x}<br>mean_wage=%{y}<extra></extra>\",\"hovertext\":[\"\\u0427\\u0435\\u0440\\u043a\\u0435\\u0441\\u0441\\u043a\"],\"legendgroup\":\"\\u0427\\u0435\\u0440\\u043a\\u0435\\u0441\\u0441\\u043a\",\"marker\":{\"color\":\"#17BECF\",\"symbol\":\"circle\"},\"mode\":\"markers\",\"name\":\"\\u0427\\u0435\\u0440\\u043a\\u0435\\u0441\\u0441\\u043a\",\"orientation\":\"v\",\"showlegend\":true,\"x\":[24.4],\"xaxis\":\"x\",\"y\":[26960.8],\"yaxis\":\"y\",\"type\":\"scatter\"},{\"hovertemplate\":\"<b>%{hovertext}</b><br><br>\\u0433\\u043e\\u0440\\u043e\\u0434=\\u042d\\u043b\\u0438\\u0441\\u0442\\u0430<br>mean_size_house=%{x}<br>mean_wage=%{y}<extra></extra>\",\"hovertext\":[\"\\u042d\\u043b\\u0438\\u0441\\u0442\\u0430\"],\"legendgroup\":\"\\u042d\\u043b\\u0438\\u0441\\u0442\\u0430\",\"marker\":{\"color\":\"#1F77B4\",\"symbol\":\"circle\"},\"mode\":\"markers\",\"name\":\"\\u042d\\u043b\\u0438\\u0441\\u0442\\u0430\",\"orientation\":\"v\",\"showlegend\":true,\"x\":[29.1],\"xaxis\":\"x\",\"y\":[26639.8],\"yaxis\":\"y\",\"type\":\"scatter\"},{\"hovertemplate\":\"<b>%{hovertext}</b><br><br>\\u0433\\u043e\\u0440\\u043e\\u0434=\\u041c\\u043e\\u0441\\u043a\\u0432\\u0430<br>mean_size_house=%{x}<br>mean_wage=%{y}<extra></extra>\",\"hovertext\":[\"\\u041c\\u043e\\u0441\\u043a\\u0432\\u0430\"],\"legendgroup\":\"\\u041c\\u043e\\u0441\\u043a\\u0432\\u0430\",\"marker\":{\"color\":\"#FF7F0E\",\"symbol\":\"circle\"},\"mode\":\"markers\",\"name\":\"\\u041c\\u043e\\u0441\\u043a\\u0432\\u0430\",\"orientation\":\"v\",\"showlegend\":true,\"x\":[19.3],\"xaxis\":\"x\",\"y\":[73812.0],\"yaxis\":\"y\",\"type\":\"scatter\"},{\"hovertemplate\":\"<b>%{hovertext}</b><br><br>\\u0433\\u043e\\u0440\\u043e\\u0434=\\u0421\\u0430\\u043d\\u043a\\u0442-\\u041f\\u0435\\u0442\\u0435\\u0440\\u0431\\u0443\\u0440\\u0433<br>mean_size_house=%{x}<br>mean_wage=%{y}<extra></extra>\",\"hovertext\":[\"\\u0421\\u0430\\u043d\\u043a\\u0442-\\u041f\\u0435\\u0442\\u0435\\u0440\\u0431\\u0443\\u0440\\u0433\"],\"legendgroup\":\"\\u0421\\u0430\\u043d\\u043a\\u0442-\\u041f\\u0435\\u0442\\u0435\\u0440\\u0431\\u0443\\u0440\\u0433\",\"marker\":{\"color\":\"#2CA02C\",\"symbol\":\"circle\"},\"mode\":\"markers\",\"name\":\"\\u0421\\u0430\\u043d\\u043a\\u0442-\\u041f\\u0435\\u0442\\u0435\\u0440\\u0431\\u0443\\u0440\\u0433\",\"orientation\":\"v\",\"showlegend\":true,\"x\":[24.9],\"xaxis\":\"x\",\"y\":[53740.0],\"yaxis\":\"y\",\"type\":\"scatter\"}],                        {\"template\":{\"data\":{\"barpolar\":[{\"marker\":{\"line\":{\"color\":\"white\",\"width\":0.5},\"pattern\":{\"fillmode\":\"overlay\",\"size\":10,\"solidity\":0.2}},\"type\":\"barpolar\"}],\"bar\":[{\"error_x\":{\"color\":\"rgb(36,36,36)\"},\"error_y\":{\"color\":\"rgb(36,36,36)\"},\"marker\":{\"line\":{\"color\":\"white\",\"width\":0.5},\"pattern\":{\"fillmode\":\"overlay\",\"size\":10,\"solidity\":0.2}},\"type\":\"bar\"}],\"carpet\":[{\"aaxis\":{\"endlinecolor\":\"rgb(36,36,36)\",\"gridcolor\":\"white\",\"linecolor\":\"white\",\"minorgridcolor\":\"white\",\"startlinecolor\":\"rgb(36,36,36)\"},\"baxis\":{\"endlinecolor\":\"rgb(36,36,36)\",\"gridcolor\":\"white\",\"linecolor\":\"white\",\"minorgridcolor\":\"white\",\"startlinecolor\":\"rgb(36,36,36)\"},\"type\":\"carpet\"}],\"choropleth\":[{\"colorbar\":{\"outlinewidth\":1,\"tickcolor\":\"rgb(36,36,36)\",\"ticks\":\"outside\"},\"type\":\"choropleth\"}],\"contourcarpet\":[{\"colorbar\":{\"outlinewidth\":1,\"tickcolor\":\"rgb(36,36,36)\",\"ticks\":\"outside\"},\"type\":\"contourcarpet\"}],\"contour\":[{\"colorbar\":{\"outlinewidth\":1,\"tickcolor\":\"rgb(36,36,36)\",\"ticks\":\"outside\"},\"colorscale\":[[0.0,\"#440154\"],[0.1111111111111111,\"#482878\"],[0.2222222222222222,\"#3e4989\"],[0.3333333333333333,\"#31688e\"],[0.4444444444444444,\"#26828e\"],[0.5555555555555556,\"#1f9e89\"],[0.6666666666666666,\"#35b779\"],[0.7777777777777778,\"#6ece58\"],[0.8888888888888888,\"#b5de2b\"],[1.0,\"#fde725\"]],\"type\":\"contour\"}],\"heatmapgl\":[{\"colorbar\":{\"outlinewidth\":1,\"tickcolor\":\"rgb(36,36,36)\",\"ticks\":\"outside\"},\"colorscale\":[[0.0,\"#440154\"],[0.1111111111111111,\"#482878\"],[0.2222222222222222,\"#3e4989\"],[0.3333333333333333,\"#31688e\"],[0.4444444444444444,\"#26828e\"],[0.5555555555555556,\"#1f9e89\"],[0.6666666666666666,\"#35b779\"],[0.7777777777777778,\"#6ece58\"],[0.8888888888888888,\"#b5de2b\"],[1.0,\"#fde725\"]],\"type\":\"heatmapgl\"}],\"heatmap\":[{\"colorbar\":{\"outlinewidth\":1,\"tickcolor\":\"rgb(36,36,36)\",\"ticks\":\"outside\"},\"colorscale\":[[0.0,\"#440154\"],[0.1111111111111111,\"#482878\"],[0.2222222222222222,\"#3e4989\"],[0.3333333333333333,\"#31688e\"],[0.4444444444444444,\"#26828e\"],[0.5555555555555556,\"#1f9e89\"],[0.6666666666666666,\"#35b779\"],[0.7777777777777778,\"#6ece58\"],[0.8888888888888888,\"#b5de2b\"],[1.0,\"#fde725\"]],\"type\":\"heatmap\"}],\"histogram2dcontour\":[{\"colorbar\":{\"outlinewidth\":1,\"tickcolor\":\"rgb(36,36,36)\",\"ticks\":\"outside\"},\"colorscale\":[[0.0,\"#440154\"],[0.1111111111111111,\"#482878\"],[0.2222222222222222,\"#3e4989\"],[0.3333333333333333,\"#31688e\"],[0.4444444444444444,\"#26828e\"],[0.5555555555555556,\"#1f9e89\"],[0.6666666666666666,\"#35b779\"],[0.7777777777777778,\"#6ece58\"],[0.8888888888888888,\"#b5de2b\"],[1.0,\"#fde725\"]],\"type\":\"histogram2dcontour\"}],\"histogram2d\":[{\"colorbar\":{\"outlinewidth\":1,\"tickcolor\":\"rgb(36,36,36)\",\"ticks\":\"outside\"},\"colorscale\":[[0.0,\"#440154\"],[0.1111111111111111,\"#482878\"],[0.2222222222222222,\"#3e4989\"],[0.3333333333333333,\"#31688e\"],[0.4444444444444444,\"#26828e\"],[0.5555555555555556,\"#1f9e89\"],[0.6666666666666666,\"#35b779\"],[0.7777777777777778,\"#6ece58\"],[0.8888888888888888,\"#b5de2b\"],[1.0,\"#fde725\"]],\"type\":\"histogram2d\"}],\"histogram\":[{\"marker\":{\"line\":{\"color\":\"white\",\"width\":0.6}},\"type\":\"histogram\"}],\"mesh3d\":[{\"colorbar\":{\"outlinewidth\":1,\"tickcolor\":\"rgb(36,36,36)\",\"ticks\":\"outside\"},\"type\":\"mesh3d\"}],\"parcoords\":[{\"line\":{\"colorbar\":{\"outlinewidth\":1,\"tickcolor\":\"rgb(36,36,36)\",\"ticks\":\"outside\"}},\"type\":\"parcoords\"}],\"pie\":[{\"automargin\":true,\"type\":\"pie\"}],\"scatter3d\":[{\"line\":{\"colorbar\":{\"outlinewidth\":1,\"tickcolor\":\"rgb(36,36,36)\",\"ticks\":\"outside\"}},\"marker\":{\"colorbar\":{\"outlinewidth\":1,\"tickcolor\":\"rgb(36,36,36)\",\"ticks\":\"outside\"}},\"type\":\"scatter3d\"}],\"scattercarpet\":[{\"marker\":{\"colorbar\":{\"outlinewidth\":1,\"tickcolor\":\"rgb(36,36,36)\",\"ticks\":\"outside\"}},\"type\":\"scattercarpet\"}],\"scattergeo\":[{\"marker\":{\"colorbar\":{\"outlinewidth\":1,\"tickcolor\":\"rgb(36,36,36)\",\"ticks\":\"outside\"}},\"type\":\"scattergeo\"}],\"scattergl\":[{\"marker\":{\"colorbar\":{\"outlinewidth\":1,\"tickcolor\":\"rgb(36,36,36)\",\"ticks\":\"outside\"}},\"type\":\"scattergl\"}],\"scattermapbox\":[{\"marker\":{\"colorbar\":{\"outlinewidth\":1,\"tickcolor\":\"rgb(36,36,36)\",\"ticks\":\"outside\"}},\"type\":\"scattermapbox\"}],\"scatterpolargl\":[{\"marker\":{\"colorbar\":{\"outlinewidth\":1,\"tickcolor\":\"rgb(36,36,36)\",\"ticks\":\"outside\"}},\"type\":\"scatterpolargl\"}],\"scatterpolar\":[{\"marker\":{\"colorbar\":{\"outlinewidth\":1,\"tickcolor\":\"rgb(36,36,36)\",\"ticks\":\"outside\"}},\"type\":\"scatterpolar\"}],\"scatter\":[{\"fillpattern\":{\"fillmode\":\"overlay\",\"size\":10,\"solidity\":0.2},\"type\":\"scatter\"}],\"scatterternary\":[{\"marker\":{\"colorbar\":{\"outlinewidth\":1,\"tickcolor\":\"rgb(36,36,36)\",\"ticks\":\"outside\"}},\"type\":\"scatterternary\"}],\"surface\":[{\"colorbar\":{\"outlinewidth\":1,\"tickcolor\":\"rgb(36,36,36)\",\"ticks\":\"outside\"},\"colorscale\":[[0.0,\"#440154\"],[0.1111111111111111,\"#482878\"],[0.2222222222222222,\"#3e4989\"],[0.3333333333333333,\"#31688e\"],[0.4444444444444444,\"#26828e\"],[0.5555555555555556,\"#1f9e89\"],[0.6666666666666666,\"#35b779\"],[0.7777777777777778,\"#6ece58\"],[0.8888888888888888,\"#b5de2b\"],[1.0,\"#fde725\"]],\"type\":\"surface\"}],\"table\":[{\"cells\":{\"fill\":{\"color\":\"rgb(237,237,237)\"},\"line\":{\"color\":\"white\"}},\"header\":{\"fill\":{\"color\":\"rgb(217,217,217)\"},\"line\":{\"color\":\"white\"}},\"type\":\"table\"}]},\"layout\":{\"annotationdefaults\":{\"arrowhead\":0,\"arrowwidth\":1},\"autotypenumbers\":\"strict\",\"coloraxis\":{\"colorbar\":{\"outlinewidth\":1,\"tickcolor\":\"rgb(36,36,36)\",\"ticks\":\"outside\"}},\"colorscale\":{\"diverging\":[[0.0,\"rgb(103,0,31)\"],[0.1,\"rgb(178,24,43)\"],[0.2,\"rgb(214,96,77)\"],[0.3,\"rgb(244,165,130)\"],[0.4,\"rgb(253,219,199)\"],[0.5,\"rgb(247,247,247)\"],[0.6,\"rgb(209,229,240)\"],[0.7,\"rgb(146,197,222)\"],[0.8,\"rgb(67,147,195)\"],[0.9,\"rgb(33,102,172)\"],[1.0,\"rgb(5,48,97)\"]],\"sequential\":[[0.0,\"#440154\"],[0.1111111111111111,\"#482878\"],[0.2222222222222222,\"#3e4989\"],[0.3333333333333333,\"#31688e\"],[0.4444444444444444,\"#26828e\"],[0.5555555555555556,\"#1f9e89\"],[0.6666666666666666,\"#35b779\"],[0.7777777777777778,\"#6ece58\"],[0.8888888888888888,\"#b5de2b\"],[1.0,\"#fde725\"]],\"sequentialminus\":[[0.0,\"#440154\"],[0.1111111111111111,\"#482878\"],[0.2222222222222222,\"#3e4989\"],[0.3333333333333333,\"#31688e\"],[0.4444444444444444,\"#26828e\"],[0.5555555555555556,\"#1f9e89\"],[0.6666666666666666,\"#35b779\"],[0.7777777777777778,\"#6ece58\"],[0.8888888888888888,\"#b5de2b\"],[1.0,\"#fde725\"]]},\"colorway\":[\"#1F77B4\",\"#FF7F0E\",\"#2CA02C\",\"#D62728\",\"#9467BD\",\"#8C564B\",\"#E377C2\",\"#7F7F7F\",\"#BCBD22\",\"#17BECF\"],\"font\":{\"color\":\"rgb(36,36,36)\"},\"geo\":{\"bgcolor\":\"white\",\"lakecolor\":\"white\",\"landcolor\":\"white\",\"showlakes\":true,\"showland\":true,\"subunitcolor\":\"white\"},\"hoverlabel\":{\"align\":\"left\"},\"hovermode\":\"closest\",\"mapbox\":{\"style\":\"light\"},\"paper_bgcolor\":\"white\",\"plot_bgcolor\":\"white\",\"polar\":{\"angularaxis\":{\"gridcolor\":\"rgb(232,232,232)\",\"linecolor\":\"rgb(36,36,36)\",\"showgrid\":false,\"showline\":true,\"ticks\":\"outside\"},\"bgcolor\":\"white\",\"radialaxis\":{\"gridcolor\":\"rgb(232,232,232)\",\"linecolor\":\"rgb(36,36,36)\",\"showgrid\":false,\"showline\":true,\"ticks\":\"outside\"}},\"scene\":{\"xaxis\":{\"backgroundcolor\":\"white\",\"gridcolor\":\"rgb(232,232,232)\",\"gridwidth\":2,\"linecolor\":\"rgb(36,36,36)\",\"showbackground\":true,\"showgrid\":false,\"showline\":true,\"ticks\":\"outside\",\"zeroline\":false,\"zerolinecolor\":\"rgb(36,36,36)\"},\"yaxis\":{\"backgroundcolor\":\"white\",\"gridcolor\":\"rgb(232,232,232)\",\"gridwidth\":2,\"linecolor\":\"rgb(36,36,36)\",\"showbackground\":true,\"showgrid\":false,\"showline\":true,\"ticks\":\"outside\",\"zeroline\":false,\"zerolinecolor\":\"rgb(36,36,36)\"},\"zaxis\":{\"backgroundcolor\":\"white\",\"gridcolor\":\"rgb(232,232,232)\",\"gridwidth\":2,\"linecolor\":\"rgb(36,36,36)\",\"showbackground\":true,\"showgrid\":false,\"showline\":true,\"ticks\":\"outside\",\"zeroline\":false,\"zerolinecolor\":\"rgb(36,36,36)\"}},\"shapedefaults\":{\"fillcolor\":\"black\",\"line\":{\"width\":0},\"opacity\":0.3},\"ternary\":{\"aaxis\":{\"gridcolor\":\"rgb(232,232,232)\",\"linecolor\":\"rgb(36,36,36)\",\"showgrid\":false,\"showline\":true,\"ticks\":\"outside\"},\"baxis\":{\"gridcolor\":\"rgb(232,232,232)\",\"linecolor\":\"rgb(36,36,36)\",\"showgrid\":false,\"showline\":true,\"ticks\":\"outside\"},\"bgcolor\":\"white\",\"caxis\":{\"gridcolor\":\"rgb(232,232,232)\",\"linecolor\":\"rgb(36,36,36)\",\"showgrid\":false,\"showline\":true,\"ticks\":\"outside\"}},\"title\":{\"x\":0.05},\"xaxis\":{\"automargin\":true,\"gridcolor\":\"rgb(232,232,232)\",\"linecolor\":\"rgb(36,36,36)\",\"showgrid\":false,\"showline\":true,\"ticks\":\"outside\",\"title\":{\"standoff\":15},\"zeroline\":false,\"zerolinecolor\":\"rgb(36,36,36)\"},\"yaxis\":{\"automargin\":true,\"gridcolor\":\"rgb(232,232,232)\",\"linecolor\":\"rgb(36,36,36)\",\"showgrid\":false,\"showline\":true,\"ticks\":\"outside\",\"title\":{\"standoff\":15},\"zeroline\":false,\"zerolinecolor\":\"rgb(36,36,36)\"}}},\"xaxis\":{\"anchor\":\"y\",\"domain\":[0.0,1.0],\"title\":{\"text\":\"mean_size_house\"}},\"yaxis\":{\"anchor\":\"x\",\"domain\":[0.0,1.0],\"title\":{\"text\":\"mean_wage\"}},\"legend\":{\"title\":{\"text\":\"\\u0433\\u043e\\u0440\\u043e\\u0434\"},\"tracegroupgap\":0},\"margin\":{\"t\":60}},                        {\"responsive\": true}                    ).then(function(){\n",
       "                            \n",
       "var gd = document.getElementById('8e24921f-588d-4c8b-a192-87dd4b86dada');\n",
       "var x = new MutationObserver(function (mutations, observer) {{\n",
       "        var display = window.getComputedStyle(gd).display;\n",
       "        if (!display || display === 'none') {{\n",
       "            console.log([gd, 'removed!']);\n",
       "            Plotly.purge(gd);\n",
       "            observer.disconnect();\n",
       "        }}\n",
       "}});\n",
       "\n",
       "// Listen for the removal of the full notebook cells\n",
       "var notebookContainer = gd.closest('#notebook-container');\n",
       "if (notebookContainer) {{\n",
       "    x.observe(notebookContainer, {childList: true});\n",
       "}}\n",
       "\n",
       "// Listen for the clearing of the current output cell\n",
       "var outputEl = gd.closest('.output');\n",
       "if (outputEl) {{\n",
       "    x.observe(outputEl, {childList: true});\n",
       "}}\n",
       "\n",
       "                        })                };                });            </script>        </div>"
      ]
     },
     "metadata": {},
     "output_type": "display_data"
    }
   ],
   "source": [
    "px.scatter(df, x='mean_size_house', y='mean_wage', template='simple_white',\n",
    "          hover_name='город', color='город')"
   ]
  },
  {
   "cell_type": "code",
   "execution_count": 11,
   "id": "481961fe",
   "metadata": {},
   "outputs": [
    {
     "data": {
      "application/vnd.plotly.v1+json": {
       "config": {
        "plotlyServerURL": "https://plot.ly"
       },
       "data": [
        {
         "hovertemplate": "<b>%{hovertext}</b><br><br>город=Анадырь<br>mean_size_house=%{x}<br>mean_wage=%{y}<extra></extra>",
         "hovertext": [
          "Анадырь"
         ],
         "legendgroup": "Анадырь",
         "marker": {
          "color": "#1F77B4",
          "symbol": "circle"
         },
         "mode": "markers",
         "name": "Анадырь",
         "orientation": "v",
         "showlegend": true,
         "type": "scatter",
         "x": [
          18.4
         ],
         "xaxis": "x",
         "y": [
          107061.8
         ],
         "yaxis": "y"
        },
        {
         "hovertemplate": "<b>%{hovertext}</b><br><br>город=Салехард<br>mean_size_house=%{x}<br>mean_wage=%{y}<extra></extra>",
         "hovertext": [
          "Салехард"
         ],
         "legendgroup": "Салехард",
         "marker": {
          "color": "#FF7F0E",
          "symbol": "circle"
         },
         "mode": "markers",
         "name": "Салехард",
         "orientation": "v",
         "showlegend": true,
         "type": "scatter",
         "x": [
          24.1
         ],
         "xaxis": "x",
         "y": [
          95496
         ],
         "yaxis": "y"
        },
        {
         "hovertemplate": "<b>%{hovertext}</b><br><br>город=Южно-Сахалинск<br>mean_size_house=%{x}<br>mean_wage=%{y}<extra></extra>",
         "hovertext": [
          "Южно-Сахалинск"
         ],
         "legendgroup": "Южно-Сахалинск",
         "marker": {
          "color": "#2CA02C",
          "symbol": "circle"
         },
         "mode": "markers",
         "name": "Южно-Сахалинск",
         "orientation": "v",
         "showlegend": true,
         "type": "scatter",
         "x": [
          23.3
         ],
         "xaxis": "x",
         "y": [
          88147.74
         ],
         "yaxis": "y"
        },
        {
         "hovertemplate": "<b>%{hovertext}</b><br><br>город=Магадан<br>mean_size_house=%{x}<br>mean_wage=%{y}<extra></extra>",
         "hovertext": [
          "Магадан"
         ],
         "legendgroup": "Магадан",
         "marker": {
          "color": "#D62728",
          "symbol": "circle"
         },
         "mode": "markers",
         "name": "Магадан",
         "orientation": "v",
         "showlegend": true,
         "type": "scatter",
         "x": [
          24.9
         ],
         "xaxis": "x",
         "y": [
          79539.3
         ],
         "yaxis": "y"
        },
        {
         "hovertemplate": "<b>%{hovertext}</b><br><br>город=Петропавловск-Камчатский<br>mean_size_house=%{x}<br>mean_wage=%{y}<extra></extra>",
         "hovertext": [
          "Петропавловск-Камчатский"
         ],
         "legendgroup": "Петропавловск-Камчатский",
         "marker": {
          "color": "#9467BD",
          "symbol": "circle"
         },
         "mode": "markers",
         "name": "Петропавловск-Камчатский",
         "orientation": "v",
         "showlegend": true,
         "type": "scatter",
         "x": [
          25.2
         ],
         "xaxis": "x",
         "y": [
          76525.4
         ],
         "yaxis": "y"
        },
        {
         "hovertemplate": "<b>%{hovertext}</b><br><br>город=Ханты-Мансийск<br>mean_size_house=%{x}<br>mean_wage=%{y}<extra></extra>",
         "hovertext": [
          "Ханты-Мансийск"
         ],
         "legendgroup": "Ханты-Мансийск",
         "marker": {
          "color": "#8C564B",
          "symbol": "circle"
         },
         "mode": "markers",
         "name": "Ханты-Мансийск",
         "orientation": "v",
         "showlegend": true,
         "type": "scatter",
         "x": [
          25.3
         ],
         "xaxis": "x",
         "y": [
          72093.6
         ],
         "yaxis": "y"
        },
        {
         "hovertemplate": "<b>%{hovertext}</b><br><br>город=Нарьян-Мар<br>mean_size_house=%{x}<br>mean_wage=%{y}<extra></extra>",
         "hovertext": [
          "Нарьян-Мар"
         ],
         "legendgroup": "Нарьян-Мар",
         "marker": {
          "color": "#E377C2",
          "symbol": "circle"
         },
         "mode": "markers",
         "name": "Нарьян-Мар",
         "orientation": "v",
         "showlegend": true,
         "type": "scatter",
         "x": [
          24.9
         ],
         "xaxis": "x",
         "y": [
          70421.9
         ],
         "yaxis": "y"
        },
        {
         "hovertemplate": "<b>%{hovertext}</b><br><br>город=Якутск<br>mean_size_house=%{x}<br>mean_wage=%{y}<extra></extra>",
         "hovertext": [
          "Якутск"
         ],
         "legendgroup": "Якутск",
         "marker": {
          "color": "#7F7F7F",
          "symbol": "circle"
         },
         "mode": "markers",
         "name": "Якутск",
         "orientation": "v",
         "showlegend": true,
         "type": "scatter",
         "x": [
          19.1
         ],
         "xaxis": "x",
         "y": [
          64801.3
         ],
         "yaxis": "y"
        },
        {
         "hovertemplate": "<b>%{hovertext}</b><br><br>город=Мурманск<br>mean_size_house=%{x}<br>mean_wage=%{y}<extra></extra>",
         "hovertext": [
          "Мурманск"
         ],
         "legendgroup": "Мурманск",
         "marker": {
          "color": "#BCBD22",
          "symbol": "circle"
         },
         "mode": "markers",
         "name": "Мурманск",
         "orientation": "v",
         "showlegend": true,
         "type": "scatter",
         "x": [
          23.8
         ],
         "xaxis": "x",
         "y": [
          61261.6
         ],
         "yaxis": "y"
        },
        {
         "hovertemplate": "<b>%{hovertext}</b><br><br>город=Тюмень<br>mean_size_house=%{x}<br>mean_wage=%{y}<extra></extra>",
         "hovertext": [
          "Тюмень"
         ],
         "legendgroup": "Тюмень",
         "marker": {
          "color": "#17BECF",
          "symbol": "circle"
         },
         "mode": "markers",
         "name": "Тюмень",
         "orientation": "v",
         "showlegend": true,
         "type": "scatter",
         "x": [
          29.3
         ],
         "xaxis": "x",
         "y": [
          53830.5
         ],
         "yaxis": "y"
        },
        {
         "hovertemplate": "<b>%{hovertext}</b><br><br>город=Хабаровск<br>mean_size_house=%{x}<br>mean_wage=%{y}<extra></extra>",
         "hovertext": [
          "Хабаровск"
         ],
         "legendgroup": "Хабаровск",
         "marker": {
          "color": "#1F77B4",
          "symbol": "circle"
         },
         "mode": "markers",
         "name": "Хабаровск",
         "orientation": "v",
         "showlegend": true,
         "type": "scatter",
         "x": [
          23
         ],
         "xaxis": "x",
         "y": [
          52986.9
         ],
         "yaxis": "y"
        },
        {
         "hovertemplate": "<b>%{hovertext}</b><br><br>город=Владивосток<br>mean_size_house=%{x}<br>mean_wage=%{y}<extra></extra>",
         "hovertext": [
          "Владивосток"
         ],
         "legendgroup": "Владивосток",
         "marker": {
          "color": "#FF7F0E",
          "symbol": "circle"
         },
         "mode": "markers",
         "name": "Владивосток",
         "orientation": "v",
         "showlegend": true,
         "type": "scatter",
         "x": [
          21.9
         ],
         "xaxis": "x",
         "y": [
          51830.5
         ],
         "yaxis": "y"
        },
        {
         "hovertemplate": "<b>%{hovertext}</b><br><br>город=Екатеринбург<br>mean_size_house=%{x}<br>mean_wage=%{y}<extra></extra>",
         "hovertext": [
          "Екатеринбург"
         ],
         "legendgroup": "Екатеринбург",
         "marker": {
          "color": "#2CA02C",
          "symbol": "circle"
         },
         "mode": "markers",
         "name": "Екатеринбург",
         "orientation": "v",
         "showlegend": true,
         "type": "scatter",
         "x": [
          25
         ],
         "xaxis": "x",
         "y": [
          47265.6
         ],
         "yaxis": "y"
        },
        {
         "hovertemplate": "<b>%{hovertext}</b><br><br>город=Иркутск<br>mean_size_house=%{x}<br>mean_wage=%{y}<extra></extra>",
         "hovertext": [
          "Иркутск"
         ],
         "legendgroup": "Иркутск",
         "marker": {
          "color": "#D62728",
          "symbol": "circle"
         },
         "mode": "markers",
         "name": "Иркутск",
         "orientation": "v",
         "showlegend": true,
         "type": "scatter",
         "x": [
          27.7
         ],
         "xaxis": "x",
         "y": [
          46980
         ],
         "yaxis": "y"
        },
        {
         "hovertemplate": "<b>%{hovertext}</b><br><br>город=Архангельск<br>mean_size_house=%{x}<br>mean_wage=%{y}<extra></extra>",
         "hovertext": [
          "Архангельск"
         ],
         "legendgroup": "Архангельск",
         "marker": {
          "color": "#9467BD",
          "symbol": "circle"
         },
         "mode": "markers",
         "name": "Архангельск",
         "orientation": "v",
         "showlegend": true,
         "type": "scatter",
         "x": [
          23.3
         ],
         "xaxis": "x",
         "y": [
          45097.7
         ],
         "yaxis": "y"
        },
        {
         "hovertemplate": "<b>%{hovertext}</b><br><br>город=Красноярск<br>mean_size_house=%{x}<br>mean_wage=%{y}<extra></extra>",
         "hovertext": [
          "Красноярск"
         ],
         "legendgroup": "Красноярск",
         "marker": {
          "color": "#8C564B",
          "symbol": "circle"
         },
         "mode": "markers",
         "name": "Красноярск",
         "orientation": "v",
         "showlegend": true,
         "type": "scatter",
         "x": [
          24.1
         ],
         "xaxis": "x",
         "y": [
          44384.3
         ],
         "yaxis": "y"
        },
        {
         "hovertemplate": "<b>%{hovertext}</b><br><br>город=Сыктывкар<br>mean_size_house=%{x}<br>mean_wage=%{y}<extra></extra>",
         "hovertext": [
          "Сыктывкар"
         ],
         "legendgroup": "Сыктывкар",
         "marker": {
          "color": "#E377C2",
          "symbol": "circle"
         },
         "mode": "markers",
         "name": "Сыктывкар",
         "orientation": "v",
         "showlegend": true,
         "type": "scatter",
         "x": [
          23.7
         ],
         "xaxis": "x",
         "y": [
          44181.4
         ],
         "yaxis": "y"
        },
        {
         "hovertemplate": "<b>%{hovertext}</b><br><br>город=Томск<br>mean_size_house=%{x}<br>mean_wage=%{y}<extra></extra>",
         "hovertext": [
          "Томск"
         ],
         "legendgroup": "Томск",
         "marker": {
          "color": "#7F7F7F",
          "symbol": "circle"
         },
         "mode": "markers",
         "name": "Томск",
         "orientation": "v",
         "showlegend": true,
         "type": "scatter",
         "x": [
          23.1
         ],
         "xaxis": "x",
         "y": [
          43410.8
         ],
         "yaxis": "y"
        },
        {
         "hovertemplate": "<b>%{hovertext}</b><br><br>город=Нижний Новгород<br>mean_size_house=%{x}<br>mean_wage=%{y}<extra></extra>",
         "hovertext": [
          "Нижний Новгород"
         ],
         "legendgroup": "Нижний Новгород",
         "marker": {
          "color": "#BCBD22",
          "symbol": "circle"
         },
         "mode": "markers",
         "name": "Нижний Новгород",
         "orientation": "v",
         "showlegend": true,
         "type": "scatter",
         "x": [
          24.8
         ],
         "xaxis": "x",
         "y": [
          42469.5
         ],
         "yaxis": "y"
        },
        {
         "hovertemplate": "<b>%{hovertext}</b><br><br>город=Уфа<br>mean_size_house=%{x}<br>mean_wage=%{y}<extra></extra>",
         "hovertext": [
          "Уфа"
         ],
         "legendgroup": "Уфа",
         "marker": {
          "color": "#17BECF",
          "symbol": "circle"
         },
         "mode": "markers",
         "name": "Уфа",
         "orientation": "v",
         "showlegend": true,
         "type": "scatter",
         "x": [
          23.6
         ],
         "xaxis": "x",
         "y": [
          42312.8
         ],
         "yaxis": "y"
        },
        {
         "hovertemplate": "<b>%{hovertext}</b><br><br>город=Чита<br>mean_size_house=%{x}<br>mean_wage=%{y}<extra></extra>",
         "hovertext": [
          "Чита"
         ],
         "legendgroup": "Чита",
         "marker": {
          "color": "#1F77B4",
          "symbol": "circle"
         },
         "mode": "markers",
         "name": "Чита",
         "orientation": "v",
         "showlegend": true,
         "type": "scatter",
         "x": [
          21
         ],
         "xaxis": "x",
         "y": [
          42204.2
         ],
         "yaxis": "y"
        },
        {
         "hovertemplate": "<b>%{hovertext}</b><br><br>город=Краснодар<br>mean_size_house=%{x}<br>mean_wage=%{y}<extra></extra>",
         "hovertext": [
          "Краснодар"
         ],
         "legendgroup": "Краснодар",
         "marker": {
          "color": "#FF7F0E",
          "symbol": "circle"
         },
         "mode": "markers",
         "name": "Краснодар",
         "orientation": "v",
         "showlegend": true,
         "type": "scatter",
         "x": [
          34.2
         ],
         "xaxis": "x",
         "y": [
          42028.7
         ],
         "yaxis": "y"
        },
        {
         "hovertemplate": "<b>%{hovertext}</b><br><br>город=Новосибирск<br>mean_size_house=%{x}<br>mean_wage=%{y}<extra></extra>",
         "hovertext": [
          "Новосибирск"
         ],
         "legendgroup": "Новосибирск",
         "marker": {
          "color": "#2CA02C",
          "symbol": "circle"
         },
         "mode": "markers",
         "name": "Новосибирск",
         "orientation": "v",
         "showlegend": true,
         "type": "scatter",
         "x": [
          25.1
         ],
         "xaxis": "x",
         "y": [
          41884
         ],
         "yaxis": "y"
        },
        {
         "hovertemplate": "<b>%{hovertext}</b><br><br>город=Благовещенск<br>mean_size_house=%{x}<br>mean_wage=%{y}<extra></extra>",
         "hovertext": [
          "Благовещенск"
         ],
         "legendgroup": "Благовещенск",
         "marker": {
          "color": "#D62728",
          "symbol": "circle"
         },
         "mode": "markers",
         "name": "Благовещенск",
         "orientation": "v",
         "showlegend": true,
         "type": "scatter",
         "x": [
          25.2
         ],
         "xaxis": "x",
         "y": [
          41808.1
         ],
         "yaxis": "y"
        },
        {
         "hovertemplate": "<b>%{hovertext}</b><br><br>город=Кызыл<br>mean_size_house=%{x}<br>mean_wage=%{y}<extra></extra>",
         "hovertext": [
          "Кызыл"
         ],
         "legendgroup": "Кызыл",
         "marker": {
          "color": "#9467BD",
          "symbol": "circle"
         },
         "mode": "markers",
         "name": "Кызыл",
         "orientation": "v",
         "showlegend": true,
         "type": "scatter",
         "x": [
          15.4
         ],
         "xaxis": "x",
         "y": [
          41383
         ],
         "yaxis": "y"
        },
        {
         "hovertemplate": "<b>%{hovertext}</b><br><br>город=Пермь<br>mean_size_house=%{x}<br>mean_wage=%{y}<extra></extra>",
         "hovertext": [
          "Пермь"
         ],
         "legendgroup": "Пермь",
         "marker": {
          "color": "#8C564B",
          "symbol": "circle"
         },
         "mode": "markers",
         "name": "Пермь",
         "orientation": "v",
         "showlegend": true,
         "type": "scatter",
         "x": [
          23.5
         ],
         "xaxis": "x",
         "y": [
          41325.9
         ],
         "yaxis": "y"
        },
        {
         "hovertemplate": "<b>%{hovertext}</b><br><br>город=Петрозаводск<br>mean_size_house=%{x}<br>mean_wage=%{y}<extra></extra>",
         "hovertext": [
          "Петрозаводск"
         ],
         "legendgroup": "Петрозаводск",
         "marker": {
          "color": "#E377C2",
          "symbol": "circle"
         },
         "mode": "markers",
         "name": "Петрозаводск",
         "orientation": "v",
         "showlegend": true,
         "type": "scatter",
         "x": [
          25.4
         ],
         "xaxis": "x",
         "y": [
          41234.4
         ],
         "yaxis": "y"
        },
        {
         "hovertemplate": "<b>%{hovertext}</b><br><br>город=Абакан<br>mean_size_house=%{x}<br>mean_wage=%{y}<extra></extra>",
         "hovertext": [
          "Абакан"
         ],
         "legendgroup": "Абакан",
         "marker": {
          "color": "#7F7F7F",
          "symbol": "circle"
         },
         "mode": "markers",
         "name": "Абакан",
         "orientation": "v",
         "showlegend": true,
         "type": "scatter",
         "x": [
          24.1
         ],
         "xaxis": "x",
         "y": [
          41203.1
         ],
         "yaxis": "y"
        },
        {
         "hovertemplate": "<b>%{hovertext}</b><br><br>город=Казань<br>mean_size_house=%{x}<br>mean_wage=%{y}<extra></extra>",
         "hovertext": [
          "Казань"
         ],
         "legendgroup": "Казань",
         "marker": {
          "color": "#BCBD22",
          "symbol": "circle"
         },
         "mode": "markers",
         "name": "Казань",
         "orientation": "v",
         "showlegend": true,
         "type": "scatter",
         "x": [
          25.3
         ],
         "xaxis": "x",
         "y": [
          41020.8
         ],
         "yaxis": "y"
        },
        {
         "hovertemplate": "<b>%{hovertext}</b><br><br>город=Ростов-на-Дону<br>mean_size_house=%{x}<br>mean_wage=%{y}<extra></extra>",
         "hovertext": [
          "Ростов-на-Дону"
         ],
         "legendgroup": "Ростов-на-Дону",
         "marker": {
          "color": "#17BECF",
          "symbol": "circle"
         },
         "mode": "markers",
         "name": "Ростов-на-Дону",
         "orientation": "v",
         "showlegend": true,
         "type": "scatter",
         "x": [
          26.9
         ],
         "xaxis": "x",
         "y": [
          40556.7
         ],
         "yaxis": "y"
        },
        {
         "hovertemplate": "<b>%{hovertext}</b><br><br>город=Калуга<br>mean_size_house=%{x}<br>mean_wage=%{y}<extra></extra>",
         "hovertext": [
          "Калуга"
         ],
         "legendgroup": "Калуга",
         "marker": {
          "color": "#1F77B4",
          "symbol": "circle"
         },
         "mode": "markers",
         "name": "Калуга",
         "orientation": "v",
         "showlegend": true,
         "type": "scatter",
         "x": [
          25.3
         ],
         "xaxis": "x",
         "y": [
          39653.2
         ],
         "yaxis": "y"
        },
        {
         "hovertemplate": "<b>%{hovertext}</b><br><br>город=Кемерово<br>mean_size_house=%{x}<br>mean_wage=%{y}<extra></extra>",
         "hovertext": [
          "Кемерово"
         ],
         "legendgroup": "Кемерово",
         "marker": {
          "color": "#FF7F0E",
          "symbol": "circle"
         },
         "mode": "markers",
         "name": "Кемерово",
         "orientation": "v",
         "showlegend": true,
         "type": "scatter",
         "x": [
          23.2
         ],
         "xaxis": "x",
         "y": [
          39317.8
         ],
         "yaxis": "y"
        },
        {
         "hovertemplate": "<b>%{hovertext}</b><br><br>город=Самара<br>mean_size_house=%{x}<br>mean_wage=%{y}<extra></extra>",
         "hovertext": [
          "Самара"
         ],
         "legendgroup": "Самара",
         "marker": {
          "color": "#2CA02C",
          "symbol": "circle"
         },
         "mode": "markers",
         "name": "Самара",
         "orientation": "v",
         "showlegend": true,
         "type": "scatter",
         "x": [
          28.1
         ],
         "xaxis": "x",
         "y": [
          39298.9
         ],
         "yaxis": "y"
        },
        {
         "hovertemplate": "<b>%{hovertext}</b><br><br>город=Тула<br>mean_size_house=%{x}<br>mean_wage=%{y}<extra></extra>",
         "hovertext": [
          "Тула"
         ],
         "legendgroup": "Тула",
         "marker": {
          "color": "#D62728",
          "symbol": "circle"
         },
         "mode": "markers",
         "name": "Тула",
         "orientation": "v",
         "showlegend": true,
         "type": "scatter",
         "x": [
          28.6
         ],
         "xaxis": "x",
         "y": [
          39180.2
         ],
         "yaxis": "y"
        },
        {
         "hovertemplate": "<b>%{hovertext}</b><br><br>город=Калининград<br>mean_size_house=%{x}<br>mean_wage=%{y}<extra></extra>",
         "hovertext": [
          "Калининград"
         ],
         "legendgroup": "Калининград",
         "marker": {
          "color": "#9467BD",
          "symbol": "circle"
         },
         "mode": "markers",
         "name": "Калининград",
         "orientation": "v",
         "showlegend": true,
         "type": "scatter",
         "x": [
          28.7
         ],
         "xaxis": "x",
         "y": [
          38686
         ],
         "yaxis": "y"
        },
        {
         "hovertemplate": "<b>%{hovertext}</b><br><br>город=Челябинск<br>mean_size_house=%{x}<br>mean_wage=%{y}<extra></extra>",
         "hovertext": [
          "Челябинск"
         ],
         "legendgroup": "Челябинск",
         "marker": {
          "color": "#8C564B",
          "symbol": "circle"
         },
         "mode": "markers",
         "name": "Челябинск",
         "orientation": "v",
         "showlegend": true,
         "type": "scatter",
         "x": [
          25.4
         ],
         "xaxis": "x",
         "y": [
          38228.1
         ],
         "yaxis": "y"
        },
        {
         "hovertemplate": "<b>%{hovertext}</b><br><br>город=Биробиджан<br>mean_size_house=%{x}<br>mean_wage=%{y}<extra></extra>",
         "hovertext": [
          "Биробиджан"
         ],
         "legendgroup": "Биробиджан",
         "marker": {
          "color": "#E377C2",
          "symbol": "circle"
         },
         "mode": "markers",
         "name": "Биробиджан",
         "orientation": "v",
         "showlegend": true,
         "type": "scatter",
         "x": [
          23
         ],
         "xaxis": "x",
         "y": [
          37587.3
         ],
         "yaxis": "y"
        },
        {
         "hovertemplate": "<b>%{hovertext}</b><br><br>город=Ярославль<br>mean_size_house=%{x}<br>mean_wage=%{y}<extra></extra>",
         "hovertext": [
          "Ярославль"
         ],
         "legendgroup": "Ярославль",
         "marker": {
          "color": "#7F7F7F",
          "symbol": "circle"
         },
         "mode": "markers",
         "name": "Ярославль",
         "orientation": "v",
         "showlegend": true,
         "type": "scatter",
         "x": [
          24.1
         ],
         "xaxis": "x",
         "y": [
          37533.7
         ],
         "yaxis": "y"
        },
        {
         "hovertemplate": "<b>%{hovertext}</b><br><br>город=Великий Новгород<br>mean_size_house=%{x}<br>mean_wage=%{y}<extra></extra>",
         "hovertext": [
          "Великий Новгород"
         ],
         "legendgroup": "Великий Новгород",
         "marker": {
          "color": "#BCBD22",
          "symbol": "circle"
         },
         "mode": "markers",
         "name": "Великий Новгород",
         "orientation": "v",
         "showlegend": true,
         "type": "scatter",
         "x": [
          25
         ],
         "xaxis": "x",
         "y": [
          36640.1
         ],
         "yaxis": "y"
        },
        {
         "hovertemplate": "<b>%{hovertext}</b><br><br>город=Улан-Удэ<br>mean_size_house=%{x}<br>mean_wage=%{y}<extra></extra>",
         "hovertext": [
          "Улан-Удэ"
         ],
         "legendgroup": "Улан-Удэ",
         "marker": {
          "color": "#17BECF",
          "symbol": "circle"
         },
         "mode": "markers",
         "name": "Улан-Удэ",
         "orientation": "v",
         "showlegend": true,
         "type": "scatter",
         "x": [
          20.1
         ],
         "xaxis": "x",
         "y": [
          36536.7
         ],
         "yaxis": "y"
        },
        {
         "hovertemplate": "<b>%{hovertext}</b><br><br>город=Магас<br>mean_size_house=%{x}<br>mean_wage=%{y}<extra></extra>",
         "hovertext": [
          "Магас"
         ],
         "legendgroup": "Магас",
         "marker": {
          "color": "#1F77B4",
          "symbol": "circle"
         },
         "mode": "markers",
         "name": "Магас",
         "orientation": "v",
         "showlegend": true,
         "type": "scatter",
         "x": [
          67.3
         ],
         "xaxis": "x",
         "y": [
          36523.2
         ],
         "yaxis": "y"
        },
        {
         "hovertemplate": "<b>%{hovertext}</b><br><br>город=Оренбург<br>mean_size_house=%{x}<br>mean_wage=%{y}<extra></extra>",
         "hovertext": [
          "Оренбург"
         ],
         "legendgroup": "Оренбург",
         "marker": {
          "color": "#FF7F0E",
          "symbol": "circle"
         },
         "mode": "markers",
         "name": "Оренбург",
         "orientation": "v",
         "showlegend": true,
         "type": "scatter",
         "x": [
          24.7
         ],
         "xaxis": "x",
         "y": [
          36516.2
         ],
         "yaxis": "y"
        },
        {
         "hovertemplate": "<b>%{hovertext}</b><br><br>город=Липецк<br>mean_size_house=%{x}<br>mean_wage=%{y}<extra></extra>",
         "hovertext": [
          "Липецк"
         ],
         "legendgroup": "Липецк",
         "marker": {
          "color": "#2CA02C",
          "symbol": "circle"
         },
         "mode": "markers",
         "name": "Липецк",
         "orientation": "v",
         "showlegend": true,
         "type": "scatter",
         "x": [
          27.1
         ],
         "xaxis": "x",
         "y": [
          36194.5
         ],
         "yaxis": "y"
        },
        {
         "hovertemplate": "<b>%{hovertext}</b><br><br>город=Тверь<br>mean_size_house=%{x}<br>mean_wage=%{y}<extra></extra>",
         "hovertext": [
          "Тверь"
         ],
         "legendgroup": "Тверь",
         "marker": {
          "color": "#D62728",
          "symbol": "circle"
         },
         "mode": "markers",
         "name": "Тверь",
         "orientation": "v",
         "showlegend": true,
         "type": "scatter",
         "x": [
          26.2
         ],
         "xaxis": "x",
         "y": [
          36097
         ],
         "yaxis": "y"
        },
        {
         "hovertemplate": "<b>%{hovertext}</b><br><br>город=Вологда<br>mean_size_house=%{x}<br>mean_wage=%{y}<extra></extra>",
         "hovertext": [
          "Вологда"
         ],
         "legendgroup": "Вологда",
         "marker": {
          "color": "#9467BD",
          "symbol": "circle"
         },
         "mode": "markers",
         "name": "Вологда",
         "orientation": "v",
         "showlegend": true,
         "type": "scatter",
         "x": [
          26.6
         ],
         "xaxis": "x",
         "y": [
          36072.3
         ],
         "yaxis": "y"
        },
        {
         "hovertemplate": "<b>%{hovertext}</b><br><br>город=Рязань<br>mean_size_house=%{x}<br>mean_wage=%{y}<extra></extra>",
         "hovertext": [
          "Рязань"
         ],
         "legendgroup": "Рязань",
         "marker": {
          "color": "#8C564B",
          "symbol": "circle"
         },
         "mode": "markers",
         "name": "Рязань",
         "orientation": "v",
         "showlegend": true,
         "type": "scatter",
         "x": [
          26.6
         ],
         "xaxis": "x",
         "y": [
          36024.7
         ],
         "yaxis": "y"
        },
        {
         "hovertemplate": "<b>%{hovertext}</b><br><br>город=Омск<br>mean_size_house=%{x}<br>mean_wage=%{y}<extra></extra>",
         "hovertext": [
          "Омск"
         ],
         "legendgroup": "Омск",
         "marker": {
          "color": "#E377C2",
          "symbol": "circle"
         },
         "mode": "markers",
         "name": "Омск",
         "orientation": "v",
         "showlegend": true,
         "type": "scatter",
         "x": [
          24.1
         ],
         "xaxis": "x",
         "y": [
          35602
         ],
         "yaxis": "y"
        },
        {
         "hovertemplate": "<b>%{hovertext}</b><br><br>город=Воронеж<br>mean_size_house=%{x}<br>mean_wage=%{y}<extra></extra>",
         "hovertext": [
          "Воронеж"
         ],
         "legendgroup": "Воронеж",
         "marker": {
          "color": "#7F7F7F",
          "symbol": "circle"
         },
         "mode": "markers",
         "name": "Воронеж",
         "orientation": "v",
         "showlegend": true,
         "type": "scatter",
         "x": [
          28.1
         ],
         "xaxis": "x",
         "y": [
          35202.3
         ],
         "yaxis": "y"
        },
        {
         "hovertemplate": "<b>%{hovertext}</b><br><br>город=Астрахань<br>mean_size_house=%{x}<br>mean_wage=%{y}<extra></extra>",
         "hovertext": [
          "Астрахань"
         ],
         "legendgroup": "Астрахань",
         "marker": {
          "color": "#BCBD22",
          "symbol": "circle"
         },
         "mode": "markers",
         "name": "Астрахань",
         "orientation": "v",
         "showlegend": true,
         "type": "scatter",
         "x": [
          24.8
         ],
         "xaxis": "x",
         "y": [
          35179
         ],
         "yaxis": "y"
        },
        {
         "hovertemplate": "<b>%{hovertext}</b><br><br>город=Ижевск<br>mean_size_house=%{x}<br>mean_wage=%{y}<extra></extra>",
         "hovertext": [
          "Ижевск"
         ],
         "legendgroup": "Ижевск",
         "marker": {
          "color": "#17BECF",
          "symbol": "circle"
         },
         "mode": "markers",
         "name": "Ижевск",
         "orientation": "v",
         "showlegend": true,
         "type": "scatter",
         "x": [
          21.1
         ],
         "xaxis": "x",
         "y": [
          35011.6
         ],
         "yaxis": "y"
        },
        {
         "hovertemplate": "<b>%{hovertext}</b><br><br>город=Горно-Алтайск<br>mean_size_house=%{x}<br>mean_wage=%{y}<extra></extra>",
         "hovertext": [
          "Горно-Алтайск"
         ],
         "legendgroup": "Горно-Алтайск",
         "marker": {
          "color": "#1F77B4",
          "symbol": "circle"
         },
         "mode": "markers",
         "name": "Горно-Алтайск",
         "orientation": "v",
         "showlegend": true,
         "type": "scatter",
         "x": [
          23.6
         ],
         "xaxis": "x",
         "y": [
          33956.9
         ],
         "yaxis": "y"
        },
        {
         "hovertemplate": "<b>%{hovertext}</b><br><br>город=Волгоград <br>mean_size_house=%{x}<br>mean_wage=%{y}<extra></extra>",
         "hovertext": [
          "Волгоград "
         ],
         "legendgroup": "Волгоград ",
         "marker": {
          "color": "#FF7F0E",
          "symbol": "circle"
         },
         "mode": "markers",
         "name": "Волгоград ",
         "orientation": "v",
         "showlegend": true,
         "type": "scatter",
         "x": [
          23.9
         ],
         "xaxis": "x",
         "y": [
          33718.9
         ],
         "yaxis": "y"
        },
        {
         "hovertemplate": "<b>%{hovertext}</b><br><br>город=Белгород<br>mean_size_house=%{x}<br>mean_wage=%{y}<extra></extra>",
         "hovertext": [
          "Белгород"
         ],
         "legendgroup": "Белгород",
         "marker": {
          "color": "#2CA02C",
          "symbol": "circle"
         },
         "mode": "markers",
         "name": "Белгород",
         "orientation": "v",
         "showlegend": true,
         "type": "scatter",
         "x": [
          24.8
         ],
         "xaxis": "x",
         "y": [
          33566.7
         ],
         "yaxis": "y"
        },
        {
         "hovertemplate": "<b>%{hovertext}</b><br><br>город=Ставрополь<br>mean_size_house=%{x}<br>mean_wage=%{y}<extra></extra>",
         "hovertext": [
          "Ставрополь"
         ],
         "legendgroup": "Ставрополь",
         "marker": {
          "color": "#D62728",
          "symbol": "circle"
         },
         "mode": "markers",
         "name": "Ставрополь",
         "orientation": "v",
         "showlegend": true,
         "type": "scatter",
         "x": [
          29.6
         ],
         "xaxis": "x",
         "y": [
          33290.1
         ],
         "yaxis": "y"
        },
        {
         "hovertemplate": "<b>%{hovertext}</b><br><br>город=Симферополь<br>mean_size_house=%{x}<br>mean_wage=%{y}<extra></extra>",
         "hovertext": [
          "Симферополь"
         ],
         "legendgroup": "Симферополь",
         "marker": {
          "color": "#9467BD",
          "symbol": "circle"
         },
         "mode": "markers",
         "name": "Симферополь",
         "orientation": "v",
         "showlegend": true,
         "type": "scatter",
         "x": [
          12.1
         ],
         "xaxis": "x",
         "y": [
          33279.7
         ],
         "yaxis": "y"
        },
        {
         "hovertemplate": "<b>%{hovertext}</b><br><br>город=Владимир<br>mean_size_house=%{x}<br>mean_wage=%{y}<extra></extra>",
         "hovertext": [
          "Владимир"
         ],
         "legendgroup": "Владимир",
         "marker": {
          "color": "#8C564B",
          "symbol": "circle"
         },
         "mode": "markers",
         "name": "Владимир",
         "orientation": "v",
         "showlegend": true,
         "type": "scatter",
         "x": [
          25.6
         ],
         "xaxis": "x",
         "y": [
          33213.1
         ],
         "yaxis": "y"
        },
        {
         "hovertemplate": "<b>%{hovertext}</b><br><br>город=Киров<br>mean_size_house=%{x}<br>mean_wage=%{y}<extra></extra>",
         "hovertext": [
          "Киров"
         ],
         "legendgroup": "Киров",
         "marker": {
          "color": "#E377C2",
          "symbol": "circle"
         },
         "mode": "markers",
         "name": "Киров",
         "orientation": "v",
         "showlegend": true,
         "type": "scatter",
         "x": [
          24.3
         ],
         "xaxis": "x",
         "y": [
          32720.3
         ],
         "yaxis": "y"
        },
        {
         "hovertemplate": "<b>%{hovertext}</b><br><br>город=Ульяновск<br>mean_size_house=%{x}<br>mean_wage=%{y}<extra></extra>",
         "hovertext": [
          "Ульяновск"
         ],
         "legendgroup": "Ульяновск",
         "marker": {
          "color": "#7F7F7F",
          "symbol": "circle"
         },
         "mode": "markers",
         "name": "Ульяновск",
         "orientation": "v",
         "showlegend": true,
         "type": "scatter",
         "x": [
          26
         ],
         "xaxis": "x",
         "y": [
          32555.7
         ],
         "yaxis": "y"
        },
        {
         "hovertemplate": "<b>%{hovertext}</b><br><br>город=Саратов<br>mean_size_house=%{x}<br>mean_wage=%{y}<extra></extra>",
         "hovertext": [
          "Саратов"
         ],
         "legendgroup": "Саратов",
         "marker": {
          "color": "#BCBD22",
          "symbol": "circle"
         },
         "mode": "markers",
         "name": "Саратов",
         "orientation": "v",
         "showlegend": true,
         "type": "scatter",
         "x": [
          28.9
         ],
         "xaxis": "x",
         "y": [
          32504.7
         ],
         "yaxis": "y"
        },
        {
         "hovertemplate": "<b>%{hovertext}</b><br><br>город=Смоленск<br>mean_size_house=%{x}<br>mean_wage=%{y}<extra></extra>",
         "hovertext": [
          "Смоленск"
         ],
         "legendgroup": "Смоленск",
         "marker": {
          "color": "#17BECF",
          "symbol": "circle"
         },
         "mode": "markers",
         "name": "Смоленск",
         "orientation": "v",
         "showlegend": true,
         "type": "scatter",
         "x": [
          27.1
         ],
         "xaxis": "x",
         "y": [
          31462
         ],
         "yaxis": "y"
        },
        {
         "hovertemplate": "<b>%{hovertext}</b><br><br>город=Курган<br>mean_size_house=%{x}<br>mean_wage=%{y}<extra></extra>",
         "hovertext": [
          "Курган"
         ],
         "legendgroup": "Курган",
         "marker": {
          "color": "#1F77B4",
          "symbol": "circle"
         },
         "mode": "markers",
         "name": "Курган",
         "orientation": "v",
         "showlegend": true,
         "type": "scatter",
         "x": [
          25.4
         ],
         "xaxis": "x",
         "y": [
          31201.4
         ],
         "yaxis": "y"
        },
        {
         "hovertemplate": "<b>%{hovertext}</b><br><br>город=Пенза<br>mean_size_house=%{x}<br>mean_wage=%{y}<extra></extra>",
         "hovertext": [
          "Пенза"
         ],
         "legendgroup": "Пенза",
         "marker": {
          "color": "#FF7F0E",
          "symbol": "circle"
         },
         "mode": "markers",
         "name": "Пенза",
         "orientation": "v",
         "showlegend": true,
         "type": "scatter",
         "x": [
          28.7
         ],
         "xaxis": "x",
         "y": [
          31129.7
         ],
         "yaxis": "y"
        },
        {
         "hovertemplate": "<b>%{hovertext}</b><br><br>город=Йошкар-Ола<br>mean_size_house=%{x}<br>mean_wage=%{y}<extra></extra>",
         "hovertext": [
          "Йошкар-Ола"
         ],
         "legendgroup": "Йошкар-Ола",
         "marker": {
          "color": "#2CA02C",
          "symbol": "circle"
         },
         "mode": "markers",
         "name": "Йошкар-Ола",
         "orientation": "v",
         "showlegend": true,
         "type": "scatter",
         "x": [
          25.5
         ],
         "xaxis": "x",
         "y": [
          31100.1
         ],
         "yaxis": "y"
        },
        {
         "hovertemplate": "<b>%{hovertext}</b><br><br>город=Барнаул<br>mean_size_house=%{x}<br>mean_wage=%{y}<extra></extra>",
         "hovertext": [
          "Барнаул"
         ],
         "legendgroup": "Барнаул",
         "marker": {
          "color": "#D62728",
          "symbol": "circle"
         },
         "mode": "markers",
         "name": "Барнаул",
         "orientation": "v",
         "showlegend": true,
         "type": "scatter",
         "x": [
          23.9
         ],
         "xaxis": "x",
         "y": [
          31013.5
         ],
         "yaxis": "y"
        },
        {
         "hovertemplate": "<b>%{hovertext}</b><br><br>город=Брянск<br>mean_size_house=%{x}<br>mean_wage=%{y}<extra></extra>",
         "hovertext": [
          "Брянск"
         ],
         "legendgroup": "Брянск",
         "marker": {
          "color": "#9467BD",
          "symbol": "circle"
         },
         "mode": "markers",
         "name": "Брянск",
         "orientation": "v",
         "showlegend": true,
         "type": "scatter",
         "x": [
          29.2
         ],
         "xaxis": "x",
         "y": [
          30540.9
         ],
         "yaxis": "y"
        },
        {
         "hovertemplate": "<b>%{hovertext}</b><br><br>город=Псков<br>mean_size_house=%{x}<br>mean_wage=%{y}<extra></extra>",
         "hovertext": [
          "Псков"
         ],
         "legendgroup": "Псков",
         "marker": {
          "color": "#8C564B",
          "symbol": "circle"
         },
         "mode": "markers",
         "name": "Псков",
         "orientation": "v",
         "showlegend": true,
         "type": "scatter",
         "x": [
          25.3
         ],
         "xaxis": "x",
         "y": [
          30539.1
         ],
         "yaxis": "y"
        },
        {
         "hovertemplate": "<b>%{hovertext}</b><br><br>город=Чебоксары<br>mean_size_house=%{x}<br>mean_wage=%{y}<extra></extra>",
         "hovertext": [
          "Чебоксары"
         ],
         "legendgroup": "Чебоксары",
         "marker": {
          "color": "#E377C2",
          "symbol": "circle"
         },
         "mode": "markers",
         "name": "Чебоксары",
         "orientation": "v",
         "showlegend": true,
         "type": "scatter",
         "x": [
          23.4
         ],
         "xaxis": "x",
         "y": [
          30510.3
         ],
         "yaxis": "y"
        },
        {
         "hovertemplate": "<b>%{hovertext}</b><br><br>город=Грозный<br>mean_size_house=%{x}<br>mean_wage=%{y}<extra></extra>",
         "hovertext": [
          "Грозный"
         ],
         "legendgroup": "Грозный",
         "marker": {
          "color": "#7F7F7F",
          "symbol": "circle"
         },
         "mode": "markers",
         "name": "Грозный",
         "orientation": "v",
         "showlegend": true,
         "type": "scatter",
         "x": [
          26.7
         ],
         "xaxis": "x",
         "y": [
          30455
         ],
         "yaxis": "y"
        },
        {
         "hovertemplate": "<b>%{hovertext}</b><br><br>город=Кострома<br>mean_size_house=%{x}<br>mean_wage=%{y}<extra></extra>",
         "hovertext": [
          "Кострома"
         ],
         "legendgroup": "Кострома",
         "marker": {
          "color": "#BCBD22",
          "symbol": "circle"
         },
         "mode": "markers",
         "name": "Кострома",
         "orientation": "v",
         "showlegend": true,
         "type": "scatter",
         "x": [
          25.4
         ],
         "xaxis": "x",
         "y": [
          30365.5
         ],
         "yaxis": "y"
        },
        {
         "hovertemplate": "<b>%{hovertext}</b><br><br>город=Курск<br>mean_size_house=%{x}<br>mean_wage=%{y}<extra></extra>",
         "hovertext": [
          "Курск"
         ],
         "legendgroup": "Курск",
         "marker": {
          "color": "#17BECF",
          "symbol": "circle"
         },
         "mode": "markers",
         "name": "Курск",
         "orientation": "v",
         "showlegend": true,
         "type": "scatter",
         "x": [
          27.1
         ],
         "xaxis": "x",
         "y": [
          29746.8
         ],
         "yaxis": "y"
        },
        {
         "hovertemplate": "<b>%{hovertext}</b><br><br>город=Орел<br>mean_size_house=%{x}<br>mean_wage=%{y}<extra></extra>",
         "hovertext": [
          "Орел"
         ],
         "legendgroup": "Орел",
         "marker": {
          "color": "#1F77B4",
          "symbol": "circle"
         },
         "mode": "markers",
         "name": "Орел",
         "orientation": "v",
         "showlegend": true,
         "type": "scatter",
         "x": [
          29.1
         ],
         "xaxis": "x",
         "y": [
          29583.6
         ],
         "yaxis": "y"
        },
        {
         "hovertemplate": "<b>%{hovertext}</b><br><br>город=Иваново<br>mean_size_house=%{x}<br>mean_wage=%{y}<extra></extra>",
         "hovertext": [
          "Иваново"
         ],
         "legendgroup": "Иваново",
         "marker": {
          "color": "#FF7F0E",
          "symbol": "circle"
         },
         "mode": "markers",
         "name": "Иваново",
         "orientation": "v",
         "showlegend": true,
         "type": "scatter",
         "x": [
          24.3
         ],
         "xaxis": "x",
         "y": [
          29496.4
         ],
         "yaxis": "y"
        },
        {
         "hovertemplate": "<b>%{hovertext}</b><br><br>город=Тамбов<br>mean_size_house=%{x}<br>mean_wage=%{y}<extra></extra>",
         "hovertext": [
          "Тамбов"
         ],
         "legendgroup": "Тамбов",
         "marker": {
          "color": "#2CA02C",
          "symbol": "circle"
         },
         "mode": "markers",
         "name": "Тамбов",
         "orientation": "v",
         "showlegend": true,
         "type": "scatter",
         "x": [
          26.6
         ],
         "xaxis": "x",
         "y": [
          28931.7
         ],
         "yaxis": "y"
        },
        {
         "hovertemplate": "<b>%{hovertext}</b><br><br>город=Махачкала<br>mean_size_house=%{x}<br>mean_wage=%{y}<extra></extra>",
         "hovertext": [
          "Махачкала"
         ],
         "legendgroup": "Махачкала",
         "marker": {
          "color": "#D62728",
          "symbol": "circle"
         },
         "mode": "markers",
         "name": "Махачкала",
         "orientation": "v",
         "showlegend": true,
         "type": "scatter",
         "x": [
          17.5
         ],
         "xaxis": "x",
         "y": [
          28610.2
         ],
         "yaxis": "y"
        },
        {
         "hovertemplate": "<b>%{hovertext}</b><br><br>город=Саранск<br>mean_size_house=%{x}<br>mean_wage=%{y}<extra></extra>",
         "hovertext": [
          "Саранск"
         ],
         "legendgroup": "Саранск",
         "marker": {
          "color": "#9467BD",
          "symbol": "circle"
         },
         "mode": "markers",
         "name": "Саранск",
         "orientation": "v",
         "showlegend": true,
         "type": "scatter",
         "x": [
          23.7
         ],
         "xaxis": "x",
         "y": [
          28210.8
         ],
         "yaxis": "y"
        },
        {
         "hovertemplate": "<b>%{hovertext}</b><br><br>город=Владикавказ<br>mean_size_house=%{x}<br>mean_wage=%{y}<extra></extra>",
         "hovertext": [
          "Владикавказ"
         ],
         "legendgroup": "Владикавказ",
         "marker": {
          "color": "#8C564B",
          "symbol": "circle"
         },
         "mode": "markers",
         "name": "Владикавказ",
         "orientation": "v",
         "showlegend": true,
         "type": "scatter",
         "x": [
          35.3
         ],
         "xaxis": "x",
         "y": [
          28184.3
         ],
         "yaxis": "y"
        },
        {
         "hovertemplate": "<b>%{hovertext}</b><br><br>город=Нальчик<br>mean_size_house=%{x}<br>mean_wage=%{y}<extra></extra>",
         "hovertext": [
          "Нальчик"
         ],
         "legendgroup": "Нальчик",
         "marker": {
          "color": "#E377C2",
          "symbol": "circle"
         },
         "mode": "markers",
         "name": "Нальчик",
         "orientation": "v",
         "showlegend": true,
         "type": "scatter",
         "x": [
          20
         ],
         "xaxis": "x",
         "y": [
          27958.3
         ],
         "yaxis": "y"
        },
        {
         "hovertemplate": "<b>%{hovertext}</b><br><br>город=Севастополь<br>mean_size_house=%{x}<br>mean_wage=%{y}<extra></extra>",
         "hovertext": [
          "Севастополь"
         ],
         "legendgroup": "Севастополь",
         "marker": {
          "color": "#7F7F7F",
          "symbol": "circle"
         },
         "mode": "markers",
         "name": "Севастополь",
         "orientation": "v",
         "showlegend": true,
         "type": "scatter",
         "x": [
          25.5
         ],
         "xaxis": "x",
         "y": [
          27687
         ],
         "yaxis": "y"
        },
        {
         "hovertemplate": "<b>%{hovertext}</b><br><br>город=Майкоп<br>mean_size_house=%{x}<br>mean_wage=%{y}<extra></extra>",
         "hovertext": [
          "Майкоп"
         ],
         "legendgroup": "Майкоп",
         "marker": {
          "color": "#BCBD22",
          "symbol": "circle"
         },
         "mode": "markers",
         "name": "Майкоп",
         "orientation": "v",
         "showlegend": true,
         "type": "scatter",
         "x": [
          28.6
         ],
         "xaxis": "x",
         "y": [
          27481.1
         ],
         "yaxis": "y"
        },
        {
         "hovertemplate": "<b>%{hovertext}</b><br><br>город=Черкесск<br>mean_size_house=%{x}<br>mean_wage=%{y}<extra></extra>",
         "hovertext": [
          "Черкесск"
         ],
         "legendgroup": "Черкесск",
         "marker": {
          "color": "#17BECF",
          "symbol": "circle"
         },
         "mode": "markers",
         "name": "Черкесск",
         "orientation": "v",
         "showlegend": true,
         "type": "scatter",
         "x": [
          24.4
         ],
         "xaxis": "x",
         "y": [
          26960.8
         ],
         "yaxis": "y"
        },
        {
         "hovertemplate": "<b>%{hovertext}</b><br><br>город=Элиста<br>mean_size_house=%{x}<br>mean_wage=%{y}<extra></extra>",
         "hovertext": [
          "Элиста"
         ],
         "legendgroup": "Элиста",
         "marker": {
          "color": "#1F77B4",
          "symbol": "circle"
         },
         "mode": "markers",
         "name": "Элиста",
         "orientation": "v",
         "showlegend": true,
         "type": "scatter",
         "x": [
          29.1
         ],
         "xaxis": "x",
         "y": [
          26639.8
         ],
         "yaxis": "y"
        },
        {
         "hovertemplate": "<b>%{hovertext}</b><br><br>город=Москва<br>mean_size_house=%{x}<br>mean_wage=%{y}<extra></extra>",
         "hovertext": [
          "Москва"
         ],
         "legendgroup": "Москва",
         "marker": {
          "color": "#FF7F0E",
          "symbol": "circle"
         },
         "mode": "markers",
         "name": "Москва",
         "orientation": "v",
         "showlegend": true,
         "type": "scatter",
         "x": [
          19.3
         ],
         "xaxis": "x",
         "y": [
          73812
         ],
         "yaxis": "y"
        },
        {
         "hovertemplate": "<b>%{hovertext}</b><br><br>город=Санкт-Петербург<br>mean_size_house=%{x}<br>mean_wage=%{y}<extra></extra>",
         "hovertext": [
          "Санкт-Петербург"
         ],
         "legendgroup": "Санкт-Петербург",
         "marker": {
          "color": "#2CA02C",
          "symbol": "circle"
         },
         "mode": "markers",
         "name": "Санкт-Петербург",
         "orientation": "v",
         "showlegend": true,
         "type": "scatter",
         "x": [
          24.9
         ],
         "xaxis": "x",
         "y": [
          53740
         ],
         "yaxis": "y"
        }
       ],
       "layout": {
        "legend": {
         "title": {
          "text": "город"
         },
         "tracegroupgap": 0
        },
        "margin": {
         "t": 60
        },
        "showlegend": false,
        "template": {
         "data": {
          "bar": [
           {
            "error_x": {
             "color": "rgb(36,36,36)"
            },
            "error_y": {
             "color": "rgb(36,36,36)"
            },
            "marker": {
             "line": {
              "color": "white",
              "width": 0.5
             },
             "pattern": {
              "fillmode": "overlay",
              "size": 10,
              "solidity": 0.2
             }
            },
            "type": "bar"
           }
          ],
          "barpolar": [
           {
            "marker": {
             "line": {
              "color": "white",
              "width": 0.5
             },
             "pattern": {
              "fillmode": "overlay",
              "size": 10,
              "solidity": 0.2
             }
            },
            "type": "barpolar"
           }
          ],
          "carpet": [
           {
            "aaxis": {
             "endlinecolor": "rgb(36,36,36)",
             "gridcolor": "white",
             "linecolor": "white",
             "minorgridcolor": "white",
             "startlinecolor": "rgb(36,36,36)"
            },
            "baxis": {
             "endlinecolor": "rgb(36,36,36)",
             "gridcolor": "white",
             "linecolor": "white",
             "minorgridcolor": "white",
             "startlinecolor": "rgb(36,36,36)"
            },
            "type": "carpet"
           }
          ],
          "choropleth": [
           {
            "colorbar": {
             "outlinewidth": 1,
             "tickcolor": "rgb(36,36,36)",
             "ticks": "outside"
            },
            "type": "choropleth"
           }
          ],
          "contour": [
           {
            "colorbar": {
             "outlinewidth": 1,
             "tickcolor": "rgb(36,36,36)",
             "ticks": "outside"
            },
            "colorscale": [
             [
              0,
              "#440154"
             ],
             [
              0.1111111111111111,
              "#482878"
             ],
             [
              0.2222222222222222,
              "#3e4989"
             ],
             [
              0.3333333333333333,
              "#31688e"
             ],
             [
              0.4444444444444444,
              "#26828e"
             ],
             [
              0.5555555555555556,
              "#1f9e89"
             ],
             [
              0.6666666666666666,
              "#35b779"
             ],
             [
              0.7777777777777778,
              "#6ece58"
             ],
             [
              0.8888888888888888,
              "#b5de2b"
             ],
             [
              1,
              "#fde725"
             ]
            ],
            "type": "contour"
           }
          ],
          "contourcarpet": [
           {
            "colorbar": {
             "outlinewidth": 1,
             "tickcolor": "rgb(36,36,36)",
             "ticks": "outside"
            },
            "type": "contourcarpet"
           }
          ],
          "heatmap": [
           {
            "colorbar": {
             "outlinewidth": 1,
             "tickcolor": "rgb(36,36,36)",
             "ticks": "outside"
            },
            "colorscale": [
             [
              0,
              "#440154"
             ],
             [
              0.1111111111111111,
              "#482878"
             ],
             [
              0.2222222222222222,
              "#3e4989"
             ],
             [
              0.3333333333333333,
              "#31688e"
             ],
             [
              0.4444444444444444,
              "#26828e"
             ],
             [
              0.5555555555555556,
              "#1f9e89"
             ],
             [
              0.6666666666666666,
              "#35b779"
             ],
             [
              0.7777777777777778,
              "#6ece58"
             ],
             [
              0.8888888888888888,
              "#b5de2b"
             ],
             [
              1,
              "#fde725"
             ]
            ],
            "type": "heatmap"
           }
          ],
          "heatmapgl": [
           {
            "colorbar": {
             "outlinewidth": 1,
             "tickcolor": "rgb(36,36,36)",
             "ticks": "outside"
            },
            "colorscale": [
             [
              0,
              "#440154"
             ],
             [
              0.1111111111111111,
              "#482878"
             ],
             [
              0.2222222222222222,
              "#3e4989"
             ],
             [
              0.3333333333333333,
              "#31688e"
             ],
             [
              0.4444444444444444,
              "#26828e"
             ],
             [
              0.5555555555555556,
              "#1f9e89"
             ],
             [
              0.6666666666666666,
              "#35b779"
             ],
             [
              0.7777777777777778,
              "#6ece58"
             ],
             [
              0.8888888888888888,
              "#b5de2b"
             ],
             [
              1,
              "#fde725"
             ]
            ],
            "type": "heatmapgl"
           }
          ],
          "histogram": [
           {
            "marker": {
             "line": {
              "color": "white",
              "width": 0.6
             }
            },
            "type": "histogram"
           }
          ],
          "histogram2d": [
           {
            "colorbar": {
             "outlinewidth": 1,
             "tickcolor": "rgb(36,36,36)",
             "ticks": "outside"
            },
            "colorscale": [
             [
              0,
              "#440154"
             ],
             [
              0.1111111111111111,
              "#482878"
             ],
             [
              0.2222222222222222,
              "#3e4989"
             ],
             [
              0.3333333333333333,
              "#31688e"
             ],
             [
              0.4444444444444444,
              "#26828e"
             ],
             [
              0.5555555555555556,
              "#1f9e89"
             ],
             [
              0.6666666666666666,
              "#35b779"
             ],
             [
              0.7777777777777778,
              "#6ece58"
             ],
             [
              0.8888888888888888,
              "#b5de2b"
             ],
             [
              1,
              "#fde725"
             ]
            ],
            "type": "histogram2d"
           }
          ],
          "histogram2dcontour": [
           {
            "colorbar": {
             "outlinewidth": 1,
             "tickcolor": "rgb(36,36,36)",
             "ticks": "outside"
            },
            "colorscale": [
             [
              0,
              "#440154"
             ],
             [
              0.1111111111111111,
              "#482878"
             ],
             [
              0.2222222222222222,
              "#3e4989"
             ],
             [
              0.3333333333333333,
              "#31688e"
             ],
             [
              0.4444444444444444,
              "#26828e"
             ],
             [
              0.5555555555555556,
              "#1f9e89"
             ],
             [
              0.6666666666666666,
              "#35b779"
             ],
             [
              0.7777777777777778,
              "#6ece58"
             ],
             [
              0.8888888888888888,
              "#b5de2b"
             ],
             [
              1,
              "#fde725"
             ]
            ],
            "type": "histogram2dcontour"
           }
          ],
          "mesh3d": [
           {
            "colorbar": {
             "outlinewidth": 1,
             "tickcolor": "rgb(36,36,36)",
             "ticks": "outside"
            },
            "type": "mesh3d"
           }
          ],
          "parcoords": [
           {
            "line": {
             "colorbar": {
              "outlinewidth": 1,
              "tickcolor": "rgb(36,36,36)",
              "ticks": "outside"
             }
            },
            "type": "parcoords"
           }
          ],
          "pie": [
           {
            "automargin": true,
            "type": "pie"
           }
          ],
          "scatter": [
           {
            "fillpattern": {
             "fillmode": "overlay",
             "size": 10,
             "solidity": 0.2
            },
            "type": "scatter"
           }
          ],
          "scatter3d": [
           {
            "line": {
             "colorbar": {
              "outlinewidth": 1,
              "tickcolor": "rgb(36,36,36)",
              "ticks": "outside"
             }
            },
            "marker": {
             "colorbar": {
              "outlinewidth": 1,
              "tickcolor": "rgb(36,36,36)",
              "ticks": "outside"
             }
            },
            "type": "scatter3d"
           }
          ],
          "scattercarpet": [
           {
            "marker": {
             "colorbar": {
              "outlinewidth": 1,
              "tickcolor": "rgb(36,36,36)",
              "ticks": "outside"
             }
            },
            "type": "scattercarpet"
           }
          ],
          "scattergeo": [
           {
            "marker": {
             "colorbar": {
              "outlinewidth": 1,
              "tickcolor": "rgb(36,36,36)",
              "ticks": "outside"
             }
            },
            "type": "scattergeo"
           }
          ],
          "scattergl": [
           {
            "marker": {
             "colorbar": {
              "outlinewidth": 1,
              "tickcolor": "rgb(36,36,36)",
              "ticks": "outside"
             }
            },
            "type": "scattergl"
           }
          ],
          "scattermapbox": [
           {
            "marker": {
             "colorbar": {
              "outlinewidth": 1,
              "tickcolor": "rgb(36,36,36)",
              "ticks": "outside"
             }
            },
            "type": "scattermapbox"
           }
          ],
          "scatterpolar": [
           {
            "marker": {
             "colorbar": {
              "outlinewidth": 1,
              "tickcolor": "rgb(36,36,36)",
              "ticks": "outside"
             }
            },
            "type": "scatterpolar"
           }
          ],
          "scatterpolargl": [
           {
            "marker": {
             "colorbar": {
              "outlinewidth": 1,
              "tickcolor": "rgb(36,36,36)",
              "ticks": "outside"
             }
            },
            "type": "scatterpolargl"
           }
          ],
          "scatterternary": [
           {
            "marker": {
             "colorbar": {
              "outlinewidth": 1,
              "tickcolor": "rgb(36,36,36)",
              "ticks": "outside"
             }
            },
            "type": "scatterternary"
           }
          ],
          "surface": [
           {
            "colorbar": {
             "outlinewidth": 1,
             "tickcolor": "rgb(36,36,36)",
             "ticks": "outside"
            },
            "colorscale": [
             [
              0,
              "#440154"
             ],
             [
              0.1111111111111111,
              "#482878"
             ],
             [
              0.2222222222222222,
              "#3e4989"
             ],
             [
              0.3333333333333333,
              "#31688e"
             ],
             [
              0.4444444444444444,
              "#26828e"
             ],
             [
              0.5555555555555556,
              "#1f9e89"
             ],
             [
              0.6666666666666666,
              "#35b779"
             ],
             [
              0.7777777777777778,
              "#6ece58"
             ],
             [
              0.8888888888888888,
              "#b5de2b"
             ],
             [
              1,
              "#fde725"
             ]
            ],
            "type": "surface"
           }
          ],
          "table": [
           {
            "cells": {
             "fill": {
              "color": "rgb(237,237,237)"
             },
             "line": {
              "color": "white"
             }
            },
            "header": {
             "fill": {
              "color": "rgb(217,217,217)"
             },
             "line": {
              "color": "white"
             }
            },
            "type": "table"
           }
          ]
         },
         "layout": {
          "annotationdefaults": {
           "arrowhead": 0,
           "arrowwidth": 1
          },
          "autotypenumbers": "strict",
          "coloraxis": {
           "colorbar": {
            "outlinewidth": 1,
            "tickcolor": "rgb(36,36,36)",
            "ticks": "outside"
           }
          },
          "colorscale": {
           "diverging": [
            [
             0,
             "rgb(103,0,31)"
            ],
            [
             0.1,
             "rgb(178,24,43)"
            ],
            [
             0.2,
             "rgb(214,96,77)"
            ],
            [
             0.3,
             "rgb(244,165,130)"
            ],
            [
             0.4,
             "rgb(253,219,199)"
            ],
            [
             0.5,
             "rgb(247,247,247)"
            ],
            [
             0.6,
             "rgb(209,229,240)"
            ],
            [
             0.7,
             "rgb(146,197,222)"
            ],
            [
             0.8,
             "rgb(67,147,195)"
            ],
            [
             0.9,
             "rgb(33,102,172)"
            ],
            [
             1,
             "rgb(5,48,97)"
            ]
           ],
           "sequential": [
            [
             0,
             "#440154"
            ],
            [
             0.1111111111111111,
             "#482878"
            ],
            [
             0.2222222222222222,
             "#3e4989"
            ],
            [
             0.3333333333333333,
             "#31688e"
            ],
            [
             0.4444444444444444,
             "#26828e"
            ],
            [
             0.5555555555555556,
             "#1f9e89"
            ],
            [
             0.6666666666666666,
             "#35b779"
            ],
            [
             0.7777777777777778,
             "#6ece58"
            ],
            [
             0.8888888888888888,
             "#b5de2b"
            ],
            [
             1,
             "#fde725"
            ]
           ],
           "sequentialminus": [
            [
             0,
             "#440154"
            ],
            [
             0.1111111111111111,
             "#482878"
            ],
            [
             0.2222222222222222,
             "#3e4989"
            ],
            [
             0.3333333333333333,
             "#31688e"
            ],
            [
             0.4444444444444444,
             "#26828e"
            ],
            [
             0.5555555555555556,
             "#1f9e89"
            ],
            [
             0.6666666666666666,
             "#35b779"
            ],
            [
             0.7777777777777778,
             "#6ece58"
            ],
            [
             0.8888888888888888,
             "#b5de2b"
            ],
            [
             1,
             "#fde725"
            ]
           ]
          },
          "colorway": [
           "#1F77B4",
           "#FF7F0E",
           "#2CA02C",
           "#D62728",
           "#9467BD",
           "#8C564B",
           "#E377C2",
           "#7F7F7F",
           "#BCBD22",
           "#17BECF"
          ],
          "font": {
           "color": "rgb(36,36,36)"
          },
          "geo": {
           "bgcolor": "white",
           "lakecolor": "white",
           "landcolor": "white",
           "showlakes": true,
           "showland": true,
           "subunitcolor": "white"
          },
          "hoverlabel": {
           "align": "left"
          },
          "hovermode": "closest",
          "mapbox": {
           "style": "light"
          },
          "paper_bgcolor": "white",
          "plot_bgcolor": "white",
          "polar": {
           "angularaxis": {
            "gridcolor": "rgb(232,232,232)",
            "linecolor": "rgb(36,36,36)",
            "showgrid": false,
            "showline": true,
            "ticks": "outside"
           },
           "bgcolor": "white",
           "radialaxis": {
            "gridcolor": "rgb(232,232,232)",
            "linecolor": "rgb(36,36,36)",
            "showgrid": false,
            "showline": true,
            "ticks": "outside"
           }
          },
          "scene": {
           "xaxis": {
            "backgroundcolor": "white",
            "gridcolor": "rgb(232,232,232)",
            "gridwidth": 2,
            "linecolor": "rgb(36,36,36)",
            "showbackground": true,
            "showgrid": false,
            "showline": true,
            "ticks": "outside",
            "zeroline": false,
            "zerolinecolor": "rgb(36,36,36)"
           },
           "yaxis": {
            "backgroundcolor": "white",
            "gridcolor": "rgb(232,232,232)",
            "gridwidth": 2,
            "linecolor": "rgb(36,36,36)",
            "showbackground": true,
            "showgrid": false,
            "showline": true,
            "ticks": "outside",
            "zeroline": false,
            "zerolinecolor": "rgb(36,36,36)"
           },
           "zaxis": {
            "backgroundcolor": "white",
            "gridcolor": "rgb(232,232,232)",
            "gridwidth": 2,
            "linecolor": "rgb(36,36,36)",
            "showbackground": true,
            "showgrid": false,
            "showline": true,
            "ticks": "outside",
            "zeroline": false,
            "zerolinecolor": "rgb(36,36,36)"
           }
          },
          "shapedefaults": {
           "fillcolor": "black",
           "line": {
            "width": 0
           },
           "opacity": 0.3
          },
          "ternary": {
           "aaxis": {
            "gridcolor": "rgb(232,232,232)",
            "linecolor": "rgb(36,36,36)",
            "showgrid": false,
            "showline": true,
            "ticks": "outside"
           },
           "baxis": {
            "gridcolor": "rgb(232,232,232)",
            "linecolor": "rgb(36,36,36)",
            "showgrid": false,
            "showline": true,
            "ticks": "outside"
           },
           "bgcolor": "white",
           "caxis": {
            "gridcolor": "rgb(232,232,232)",
            "linecolor": "rgb(36,36,36)",
            "showgrid": false,
            "showline": true,
            "ticks": "outside"
           }
          },
          "title": {
           "x": 0.05
          },
          "xaxis": {
           "automargin": true,
           "gridcolor": "rgb(232,232,232)",
           "linecolor": "rgb(36,36,36)",
           "showgrid": false,
           "showline": true,
           "ticks": "outside",
           "title": {
            "standoff": 15
           },
           "zeroline": false,
           "zerolinecolor": "rgb(36,36,36)"
          },
          "yaxis": {
           "automargin": true,
           "gridcolor": "rgb(232,232,232)",
           "linecolor": "rgb(36,36,36)",
           "showgrid": false,
           "showline": true,
           "ticks": "outside",
           "title": {
            "standoff": 15
           },
           "zeroline": false,
           "zerolinecolor": "rgb(36,36,36)"
          }
         }
        },
        "xaxis": {
         "anchor": "y",
         "domain": [
          0,
          1
         ],
         "title": {
          "text": "mean_size_house"
         }
        },
        "yaxis": {
         "anchor": "x",
         "domain": [
          0,
          1
         ],
         "title": {
          "text": "mean_wage"
         }
        }
       }
      },
      "text/html": [
       "<div>                            <div id=\"4ee340a6-1813-45cf-876a-bf8f55b9cd73\" class=\"plotly-graph-div\" style=\"height:525px; width:100%;\"></div>            <script type=\"text/javascript\">                require([\"plotly\"], function(Plotly) {                    window.PLOTLYENV=window.PLOTLYENV || {};                                    if (document.getElementById(\"4ee340a6-1813-45cf-876a-bf8f55b9cd73\")) {                    Plotly.newPlot(                        \"4ee340a6-1813-45cf-876a-bf8f55b9cd73\",                        [{\"hovertemplate\":\"<b>%{hovertext}</b><br><br>\\u0433\\u043e\\u0440\\u043e\\u0434=\\u0410\\u043d\\u0430\\u0434\\u044b\\u0440\\u044c<br>mean_size_house=%{x}<br>mean_wage=%{y}<extra></extra>\",\"hovertext\":[\"\\u0410\\u043d\\u0430\\u0434\\u044b\\u0440\\u044c\"],\"legendgroup\":\"\\u0410\\u043d\\u0430\\u0434\\u044b\\u0440\\u044c\",\"marker\":{\"color\":\"#1F77B4\",\"symbol\":\"circle\"},\"mode\":\"markers\",\"name\":\"\\u0410\\u043d\\u0430\\u0434\\u044b\\u0440\\u044c\",\"orientation\":\"v\",\"showlegend\":true,\"x\":[18.4],\"xaxis\":\"x\",\"y\":[107061.8],\"yaxis\":\"y\",\"type\":\"scatter\"},{\"hovertemplate\":\"<b>%{hovertext}</b><br><br>\\u0433\\u043e\\u0440\\u043e\\u0434=\\u0421\\u0430\\u043b\\u0435\\u0445\\u0430\\u0440\\u0434<br>mean_size_house=%{x}<br>mean_wage=%{y}<extra></extra>\",\"hovertext\":[\"\\u0421\\u0430\\u043b\\u0435\\u0445\\u0430\\u0440\\u0434\"],\"legendgroup\":\"\\u0421\\u0430\\u043b\\u0435\\u0445\\u0430\\u0440\\u0434\",\"marker\":{\"color\":\"#FF7F0E\",\"symbol\":\"circle\"},\"mode\":\"markers\",\"name\":\"\\u0421\\u0430\\u043b\\u0435\\u0445\\u0430\\u0440\\u0434\",\"orientation\":\"v\",\"showlegend\":true,\"x\":[24.1],\"xaxis\":\"x\",\"y\":[95496.0],\"yaxis\":\"y\",\"type\":\"scatter\"},{\"hovertemplate\":\"<b>%{hovertext}</b><br><br>\\u0433\\u043e\\u0440\\u043e\\u0434=\\u042e\\u0436\\u043d\\u043e-\\u0421\\u0430\\u0445\\u0430\\u043b\\u0438\\u043d\\u0441\\u043a<br>mean_size_house=%{x}<br>mean_wage=%{y}<extra></extra>\",\"hovertext\":[\"\\u042e\\u0436\\u043d\\u043e-\\u0421\\u0430\\u0445\\u0430\\u043b\\u0438\\u043d\\u0441\\u043a\"],\"legendgroup\":\"\\u042e\\u0436\\u043d\\u043e-\\u0421\\u0430\\u0445\\u0430\\u043b\\u0438\\u043d\\u0441\\u043a\",\"marker\":{\"color\":\"#2CA02C\",\"symbol\":\"circle\"},\"mode\":\"markers\",\"name\":\"\\u042e\\u0436\\u043d\\u043e-\\u0421\\u0430\\u0445\\u0430\\u043b\\u0438\\u043d\\u0441\\u043a\",\"orientation\":\"v\",\"showlegend\":true,\"x\":[23.3],\"xaxis\":\"x\",\"y\":[88147.74],\"yaxis\":\"y\",\"type\":\"scatter\"},{\"hovertemplate\":\"<b>%{hovertext}</b><br><br>\\u0433\\u043e\\u0440\\u043e\\u0434=\\u041c\\u0430\\u0433\\u0430\\u0434\\u0430\\u043d<br>mean_size_house=%{x}<br>mean_wage=%{y}<extra></extra>\",\"hovertext\":[\"\\u041c\\u0430\\u0433\\u0430\\u0434\\u0430\\u043d\"],\"legendgroup\":\"\\u041c\\u0430\\u0433\\u0430\\u0434\\u0430\\u043d\",\"marker\":{\"color\":\"#D62728\",\"symbol\":\"circle\"},\"mode\":\"markers\",\"name\":\"\\u041c\\u0430\\u0433\\u0430\\u0434\\u0430\\u043d\",\"orientation\":\"v\",\"showlegend\":true,\"x\":[24.9],\"xaxis\":\"x\",\"y\":[79539.3],\"yaxis\":\"y\",\"type\":\"scatter\"},{\"hovertemplate\":\"<b>%{hovertext}</b><br><br>\\u0433\\u043e\\u0440\\u043e\\u0434=\\u041f\\u0435\\u0442\\u0440\\u043e\\u043f\\u0430\\u0432\\u043b\\u043e\\u0432\\u0441\\u043a-\\u041a\\u0430\\u043c\\u0447\\u0430\\u0442\\u0441\\u043a\\u0438\\u0439<br>mean_size_house=%{x}<br>mean_wage=%{y}<extra></extra>\",\"hovertext\":[\"\\u041f\\u0435\\u0442\\u0440\\u043e\\u043f\\u0430\\u0432\\u043b\\u043e\\u0432\\u0441\\u043a-\\u041a\\u0430\\u043c\\u0447\\u0430\\u0442\\u0441\\u043a\\u0438\\u0439\"],\"legendgroup\":\"\\u041f\\u0435\\u0442\\u0440\\u043e\\u043f\\u0430\\u0432\\u043b\\u043e\\u0432\\u0441\\u043a-\\u041a\\u0430\\u043c\\u0447\\u0430\\u0442\\u0441\\u043a\\u0438\\u0439\",\"marker\":{\"color\":\"#9467BD\",\"symbol\":\"circle\"},\"mode\":\"markers\",\"name\":\"\\u041f\\u0435\\u0442\\u0440\\u043e\\u043f\\u0430\\u0432\\u043b\\u043e\\u0432\\u0441\\u043a-\\u041a\\u0430\\u043c\\u0447\\u0430\\u0442\\u0441\\u043a\\u0438\\u0439\",\"orientation\":\"v\",\"showlegend\":true,\"x\":[25.2],\"xaxis\":\"x\",\"y\":[76525.4],\"yaxis\":\"y\",\"type\":\"scatter\"},{\"hovertemplate\":\"<b>%{hovertext}</b><br><br>\\u0433\\u043e\\u0440\\u043e\\u0434=\\u0425\\u0430\\u043d\\u0442\\u044b-\\u041c\\u0430\\u043d\\u0441\\u0438\\u0439\\u0441\\u043a<br>mean_size_house=%{x}<br>mean_wage=%{y}<extra></extra>\",\"hovertext\":[\"\\u0425\\u0430\\u043d\\u0442\\u044b-\\u041c\\u0430\\u043d\\u0441\\u0438\\u0439\\u0441\\u043a\"],\"legendgroup\":\"\\u0425\\u0430\\u043d\\u0442\\u044b-\\u041c\\u0430\\u043d\\u0441\\u0438\\u0439\\u0441\\u043a\",\"marker\":{\"color\":\"#8C564B\",\"symbol\":\"circle\"},\"mode\":\"markers\",\"name\":\"\\u0425\\u0430\\u043d\\u0442\\u044b-\\u041c\\u0430\\u043d\\u0441\\u0438\\u0439\\u0441\\u043a\",\"orientation\":\"v\",\"showlegend\":true,\"x\":[25.3],\"xaxis\":\"x\",\"y\":[72093.6],\"yaxis\":\"y\",\"type\":\"scatter\"},{\"hovertemplate\":\"<b>%{hovertext}</b><br><br>\\u0433\\u043e\\u0440\\u043e\\u0434=\\u041d\\u0430\\u0440\\u044c\\u044f\\u043d-\\u041c\\u0430\\u0440<br>mean_size_house=%{x}<br>mean_wage=%{y}<extra></extra>\",\"hovertext\":[\"\\u041d\\u0430\\u0440\\u044c\\u044f\\u043d-\\u041c\\u0430\\u0440\"],\"legendgroup\":\"\\u041d\\u0430\\u0440\\u044c\\u044f\\u043d-\\u041c\\u0430\\u0440\",\"marker\":{\"color\":\"#E377C2\",\"symbol\":\"circle\"},\"mode\":\"markers\",\"name\":\"\\u041d\\u0430\\u0440\\u044c\\u044f\\u043d-\\u041c\\u0430\\u0440\",\"orientation\":\"v\",\"showlegend\":true,\"x\":[24.9],\"xaxis\":\"x\",\"y\":[70421.9],\"yaxis\":\"y\",\"type\":\"scatter\"},{\"hovertemplate\":\"<b>%{hovertext}</b><br><br>\\u0433\\u043e\\u0440\\u043e\\u0434=\\u042f\\u043a\\u0443\\u0442\\u0441\\u043a<br>mean_size_house=%{x}<br>mean_wage=%{y}<extra></extra>\",\"hovertext\":[\"\\u042f\\u043a\\u0443\\u0442\\u0441\\u043a\"],\"legendgroup\":\"\\u042f\\u043a\\u0443\\u0442\\u0441\\u043a\",\"marker\":{\"color\":\"#7F7F7F\",\"symbol\":\"circle\"},\"mode\":\"markers\",\"name\":\"\\u042f\\u043a\\u0443\\u0442\\u0441\\u043a\",\"orientation\":\"v\",\"showlegend\":true,\"x\":[19.1],\"xaxis\":\"x\",\"y\":[64801.3],\"yaxis\":\"y\",\"type\":\"scatter\"},{\"hovertemplate\":\"<b>%{hovertext}</b><br><br>\\u0433\\u043e\\u0440\\u043e\\u0434=\\u041c\\u0443\\u0440\\u043c\\u0430\\u043d\\u0441\\u043a<br>mean_size_house=%{x}<br>mean_wage=%{y}<extra></extra>\",\"hovertext\":[\"\\u041c\\u0443\\u0440\\u043c\\u0430\\u043d\\u0441\\u043a\"],\"legendgroup\":\"\\u041c\\u0443\\u0440\\u043c\\u0430\\u043d\\u0441\\u043a\",\"marker\":{\"color\":\"#BCBD22\",\"symbol\":\"circle\"},\"mode\":\"markers\",\"name\":\"\\u041c\\u0443\\u0440\\u043c\\u0430\\u043d\\u0441\\u043a\",\"orientation\":\"v\",\"showlegend\":true,\"x\":[23.8],\"xaxis\":\"x\",\"y\":[61261.6],\"yaxis\":\"y\",\"type\":\"scatter\"},{\"hovertemplate\":\"<b>%{hovertext}</b><br><br>\\u0433\\u043e\\u0440\\u043e\\u0434=\\u0422\\u044e\\u043c\\u0435\\u043d\\u044c<br>mean_size_house=%{x}<br>mean_wage=%{y}<extra></extra>\",\"hovertext\":[\"\\u0422\\u044e\\u043c\\u0435\\u043d\\u044c\"],\"legendgroup\":\"\\u0422\\u044e\\u043c\\u0435\\u043d\\u044c\",\"marker\":{\"color\":\"#17BECF\",\"symbol\":\"circle\"},\"mode\":\"markers\",\"name\":\"\\u0422\\u044e\\u043c\\u0435\\u043d\\u044c\",\"orientation\":\"v\",\"showlegend\":true,\"x\":[29.3],\"xaxis\":\"x\",\"y\":[53830.5],\"yaxis\":\"y\",\"type\":\"scatter\"},{\"hovertemplate\":\"<b>%{hovertext}</b><br><br>\\u0433\\u043e\\u0440\\u043e\\u0434=\\u0425\\u0430\\u0431\\u0430\\u0440\\u043e\\u0432\\u0441\\u043a<br>mean_size_house=%{x}<br>mean_wage=%{y}<extra></extra>\",\"hovertext\":[\"\\u0425\\u0430\\u0431\\u0430\\u0440\\u043e\\u0432\\u0441\\u043a\"],\"legendgroup\":\"\\u0425\\u0430\\u0431\\u0430\\u0440\\u043e\\u0432\\u0441\\u043a\",\"marker\":{\"color\":\"#1F77B4\",\"symbol\":\"circle\"},\"mode\":\"markers\",\"name\":\"\\u0425\\u0430\\u0431\\u0430\\u0440\\u043e\\u0432\\u0441\\u043a\",\"orientation\":\"v\",\"showlegend\":true,\"x\":[23.0],\"xaxis\":\"x\",\"y\":[52986.9],\"yaxis\":\"y\",\"type\":\"scatter\"},{\"hovertemplate\":\"<b>%{hovertext}</b><br><br>\\u0433\\u043e\\u0440\\u043e\\u0434=\\u0412\\u043b\\u0430\\u0434\\u0438\\u0432\\u043e\\u0441\\u0442\\u043e\\u043a<br>mean_size_house=%{x}<br>mean_wage=%{y}<extra></extra>\",\"hovertext\":[\"\\u0412\\u043b\\u0430\\u0434\\u0438\\u0432\\u043e\\u0441\\u0442\\u043e\\u043a\"],\"legendgroup\":\"\\u0412\\u043b\\u0430\\u0434\\u0438\\u0432\\u043e\\u0441\\u0442\\u043e\\u043a\",\"marker\":{\"color\":\"#FF7F0E\",\"symbol\":\"circle\"},\"mode\":\"markers\",\"name\":\"\\u0412\\u043b\\u0430\\u0434\\u0438\\u0432\\u043e\\u0441\\u0442\\u043e\\u043a\",\"orientation\":\"v\",\"showlegend\":true,\"x\":[21.9],\"xaxis\":\"x\",\"y\":[51830.5],\"yaxis\":\"y\",\"type\":\"scatter\"},{\"hovertemplate\":\"<b>%{hovertext}</b><br><br>\\u0433\\u043e\\u0440\\u043e\\u0434=\\u0415\\u043a\\u0430\\u0442\\u0435\\u0440\\u0438\\u043d\\u0431\\u0443\\u0440\\u0433<br>mean_size_house=%{x}<br>mean_wage=%{y}<extra></extra>\",\"hovertext\":[\"\\u0415\\u043a\\u0430\\u0442\\u0435\\u0440\\u0438\\u043d\\u0431\\u0443\\u0440\\u0433\"],\"legendgroup\":\"\\u0415\\u043a\\u0430\\u0442\\u0435\\u0440\\u0438\\u043d\\u0431\\u0443\\u0440\\u0433\",\"marker\":{\"color\":\"#2CA02C\",\"symbol\":\"circle\"},\"mode\":\"markers\",\"name\":\"\\u0415\\u043a\\u0430\\u0442\\u0435\\u0440\\u0438\\u043d\\u0431\\u0443\\u0440\\u0433\",\"orientation\":\"v\",\"showlegend\":true,\"x\":[25.0],\"xaxis\":\"x\",\"y\":[47265.6],\"yaxis\":\"y\",\"type\":\"scatter\"},{\"hovertemplate\":\"<b>%{hovertext}</b><br><br>\\u0433\\u043e\\u0440\\u043e\\u0434=\\u0418\\u0440\\u043a\\u0443\\u0442\\u0441\\u043a<br>mean_size_house=%{x}<br>mean_wage=%{y}<extra></extra>\",\"hovertext\":[\"\\u0418\\u0440\\u043a\\u0443\\u0442\\u0441\\u043a\"],\"legendgroup\":\"\\u0418\\u0440\\u043a\\u0443\\u0442\\u0441\\u043a\",\"marker\":{\"color\":\"#D62728\",\"symbol\":\"circle\"},\"mode\":\"markers\",\"name\":\"\\u0418\\u0440\\u043a\\u0443\\u0442\\u0441\\u043a\",\"orientation\":\"v\",\"showlegend\":true,\"x\":[27.7],\"xaxis\":\"x\",\"y\":[46980.0],\"yaxis\":\"y\",\"type\":\"scatter\"},{\"hovertemplate\":\"<b>%{hovertext}</b><br><br>\\u0433\\u043e\\u0440\\u043e\\u0434=\\u0410\\u0440\\u0445\\u0430\\u043d\\u0433\\u0435\\u043b\\u044c\\u0441\\u043a<br>mean_size_house=%{x}<br>mean_wage=%{y}<extra></extra>\",\"hovertext\":[\"\\u0410\\u0440\\u0445\\u0430\\u043d\\u0433\\u0435\\u043b\\u044c\\u0441\\u043a\"],\"legendgroup\":\"\\u0410\\u0440\\u0445\\u0430\\u043d\\u0433\\u0435\\u043b\\u044c\\u0441\\u043a\",\"marker\":{\"color\":\"#9467BD\",\"symbol\":\"circle\"},\"mode\":\"markers\",\"name\":\"\\u0410\\u0440\\u0445\\u0430\\u043d\\u0433\\u0435\\u043b\\u044c\\u0441\\u043a\",\"orientation\":\"v\",\"showlegend\":true,\"x\":[23.3],\"xaxis\":\"x\",\"y\":[45097.7],\"yaxis\":\"y\",\"type\":\"scatter\"},{\"hovertemplate\":\"<b>%{hovertext}</b><br><br>\\u0433\\u043e\\u0440\\u043e\\u0434=\\u041a\\u0440\\u0430\\u0441\\u043d\\u043e\\u044f\\u0440\\u0441\\u043a<br>mean_size_house=%{x}<br>mean_wage=%{y}<extra></extra>\",\"hovertext\":[\"\\u041a\\u0440\\u0430\\u0441\\u043d\\u043e\\u044f\\u0440\\u0441\\u043a\"],\"legendgroup\":\"\\u041a\\u0440\\u0430\\u0441\\u043d\\u043e\\u044f\\u0440\\u0441\\u043a\",\"marker\":{\"color\":\"#8C564B\",\"symbol\":\"circle\"},\"mode\":\"markers\",\"name\":\"\\u041a\\u0440\\u0430\\u0441\\u043d\\u043e\\u044f\\u0440\\u0441\\u043a\",\"orientation\":\"v\",\"showlegend\":true,\"x\":[24.1],\"xaxis\":\"x\",\"y\":[44384.3],\"yaxis\":\"y\",\"type\":\"scatter\"},{\"hovertemplate\":\"<b>%{hovertext}</b><br><br>\\u0433\\u043e\\u0440\\u043e\\u0434=\\u0421\\u044b\\u043a\\u0442\\u044b\\u0432\\u043a\\u0430\\u0440<br>mean_size_house=%{x}<br>mean_wage=%{y}<extra></extra>\",\"hovertext\":[\"\\u0421\\u044b\\u043a\\u0442\\u044b\\u0432\\u043a\\u0430\\u0440\"],\"legendgroup\":\"\\u0421\\u044b\\u043a\\u0442\\u044b\\u0432\\u043a\\u0430\\u0440\",\"marker\":{\"color\":\"#E377C2\",\"symbol\":\"circle\"},\"mode\":\"markers\",\"name\":\"\\u0421\\u044b\\u043a\\u0442\\u044b\\u0432\\u043a\\u0430\\u0440\",\"orientation\":\"v\",\"showlegend\":true,\"x\":[23.7],\"xaxis\":\"x\",\"y\":[44181.4],\"yaxis\":\"y\",\"type\":\"scatter\"},{\"hovertemplate\":\"<b>%{hovertext}</b><br><br>\\u0433\\u043e\\u0440\\u043e\\u0434=\\u0422\\u043e\\u043c\\u0441\\u043a<br>mean_size_house=%{x}<br>mean_wage=%{y}<extra></extra>\",\"hovertext\":[\"\\u0422\\u043e\\u043c\\u0441\\u043a\"],\"legendgroup\":\"\\u0422\\u043e\\u043c\\u0441\\u043a\",\"marker\":{\"color\":\"#7F7F7F\",\"symbol\":\"circle\"},\"mode\":\"markers\",\"name\":\"\\u0422\\u043e\\u043c\\u0441\\u043a\",\"orientation\":\"v\",\"showlegend\":true,\"x\":[23.1],\"xaxis\":\"x\",\"y\":[43410.8],\"yaxis\":\"y\",\"type\":\"scatter\"},{\"hovertemplate\":\"<b>%{hovertext}</b><br><br>\\u0433\\u043e\\u0440\\u043e\\u0434=\\u041d\\u0438\\u0436\\u043d\\u0438\\u0439 \\u041d\\u043e\\u0432\\u0433\\u043e\\u0440\\u043e\\u0434<br>mean_size_house=%{x}<br>mean_wage=%{y}<extra></extra>\",\"hovertext\":[\"\\u041d\\u0438\\u0436\\u043d\\u0438\\u0439 \\u041d\\u043e\\u0432\\u0433\\u043e\\u0440\\u043e\\u0434\"],\"legendgroup\":\"\\u041d\\u0438\\u0436\\u043d\\u0438\\u0439 \\u041d\\u043e\\u0432\\u0433\\u043e\\u0440\\u043e\\u0434\",\"marker\":{\"color\":\"#BCBD22\",\"symbol\":\"circle\"},\"mode\":\"markers\",\"name\":\"\\u041d\\u0438\\u0436\\u043d\\u0438\\u0439 \\u041d\\u043e\\u0432\\u0433\\u043e\\u0440\\u043e\\u0434\",\"orientation\":\"v\",\"showlegend\":true,\"x\":[24.8],\"xaxis\":\"x\",\"y\":[42469.5],\"yaxis\":\"y\",\"type\":\"scatter\"},{\"hovertemplate\":\"<b>%{hovertext}</b><br><br>\\u0433\\u043e\\u0440\\u043e\\u0434=\\u0423\\u0444\\u0430<br>mean_size_house=%{x}<br>mean_wage=%{y}<extra></extra>\",\"hovertext\":[\"\\u0423\\u0444\\u0430\"],\"legendgroup\":\"\\u0423\\u0444\\u0430\",\"marker\":{\"color\":\"#17BECF\",\"symbol\":\"circle\"},\"mode\":\"markers\",\"name\":\"\\u0423\\u0444\\u0430\",\"orientation\":\"v\",\"showlegend\":true,\"x\":[23.6],\"xaxis\":\"x\",\"y\":[42312.8],\"yaxis\":\"y\",\"type\":\"scatter\"},{\"hovertemplate\":\"<b>%{hovertext}</b><br><br>\\u0433\\u043e\\u0440\\u043e\\u0434=\\u0427\\u0438\\u0442\\u0430<br>mean_size_house=%{x}<br>mean_wage=%{y}<extra></extra>\",\"hovertext\":[\"\\u0427\\u0438\\u0442\\u0430\"],\"legendgroup\":\"\\u0427\\u0438\\u0442\\u0430\",\"marker\":{\"color\":\"#1F77B4\",\"symbol\":\"circle\"},\"mode\":\"markers\",\"name\":\"\\u0427\\u0438\\u0442\\u0430\",\"orientation\":\"v\",\"showlegend\":true,\"x\":[21.0],\"xaxis\":\"x\",\"y\":[42204.2],\"yaxis\":\"y\",\"type\":\"scatter\"},{\"hovertemplate\":\"<b>%{hovertext}</b><br><br>\\u0433\\u043e\\u0440\\u043e\\u0434=\\u041a\\u0440\\u0430\\u0441\\u043d\\u043e\\u0434\\u0430\\u0440<br>mean_size_house=%{x}<br>mean_wage=%{y}<extra></extra>\",\"hovertext\":[\"\\u041a\\u0440\\u0430\\u0441\\u043d\\u043e\\u0434\\u0430\\u0440\"],\"legendgroup\":\"\\u041a\\u0440\\u0430\\u0441\\u043d\\u043e\\u0434\\u0430\\u0440\",\"marker\":{\"color\":\"#FF7F0E\",\"symbol\":\"circle\"},\"mode\":\"markers\",\"name\":\"\\u041a\\u0440\\u0430\\u0441\\u043d\\u043e\\u0434\\u0430\\u0440\",\"orientation\":\"v\",\"showlegend\":true,\"x\":[34.2],\"xaxis\":\"x\",\"y\":[42028.7],\"yaxis\":\"y\",\"type\":\"scatter\"},{\"hovertemplate\":\"<b>%{hovertext}</b><br><br>\\u0433\\u043e\\u0440\\u043e\\u0434=\\u041d\\u043e\\u0432\\u043e\\u0441\\u0438\\u0431\\u0438\\u0440\\u0441\\u043a<br>mean_size_house=%{x}<br>mean_wage=%{y}<extra></extra>\",\"hovertext\":[\"\\u041d\\u043e\\u0432\\u043e\\u0441\\u0438\\u0431\\u0438\\u0440\\u0441\\u043a\"],\"legendgroup\":\"\\u041d\\u043e\\u0432\\u043e\\u0441\\u0438\\u0431\\u0438\\u0440\\u0441\\u043a\",\"marker\":{\"color\":\"#2CA02C\",\"symbol\":\"circle\"},\"mode\":\"markers\",\"name\":\"\\u041d\\u043e\\u0432\\u043e\\u0441\\u0438\\u0431\\u0438\\u0440\\u0441\\u043a\",\"orientation\":\"v\",\"showlegend\":true,\"x\":[25.1],\"xaxis\":\"x\",\"y\":[41884.0],\"yaxis\":\"y\",\"type\":\"scatter\"},{\"hovertemplate\":\"<b>%{hovertext}</b><br><br>\\u0433\\u043e\\u0440\\u043e\\u0434=\\u0411\\u043b\\u0430\\u0433\\u043e\\u0432\\u0435\\u0449\\u0435\\u043d\\u0441\\u043a<br>mean_size_house=%{x}<br>mean_wage=%{y}<extra></extra>\",\"hovertext\":[\"\\u0411\\u043b\\u0430\\u0433\\u043e\\u0432\\u0435\\u0449\\u0435\\u043d\\u0441\\u043a\"],\"legendgroup\":\"\\u0411\\u043b\\u0430\\u0433\\u043e\\u0432\\u0435\\u0449\\u0435\\u043d\\u0441\\u043a\",\"marker\":{\"color\":\"#D62728\",\"symbol\":\"circle\"},\"mode\":\"markers\",\"name\":\"\\u0411\\u043b\\u0430\\u0433\\u043e\\u0432\\u0435\\u0449\\u0435\\u043d\\u0441\\u043a\",\"orientation\":\"v\",\"showlegend\":true,\"x\":[25.2],\"xaxis\":\"x\",\"y\":[41808.1],\"yaxis\":\"y\",\"type\":\"scatter\"},{\"hovertemplate\":\"<b>%{hovertext}</b><br><br>\\u0433\\u043e\\u0440\\u043e\\u0434=\\u041a\\u044b\\u0437\\u044b\\u043b<br>mean_size_house=%{x}<br>mean_wage=%{y}<extra></extra>\",\"hovertext\":[\"\\u041a\\u044b\\u0437\\u044b\\u043b\"],\"legendgroup\":\"\\u041a\\u044b\\u0437\\u044b\\u043b\",\"marker\":{\"color\":\"#9467BD\",\"symbol\":\"circle\"},\"mode\":\"markers\",\"name\":\"\\u041a\\u044b\\u0437\\u044b\\u043b\",\"orientation\":\"v\",\"showlegend\":true,\"x\":[15.4],\"xaxis\":\"x\",\"y\":[41383.0],\"yaxis\":\"y\",\"type\":\"scatter\"},{\"hovertemplate\":\"<b>%{hovertext}</b><br><br>\\u0433\\u043e\\u0440\\u043e\\u0434=\\u041f\\u0435\\u0440\\u043c\\u044c<br>mean_size_house=%{x}<br>mean_wage=%{y}<extra></extra>\",\"hovertext\":[\"\\u041f\\u0435\\u0440\\u043c\\u044c\"],\"legendgroup\":\"\\u041f\\u0435\\u0440\\u043c\\u044c\",\"marker\":{\"color\":\"#8C564B\",\"symbol\":\"circle\"},\"mode\":\"markers\",\"name\":\"\\u041f\\u0435\\u0440\\u043c\\u044c\",\"orientation\":\"v\",\"showlegend\":true,\"x\":[23.5],\"xaxis\":\"x\",\"y\":[41325.9],\"yaxis\":\"y\",\"type\":\"scatter\"},{\"hovertemplate\":\"<b>%{hovertext}</b><br><br>\\u0433\\u043e\\u0440\\u043e\\u0434=\\u041f\\u0435\\u0442\\u0440\\u043e\\u0437\\u0430\\u0432\\u043e\\u0434\\u0441\\u043a<br>mean_size_house=%{x}<br>mean_wage=%{y}<extra></extra>\",\"hovertext\":[\"\\u041f\\u0435\\u0442\\u0440\\u043e\\u0437\\u0430\\u0432\\u043e\\u0434\\u0441\\u043a\"],\"legendgroup\":\"\\u041f\\u0435\\u0442\\u0440\\u043e\\u0437\\u0430\\u0432\\u043e\\u0434\\u0441\\u043a\",\"marker\":{\"color\":\"#E377C2\",\"symbol\":\"circle\"},\"mode\":\"markers\",\"name\":\"\\u041f\\u0435\\u0442\\u0440\\u043e\\u0437\\u0430\\u0432\\u043e\\u0434\\u0441\\u043a\",\"orientation\":\"v\",\"showlegend\":true,\"x\":[25.4],\"xaxis\":\"x\",\"y\":[41234.4],\"yaxis\":\"y\",\"type\":\"scatter\"},{\"hovertemplate\":\"<b>%{hovertext}</b><br><br>\\u0433\\u043e\\u0440\\u043e\\u0434=\\u0410\\u0431\\u0430\\u043a\\u0430\\u043d<br>mean_size_house=%{x}<br>mean_wage=%{y}<extra></extra>\",\"hovertext\":[\"\\u0410\\u0431\\u0430\\u043a\\u0430\\u043d\"],\"legendgroup\":\"\\u0410\\u0431\\u0430\\u043a\\u0430\\u043d\",\"marker\":{\"color\":\"#7F7F7F\",\"symbol\":\"circle\"},\"mode\":\"markers\",\"name\":\"\\u0410\\u0431\\u0430\\u043a\\u0430\\u043d\",\"orientation\":\"v\",\"showlegend\":true,\"x\":[24.1],\"xaxis\":\"x\",\"y\":[41203.1],\"yaxis\":\"y\",\"type\":\"scatter\"},{\"hovertemplate\":\"<b>%{hovertext}</b><br><br>\\u0433\\u043e\\u0440\\u043e\\u0434=\\u041a\\u0430\\u0437\\u0430\\u043d\\u044c<br>mean_size_house=%{x}<br>mean_wage=%{y}<extra></extra>\",\"hovertext\":[\"\\u041a\\u0430\\u0437\\u0430\\u043d\\u044c\"],\"legendgroup\":\"\\u041a\\u0430\\u0437\\u0430\\u043d\\u044c\",\"marker\":{\"color\":\"#BCBD22\",\"symbol\":\"circle\"},\"mode\":\"markers\",\"name\":\"\\u041a\\u0430\\u0437\\u0430\\u043d\\u044c\",\"orientation\":\"v\",\"showlegend\":true,\"x\":[25.3],\"xaxis\":\"x\",\"y\":[41020.8],\"yaxis\":\"y\",\"type\":\"scatter\"},{\"hovertemplate\":\"<b>%{hovertext}</b><br><br>\\u0433\\u043e\\u0440\\u043e\\u0434=\\u0420\\u043e\\u0441\\u0442\\u043e\\u0432-\\u043d\\u0430-\\u0414\\u043e\\u043d\\u0443<br>mean_size_house=%{x}<br>mean_wage=%{y}<extra></extra>\",\"hovertext\":[\"\\u0420\\u043e\\u0441\\u0442\\u043e\\u0432-\\u043d\\u0430-\\u0414\\u043e\\u043d\\u0443\"],\"legendgroup\":\"\\u0420\\u043e\\u0441\\u0442\\u043e\\u0432-\\u043d\\u0430-\\u0414\\u043e\\u043d\\u0443\",\"marker\":{\"color\":\"#17BECF\",\"symbol\":\"circle\"},\"mode\":\"markers\",\"name\":\"\\u0420\\u043e\\u0441\\u0442\\u043e\\u0432-\\u043d\\u0430-\\u0414\\u043e\\u043d\\u0443\",\"orientation\":\"v\",\"showlegend\":true,\"x\":[26.9],\"xaxis\":\"x\",\"y\":[40556.7],\"yaxis\":\"y\",\"type\":\"scatter\"},{\"hovertemplate\":\"<b>%{hovertext}</b><br><br>\\u0433\\u043e\\u0440\\u043e\\u0434=\\u041a\\u0430\\u043b\\u0443\\u0433\\u0430<br>mean_size_house=%{x}<br>mean_wage=%{y}<extra></extra>\",\"hovertext\":[\"\\u041a\\u0430\\u043b\\u0443\\u0433\\u0430\"],\"legendgroup\":\"\\u041a\\u0430\\u043b\\u0443\\u0433\\u0430\",\"marker\":{\"color\":\"#1F77B4\",\"symbol\":\"circle\"},\"mode\":\"markers\",\"name\":\"\\u041a\\u0430\\u043b\\u0443\\u0433\\u0430\",\"orientation\":\"v\",\"showlegend\":true,\"x\":[25.3],\"xaxis\":\"x\",\"y\":[39653.2],\"yaxis\":\"y\",\"type\":\"scatter\"},{\"hovertemplate\":\"<b>%{hovertext}</b><br><br>\\u0433\\u043e\\u0440\\u043e\\u0434=\\u041a\\u0435\\u043c\\u0435\\u0440\\u043e\\u0432\\u043e<br>mean_size_house=%{x}<br>mean_wage=%{y}<extra></extra>\",\"hovertext\":[\"\\u041a\\u0435\\u043c\\u0435\\u0440\\u043e\\u0432\\u043e\"],\"legendgroup\":\"\\u041a\\u0435\\u043c\\u0435\\u0440\\u043e\\u0432\\u043e\",\"marker\":{\"color\":\"#FF7F0E\",\"symbol\":\"circle\"},\"mode\":\"markers\",\"name\":\"\\u041a\\u0435\\u043c\\u0435\\u0440\\u043e\\u0432\\u043e\",\"orientation\":\"v\",\"showlegend\":true,\"x\":[23.2],\"xaxis\":\"x\",\"y\":[39317.8],\"yaxis\":\"y\",\"type\":\"scatter\"},{\"hovertemplate\":\"<b>%{hovertext}</b><br><br>\\u0433\\u043e\\u0440\\u043e\\u0434=\\u0421\\u0430\\u043c\\u0430\\u0440\\u0430<br>mean_size_house=%{x}<br>mean_wage=%{y}<extra></extra>\",\"hovertext\":[\"\\u0421\\u0430\\u043c\\u0430\\u0440\\u0430\"],\"legendgroup\":\"\\u0421\\u0430\\u043c\\u0430\\u0440\\u0430\",\"marker\":{\"color\":\"#2CA02C\",\"symbol\":\"circle\"},\"mode\":\"markers\",\"name\":\"\\u0421\\u0430\\u043c\\u0430\\u0440\\u0430\",\"orientation\":\"v\",\"showlegend\":true,\"x\":[28.1],\"xaxis\":\"x\",\"y\":[39298.9],\"yaxis\":\"y\",\"type\":\"scatter\"},{\"hovertemplate\":\"<b>%{hovertext}</b><br><br>\\u0433\\u043e\\u0440\\u043e\\u0434=\\u0422\\u0443\\u043b\\u0430<br>mean_size_house=%{x}<br>mean_wage=%{y}<extra></extra>\",\"hovertext\":[\"\\u0422\\u0443\\u043b\\u0430\"],\"legendgroup\":\"\\u0422\\u0443\\u043b\\u0430\",\"marker\":{\"color\":\"#D62728\",\"symbol\":\"circle\"},\"mode\":\"markers\",\"name\":\"\\u0422\\u0443\\u043b\\u0430\",\"orientation\":\"v\",\"showlegend\":true,\"x\":[28.6],\"xaxis\":\"x\",\"y\":[39180.2],\"yaxis\":\"y\",\"type\":\"scatter\"},{\"hovertemplate\":\"<b>%{hovertext}</b><br><br>\\u0433\\u043e\\u0440\\u043e\\u0434=\\u041a\\u0430\\u043b\\u0438\\u043d\\u0438\\u043d\\u0433\\u0440\\u0430\\u0434<br>mean_size_house=%{x}<br>mean_wage=%{y}<extra></extra>\",\"hovertext\":[\"\\u041a\\u0430\\u043b\\u0438\\u043d\\u0438\\u043d\\u0433\\u0440\\u0430\\u0434\"],\"legendgroup\":\"\\u041a\\u0430\\u043b\\u0438\\u043d\\u0438\\u043d\\u0433\\u0440\\u0430\\u0434\",\"marker\":{\"color\":\"#9467BD\",\"symbol\":\"circle\"},\"mode\":\"markers\",\"name\":\"\\u041a\\u0430\\u043b\\u0438\\u043d\\u0438\\u043d\\u0433\\u0440\\u0430\\u0434\",\"orientation\":\"v\",\"showlegend\":true,\"x\":[28.7],\"xaxis\":\"x\",\"y\":[38686.0],\"yaxis\":\"y\",\"type\":\"scatter\"},{\"hovertemplate\":\"<b>%{hovertext}</b><br><br>\\u0433\\u043e\\u0440\\u043e\\u0434=\\u0427\\u0435\\u043b\\u044f\\u0431\\u0438\\u043d\\u0441\\u043a<br>mean_size_house=%{x}<br>mean_wage=%{y}<extra></extra>\",\"hovertext\":[\"\\u0427\\u0435\\u043b\\u044f\\u0431\\u0438\\u043d\\u0441\\u043a\"],\"legendgroup\":\"\\u0427\\u0435\\u043b\\u044f\\u0431\\u0438\\u043d\\u0441\\u043a\",\"marker\":{\"color\":\"#8C564B\",\"symbol\":\"circle\"},\"mode\":\"markers\",\"name\":\"\\u0427\\u0435\\u043b\\u044f\\u0431\\u0438\\u043d\\u0441\\u043a\",\"orientation\":\"v\",\"showlegend\":true,\"x\":[25.4],\"xaxis\":\"x\",\"y\":[38228.1],\"yaxis\":\"y\",\"type\":\"scatter\"},{\"hovertemplate\":\"<b>%{hovertext}</b><br><br>\\u0433\\u043e\\u0440\\u043e\\u0434=\\u0411\\u0438\\u0440\\u043e\\u0431\\u0438\\u0434\\u0436\\u0430\\u043d<br>mean_size_house=%{x}<br>mean_wage=%{y}<extra></extra>\",\"hovertext\":[\"\\u0411\\u0438\\u0440\\u043e\\u0431\\u0438\\u0434\\u0436\\u0430\\u043d\"],\"legendgroup\":\"\\u0411\\u0438\\u0440\\u043e\\u0431\\u0438\\u0434\\u0436\\u0430\\u043d\",\"marker\":{\"color\":\"#E377C2\",\"symbol\":\"circle\"},\"mode\":\"markers\",\"name\":\"\\u0411\\u0438\\u0440\\u043e\\u0431\\u0438\\u0434\\u0436\\u0430\\u043d\",\"orientation\":\"v\",\"showlegend\":true,\"x\":[23.0],\"xaxis\":\"x\",\"y\":[37587.3],\"yaxis\":\"y\",\"type\":\"scatter\"},{\"hovertemplate\":\"<b>%{hovertext}</b><br><br>\\u0433\\u043e\\u0440\\u043e\\u0434=\\u042f\\u0440\\u043e\\u0441\\u043b\\u0430\\u0432\\u043b\\u044c<br>mean_size_house=%{x}<br>mean_wage=%{y}<extra></extra>\",\"hovertext\":[\"\\u042f\\u0440\\u043e\\u0441\\u043b\\u0430\\u0432\\u043b\\u044c\"],\"legendgroup\":\"\\u042f\\u0440\\u043e\\u0441\\u043b\\u0430\\u0432\\u043b\\u044c\",\"marker\":{\"color\":\"#7F7F7F\",\"symbol\":\"circle\"},\"mode\":\"markers\",\"name\":\"\\u042f\\u0440\\u043e\\u0441\\u043b\\u0430\\u0432\\u043b\\u044c\",\"orientation\":\"v\",\"showlegend\":true,\"x\":[24.1],\"xaxis\":\"x\",\"y\":[37533.7],\"yaxis\":\"y\",\"type\":\"scatter\"},{\"hovertemplate\":\"<b>%{hovertext}</b><br><br>\\u0433\\u043e\\u0440\\u043e\\u0434=\\u0412\\u0435\\u043b\\u0438\\u043a\\u0438\\u0439 \\u041d\\u043e\\u0432\\u0433\\u043e\\u0440\\u043e\\u0434<br>mean_size_house=%{x}<br>mean_wage=%{y}<extra></extra>\",\"hovertext\":[\"\\u0412\\u0435\\u043b\\u0438\\u043a\\u0438\\u0439 \\u041d\\u043e\\u0432\\u0433\\u043e\\u0440\\u043e\\u0434\"],\"legendgroup\":\"\\u0412\\u0435\\u043b\\u0438\\u043a\\u0438\\u0439 \\u041d\\u043e\\u0432\\u0433\\u043e\\u0440\\u043e\\u0434\",\"marker\":{\"color\":\"#BCBD22\",\"symbol\":\"circle\"},\"mode\":\"markers\",\"name\":\"\\u0412\\u0435\\u043b\\u0438\\u043a\\u0438\\u0439 \\u041d\\u043e\\u0432\\u0433\\u043e\\u0440\\u043e\\u0434\",\"orientation\":\"v\",\"showlegend\":true,\"x\":[25.0],\"xaxis\":\"x\",\"y\":[36640.1],\"yaxis\":\"y\",\"type\":\"scatter\"},{\"hovertemplate\":\"<b>%{hovertext}</b><br><br>\\u0433\\u043e\\u0440\\u043e\\u0434=\\u0423\\u043b\\u0430\\u043d-\\u0423\\u0434\\u044d<br>mean_size_house=%{x}<br>mean_wage=%{y}<extra></extra>\",\"hovertext\":[\"\\u0423\\u043b\\u0430\\u043d-\\u0423\\u0434\\u044d\"],\"legendgroup\":\"\\u0423\\u043b\\u0430\\u043d-\\u0423\\u0434\\u044d\",\"marker\":{\"color\":\"#17BECF\",\"symbol\":\"circle\"},\"mode\":\"markers\",\"name\":\"\\u0423\\u043b\\u0430\\u043d-\\u0423\\u0434\\u044d\",\"orientation\":\"v\",\"showlegend\":true,\"x\":[20.1],\"xaxis\":\"x\",\"y\":[36536.7],\"yaxis\":\"y\",\"type\":\"scatter\"},{\"hovertemplate\":\"<b>%{hovertext}</b><br><br>\\u0433\\u043e\\u0440\\u043e\\u0434=\\u041c\\u0430\\u0433\\u0430\\u0441<br>mean_size_house=%{x}<br>mean_wage=%{y}<extra></extra>\",\"hovertext\":[\"\\u041c\\u0430\\u0433\\u0430\\u0441\"],\"legendgroup\":\"\\u041c\\u0430\\u0433\\u0430\\u0441\",\"marker\":{\"color\":\"#1F77B4\",\"symbol\":\"circle\"},\"mode\":\"markers\",\"name\":\"\\u041c\\u0430\\u0433\\u0430\\u0441\",\"orientation\":\"v\",\"showlegend\":true,\"x\":[67.3],\"xaxis\":\"x\",\"y\":[36523.2],\"yaxis\":\"y\",\"type\":\"scatter\"},{\"hovertemplate\":\"<b>%{hovertext}</b><br><br>\\u0433\\u043e\\u0440\\u043e\\u0434=\\u041e\\u0440\\u0435\\u043d\\u0431\\u0443\\u0440\\u0433<br>mean_size_house=%{x}<br>mean_wage=%{y}<extra></extra>\",\"hovertext\":[\"\\u041e\\u0440\\u0435\\u043d\\u0431\\u0443\\u0440\\u0433\"],\"legendgroup\":\"\\u041e\\u0440\\u0435\\u043d\\u0431\\u0443\\u0440\\u0433\",\"marker\":{\"color\":\"#FF7F0E\",\"symbol\":\"circle\"},\"mode\":\"markers\",\"name\":\"\\u041e\\u0440\\u0435\\u043d\\u0431\\u0443\\u0440\\u0433\",\"orientation\":\"v\",\"showlegend\":true,\"x\":[24.7],\"xaxis\":\"x\",\"y\":[36516.2],\"yaxis\":\"y\",\"type\":\"scatter\"},{\"hovertemplate\":\"<b>%{hovertext}</b><br><br>\\u0433\\u043e\\u0440\\u043e\\u0434=\\u041b\\u0438\\u043f\\u0435\\u0446\\u043a<br>mean_size_house=%{x}<br>mean_wage=%{y}<extra></extra>\",\"hovertext\":[\"\\u041b\\u0438\\u043f\\u0435\\u0446\\u043a\"],\"legendgroup\":\"\\u041b\\u0438\\u043f\\u0435\\u0446\\u043a\",\"marker\":{\"color\":\"#2CA02C\",\"symbol\":\"circle\"},\"mode\":\"markers\",\"name\":\"\\u041b\\u0438\\u043f\\u0435\\u0446\\u043a\",\"orientation\":\"v\",\"showlegend\":true,\"x\":[27.1],\"xaxis\":\"x\",\"y\":[36194.5],\"yaxis\":\"y\",\"type\":\"scatter\"},{\"hovertemplate\":\"<b>%{hovertext}</b><br><br>\\u0433\\u043e\\u0440\\u043e\\u0434=\\u0422\\u0432\\u0435\\u0440\\u044c<br>mean_size_house=%{x}<br>mean_wage=%{y}<extra></extra>\",\"hovertext\":[\"\\u0422\\u0432\\u0435\\u0440\\u044c\"],\"legendgroup\":\"\\u0422\\u0432\\u0435\\u0440\\u044c\",\"marker\":{\"color\":\"#D62728\",\"symbol\":\"circle\"},\"mode\":\"markers\",\"name\":\"\\u0422\\u0432\\u0435\\u0440\\u044c\",\"orientation\":\"v\",\"showlegend\":true,\"x\":[26.2],\"xaxis\":\"x\",\"y\":[36097.0],\"yaxis\":\"y\",\"type\":\"scatter\"},{\"hovertemplate\":\"<b>%{hovertext}</b><br><br>\\u0433\\u043e\\u0440\\u043e\\u0434=\\u0412\\u043e\\u043b\\u043e\\u0433\\u0434\\u0430<br>mean_size_house=%{x}<br>mean_wage=%{y}<extra></extra>\",\"hovertext\":[\"\\u0412\\u043e\\u043b\\u043e\\u0433\\u0434\\u0430\"],\"legendgroup\":\"\\u0412\\u043e\\u043b\\u043e\\u0433\\u0434\\u0430\",\"marker\":{\"color\":\"#9467BD\",\"symbol\":\"circle\"},\"mode\":\"markers\",\"name\":\"\\u0412\\u043e\\u043b\\u043e\\u0433\\u0434\\u0430\",\"orientation\":\"v\",\"showlegend\":true,\"x\":[26.6],\"xaxis\":\"x\",\"y\":[36072.3],\"yaxis\":\"y\",\"type\":\"scatter\"},{\"hovertemplate\":\"<b>%{hovertext}</b><br><br>\\u0433\\u043e\\u0440\\u043e\\u0434=\\u0420\\u044f\\u0437\\u0430\\u043d\\u044c<br>mean_size_house=%{x}<br>mean_wage=%{y}<extra></extra>\",\"hovertext\":[\"\\u0420\\u044f\\u0437\\u0430\\u043d\\u044c\"],\"legendgroup\":\"\\u0420\\u044f\\u0437\\u0430\\u043d\\u044c\",\"marker\":{\"color\":\"#8C564B\",\"symbol\":\"circle\"},\"mode\":\"markers\",\"name\":\"\\u0420\\u044f\\u0437\\u0430\\u043d\\u044c\",\"orientation\":\"v\",\"showlegend\":true,\"x\":[26.6],\"xaxis\":\"x\",\"y\":[36024.7],\"yaxis\":\"y\",\"type\":\"scatter\"},{\"hovertemplate\":\"<b>%{hovertext}</b><br><br>\\u0433\\u043e\\u0440\\u043e\\u0434=\\u041e\\u043c\\u0441\\u043a<br>mean_size_house=%{x}<br>mean_wage=%{y}<extra></extra>\",\"hovertext\":[\"\\u041e\\u043c\\u0441\\u043a\"],\"legendgroup\":\"\\u041e\\u043c\\u0441\\u043a\",\"marker\":{\"color\":\"#E377C2\",\"symbol\":\"circle\"},\"mode\":\"markers\",\"name\":\"\\u041e\\u043c\\u0441\\u043a\",\"orientation\":\"v\",\"showlegend\":true,\"x\":[24.1],\"xaxis\":\"x\",\"y\":[35602.0],\"yaxis\":\"y\",\"type\":\"scatter\"},{\"hovertemplate\":\"<b>%{hovertext}</b><br><br>\\u0433\\u043e\\u0440\\u043e\\u0434=\\u0412\\u043e\\u0440\\u043e\\u043d\\u0435\\u0436<br>mean_size_house=%{x}<br>mean_wage=%{y}<extra></extra>\",\"hovertext\":[\"\\u0412\\u043e\\u0440\\u043e\\u043d\\u0435\\u0436\"],\"legendgroup\":\"\\u0412\\u043e\\u0440\\u043e\\u043d\\u0435\\u0436\",\"marker\":{\"color\":\"#7F7F7F\",\"symbol\":\"circle\"},\"mode\":\"markers\",\"name\":\"\\u0412\\u043e\\u0440\\u043e\\u043d\\u0435\\u0436\",\"orientation\":\"v\",\"showlegend\":true,\"x\":[28.1],\"xaxis\":\"x\",\"y\":[35202.3],\"yaxis\":\"y\",\"type\":\"scatter\"},{\"hovertemplate\":\"<b>%{hovertext}</b><br><br>\\u0433\\u043e\\u0440\\u043e\\u0434=\\u0410\\u0441\\u0442\\u0440\\u0430\\u0445\\u0430\\u043d\\u044c<br>mean_size_house=%{x}<br>mean_wage=%{y}<extra></extra>\",\"hovertext\":[\"\\u0410\\u0441\\u0442\\u0440\\u0430\\u0445\\u0430\\u043d\\u044c\"],\"legendgroup\":\"\\u0410\\u0441\\u0442\\u0440\\u0430\\u0445\\u0430\\u043d\\u044c\",\"marker\":{\"color\":\"#BCBD22\",\"symbol\":\"circle\"},\"mode\":\"markers\",\"name\":\"\\u0410\\u0441\\u0442\\u0440\\u0430\\u0445\\u0430\\u043d\\u044c\",\"orientation\":\"v\",\"showlegend\":true,\"x\":[24.8],\"xaxis\":\"x\",\"y\":[35179.0],\"yaxis\":\"y\",\"type\":\"scatter\"},{\"hovertemplate\":\"<b>%{hovertext}</b><br><br>\\u0433\\u043e\\u0440\\u043e\\u0434=\\u0418\\u0436\\u0435\\u0432\\u0441\\u043a<br>mean_size_house=%{x}<br>mean_wage=%{y}<extra></extra>\",\"hovertext\":[\"\\u0418\\u0436\\u0435\\u0432\\u0441\\u043a\"],\"legendgroup\":\"\\u0418\\u0436\\u0435\\u0432\\u0441\\u043a\",\"marker\":{\"color\":\"#17BECF\",\"symbol\":\"circle\"},\"mode\":\"markers\",\"name\":\"\\u0418\\u0436\\u0435\\u0432\\u0441\\u043a\",\"orientation\":\"v\",\"showlegend\":true,\"x\":[21.1],\"xaxis\":\"x\",\"y\":[35011.6],\"yaxis\":\"y\",\"type\":\"scatter\"},{\"hovertemplate\":\"<b>%{hovertext}</b><br><br>\\u0433\\u043e\\u0440\\u043e\\u0434=\\u0413\\u043e\\u0440\\u043d\\u043e-\\u0410\\u043b\\u0442\\u0430\\u0439\\u0441\\u043a<br>mean_size_house=%{x}<br>mean_wage=%{y}<extra></extra>\",\"hovertext\":[\"\\u0413\\u043e\\u0440\\u043d\\u043e-\\u0410\\u043b\\u0442\\u0430\\u0439\\u0441\\u043a\"],\"legendgroup\":\"\\u0413\\u043e\\u0440\\u043d\\u043e-\\u0410\\u043b\\u0442\\u0430\\u0439\\u0441\\u043a\",\"marker\":{\"color\":\"#1F77B4\",\"symbol\":\"circle\"},\"mode\":\"markers\",\"name\":\"\\u0413\\u043e\\u0440\\u043d\\u043e-\\u0410\\u043b\\u0442\\u0430\\u0439\\u0441\\u043a\",\"orientation\":\"v\",\"showlegend\":true,\"x\":[23.6],\"xaxis\":\"x\",\"y\":[33956.9],\"yaxis\":\"y\",\"type\":\"scatter\"},{\"hovertemplate\":\"<b>%{hovertext}</b><br><br>\\u0433\\u043e\\u0440\\u043e\\u0434=\\u0412\\u043e\\u043b\\u0433\\u043e\\u0433\\u0440\\u0430\\u0434 <br>mean_size_house=%{x}<br>mean_wage=%{y}<extra></extra>\",\"hovertext\":[\"\\u0412\\u043e\\u043b\\u0433\\u043e\\u0433\\u0440\\u0430\\u0434 \"],\"legendgroup\":\"\\u0412\\u043e\\u043b\\u0433\\u043e\\u0433\\u0440\\u0430\\u0434 \",\"marker\":{\"color\":\"#FF7F0E\",\"symbol\":\"circle\"},\"mode\":\"markers\",\"name\":\"\\u0412\\u043e\\u043b\\u0433\\u043e\\u0433\\u0440\\u0430\\u0434 \",\"orientation\":\"v\",\"showlegend\":true,\"x\":[23.9],\"xaxis\":\"x\",\"y\":[33718.9],\"yaxis\":\"y\",\"type\":\"scatter\"},{\"hovertemplate\":\"<b>%{hovertext}</b><br><br>\\u0433\\u043e\\u0440\\u043e\\u0434=\\u0411\\u0435\\u043b\\u0433\\u043e\\u0440\\u043e\\u0434<br>mean_size_house=%{x}<br>mean_wage=%{y}<extra></extra>\",\"hovertext\":[\"\\u0411\\u0435\\u043b\\u0433\\u043e\\u0440\\u043e\\u0434\"],\"legendgroup\":\"\\u0411\\u0435\\u043b\\u0433\\u043e\\u0440\\u043e\\u0434\",\"marker\":{\"color\":\"#2CA02C\",\"symbol\":\"circle\"},\"mode\":\"markers\",\"name\":\"\\u0411\\u0435\\u043b\\u0433\\u043e\\u0440\\u043e\\u0434\",\"orientation\":\"v\",\"showlegend\":true,\"x\":[24.8],\"xaxis\":\"x\",\"y\":[33566.7],\"yaxis\":\"y\",\"type\":\"scatter\"},{\"hovertemplate\":\"<b>%{hovertext}</b><br><br>\\u0433\\u043e\\u0440\\u043e\\u0434=\\u0421\\u0442\\u0430\\u0432\\u0440\\u043e\\u043f\\u043e\\u043b\\u044c<br>mean_size_house=%{x}<br>mean_wage=%{y}<extra></extra>\",\"hovertext\":[\"\\u0421\\u0442\\u0430\\u0432\\u0440\\u043e\\u043f\\u043e\\u043b\\u044c\"],\"legendgroup\":\"\\u0421\\u0442\\u0430\\u0432\\u0440\\u043e\\u043f\\u043e\\u043b\\u044c\",\"marker\":{\"color\":\"#D62728\",\"symbol\":\"circle\"},\"mode\":\"markers\",\"name\":\"\\u0421\\u0442\\u0430\\u0432\\u0440\\u043e\\u043f\\u043e\\u043b\\u044c\",\"orientation\":\"v\",\"showlegend\":true,\"x\":[29.6],\"xaxis\":\"x\",\"y\":[33290.1],\"yaxis\":\"y\",\"type\":\"scatter\"},{\"hovertemplate\":\"<b>%{hovertext}</b><br><br>\\u0433\\u043e\\u0440\\u043e\\u0434=\\u0421\\u0438\\u043c\\u0444\\u0435\\u0440\\u043e\\u043f\\u043e\\u043b\\u044c<br>mean_size_house=%{x}<br>mean_wage=%{y}<extra></extra>\",\"hovertext\":[\"\\u0421\\u0438\\u043c\\u0444\\u0435\\u0440\\u043e\\u043f\\u043e\\u043b\\u044c\"],\"legendgroup\":\"\\u0421\\u0438\\u043c\\u0444\\u0435\\u0440\\u043e\\u043f\\u043e\\u043b\\u044c\",\"marker\":{\"color\":\"#9467BD\",\"symbol\":\"circle\"},\"mode\":\"markers\",\"name\":\"\\u0421\\u0438\\u043c\\u0444\\u0435\\u0440\\u043e\\u043f\\u043e\\u043b\\u044c\",\"orientation\":\"v\",\"showlegend\":true,\"x\":[12.1],\"xaxis\":\"x\",\"y\":[33279.7],\"yaxis\":\"y\",\"type\":\"scatter\"},{\"hovertemplate\":\"<b>%{hovertext}</b><br><br>\\u0433\\u043e\\u0440\\u043e\\u0434=\\u0412\\u043b\\u0430\\u0434\\u0438\\u043c\\u0438\\u0440<br>mean_size_house=%{x}<br>mean_wage=%{y}<extra></extra>\",\"hovertext\":[\"\\u0412\\u043b\\u0430\\u0434\\u0438\\u043c\\u0438\\u0440\"],\"legendgroup\":\"\\u0412\\u043b\\u0430\\u0434\\u0438\\u043c\\u0438\\u0440\",\"marker\":{\"color\":\"#8C564B\",\"symbol\":\"circle\"},\"mode\":\"markers\",\"name\":\"\\u0412\\u043b\\u0430\\u0434\\u0438\\u043c\\u0438\\u0440\",\"orientation\":\"v\",\"showlegend\":true,\"x\":[25.6],\"xaxis\":\"x\",\"y\":[33213.1],\"yaxis\":\"y\",\"type\":\"scatter\"},{\"hovertemplate\":\"<b>%{hovertext}</b><br><br>\\u0433\\u043e\\u0440\\u043e\\u0434=\\u041a\\u0438\\u0440\\u043e\\u0432<br>mean_size_house=%{x}<br>mean_wage=%{y}<extra></extra>\",\"hovertext\":[\"\\u041a\\u0438\\u0440\\u043e\\u0432\"],\"legendgroup\":\"\\u041a\\u0438\\u0440\\u043e\\u0432\",\"marker\":{\"color\":\"#E377C2\",\"symbol\":\"circle\"},\"mode\":\"markers\",\"name\":\"\\u041a\\u0438\\u0440\\u043e\\u0432\",\"orientation\":\"v\",\"showlegend\":true,\"x\":[24.3],\"xaxis\":\"x\",\"y\":[32720.3],\"yaxis\":\"y\",\"type\":\"scatter\"},{\"hovertemplate\":\"<b>%{hovertext}</b><br><br>\\u0433\\u043e\\u0440\\u043e\\u0434=\\u0423\\u043b\\u044c\\u044f\\u043d\\u043e\\u0432\\u0441\\u043a<br>mean_size_house=%{x}<br>mean_wage=%{y}<extra></extra>\",\"hovertext\":[\"\\u0423\\u043b\\u044c\\u044f\\u043d\\u043e\\u0432\\u0441\\u043a\"],\"legendgroup\":\"\\u0423\\u043b\\u044c\\u044f\\u043d\\u043e\\u0432\\u0441\\u043a\",\"marker\":{\"color\":\"#7F7F7F\",\"symbol\":\"circle\"},\"mode\":\"markers\",\"name\":\"\\u0423\\u043b\\u044c\\u044f\\u043d\\u043e\\u0432\\u0441\\u043a\",\"orientation\":\"v\",\"showlegend\":true,\"x\":[26.0],\"xaxis\":\"x\",\"y\":[32555.7],\"yaxis\":\"y\",\"type\":\"scatter\"},{\"hovertemplate\":\"<b>%{hovertext}</b><br><br>\\u0433\\u043e\\u0440\\u043e\\u0434=\\u0421\\u0430\\u0440\\u0430\\u0442\\u043e\\u0432<br>mean_size_house=%{x}<br>mean_wage=%{y}<extra></extra>\",\"hovertext\":[\"\\u0421\\u0430\\u0440\\u0430\\u0442\\u043e\\u0432\"],\"legendgroup\":\"\\u0421\\u0430\\u0440\\u0430\\u0442\\u043e\\u0432\",\"marker\":{\"color\":\"#BCBD22\",\"symbol\":\"circle\"},\"mode\":\"markers\",\"name\":\"\\u0421\\u0430\\u0440\\u0430\\u0442\\u043e\\u0432\",\"orientation\":\"v\",\"showlegend\":true,\"x\":[28.9],\"xaxis\":\"x\",\"y\":[32504.7],\"yaxis\":\"y\",\"type\":\"scatter\"},{\"hovertemplate\":\"<b>%{hovertext}</b><br><br>\\u0433\\u043e\\u0440\\u043e\\u0434=\\u0421\\u043c\\u043e\\u043b\\u0435\\u043d\\u0441\\u043a<br>mean_size_house=%{x}<br>mean_wage=%{y}<extra></extra>\",\"hovertext\":[\"\\u0421\\u043c\\u043e\\u043b\\u0435\\u043d\\u0441\\u043a\"],\"legendgroup\":\"\\u0421\\u043c\\u043e\\u043b\\u0435\\u043d\\u0441\\u043a\",\"marker\":{\"color\":\"#17BECF\",\"symbol\":\"circle\"},\"mode\":\"markers\",\"name\":\"\\u0421\\u043c\\u043e\\u043b\\u0435\\u043d\\u0441\\u043a\",\"orientation\":\"v\",\"showlegend\":true,\"x\":[27.1],\"xaxis\":\"x\",\"y\":[31462.0],\"yaxis\":\"y\",\"type\":\"scatter\"},{\"hovertemplate\":\"<b>%{hovertext}</b><br><br>\\u0433\\u043e\\u0440\\u043e\\u0434=\\u041a\\u0443\\u0440\\u0433\\u0430\\u043d<br>mean_size_house=%{x}<br>mean_wage=%{y}<extra></extra>\",\"hovertext\":[\"\\u041a\\u0443\\u0440\\u0433\\u0430\\u043d\"],\"legendgroup\":\"\\u041a\\u0443\\u0440\\u0433\\u0430\\u043d\",\"marker\":{\"color\":\"#1F77B4\",\"symbol\":\"circle\"},\"mode\":\"markers\",\"name\":\"\\u041a\\u0443\\u0440\\u0433\\u0430\\u043d\",\"orientation\":\"v\",\"showlegend\":true,\"x\":[25.4],\"xaxis\":\"x\",\"y\":[31201.4],\"yaxis\":\"y\",\"type\":\"scatter\"},{\"hovertemplate\":\"<b>%{hovertext}</b><br><br>\\u0433\\u043e\\u0440\\u043e\\u0434=\\u041f\\u0435\\u043d\\u0437\\u0430<br>mean_size_house=%{x}<br>mean_wage=%{y}<extra></extra>\",\"hovertext\":[\"\\u041f\\u0435\\u043d\\u0437\\u0430\"],\"legendgroup\":\"\\u041f\\u0435\\u043d\\u0437\\u0430\",\"marker\":{\"color\":\"#FF7F0E\",\"symbol\":\"circle\"},\"mode\":\"markers\",\"name\":\"\\u041f\\u0435\\u043d\\u0437\\u0430\",\"orientation\":\"v\",\"showlegend\":true,\"x\":[28.7],\"xaxis\":\"x\",\"y\":[31129.7],\"yaxis\":\"y\",\"type\":\"scatter\"},{\"hovertemplate\":\"<b>%{hovertext}</b><br><br>\\u0433\\u043e\\u0440\\u043e\\u0434=\\u0419\\u043e\\u0448\\u043a\\u0430\\u0440-\\u041e\\u043b\\u0430<br>mean_size_house=%{x}<br>mean_wage=%{y}<extra></extra>\",\"hovertext\":[\"\\u0419\\u043e\\u0448\\u043a\\u0430\\u0440-\\u041e\\u043b\\u0430\"],\"legendgroup\":\"\\u0419\\u043e\\u0448\\u043a\\u0430\\u0440-\\u041e\\u043b\\u0430\",\"marker\":{\"color\":\"#2CA02C\",\"symbol\":\"circle\"},\"mode\":\"markers\",\"name\":\"\\u0419\\u043e\\u0448\\u043a\\u0430\\u0440-\\u041e\\u043b\\u0430\",\"orientation\":\"v\",\"showlegend\":true,\"x\":[25.5],\"xaxis\":\"x\",\"y\":[31100.1],\"yaxis\":\"y\",\"type\":\"scatter\"},{\"hovertemplate\":\"<b>%{hovertext}</b><br><br>\\u0433\\u043e\\u0440\\u043e\\u0434=\\u0411\\u0430\\u0440\\u043d\\u0430\\u0443\\u043b<br>mean_size_house=%{x}<br>mean_wage=%{y}<extra></extra>\",\"hovertext\":[\"\\u0411\\u0430\\u0440\\u043d\\u0430\\u0443\\u043b\"],\"legendgroup\":\"\\u0411\\u0430\\u0440\\u043d\\u0430\\u0443\\u043b\",\"marker\":{\"color\":\"#D62728\",\"symbol\":\"circle\"},\"mode\":\"markers\",\"name\":\"\\u0411\\u0430\\u0440\\u043d\\u0430\\u0443\\u043b\",\"orientation\":\"v\",\"showlegend\":true,\"x\":[23.9],\"xaxis\":\"x\",\"y\":[31013.5],\"yaxis\":\"y\",\"type\":\"scatter\"},{\"hovertemplate\":\"<b>%{hovertext}</b><br><br>\\u0433\\u043e\\u0440\\u043e\\u0434=\\u0411\\u0440\\u044f\\u043d\\u0441\\u043a<br>mean_size_house=%{x}<br>mean_wage=%{y}<extra></extra>\",\"hovertext\":[\"\\u0411\\u0440\\u044f\\u043d\\u0441\\u043a\"],\"legendgroup\":\"\\u0411\\u0440\\u044f\\u043d\\u0441\\u043a\",\"marker\":{\"color\":\"#9467BD\",\"symbol\":\"circle\"},\"mode\":\"markers\",\"name\":\"\\u0411\\u0440\\u044f\\u043d\\u0441\\u043a\",\"orientation\":\"v\",\"showlegend\":true,\"x\":[29.2],\"xaxis\":\"x\",\"y\":[30540.9],\"yaxis\":\"y\",\"type\":\"scatter\"},{\"hovertemplate\":\"<b>%{hovertext}</b><br><br>\\u0433\\u043e\\u0440\\u043e\\u0434=\\u041f\\u0441\\u043a\\u043e\\u0432<br>mean_size_house=%{x}<br>mean_wage=%{y}<extra></extra>\",\"hovertext\":[\"\\u041f\\u0441\\u043a\\u043e\\u0432\"],\"legendgroup\":\"\\u041f\\u0441\\u043a\\u043e\\u0432\",\"marker\":{\"color\":\"#8C564B\",\"symbol\":\"circle\"},\"mode\":\"markers\",\"name\":\"\\u041f\\u0441\\u043a\\u043e\\u0432\",\"orientation\":\"v\",\"showlegend\":true,\"x\":[25.3],\"xaxis\":\"x\",\"y\":[30539.1],\"yaxis\":\"y\",\"type\":\"scatter\"},{\"hovertemplate\":\"<b>%{hovertext}</b><br><br>\\u0433\\u043e\\u0440\\u043e\\u0434=\\u0427\\u0435\\u0431\\u043e\\u043a\\u0441\\u0430\\u0440\\u044b<br>mean_size_house=%{x}<br>mean_wage=%{y}<extra></extra>\",\"hovertext\":[\"\\u0427\\u0435\\u0431\\u043e\\u043a\\u0441\\u0430\\u0440\\u044b\"],\"legendgroup\":\"\\u0427\\u0435\\u0431\\u043e\\u043a\\u0441\\u0430\\u0440\\u044b\",\"marker\":{\"color\":\"#E377C2\",\"symbol\":\"circle\"},\"mode\":\"markers\",\"name\":\"\\u0427\\u0435\\u0431\\u043e\\u043a\\u0441\\u0430\\u0440\\u044b\",\"orientation\":\"v\",\"showlegend\":true,\"x\":[23.4],\"xaxis\":\"x\",\"y\":[30510.3],\"yaxis\":\"y\",\"type\":\"scatter\"},{\"hovertemplate\":\"<b>%{hovertext}</b><br><br>\\u0433\\u043e\\u0440\\u043e\\u0434=\\u0413\\u0440\\u043e\\u0437\\u043d\\u044b\\u0439<br>mean_size_house=%{x}<br>mean_wage=%{y}<extra></extra>\",\"hovertext\":[\"\\u0413\\u0440\\u043e\\u0437\\u043d\\u044b\\u0439\"],\"legendgroup\":\"\\u0413\\u0440\\u043e\\u0437\\u043d\\u044b\\u0439\",\"marker\":{\"color\":\"#7F7F7F\",\"symbol\":\"circle\"},\"mode\":\"markers\",\"name\":\"\\u0413\\u0440\\u043e\\u0437\\u043d\\u044b\\u0439\",\"orientation\":\"v\",\"showlegend\":true,\"x\":[26.7],\"xaxis\":\"x\",\"y\":[30455.0],\"yaxis\":\"y\",\"type\":\"scatter\"},{\"hovertemplate\":\"<b>%{hovertext}</b><br><br>\\u0433\\u043e\\u0440\\u043e\\u0434=\\u041a\\u043e\\u0441\\u0442\\u0440\\u043e\\u043c\\u0430<br>mean_size_house=%{x}<br>mean_wage=%{y}<extra></extra>\",\"hovertext\":[\"\\u041a\\u043e\\u0441\\u0442\\u0440\\u043e\\u043c\\u0430\"],\"legendgroup\":\"\\u041a\\u043e\\u0441\\u0442\\u0440\\u043e\\u043c\\u0430\",\"marker\":{\"color\":\"#BCBD22\",\"symbol\":\"circle\"},\"mode\":\"markers\",\"name\":\"\\u041a\\u043e\\u0441\\u0442\\u0440\\u043e\\u043c\\u0430\",\"orientation\":\"v\",\"showlegend\":true,\"x\":[25.4],\"xaxis\":\"x\",\"y\":[30365.5],\"yaxis\":\"y\",\"type\":\"scatter\"},{\"hovertemplate\":\"<b>%{hovertext}</b><br><br>\\u0433\\u043e\\u0440\\u043e\\u0434=\\u041a\\u0443\\u0440\\u0441\\u043a<br>mean_size_house=%{x}<br>mean_wage=%{y}<extra></extra>\",\"hovertext\":[\"\\u041a\\u0443\\u0440\\u0441\\u043a\"],\"legendgroup\":\"\\u041a\\u0443\\u0440\\u0441\\u043a\",\"marker\":{\"color\":\"#17BECF\",\"symbol\":\"circle\"},\"mode\":\"markers\",\"name\":\"\\u041a\\u0443\\u0440\\u0441\\u043a\",\"orientation\":\"v\",\"showlegend\":true,\"x\":[27.1],\"xaxis\":\"x\",\"y\":[29746.8],\"yaxis\":\"y\",\"type\":\"scatter\"},{\"hovertemplate\":\"<b>%{hovertext}</b><br><br>\\u0433\\u043e\\u0440\\u043e\\u0434=\\u041e\\u0440\\u0435\\u043b<br>mean_size_house=%{x}<br>mean_wage=%{y}<extra></extra>\",\"hovertext\":[\"\\u041e\\u0440\\u0435\\u043b\"],\"legendgroup\":\"\\u041e\\u0440\\u0435\\u043b\",\"marker\":{\"color\":\"#1F77B4\",\"symbol\":\"circle\"},\"mode\":\"markers\",\"name\":\"\\u041e\\u0440\\u0435\\u043b\",\"orientation\":\"v\",\"showlegend\":true,\"x\":[29.1],\"xaxis\":\"x\",\"y\":[29583.6],\"yaxis\":\"y\",\"type\":\"scatter\"},{\"hovertemplate\":\"<b>%{hovertext}</b><br><br>\\u0433\\u043e\\u0440\\u043e\\u0434=\\u0418\\u0432\\u0430\\u043d\\u043e\\u0432\\u043e<br>mean_size_house=%{x}<br>mean_wage=%{y}<extra></extra>\",\"hovertext\":[\"\\u0418\\u0432\\u0430\\u043d\\u043e\\u0432\\u043e\"],\"legendgroup\":\"\\u0418\\u0432\\u0430\\u043d\\u043e\\u0432\\u043e\",\"marker\":{\"color\":\"#FF7F0E\",\"symbol\":\"circle\"},\"mode\":\"markers\",\"name\":\"\\u0418\\u0432\\u0430\\u043d\\u043e\\u0432\\u043e\",\"orientation\":\"v\",\"showlegend\":true,\"x\":[24.3],\"xaxis\":\"x\",\"y\":[29496.4],\"yaxis\":\"y\",\"type\":\"scatter\"},{\"hovertemplate\":\"<b>%{hovertext}</b><br><br>\\u0433\\u043e\\u0440\\u043e\\u0434=\\u0422\\u0430\\u043c\\u0431\\u043e\\u0432<br>mean_size_house=%{x}<br>mean_wage=%{y}<extra></extra>\",\"hovertext\":[\"\\u0422\\u0430\\u043c\\u0431\\u043e\\u0432\"],\"legendgroup\":\"\\u0422\\u0430\\u043c\\u0431\\u043e\\u0432\",\"marker\":{\"color\":\"#2CA02C\",\"symbol\":\"circle\"},\"mode\":\"markers\",\"name\":\"\\u0422\\u0430\\u043c\\u0431\\u043e\\u0432\",\"orientation\":\"v\",\"showlegend\":true,\"x\":[26.6],\"xaxis\":\"x\",\"y\":[28931.7],\"yaxis\":\"y\",\"type\":\"scatter\"},{\"hovertemplate\":\"<b>%{hovertext}</b><br><br>\\u0433\\u043e\\u0440\\u043e\\u0434=\\u041c\\u0430\\u0445\\u0430\\u0447\\u043a\\u0430\\u043b\\u0430<br>mean_size_house=%{x}<br>mean_wage=%{y}<extra></extra>\",\"hovertext\":[\"\\u041c\\u0430\\u0445\\u0430\\u0447\\u043a\\u0430\\u043b\\u0430\"],\"legendgroup\":\"\\u041c\\u0430\\u0445\\u0430\\u0447\\u043a\\u0430\\u043b\\u0430\",\"marker\":{\"color\":\"#D62728\",\"symbol\":\"circle\"},\"mode\":\"markers\",\"name\":\"\\u041c\\u0430\\u0445\\u0430\\u0447\\u043a\\u0430\\u043b\\u0430\",\"orientation\":\"v\",\"showlegend\":true,\"x\":[17.5],\"xaxis\":\"x\",\"y\":[28610.2],\"yaxis\":\"y\",\"type\":\"scatter\"},{\"hovertemplate\":\"<b>%{hovertext}</b><br><br>\\u0433\\u043e\\u0440\\u043e\\u0434=\\u0421\\u0430\\u0440\\u0430\\u043d\\u0441\\u043a<br>mean_size_house=%{x}<br>mean_wage=%{y}<extra></extra>\",\"hovertext\":[\"\\u0421\\u0430\\u0440\\u0430\\u043d\\u0441\\u043a\"],\"legendgroup\":\"\\u0421\\u0430\\u0440\\u0430\\u043d\\u0441\\u043a\",\"marker\":{\"color\":\"#9467BD\",\"symbol\":\"circle\"},\"mode\":\"markers\",\"name\":\"\\u0421\\u0430\\u0440\\u0430\\u043d\\u0441\\u043a\",\"orientation\":\"v\",\"showlegend\":true,\"x\":[23.7],\"xaxis\":\"x\",\"y\":[28210.8],\"yaxis\":\"y\",\"type\":\"scatter\"},{\"hovertemplate\":\"<b>%{hovertext}</b><br><br>\\u0433\\u043e\\u0440\\u043e\\u0434=\\u0412\\u043b\\u0430\\u0434\\u0438\\u043a\\u0430\\u0432\\u043a\\u0430\\u0437<br>mean_size_house=%{x}<br>mean_wage=%{y}<extra></extra>\",\"hovertext\":[\"\\u0412\\u043b\\u0430\\u0434\\u0438\\u043a\\u0430\\u0432\\u043a\\u0430\\u0437\"],\"legendgroup\":\"\\u0412\\u043b\\u0430\\u0434\\u0438\\u043a\\u0430\\u0432\\u043a\\u0430\\u0437\",\"marker\":{\"color\":\"#8C564B\",\"symbol\":\"circle\"},\"mode\":\"markers\",\"name\":\"\\u0412\\u043b\\u0430\\u0434\\u0438\\u043a\\u0430\\u0432\\u043a\\u0430\\u0437\",\"orientation\":\"v\",\"showlegend\":true,\"x\":[35.3],\"xaxis\":\"x\",\"y\":[28184.3],\"yaxis\":\"y\",\"type\":\"scatter\"},{\"hovertemplate\":\"<b>%{hovertext}</b><br><br>\\u0433\\u043e\\u0440\\u043e\\u0434=\\u041d\\u0430\\u043b\\u044c\\u0447\\u0438\\u043a<br>mean_size_house=%{x}<br>mean_wage=%{y}<extra></extra>\",\"hovertext\":[\"\\u041d\\u0430\\u043b\\u044c\\u0447\\u0438\\u043a\"],\"legendgroup\":\"\\u041d\\u0430\\u043b\\u044c\\u0447\\u0438\\u043a\",\"marker\":{\"color\":\"#E377C2\",\"symbol\":\"circle\"},\"mode\":\"markers\",\"name\":\"\\u041d\\u0430\\u043b\\u044c\\u0447\\u0438\\u043a\",\"orientation\":\"v\",\"showlegend\":true,\"x\":[20.0],\"xaxis\":\"x\",\"y\":[27958.3],\"yaxis\":\"y\",\"type\":\"scatter\"},{\"hovertemplate\":\"<b>%{hovertext}</b><br><br>\\u0433\\u043e\\u0440\\u043e\\u0434=\\u0421\\u0435\\u0432\\u0430\\u0441\\u0442\\u043e\\u043f\\u043e\\u043b\\u044c<br>mean_size_house=%{x}<br>mean_wage=%{y}<extra></extra>\",\"hovertext\":[\"\\u0421\\u0435\\u0432\\u0430\\u0441\\u0442\\u043e\\u043f\\u043e\\u043b\\u044c\"],\"legendgroup\":\"\\u0421\\u0435\\u0432\\u0430\\u0441\\u0442\\u043e\\u043f\\u043e\\u043b\\u044c\",\"marker\":{\"color\":\"#7F7F7F\",\"symbol\":\"circle\"},\"mode\":\"markers\",\"name\":\"\\u0421\\u0435\\u0432\\u0430\\u0441\\u0442\\u043e\\u043f\\u043e\\u043b\\u044c\",\"orientation\":\"v\",\"showlegend\":true,\"x\":[25.5],\"xaxis\":\"x\",\"y\":[27687.0],\"yaxis\":\"y\",\"type\":\"scatter\"},{\"hovertemplate\":\"<b>%{hovertext}</b><br><br>\\u0433\\u043e\\u0440\\u043e\\u0434=\\u041c\\u0430\\u0439\\u043a\\u043e\\u043f<br>mean_size_house=%{x}<br>mean_wage=%{y}<extra></extra>\",\"hovertext\":[\"\\u041c\\u0430\\u0439\\u043a\\u043e\\u043f\"],\"legendgroup\":\"\\u041c\\u0430\\u0439\\u043a\\u043e\\u043f\",\"marker\":{\"color\":\"#BCBD22\",\"symbol\":\"circle\"},\"mode\":\"markers\",\"name\":\"\\u041c\\u0430\\u0439\\u043a\\u043e\\u043f\",\"orientation\":\"v\",\"showlegend\":true,\"x\":[28.6],\"xaxis\":\"x\",\"y\":[27481.1],\"yaxis\":\"y\",\"type\":\"scatter\"},{\"hovertemplate\":\"<b>%{hovertext}</b><br><br>\\u0433\\u043e\\u0440\\u043e\\u0434=\\u0427\\u0435\\u0440\\u043a\\u0435\\u0441\\u0441\\u043a<br>mean_size_house=%{x}<br>mean_wage=%{y}<extra></extra>\",\"hovertext\":[\"\\u0427\\u0435\\u0440\\u043a\\u0435\\u0441\\u0441\\u043a\"],\"legendgroup\":\"\\u0427\\u0435\\u0440\\u043a\\u0435\\u0441\\u0441\\u043a\",\"marker\":{\"color\":\"#17BECF\",\"symbol\":\"circle\"},\"mode\":\"markers\",\"name\":\"\\u0427\\u0435\\u0440\\u043a\\u0435\\u0441\\u0441\\u043a\",\"orientation\":\"v\",\"showlegend\":true,\"x\":[24.4],\"xaxis\":\"x\",\"y\":[26960.8],\"yaxis\":\"y\",\"type\":\"scatter\"},{\"hovertemplate\":\"<b>%{hovertext}</b><br><br>\\u0433\\u043e\\u0440\\u043e\\u0434=\\u042d\\u043b\\u0438\\u0441\\u0442\\u0430<br>mean_size_house=%{x}<br>mean_wage=%{y}<extra></extra>\",\"hovertext\":[\"\\u042d\\u043b\\u0438\\u0441\\u0442\\u0430\"],\"legendgroup\":\"\\u042d\\u043b\\u0438\\u0441\\u0442\\u0430\",\"marker\":{\"color\":\"#1F77B4\",\"symbol\":\"circle\"},\"mode\":\"markers\",\"name\":\"\\u042d\\u043b\\u0438\\u0441\\u0442\\u0430\",\"orientation\":\"v\",\"showlegend\":true,\"x\":[29.1],\"xaxis\":\"x\",\"y\":[26639.8],\"yaxis\":\"y\",\"type\":\"scatter\"},{\"hovertemplate\":\"<b>%{hovertext}</b><br><br>\\u0433\\u043e\\u0440\\u043e\\u0434=\\u041c\\u043e\\u0441\\u043a\\u0432\\u0430<br>mean_size_house=%{x}<br>mean_wage=%{y}<extra></extra>\",\"hovertext\":[\"\\u041c\\u043e\\u0441\\u043a\\u0432\\u0430\"],\"legendgroup\":\"\\u041c\\u043e\\u0441\\u043a\\u0432\\u0430\",\"marker\":{\"color\":\"#FF7F0E\",\"symbol\":\"circle\"},\"mode\":\"markers\",\"name\":\"\\u041c\\u043e\\u0441\\u043a\\u0432\\u0430\",\"orientation\":\"v\",\"showlegend\":true,\"x\":[19.3],\"xaxis\":\"x\",\"y\":[73812.0],\"yaxis\":\"y\",\"type\":\"scatter\"},{\"hovertemplate\":\"<b>%{hovertext}</b><br><br>\\u0433\\u043e\\u0440\\u043e\\u0434=\\u0421\\u0430\\u043d\\u043a\\u0442-\\u041f\\u0435\\u0442\\u0435\\u0440\\u0431\\u0443\\u0440\\u0433<br>mean_size_house=%{x}<br>mean_wage=%{y}<extra></extra>\",\"hovertext\":[\"\\u0421\\u0430\\u043d\\u043a\\u0442-\\u041f\\u0435\\u0442\\u0435\\u0440\\u0431\\u0443\\u0440\\u0433\"],\"legendgroup\":\"\\u0421\\u0430\\u043d\\u043a\\u0442-\\u041f\\u0435\\u0442\\u0435\\u0440\\u0431\\u0443\\u0440\\u0433\",\"marker\":{\"color\":\"#2CA02C\",\"symbol\":\"circle\"},\"mode\":\"markers\",\"name\":\"\\u0421\\u0430\\u043d\\u043a\\u0442-\\u041f\\u0435\\u0442\\u0435\\u0440\\u0431\\u0443\\u0440\\u0433\",\"orientation\":\"v\",\"showlegend\":true,\"x\":[24.9],\"xaxis\":\"x\",\"y\":[53740.0],\"yaxis\":\"y\",\"type\":\"scatter\"}],                        {\"template\":{\"data\":{\"barpolar\":[{\"marker\":{\"line\":{\"color\":\"white\",\"width\":0.5},\"pattern\":{\"fillmode\":\"overlay\",\"size\":10,\"solidity\":0.2}},\"type\":\"barpolar\"}],\"bar\":[{\"error_x\":{\"color\":\"rgb(36,36,36)\"},\"error_y\":{\"color\":\"rgb(36,36,36)\"},\"marker\":{\"line\":{\"color\":\"white\",\"width\":0.5},\"pattern\":{\"fillmode\":\"overlay\",\"size\":10,\"solidity\":0.2}},\"type\":\"bar\"}],\"carpet\":[{\"aaxis\":{\"endlinecolor\":\"rgb(36,36,36)\",\"gridcolor\":\"white\",\"linecolor\":\"white\",\"minorgridcolor\":\"white\",\"startlinecolor\":\"rgb(36,36,36)\"},\"baxis\":{\"endlinecolor\":\"rgb(36,36,36)\",\"gridcolor\":\"white\",\"linecolor\":\"white\",\"minorgridcolor\":\"white\",\"startlinecolor\":\"rgb(36,36,36)\"},\"type\":\"carpet\"}],\"choropleth\":[{\"colorbar\":{\"outlinewidth\":1,\"tickcolor\":\"rgb(36,36,36)\",\"ticks\":\"outside\"},\"type\":\"choropleth\"}],\"contourcarpet\":[{\"colorbar\":{\"outlinewidth\":1,\"tickcolor\":\"rgb(36,36,36)\",\"ticks\":\"outside\"},\"type\":\"contourcarpet\"}],\"contour\":[{\"colorbar\":{\"outlinewidth\":1,\"tickcolor\":\"rgb(36,36,36)\",\"ticks\":\"outside\"},\"colorscale\":[[0.0,\"#440154\"],[0.1111111111111111,\"#482878\"],[0.2222222222222222,\"#3e4989\"],[0.3333333333333333,\"#31688e\"],[0.4444444444444444,\"#26828e\"],[0.5555555555555556,\"#1f9e89\"],[0.6666666666666666,\"#35b779\"],[0.7777777777777778,\"#6ece58\"],[0.8888888888888888,\"#b5de2b\"],[1.0,\"#fde725\"]],\"type\":\"contour\"}],\"heatmapgl\":[{\"colorbar\":{\"outlinewidth\":1,\"tickcolor\":\"rgb(36,36,36)\",\"ticks\":\"outside\"},\"colorscale\":[[0.0,\"#440154\"],[0.1111111111111111,\"#482878\"],[0.2222222222222222,\"#3e4989\"],[0.3333333333333333,\"#31688e\"],[0.4444444444444444,\"#26828e\"],[0.5555555555555556,\"#1f9e89\"],[0.6666666666666666,\"#35b779\"],[0.7777777777777778,\"#6ece58\"],[0.8888888888888888,\"#b5de2b\"],[1.0,\"#fde725\"]],\"type\":\"heatmapgl\"}],\"heatmap\":[{\"colorbar\":{\"outlinewidth\":1,\"tickcolor\":\"rgb(36,36,36)\",\"ticks\":\"outside\"},\"colorscale\":[[0.0,\"#440154\"],[0.1111111111111111,\"#482878\"],[0.2222222222222222,\"#3e4989\"],[0.3333333333333333,\"#31688e\"],[0.4444444444444444,\"#26828e\"],[0.5555555555555556,\"#1f9e89\"],[0.6666666666666666,\"#35b779\"],[0.7777777777777778,\"#6ece58\"],[0.8888888888888888,\"#b5de2b\"],[1.0,\"#fde725\"]],\"type\":\"heatmap\"}],\"histogram2dcontour\":[{\"colorbar\":{\"outlinewidth\":1,\"tickcolor\":\"rgb(36,36,36)\",\"ticks\":\"outside\"},\"colorscale\":[[0.0,\"#440154\"],[0.1111111111111111,\"#482878\"],[0.2222222222222222,\"#3e4989\"],[0.3333333333333333,\"#31688e\"],[0.4444444444444444,\"#26828e\"],[0.5555555555555556,\"#1f9e89\"],[0.6666666666666666,\"#35b779\"],[0.7777777777777778,\"#6ece58\"],[0.8888888888888888,\"#b5de2b\"],[1.0,\"#fde725\"]],\"type\":\"histogram2dcontour\"}],\"histogram2d\":[{\"colorbar\":{\"outlinewidth\":1,\"tickcolor\":\"rgb(36,36,36)\",\"ticks\":\"outside\"},\"colorscale\":[[0.0,\"#440154\"],[0.1111111111111111,\"#482878\"],[0.2222222222222222,\"#3e4989\"],[0.3333333333333333,\"#31688e\"],[0.4444444444444444,\"#26828e\"],[0.5555555555555556,\"#1f9e89\"],[0.6666666666666666,\"#35b779\"],[0.7777777777777778,\"#6ece58\"],[0.8888888888888888,\"#b5de2b\"],[1.0,\"#fde725\"]],\"type\":\"histogram2d\"}],\"histogram\":[{\"marker\":{\"line\":{\"color\":\"white\",\"width\":0.6}},\"type\":\"histogram\"}],\"mesh3d\":[{\"colorbar\":{\"outlinewidth\":1,\"tickcolor\":\"rgb(36,36,36)\",\"ticks\":\"outside\"},\"type\":\"mesh3d\"}],\"parcoords\":[{\"line\":{\"colorbar\":{\"outlinewidth\":1,\"tickcolor\":\"rgb(36,36,36)\",\"ticks\":\"outside\"}},\"type\":\"parcoords\"}],\"pie\":[{\"automargin\":true,\"type\":\"pie\"}],\"scatter3d\":[{\"line\":{\"colorbar\":{\"outlinewidth\":1,\"tickcolor\":\"rgb(36,36,36)\",\"ticks\":\"outside\"}},\"marker\":{\"colorbar\":{\"outlinewidth\":1,\"tickcolor\":\"rgb(36,36,36)\",\"ticks\":\"outside\"}},\"type\":\"scatter3d\"}],\"scattercarpet\":[{\"marker\":{\"colorbar\":{\"outlinewidth\":1,\"tickcolor\":\"rgb(36,36,36)\",\"ticks\":\"outside\"}},\"type\":\"scattercarpet\"}],\"scattergeo\":[{\"marker\":{\"colorbar\":{\"outlinewidth\":1,\"tickcolor\":\"rgb(36,36,36)\",\"ticks\":\"outside\"}},\"type\":\"scattergeo\"}],\"scattergl\":[{\"marker\":{\"colorbar\":{\"outlinewidth\":1,\"tickcolor\":\"rgb(36,36,36)\",\"ticks\":\"outside\"}},\"type\":\"scattergl\"}],\"scattermapbox\":[{\"marker\":{\"colorbar\":{\"outlinewidth\":1,\"tickcolor\":\"rgb(36,36,36)\",\"ticks\":\"outside\"}},\"type\":\"scattermapbox\"}],\"scatterpolargl\":[{\"marker\":{\"colorbar\":{\"outlinewidth\":1,\"tickcolor\":\"rgb(36,36,36)\",\"ticks\":\"outside\"}},\"type\":\"scatterpolargl\"}],\"scatterpolar\":[{\"marker\":{\"colorbar\":{\"outlinewidth\":1,\"tickcolor\":\"rgb(36,36,36)\",\"ticks\":\"outside\"}},\"type\":\"scatterpolar\"}],\"scatter\":[{\"fillpattern\":{\"fillmode\":\"overlay\",\"size\":10,\"solidity\":0.2},\"type\":\"scatter\"}],\"scatterternary\":[{\"marker\":{\"colorbar\":{\"outlinewidth\":1,\"tickcolor\":\"rgb(36,36,36)\",\"ticks\":\"outside\"}},\"type\":\"scatterternary\"}],\"surface\":[{\"colorbar\":{\"outlinewidth\":1,\"tickcolor\":\"rgb(36,36,36)\",\"ticks\":\"outside\"},\"colorscale\":[[0.0,\"#440154\"],[0.1111111111111111,\"#482878\"],[0.2222222222222222,\"#3e4989\"],[0.3333333333333333,\"#31688e\"],[0.4444444444444444,\"#26828e\"],[0.5555555555555556,\"#1f9e89\"],[0.6666666666666666,\"#35b779\"],[0.7777777777777778,\"#6ece58\"],[0.8888888888888888,\"#b5de2b\"],[1.0,\"#fde725\"]],\"type\":\"surface\"}],\"table\":[{\"cells\":{\"fill\":{\"color\":\"rgb(237,237,237)\"},\"line\":{\"color\":\"white\"}},\"header\":{\"fill\":{\"color\":\"rgb(217,217,217)\"},\"line\":{\"color\":\"white\"}},\"type\":\"table\"}]},\"layout\":{\"annotationdefaults\":{\"arrowhead\":0,\"arrowwidth\":1},\"autotypenumbers\":\"strict\",\"coloraxis\":{\"colorbar\":{\"outlinewidth\":1,\"tickcolor\":\"rgb(36,36,36)\",\"ticks\":\"outside\"}},\"colorscale\":{\"diverging\":[[0.0,\"rgb(103,0,31)\"],[0.1,\"rgb(178,24,43)\"],[0.2,\"rgb(214,96,77)\"],[0.3,\"rgb(244,165,130)\"],[0.4,\"rgb(253,219,199)\"],[0.5,\"rgb(247,247,247)\"],[0.6,\"rgb(209,229,240)\"],[0.7,\"rgb(146,197,222)\"],[0.8,\"rgb(67,147,195)\"],[0.9,\"rgb(33,102,172)\"],[1.0,\"rgb(5,48,97)\"]],\"sequential\":[[0.0,\"#440154\"],[0.1111111111111111,\"#482878\"],[0.2222222222222222,\"#3e4989\"],[0.3333333333333333,\"#31688e\"],[0.4444444444444444,\"#26828e\"],[0.5555555555555556,\"#1f9e89\"],[0.6666666666666666,\"#35b779\"],[0.7777777777777778,\"#6ece58\"],[0.8888888888888888,\"#b5de2b\"],[1.0,\"#fde725\"]],\"sequentialminus\":[[0.0,\"#440154\"],[0.1111111111111111,\"#482878\"],[0.2222222222222222,\"#3e4989\"],[0.3333333333333333,\"#31688e\"],[0.4444444444444444,\"#26828e\"],[0.5555555555555556,\"#1f9e89\"],[0.6666666666666666,\"#35b779\"],[0.7777777777777778,\"#6ece58\"],[0.8888888888888888,\"#b5de2b\"],[1.0,\"#fde725\"]]},\"colorway\":[\"#1F77B4\",\"#FF7F0E\",\"#2CA02C\",\"#D62728\",\"#9467BD\",\"#8C564B\",\"#E377C2\",\"#7F7F7F\",\"#BCBD22\",\"#17BECF\"],\"font\":{\"color\":\"rgb(36,36,36)\"},\"geo\":{\"bgcolor\":\"white\",\"lakecolor\":\"white\",\"landcolor\":\"white\",\"showlakes\":true,\"showland\":true,\"subunitcolor\":\"white\"},\"hoverlabel\":{\"align\":\"left\"},\"hovermode\":\"closest\",\"mapbox\":{\"style\":\"light\"},\"paper_bgcolor\":\"white\",\"plot_bgcolor\":\"white\",\"polar\":{\"angularaxis\":{\"gridcolor\":\"rgb(232,232,232)\",\"linecolor\":\"rgb(36,36,36)\",\"showgrid\":false,\"showline\":true,\"ticks\":\"outside\"},\"bgcolor\":\"white\",\"radialaxis\":{\"gridcolor\":\"rgb(232,232,232)\",\"linecolor\":\"rgb(36,36,36)\",\"showgrid\":false,\"showline\":true,\"ticks\":\"outside\"}},\"scene\":{\"xaxis\":{\"backgroundcolor\":\"white\",\"gridcolor\":\"rgb(232,232,232)\",\"gridwidth\":2,\"linecolor\":\"rgb(36,36,36)\",\"showbackground\":true,\"showgrid\":false,\"showline\":true,\"ticks\":\"outside\",\"zeroline\":false,\"zerolinecolor\":\"rgb(36,36,36)\"},\"yaxis\":{\"backgroundcolor\":\"white\",\"gridcolor\":\"rgb(232,232,232)\",\"gridwidth\":2,\"linecolor\":\"rgb(36,36,36)\",\"showbackground\":true,\"showgrid\":false,\"showline\":true,\"ticks\":\"outside\",\"zeroline\":false,\"zerolinecolor\":\"rgb(36,36,36)\"},\"zaxis\":{\"backgroundcolor\":\"white\",\"gridcolor\":\"rgb(232,232,232)\",\"gridwidth\":2,\"linecolor\":\"rgb(36,36,36)\",\"showbackground\":true,\"showgrid\":false,\"showline\":true,\"ticks\":\"outside\",\"zeroline\":false,\"zerolinecolor\":\"rgb(36,36,36)\"}},\"shapedefaults\":{\"fillcolor\":\"black\",\"line\":{\"width\":0},\"opacity\":0.3},\"ternary\":{\"aaxis\":{\"gridcolor\":\"rgb(232,232,232)\",\"linecolor\":\"rgb(36,36,36)\",\"showgrid\":false,\"showline\":true,\"ticks\":\"outside\"},\"baxis\":{\"gridcolor\":\"rgb(232,232,232)\",\"linecolor\":\"rgb(36,36,36)\",\"showgrid\":false,\"showline\":true,\"ticks\":\"outside\"},\"bgcolor\":\"white\",\"caxis\":{\"gridcolor\":\"rgb(232,232,232)\",\"linecolor\":\"rgb(36,36,36)\",\"showgrid\":false,\"showline\":true,\"ticks\":\"outside\"}},\"title\":{\"x\":0.05},\"xaxis\":{\"automargin\":true,\"gridcolor\":\"rgb(232,232,232)\",\"linecolor\":\"rgb(36,36,36)\",\"showgrid\":false,\"showline\":true,\"ticks\":\"outside\",\"title\":{\"standoff\":15},\"zeroline\":false,\"zerolinecolor\":\"rgb(36,36,36)\"},\"yaxis\":{\"automargin\":true,\"gridcolor\":\"rgb(232,232,232)\",\"linecolor\":\"rgb(36,36,36)\",\"showgrid\":false,\"showline\":true,\"ticks\":\"outside\",\"title\":{\"standoff\":15},\"zeroline\":false,\"zerolinecolor\":\"rgb(36,36,36)\"}}},\"xaxis\":{\"anchor\":\"y\",\"domain\":[0.0,1.0],\"title\":{\"text\":\"mean_size_house\"}},\"yaxis\":{\"anchor\":\"x\",\"domain\":[0.0,1.0],\"title\":{\"text\":\"mean_wage\"}},\"legend\":{\"title\":{\"text\":\"\\u0433\\u043e\\u0440\\u043e\\u0434\"},\"tracegroupgap\":0},\"margin\":{\"t\":60},\"showlegend\":false},                        {\"responsive\": true}                    ).then(function(){\n",
       "                            \n",
       "var gd = document.getElementById('4ee340a6-1813-45cf-876a-bf8f55b9cd73');\n",
       "var x = new MutationObserver(function (mutations, observer) {{\n",
       "        var display = window.getComputedStyle(gd).display;\n",
       "        if (!display || display === 'none') {{\n",
       "            console.log([gd, 'removed!']);\n",
       "            Plotly.purge(gd);\n",
       "            observer.disconnect();\n",
       "        }}\n",
       "}});\n",
       "\n",
       "// Listen for the removal of the full notebook cells\n",
       "var notebookContainer = gd.closest('#notebook-container');\n",
       "if (notebookContainer) {{\n",
       "    x.observe(notebookContainer, {childList: true});\n",
       "}}\n",
       "\n",
       "// Listen for the clearing of the current output cell\n",
       "var outputEl = gd.closest('.output');\n",
       "if (outputEl) {{\n",
       "    x.observe(outputEl, {childList: true});\n",
       "}}\n",
       "\n",
       "                        })                };                });            </script>        </div>"
      ]
     },
     "metadata": {},
     "output_type": "display_data"
    }
   ],
   "source": [
    "fig=px.scatter(df, x='mean_size_house', y='mean_wage', template='simple_white',\n",
    "          hover_name='город', color='город')\n",
    "fig.update_layout(showlegend=False)"
   ]
  },
  {
   "cell_type": "code",
   "execution_count": 12,
   "id": "a3980d2c",
   "metadata": {},
   "outputs": [
    {
     "data": {
      "application/vnd.plotly.v1+json": {
       "config": {
        "plotlyServerURL": "https://plot.ly"
       },
       "data": [
        {
         "hovertemplate": "<b>%{hovertext}</b><br><br>город=Анадырь<br>mean_size_house=%{x}<br>mean_wage=%{y}<br>n_pop=%{marker.size}<extra></extra>",
         "hovertext": [
          "Анадырь"
         ],
         "legendgroup": "Анадырь",
         "marker": {
          "color": "#1F77B4",
          "size": [
           15.6
          ],
          "sizemode": "area",
          "sizeref": 31.26625,
          "symbol": "circle"
         },
         "mode": "markers",
         "name": "Анадырь",
         "orientation": "v",
         "showlegend": true,
         "type": "scatter",
         "x": [
          18.4
         ],
         "xaxis": "x",
         "y": [
          107061.8
         ],
         "yaxis": "y"
        },
        {
         "hovertemplate": "<b>%{hovertext}</b><br><br>город=Салехард<br>mean_size_house=%{x}<br>mean_wage=%{y}<br>n_pop=%{marker.size}<extra></extra>",
         "hovertext": [
          "Салехард"
         ],
         "legendgroup": "Салехард",
         "marker": {
          "color": "#FF7F0E",
          "size": [
           49.5
          ],
          "sizemode": "area",
          "sizeref": 31.26625,
          "symbol": "circle"
         },
         "mode": "markers",
         "name": "Салехард",
         "orientation": "v",
         "showlegend": true,
         "type": "scatter",
         "x": [
          24.1
         ],
         "xaxis": "x",
         "y": [
          95496
         ],
         "yaxis": "y"
        },
        {
         "hovertemplate": "<b>%{hovertext}</b><br><br>город=Южно-Сахалинск<br>mean_size_house=%{x}<br>mean_wage=%{y}<br>n_pop=%{marker.size}<extra></extra>",
         "hovertext": [
          "Южно-Сахалинск"
         ],
         "legendgroup": "Южно-Сахалинск",
         "marker": {
          "color": "#2CA02C",
          "size": [
           199
          ],
          "sizemode": "area",
          "sizeref": 31.26625,
          "symbol": "circle"
         },
         "mode": "markers",
         "name": "Южно-Сахалинск",
         "orientation": "v",
         "showlegend": true,
         "type": "scatter",
         "x": [
          23.3
         ],
         "xaxis": "x",
         "y": [
          88147.74
         ],
         "yaxis": "y"
        },
        {
         "hovertemplate": "<b>%{hovertext}</b><br><br>город=Магадан<br>mean_size_house=%{x}<br>mean_wage=%{y}<br>n_pop=%{marker.size}<extra></extra>",
         "hovertext": [
          "Магадан"
         ],
         "legendgroup": "Магадан",
         "marker": {
          "color": "#D62728",
          "size": [
           99.7
          ],
          "sizemode": "area",
          "sizeref": 31.26625,
          "symbol": "circle"
         },
         "mode": "markers",
         "name": "Магадан",
         "orientation": "v",
         "showlegend": true,
         "type": "scatter",
         "x": [
          24.9
         ],
         "xaxis": "x",
         "y": [
          79539.3
         ],
         "yaxis": "y"
        },
        {
         "hovertemplate": "<b>%{hovertext}</b><br><br>город=Петропавловск-Камчатский<br>mean_size_house=%{x}<br>mean_wage=%{y}<br>n_pop=%{marker.size}<extra></extra>",
         "hovertext": [
          "Петропавловск-Камчатский"
         ],
         "legendgroup": "Петропавловск-Камчатский",
         "marker": {
          "color": "#9467BD",
          "size": [
           181.2
          ],
          "sizemode": "area",
          "sizeref": 31.26625,
          "symbol": "circle"
         },
         "mode": "markers",
         "name": "Петропавловск-Камчатский",
         "orientation": "v",
         "showlegend": true,
         "type": "scatter",
         "x": [
          25.2
         ],
         "xaxis": "x",
         "y": [
          76525.4
         ],
         "yaxis": "y"
        },
        {
         "hovertemplate": "<b>%{hovertext}</b><br><br>город=Ханты-Мансийск<br>mean_size_house=%{x}<br>mean_wage=%{y}<br>n_pop=%{marker.size}<extra></extra>",
         "hovertext": [
          "Ханты-Мансийск"
         ],
         "legendgroup": "Ханты-Мансийск",
         "marker": {
          "color": "#8C564B",
          "size": [
           98.5
          ],
          "sizemode": "area",
          "sizeref": 31.26625,
          "symbol": "circle"
         },
         "mode": "markers",
         "name": "Ханты-Мансийск",
         "orientation": "v",
         "showlegend": true,
         "type": "scatter",
         "x": [
          25.3
         ],
         "xaxis": "x",
         "y": [
          72093.6
         ],
         "yaxis": "y"
        },
        {
         "hovertemplate": "<b>%{hovertext}</b><br><br>город=Нарьян-Мар<br>mean_size_house=%{x}<br>mean_wage=%{y}<br>n_pop=%{marker.size}<extra></extra>",
         "hovertext": [
          "Нарьян-Мар"
         ],
         "legendgroup": "Нарьян-Мар",
         "marker": {
          "color": "#E377C2",
          "size": [
           24.8
          ],
          "sizemode": "area",
          "sizeref": 31.26625,
          "symbol": "circle"
         },
         "mode": "markers",
         "name": "Нарьян-Мар",
         "orientation": "v",
         "showlegend": true,
         "type": "scatter",
         "x": [
          24.9
         ],
         "xaxis": "x",
         "y": [
          70421.9
         ],
         "yaxis": "y"
        },
        {
         "hovertemplate": "<b>%{hovertext}</b><br><br>город=Якутск<br>mean_size_house=%{x}<br>mean_wage=%{y}<br>n_pop=%{marker.size}<extra></extra>",
         "hovertext": [
          "Якутск"
         ],
         "legendgroup": "Якутск",
         "marker": {
          "color": "#7F7F7F",
          "size": [
           311.8
          ],
          "sizemode": "area",
          "sizeref": 31.26625,
          "symbol": "circle"
         },
         "mode": "markers",
         "name": "Якутск",
         "orientation": "v",
         "showlegend": true,
         "type": "scatter",
         "x": [
          19.1
         ],
         "xaxis": "x",
         "y": [
          64801.3
         ],
         "yaxis": "y"
        },
        {
         "hovertemplate": "<b>%{hovertext}</b><br><br>город=Мурманск<br>mean_size_house=%{x}<br>mean_wage=%{y}<br>n_pop=%{marker.size}<extra></extra>",
         "hovertext": [
          "Мурманск"
         ],
         "legendgroup": "Мурманск",
         "marker": {
          "color": "#BCBD22",
          "size": [
           295.4
          ],
          "sizemode": "area",
          "sizeref": 31.26625,
          "symbol": "circle"
         },
         "mode": "markers",
         "name": "Мурманск",
         "orientation": "v",
         "showlegend": true,
         "type": "scatter",
         "x": [
          23.8
         ],
         "xaxis": "x",
         "y": [
          61261.6
         ],
         "yaxis": "y"
        },
        {
         "hovertemplate": "<b>%{hovertext}</b><br><br>город=Тюмень<br>mean_size_house=%{x}<br>mean_wage=%{y}<br>n_pop=%{marker.size}<extra></extra>",
         "hovertext": [
          "Тюмень"
         ],
         "legendgroup": "Тюмень",
         "marker": {
          "color": "#17BECF",
          "size": [
           768.4
          ],
          "sizemode": "area",
          "sizeref": 31.26625,
          "symbol": "circle"
         },
         "mode": "markers",
         "name": "Тюмень",
         "orientation": "v",
         "showlegend": true,
         "type": "scatter",
         "x": [
          29.3
         ],
         "xaxis": "x",
         "y": [
          53830.5
         ],
         "yaxis": "y"
        },
        {
         "hovertemplate": "<b>%{hovertext}</b><br><br>город=Хабаровск<br>mean_size_house=%{x}<br>mean_wage=%{y}<br>n_pop=%{marker.size}<extra></extra>",
         "hovertext": [
          "Хабаровск"
         ],
         "legendgroup": "Хабаровск",
         "marker": {
          "color": "#1F77B4",
          "size": [
           618.2
          ],
          "sizemode": "area",
          "sizeref": 31.26625,
          "symbol": "circle"
         },
         "mode": "markers",
         "name": "Хабаровск",
         "orientation": "v",
         "showlegend": true,
         "type": "scatter",
         "x": [
          23
         ],
         "xaxis": "x",
         "y": [
          52986.9
         ],
         "yaxis": "y"
        },
        {
         "hovertemplate": "<b>%{hovertext}</b><br><br>город=Владивосток<br>mean_size_house=%{x}<br>mean_wage=%{y}<br>n_pop=%{marker.size}<extra></extra>",
         "hovertext": [
          "Владивосток"
         ],
         "legendgroup": "Владивосток",
         "marker": {
          "color": "#FF7F0E",
          "size": [
           633.1
          ],
          "sizemode": "area",
          "sizeref": 31.26625,
          "symbol": "circle"
         },
         "mode": "markers",
         "name": "Владивосток",
         "orientation": "v",
         "showlegend": true,
         "type": "scatter",
         "x": [
          21.9
         ],
         "xaxis": "x",
         "y": [
          51830.5
         ],
         "yaxis": "y"
        },
        {
         "hovertemplate": "<b>%{hovertext}</b><br><br>город=Екатеринбург<br>mean_size_house=%{x}<br>mean_wage=%{y}<br>n_pop=%{marker.size}<extra></extra>",
         "hovertext": [
          "Екатеринбург"
         ],
         "legendgroup": "Екатеринбург",
         "marker": {
          "color": "#2CA02C",
          "size": [
           1501.7
          ],
          "sizemode": "area",
          "sizeref": 31.26625,
          "symbol": "circle"
         },
         "mode": "markers",
         "name": "Екатеринбург",
         "orientation": "v",
         "showlegend": true,
         "type": "scatter",
         "x": [
          25
         ],
         "xaxis": "x",
         "y": [
          47265.6
         ],
         "yaxis": "y"
        },
        {
         "hovertemplate": "<b>%{hovertext}</b><br><br>город=Иркутск<br>mean_size_house=%{x}<br>mean_wage=%{y}<br>n_pop=%{marker.size}<extra></extra>",
         "hovertext": [
          "Иркутск"
         ],
         "legendgroup": "Иркутск",
         "marker": {
          "color": "#D62728",
          "size": [
           623.9
          ],
          "sizemode": "area",
          "sizeref": 31.26625,
          "symbol": "circle"
         },
         "mode": "markers",
         "name": "Иркутск",
         "orientation": "v",
         "showlegend": true,
         "type": "scatter",
         "x": [
          27.7
         ],
         "xaxis": "x",
         "y": [
          46980
         ],
         "yaxis": "y"
        },
        {
         "hovertemplate": "<b>%{hovertext}</b><br><br>город=Архангельск<br>mean_size_house=%{x}<br>mean_wage=%{y}<br>n_pop=%{marker.size}<extra></extra>",
         "hovertext": [
          "Архангельск"
         ],
         "legendgroup": "Архангельск",
         "marker": {
          "color": "#9467BD",
          "size": [
           356.9
          ],
          "sizemode": "area",
          "sizeref": 31.26625,
          "symbol": "circle"
         },
         "mode": "markers",
         "name": "Архангельск",
         "orientation": "v",
         "showlegend": true,
         "type": "scatter",
         "x": [
          23.3
         ],
         "xaxis": "x",
         "y": [
          45097.7
         ],
         "yaxis": "y"
        },
        {
         "hovertemplate": "<b>%{hovertext}</b><br><br>город=Красноярск<br>mean_size_house=%{x}<br>mean_wage=%{y}<br>n_pop=%{marker.size}<extra></extra>",
         "hovertext": [
          "Красноярск"
         ],
         "legendgroup": "Красноярск",
         "marker": {
          "color": "#8C564B",
          "size": [
           1091.6
          ],
          "sizemode": "area",
          "sizeref": 31.26625,
          "symbol": "circle"
         },
         "mode": "markers",
         "name": "Красноярск",
         "orientation": "v",
         "showlegend": true,
         "type": "scatter",
         "x": [
          24.1
         ],
         "xaxis": "x",
         "y": [
          44384.3
         ],
         "yaxis": "y"
        },
        {
         "hovertemplate": "<b>%{hovertext}</b><br><br>город=Сыктывкар<br>mean_size_house=%{x}<br>mean_wage=%{y}<br>n_pop=%{marker.size}<extra></extra>",
         "hovertext": [
          "Сыктывкар"
         ],
         "legendgroup": "Сыктывкар",
         "marker": {
          "color": "#E377C2",
          "size": [
           260.8
          ],
          "sizemode": "area",
          "sizeref": 31.26625,
          "symbol": "circle"
         },
         "mode": "markers",
         "name": "Сыктывкар",
         "orientation": "v",
         "showlegend": true,
         "type": "scatter",
         "x": [
          23.7
         ],
         "xaxis": "x",
         "y": [
          44181.4
         ],
         "yaxis": "y"
        },
        {
         "hovertemplate": "<b>%{hovertext}</b><br><br>город=Томск<br>mean_size_house=%{x}<br>mean_wage=%{y}<br>n_pop=%{marker.size}<extra></extra>",
         "hovertext": [
          "Томск"
         ],
         "legendgroup": "Томск",
         "marker": {
          "color": "#7F7F7F",
          "size": [
           595.2
          ],
          "sizemode": "area",
          "sizeref": 31.26625,
          "symbol": "circle"
         },
         "mode": "markers",
         "name": "Томск",
         "orientation": "v",
         "showlegend": true,
         "type": "scatter",
         "x": [
          23.1
         ],
         "xaxis": "x",
         "y": [
          43410.8
         ],
         "yaxis": "y"
        },
        {
         "hovertemplate": "<b>%{hovertext}</b><br><br>город=Нижний Новгород<br>mean_size_house=%{x}<br>mean_wage=%{y}<br>n_pop=%{marker.size}<extra></extra>",
         "hovertext": [
          "Нижний Новгород"
         ],
         "legendgroup": "Нижний Новгород",
         "marker": {
          "color": "#BCBD22",
          "size": [
           1267.5
          ],
          "sizemode": "area",
          "sizeref": 31.26625,
          "symbol": "circle"
         },
         "mode": "markers",
         "name": "Нижний Новгород",
         "orientation": "v",
         "showlegend": true,
         "type": "scatter",
         "x": [
          24.8
         ],
         "xaxis": "x",
         "y": [
          42469.5
         ],
         "yaxis": "y"
        },
        {
         "hovertemplate": "<b>%{hovertext}</b><br><br>город=Уфа<br>mean_size_house=%{x}<br>mean_wage=%{y}<br>n_pop=%{marker.size}<extra></extra>",
         "hovertext": [
          "Уфа"
         ],
         "legendgroup": "Уфа",
         "marker": {
          "color": "#17BECF",
          "size": [
           1120.5
          ],
          "sizemode": "area",
          "sizeref": 31.26625,
          "symbol": "circle"
         },
         "mode": "markers",
         "name": "Уфа",
         "orientation": "v",
         "showlegend": true,
         "type": "scatter",
         "x": [
          23.6
         ],
         "xaxis": "x",
         "y": [
          42312.8
         ],
         "yaxis": "y"
        },
        {
         "hovertemplate": "<b>%{hovertext}</b><br><br>город=Чита<br>mean_size_house=%{x}<br>mean_wage=%{y}<br>n_pop=%{marker.size}<extra></extra>",
         "hovertext": [
          "Чита"
         ],
         "legendgroup": "Чита",
         "marker": {
          "color": "#1F77B4",
          "size": [
           349
          ],
          "sizemode": "area",
          "sizeref": 31.26625,
          "symbol": "circle"
         },
         "mode": "markers",
         "name": "Чита",
         "orientation": "v",
         "showlegend": true,
         "type": "scatter",
         "x": [
          21
         ],
         "xaxis": "x",
         "y": [
          42204.2
         ],
         "yaxis": "y"
        },
        {
         "hovertemplate": "<b>%{hovertext}</b><br><br>город=Краснодар<br>mean_size_house=%{x}<br>mean_wage=%{y}<br>n_pop=%{marker.size}<extra></extra>",
         "hovertext": [
          "Краснодар"
         ],
         "legendgroup": "Краснодар",
         "marker": {
          "color": "#FF7F0E",
          "size": [
           990.2
          ],
          "sizemode": "area",
          "sizeref": 31.26625,
          "symbol": "circle"
         },
         "mode": "markers",
         "name": "Краснодар",
         "orientation": "v",
         "showlegend": true,
         "type": "scatter",
         "x": [
          34.2
         ],
         "xaxis": "x",
         "y": [
          42028.7
         ],
         "yaxis": "y"
        },
        {
         "hovertemplate": "<b>%{hovertext}</b><br><br>город=Новосибирск<br>mean_size_house=%{x}<br>mean_wage=%{y}<br>n_pop=%{marker.size}<extra></extra>",
         "hovertext": [
          "Новосибирск"
         ],
         "legendgroup": "Новосибирск",
         "marker": {
          "color": "#2CA02C",
          "size": [
           1612.8
          ],
          "sizemode": "area",
          "sizeref": 31.26625,
          "symbol": "circle"
         },
         "mode": "markers",
         "name": "Новосибирск",
         "orientation": "v",
         "showlegend": true,
         "type": "scatter",
         "x": [
          25.1
         ],
         "xaxis": "x",
         "y": [
          41884
         ],
         "yaxis": "y"
        },
        {
         "hovertemplate": "<b>%{hovertext}</b><br><br>город=Благовещенск<br>mean_size_house=%{x}<br>mean_wage=%{y}<br>n_pop=%{marker.size}<extra></extra>",
         "hovertext": [
          "Благовещенск"
         ],
         "legendgroup": "Благовещенск",
         "marker": {
          "color": "#D62728",
          "size": [
           230.4
          ],
          "sizemode": "area",
          "sizeref": 31.26625,
          "symbol": "circle"
         },
         "mode": "markers",
         "name": "Благовещенск",
         "orientation": "v",
         "showlegend": true,
         "type": "scatter",
         "x": [
          25.2
         ],
         "xaxis": "x",
         "y": [
          41808.1
         ],
         "yaxis": "y"
        },
        {
         "hovertemplate": "<b>%{hovertext}</b><br><br>город=Кызыл<br>mean_size_house=%{x}<br>mean_wage=%{y}<br>n_pop=%{marker.size}<extra></extra>",
         "hovertext": [
          "Кызыл"
         ],
         "legendgroup": "Кызыл",
         "marker": {
          "color": "#9467BD",
          "size": [
           117
          ],
          "sizemode": "area",
          "sizeref": 31.26625,
          "symbol": "circle"
         },
         "mode": "markers",
         "name": "Кызыл",
         "orientation": "v",
         "showlegend": true,
         "type": "scatter",
         "x": [
          15.4
         ],
         "xaxis": "x",
         "y": [
          41383
         ],
         "yaxis": "y"
        },
        {
         "hovertemplate": "<b>%{hovertext}</b><br><br>город=Пермь<br>mean_size_house=%{x}<br>mean_wage=%{y}<br>n_pop=%{marker.size}<extra></extra>",
         "hovertext": [
          "Пермь"
         ],
         "legendgroup": "Пермь",
         "marker": {
          "color": "#8C564B",
          "size": [
           1051.6
          ],
          "sizemode": "area",
          "sizeref": 31.26625,
          "symbol": "circle"
         },
         "mode": "markers",
         "name": "Пермь",
         "orientation": "v",
         "showlegend": true,
         "type": "scatter",
         "x": [
          23.5
         ],
         "xaxis": "x",
         "y": [
          41325.9
         ],
         "yaxis": "y"
        },
        {
         "hovertemplate": "<b>%{hovertext}</b><br><br>город=Петрозаводск<br>mean_size_house=%{x}<br>mean_wage=%{y}<br>n_pop=%{marker.size}<extra></extra>",
         "hovertext": [
          "Петрозаводск"
         ],
         "legendgroup": "Петрозаводск",
         "marker": {
          "color": "#E377C2",
          "size": [
           279.2
          ],
          "sizemode": "area",
          "sizeref": 31.26625,
          "symbol": "circle"
         },
         "mode": "markers",
         "name": "Петрозаводск",
         "orientation": "v",
         "showlegend": true,
         "type": "scatter",
         "x": [
          25.4
         ],
         "xaxis": "x",
         "y": [
          41234.4
         ],
         "yaxis": "y"
        },
        {
         "hovertemplate": "<b>%{hovertext}</b><br><br>город=Абакан<br>mean_size_house=%{x}<br>mean_wage=%{y}<br>n_pop=%{marker.size}<extra></extra>",
         "hovertext": [
          "Абакан"
         ],
         "legendgroup": "Абакан",
         "marker": {
          "color": "#7F7F7F",
          "size": [
           184.2
          ],
          "sizemode": "area",
          "sizeref": 31.26625,
          "symbol": "circle"
         },
         "mode": "markers",
         "name": "Абакан",
         "orientation": "v",
         "showlegend": true,
         "type": "scatter",
         "x": [
          24.1
         ],
         "xaxis": "x",
         "y": [
          41203.1
         ],
         "yaxis": "y"
        },
        {
         "hovertemplate": "<b>%{hovertext}</b><br><br>город=Казань<br>mean_size_house=%{x}<br>mean_wage=%{y}<br>n_pop=%{marker.size}<extra></extra>",
         "hovertext": [
          "Казань"
         ],
         "legendgroup": "Казань",
         "marker": {
          "color": "#BCBD22",
          "size": [
           1243.5
          ],
          "sizemode": "area",
          "sizeref": 31.26625,
          "symbol": "circle"
         },
         "mode": "markers",
         "name": "Казань",
         "orientation": "v",
         "showlegend": true,
         "type": "scatter",
         "x": [
          25.3
         ],
         "xaxis": "x",
         "y": [
          41020.8
         ],
         "yaxis": "y"
        },
        {
         "hovertemplate": "<b>%{hovertext}</b><br><br>город=Ростов-на-Дону<br>mean_size_house=%{x}<br>mean_wage=%{y}<br>n_pop=%{marker.size}<extra></extra>",
         "hovertext": [
          "Ростов-на-Дону"
         ],
         "legendgroup": "Ростов-на-Дону",
         "marker": {
          "color": "#17BECF",
          "size": [
           1130.3
          ],
          "sizemode": "area",
          "sizeref": 31.26625,
          "symbol": "circle"
         },
         "mode": "markers",
         "name": "Ростов-на-Дону",
         "orientation": "v",
         "showlegend": true,
         "type": "scatter",
         "x": [
          26.9
         ],
         "xaxis": "x",
         "y": [
          40556.7
         ],
         "yaxis": "y"
        },
        {
         "hovertemplate": "<b>%{hovertext}</b><br><br>город=Калуга<br>mean_size_house=%{x}<br>mean_wage=%{y}<br>n_pop=%{marker.size}<extra></extra>",
         "hovertext": [
          "Калуга"
         ],
         "legendgroup": "Калуга",
         "marker": {
          "color": "#1F77B4",
          "size": [
           340.9
          ],
          "sizemode": "area",
          "sizeref": 31.26625,
          "symbol": "circle"
         },
         "mode": "markers",
         "name": "Калуга",
         "orientation": "v",
         "showlegend": true,
         "type": "scatter",
         "x": [
          25.3
         ],
         "xaxis": "x",
         "y": [
          39653.2
         ],
         "yaxis": "y"
        },
        {
         "hovertemplate": "<b>%{hovertext}</b><br><br>город=Кемерово<br>mean_size_house=%{x}<br>mean_wage=%{y}<br>n_pop=%{marker.size}<extra></extra>",
         "hovertext": [
          "Кемерово"
         ],
         "legendgroup": "Кемерово",
         "marker": {
          "color": "#FF7F0E",
          "size": [
           559
          ],
          "sizemode": "area",
          "sizeref": 31.26625,
          "symbol": "circle"
         },
         "mode": "markers",
         "name": "Кемерово",
         "orientation": "v",
         "showlegend": true,
         "type": "scatter",
         "x": [
          23.2
         ],
         "xaxis": "x",
         "y": [
          39317.8
         ],
         "yaxis": "y"
        },
        {
         "hovertemplate": "<b>%{hovertext}</b><br><br>город=Самара<br>mean_size_house=%{x}<br>mean_wage=%{y}<br>n_pop=%{marker.size}<extra></extra>",
         "hovertext": [
          "Самара"
         ],
         "legendgroup": "Самара",
         "marker": {
          "color": "#2CA02C",
          "size": [
           1163.4
          ],
          "sizemode": "area",
          "sizeref": 31.26625,
          "symbol": "circle"
         },
         "mode": "markers",
         "name": "Самара",
         "orientation": "v",
         "showlegend": true,
         "type": "scatter",
         "x": [
          28.1
         ],
         "xaxis": "x",
         "y": [
          39298.9
         ],
         "yaxis": "y"
        },
        {
         "hovertemplate": "<b>%{hovertext}</b><br><br>город=Тула<br>mean_size_house=%{x}<br>mean_wage=%{y}<br>n_pop=%{marker.size}<extra></extra>",
         "hovertext": [
          "Тула"
         ],
         "legendgroup": "Тула",
         "marker": {
          "color": "#D62728",
          "size": [
           550
          ],
          "sizemode": "area",
          "sizeref": 31.26625,
          "symbol": "circle"
         },
         "mode": "markers",
         "name": "Тула",
         "orientation": "v",
         "showlegend": true,
         "type": "scatter",
         "x": [
          28.6
         ],
         "xaxis": "x",
         "y": [
          39180.2
         ],
         "yaxis": "y"
        },
        {
         "hovertemplate": "<b>%{hovertext}</b><br><br>город=Калининград<br>mean_size_house=%{x}<br>mean_wage=%{y}<br>n_pop=%{marker.size}<extra></extra>",
         "hovertext": [
          "Калининград"
         ],
         "legendgroup": "Калининград",
         "marker": {
          "color": "#9467BD",
          "size": [
           475.1
          ],
          "sizemode": "area",
          "sizeref": 31.26625,
          "symbol": "circle"
         },
         "mode": "markers",
         "name": "Калининград",
         "orientation": "v",
         "showlegend": true,
         "type": "scatter",
         "x": [
          28.7
         ],
         "xaxis": "x",
         "y": [
          38686
         ],
         "yaxis": "y"
        },
        {
         "hovertemplate": "<b>%{hovertext}</b><br><br>город=Челябинск<br>mean_size_house=%{x}<br>mean_wage=%{y}<br>n_pop=%{marker.size}<extra></extra>",
         "hovertext": [
          "Челябинск"
         ],
         "legendgroup": "Челябинск",
         "marker": {
          "color": "#8C564B",
          "size": [
           1202.4
          ],
          "sizemode": "area",
          "sizeref": 31.26625,
          "symbol": "circle"
         },
         "mode": "markers",
         "name": "Челябинск",
         "orientation": "v",
         "showlegend": true,
         "type": "scatter",
         "x": [
          25.4
         ],
         "xaxis": "x",
         "y": [
          38228.1
         ],
         "yaxis": "y"
        },
        {
         "hovertemplate": "<b>%{hovertext}</b><br><br>город=Биробиджан<br>mean_size_house=%{x}<br>mean_wage=%{y}<br>n_pop=%{marker.size}<extra></extra>",
         "hovertext": [
          "Биробиджан"
         ],
         "legendgroup": "Биробиджан",
         "marker": {
          "color": "#E377C2",
          "size": [
           73.6
          ],
          "sizemode": "area",
          "sizeref": 31.26625,
          "symbol": "circle"
         },
         "mode": "markers",
         "name": "Биробиджан",
         "orientation": "v",
         "showlegend": true,
         "type": "scatter",
         "x": [
          23
         ],
         "xaxis": "x",
         "y": [
          37587.3
         ],
         "yaxis": "y"
        },
        {
         "hovertemplate": "<b>%{hovertext}</b><br><br>город=Ярославль<br>mean_size_house=%{x}<br>mean_wage=%{y}<br>n_pop=%{marker.size}<extra></extra>",
         "hovertext": [
          "Ярославль"
         ],
         "legendgroup": "Ярославль",
         "marker": {
          "color": "#7F7F7F",
          "size": [
           608.7
          ],
          "sizemode": "area",
          "sizeref": 31.26625,
          "symbol": "circle"
         },
         "mode": "markers",
         "name": "Ярославль",
         "orientation": "v",
         "showlegend": true,
         "type": "scatter",
         "x": [
          24.1
         ],
         "xaxis": "x",
         "y": [
          37533.7
         ],
         "yaxis": "y"
        },
        {
         "hovertemplate": "<b>%{hovertext}</b><br><br>город=Великий Новгород<br>mean_size_house=%{x}<br>mean_wage=%{y}<br>n_pop=%{marker.size}<extra></extra>",
         "hovertext": [
          "Великий Новгород"
         ],
         "legendgroup": "Великий Новгород",
         "marker": {
          "color": "#BCBD22",
          "size": [
           222.9
          ],
          "sizemode": "area",
          "sizeref": 31.26625,
          "symbol": "circle"
         },
         "mode": "markers",
         "name": "Великий Новгород",
         "orientation": "v",
         "showlegend": true,
         "type": "scatter",
         "x": [
          25
         ],
         "xaxis": "x",
         "y": [
          36640.1
         ],
         "yaxis": "y"
        },
        {
         "hovertemplate": "<b>%{hovertext}</b><br><br>город=Улан-Удэ<br>mean_size_house=%{x}<br>mean_wage=%{y}<br>n_pop=%{marker.size}<extra></extra>",
         "hovertext": [
          "Улан-Удэ"
         ],
         "legendgroup": "Улан-Удэ",
         "marker": {
          "color": "#17BECF",
          "size": [
           434.8
          ],
          "sizemode": "area",
          "sizeref": 31.26625,
          "symbol": "circle"
         },
         "mode": "markers",
         "name": "Улан-Удэ",
         "orientation": "v",
         "showlegend": true,
         "type": "scatter",
         "x": [
          20.1
         ],
         "xaxis": "x",
         "y": [
          36536.7
         ],
         "yaxis": "y"
        },
        {
         "hovertemplate": "<b>%{hovertext}</b><br><br>город=Магас<br>mean_size_house=%{x}<br>mean_wage=%{y}<br>n_pop=%{marker.size}<extra></extra>",
         "hovertext": [
          "Магас"
         ],
         "legendgroup": "Магас",
         "marker": {
          "color": "#1F77B4",
          "size": [
           8.7
          ],
          "sizemode": "area",
          "sizeref": 31.26625,
          "symbol": "circle"
         },
         "mode": "markers",
         "name": "Магас",
         "orientation": "v",
         "showlegend": true,
         "type": "scatter",
         "x": [
          67.3
         ],
         "xaxis": "x",
         "y": [
          36523.2
         ],
         "yaxis": "y"
        },
        {
         "hovertemplate": "<b>%{hovertext}</b><br><br>город=Оренбург<br>mean_size_house=%{x}<br>mean_wage=%{y}<br>n_pop=%{marker.size}<extra></extra>",
         "hovertext": [
          "Оренбург"
         ],
         "legendgroup": "Оренбург",
         "marker": {
          "color": "#FF7F0E",
          "size": [
           579.8
          ],
          "sizemode": "area",
          "sizeref": 31.26625,
          "symbol": "circle"
         },
         "mode": "markers",
         "name": "Оренбург",
         "orientation": "v",
         "showlegend": true,
         "type": "scatter",
         "x": [
          24.7
         ],
         "xaxis": "x",
         "y": [
          36516.2
         ],
         "yaxis": "y"
        },
        {
         "hovertemplate": "<b>%{hovertext}</b><br><br>город=Липецк<br>mean_size_house=%{x}<br>mean_wage=%{y}<br>n_pop=%{marker.size}<extra></extra>",
         "hovertext": [
          "Липецк"
         ],
         "legendgroup": "Липецк",
         "marker": {
          "color": "#2CA02C",
          "size": [
           509.7
          ],
          "sizemode": "area",
          "sizeref": 31.26625,
          "symbol": "circle"
         },
         "mode": "markers",
         "name": "Липецк",
         "orientation": "v",
         "showlegend": true,
         "type": "scatter",
         "x": [
          27.1
         ],
         "xaxis": "x",
         "y": [
          36194.5
         ],
         "yaxis": "y"
        },
        {
         "hovertemplate": "<b>%{hovertext}</b><br><br>город=Тверь<br>mean_size_house=%{x}<br>mean_wage=%{y}<br>n_pop=%{marker.size}<extra></extra>",
         "hovertext": [
          "Тверь"
         ],
         "legendgroup": "Тверь",
         "marker": {
          "color": "#D62728",
          "size": [
           420.1
          ],
          "sizemode": "area",
          "sizeref": 31.26625,
          "symbol": "circle"
         },
         "mode": "markers",
         "name": "Тверь",
         "orientation": "v",
         "showlegend": true,
         "type": "scatter",
         "x": [
          26.2
         ],
         "xaxis": "x",
         "y": [
          36097
         ],
         "yaxis": "y"
        },
        {
         "hovertemplate": "<b>%{hovertext}</b><br><br>город=Вологда<br>mean_size_house=%{x}<br>mean_wage=%{y}<br>n_pop=%{marker.size}<extra></extra>",
         "hovertext": [
          "Вологда"
         ],
         "legendgroup": "Вологда",
         "marker": {
          "color": "#9467BD",
          "size": [
           312.4
          ],
          "sizemode": "area",
          "sizeref": 31.26625,
          "symbol": "circle"
         },
         "mode": "markers",
         "name": "Вологда",
         "orientation": "v",
         "showlegend": true,
         "type": "scatter",
         "x": [
          26.6
         ],
         "xaxis": "x",
         "y": [
          36072.3
         ],
         "yaxis": "y"
        },
        {
         "hovertemplate": "<b>%{hovertext}</b><br><br>город=Рязань<br>mean_size_house=%{x}<br>mean_wage=%{y}<br>n_pop=%{marker.size}<extra></extra>",
         "hovertext": [
          "Рязань"
         ],
         "legendgroup": "Рязань",
         "marker": {
          "color": "#8C564B",
          "size": [
           539
          ],
          "sizemode": "area",
          "sizeref": 31.26625,
          "symbol": "circle"
         },
         "mode": "markers",
         "name": "Рязань",
         "orientation": "v",
         "showlegend": true,
         "type": "scatter",
         "x": [
          26.6
         ],
         "xaxis": "x",
         "y": [
          36024.7
         ],
         "yaxis": "y"
        },
        {
         "hovertemplate": "<b>%{hovertext}</b><br><br>город=Омск<br>mean_size_house=%{x}<br>mean_wage=%{y}<br>n_pop=%{marker.size}<extra></extra>",
         "hovertext": [
          "Омск"
         ],
         "legendgroup": "Омск",
         "marker": {
          "color": "#E377C2",
          "size": [
           1172
          ],
          "sizemode": "area",
          "sizeref": 31.26625,
          "symbol": "circle"
         },
         "mode": "markers",
         "name": "Омск",
         "orientation": "v",
         "showlegend": true,
         "type": "scatter",
         "x": [
          24.1
         ],
         "xaxis": "x",
         "y": [
          35602
         ],
         "yaxis": "y"
        },
        {
         "hovertemplate": "<b>%{hovertext}</b><br><br>город=Воронеж<br>mean_size_house=%{x}<br>mean_wage=%{y}<br>n_pop=%{marker.size}<extra></extra>",
         "hovertext": [
          "Воронеж"
         ],
         "legendgroup": "Воронеж",
         "marker": {
          "color": "#7F7F7F",
          "size": [
           1047.5
          ],
          "sizemode": "area",
          "sizeref": 31.26625,
          "symbol": "circle"
         },
         "mode": "markers",
         "name": "Воронеж",
         "orientation": "v",
         "showlegend": true,
         "type": "scatter",
         "x": [
          28.1
         ],
         "xaxis": "x",
         "y": [
          35202.3
         ],
         "yaxis": "y"
        },
        {
         "hovertemplate": "<b>%{hovertext}</b><br><br>город=Астрахань<br>mean_size_house=%{x}<br>mean_wage=%{y}<br>n_pop=%{marker.size}<extra></extra>",
         "hovertext": [
          "Астрахань"
         ],
         "legendgroup": "Астрахань",
         "marker": {
          "color": "#BCBD22",
          "size": [
           533.9
          ],
          "sizemode": "area",
          "sizeref": 31.26625,
          "symbol": "circle"
         },
         "mode": "markers",
         "name": "Астрахань",
         "orientation": "v",
         "showlegend": true,
         "type": "scatter",
         "x": [
          24.8
         ],
         "xaxis": "x",
         "y": [
          35179
         ],
         "yaxis": "y"
        },
        {
         "hovertemplate": "<b>%{hovertext}</b><br><br>город=Ижевск<br>mean_size_house=%{x}<br>mean_wage=%{y}<br>n_pop=%{marker.size}<extra></extra>",
         "hovertext": [
          "Ижевск"
         ],
         "legendgroup": "Ижевск",
         "marker": {
          "color": "#17BECF",
          "size": [
           648.2
          ],
          "sizemode": "area",
          "sizeref": 31.26625,
          "symbol": "circle"
         },
         "mode": "markers",
         "name": "Ижевск",
         "orientation": "v",
         "showlegend": true,
         "type": "scatter",
         "x": [
          21.1
         ],
         "xaxis": "x",
         "y": [
          35011.6
         ],
         "yaxis": "y"
        },
        {
         "hovertemplate": "<b>%{hovertext}</b><br><br>город=Горно-Алтайск<br>mean_size_house=%{x}<br>mean_wage=%{y}<br>n_pop=%{marker.size}<extra></extra>",
         "hovertext": [
          "Горно-Алтайск"
         ],
         "legendgroup": "Горно-Алтайск",
         "marker": {
          "color": "#1F77B4",
          "size": [
           63.2
          ],
          "sizemode": "area",
          "sizeref": 31.26625,
          "symbol": "circle"
         },
         "mode": "markers",
         "name": "Горно-Алтайск",
         "orientation": "v",
         "showlegend": true,
         "type": "scatter",
         "x": [
          23.6
         ],
         "xaxis": "x",
         "y": [
          33956.9
         ],
         "yaxis": "y"
        },
        {
         "hovertemplate": "<b>%{hovertext}</b><br><br>город=Волгоград <br>mean_size_house=%{x}<br>mean_wage=%{y}<br>n_pop=%{marker.size}<extra></extra>",
         "hovertext": [
          "Волгоград "
         ],
         "legendgroup": "Волгоград ",
         "marker": {
          "color": "#FF7F0E",
          "size": [
           1013.5
          ],
          "sizemode": "area",
          "sizeref": 31.26625,
          "symbol": "circle"
         },
         "mode": "markers",
         "name": "Волгоград ",
         "orientation": "v",
         "showlegend": true,
         "type": "scatter",
         "x": [
          23.9
         ],
         "xaxis": "x",
         "y": [
          33718.9
         ],
         "yaxis": "y"
        },
        {
         "hovertemplate": "<b>%{hovertext}</b><br><br>город=Белгород<br>mean_size_house=%{x}<br>mean_wage=%{y}<br>n_pop=%{marker.size}<extra></extra>",
         "hovertext": [
          "Белгород"
         ],
         "legendgroup": "Белгород",
         "marker": {
          "color": "#2CA02C",
          "size": [
           391.6
          ],
          "sizemode": "area",
          "sizeref": 31.26625,
          "symbol": "circle"
         },
         "mode": "markers",
         "name": "Белгород",
         "orientation": "v",
         "showlegend": true,
         "type": "scatter",
         "x": [
          24.8
         ],
         "xaxis": "x",
         "y": [
          33566.7
         ],
         "yaxis": "y"
        },
        {
         "hovertemplate": "<b>%{hovertext}</b><br><br>город=Ставрополь<br>mean_size_house=%{x}<br>mean_wage=%{y}<br>n_pop=%{marker.size}<extra></extra>",
         "hovertext": [
          "Ставрополь"
         ],
         "legendgroup": "Ставрополь",
         "marker": {
          "color": "#D62728",
          "size": [
           434.1
          ],
          "sizemode": "area",
          "sizeref": 31.26625,
          "symbol": "circle"
         },
         "mode": "markers",
         "name": "Ставрополь",
         "orientation": "v",
         "showlegend": true,
         "type": "scatter",
         "x": [
          29.6
         ],
         "xaxis": "x",
         "y": [
          33290.1
         ],
         "yaxis": "y"
        },
        {
         "hovertemplate": "<b>%{hovertext}</b><br><br>город=Симферополь<br>mean_size_house=%{x}<br>mean_wage=%{y}<br>n_pop=%{marker.size}<extra></extra>",
         "hovertext": [
          "Симферополь"
         ],
         "legendgroup": "Симферополь",
         "marker": {
          "color": "#9467BD",
          "size": [
           341.8
          ],
          "sizemode": "area",
          "sizeref": 31.26625,
          "symbol": "circle"
         },
         "mode": "markers",
         "name": "Симферополь",
         "orientation": "v",
         "showlegend": true,
         "type": "scatter",
         "x": [
          12.1
         ],
         "xaxis": "x",
         "y": [
          33279.7
         ],
         "yaxis": "y"
        },
        {
         "hovertemplate": "<b>%{hovertext}</b><br><br>город=Владимир<br>mean_size_house=%{x}<br>mean_wage=%{y}<br>n_pop=%{marker.size}<extra></extra>",
         "hovertext": [
          "Владимир"
         ],
         "legendgroup": "Владимир",
         "marker": {
          "color": "#8C564B",
          "size": [
           359.5
          ],
          "sizemode": "area",
          "sizeref": 31.26625,
          "symbol": "circle"
         },
         "mode": "markers",
         "name": "Владимир",
         "orientation": "v",
         "showlegend": true,
         "type": "scatter",
         "x": [
          25.6
         ],
         "xaxis": "x",
         "y": [
          33213.1
         ],
         "yaxis": "y"
        },
        {
         "hovertemplate": "<b>%{hovertext}</b><br><br>город=Киров<br>mean_size_house=%{x}<br>mean_wage=%{y}<br>n_pop=%{marker.size}<extra></extra>",
         "hovertext": [
          "Киров"
         ],
         "legendgroup": "Киров",
         "marker": {
          "color": "#E377C2",
          "size": [
           533.2
          ],
          "sizemode": "area",
          "sizeref": 31.26625,
          "symbol": "circle"
         },
         "mode": "markers",
         "name": "Киров",
         "orientation": "v",
         "showlegend": true,
         "type": "scatter",
         "x": [
          24.3
         ],
         "xaxis": "x",
         "y": [
          32720.3
         ],
         "yaxis": "y"
        },
        {
         "hovertemplate": "<b>%{hovertext}</b><br><br>город=Ульяновск<br>mean_size_house=%{x}<br>mean_wage=%{y}<br>n_pop=%{marker.size}<extra></extra>",
         "hovertext": [
          "Ульяновск"
         ],
         "legendgroup": "Ульяновск",
         "marker": {
          "color": "#7F7F7F",
          "size": [
           649.4
          ],
          "sizemode": "area",
          "sizeref": 31.26625,
          "symbol": "circle"
         },
         "mode": "markers",
         "name": "Ульяновск",
         "orientation": "v",
         "showlegend": true,
         "type": "scatter",
         "x": [
          26
         ],
         "xaxis": "x",
         "y": [
          32555.7
         ],
         "yaxis": "y"
        },
        {
         "hovertemplate": "<b>%{hovertext}</b><br><br>город=Саратов<br>mean_size_house=%{x}<br>mean_wage=%{y}<br>n_pop=%{marker.size}<extra></extra>",
         "hovertext": [
          "Саратов"
         ],
         "legendgroup": "Саратов",
         "marker": {
          "color": "#BCBD22",
          "size": [
           844.9
          ],
          "sizemode": "area",
          "sizeref": 31.26625,
          "symbol": "circle"
         },
         "mode": "markers",
         "name": "Саратов",
         "orientation": "v",
         "showlegend": true,
         "type": "scatter",
         "x": [
          28.9
         ],
         "xaxis": "x",
         "y": [
          32504.7
         ],
         "yaxis": "y"
        },
        {
         "hovertemplate": "<b>%{hovertext}</b><br><br>город=Смоленск<br>mean_size_house=%{x}<br>mean_wage=%{y}<br>n_pop=%{marker.size}<extra></extra>",
         "hovertext": [
          "Смоленск"
         ],
         "legendgroup": "Смоленск",
         "marker": {
          "color": "#17BECF",
          "size": [
           330
          ],
          "sizemode": "area",
          "sizeref": 31.26625,
          "symbol": "circle"
         },
         "mode": "markers",
         "name": "Смоленск",
         "orientation": "v",
         "showlegend": true,
         "type": "scatter",
         "x": [
          27.1
         ],
         "xaxis": "x",
         "y": [
          31462
         ],
         "yaxis": "y"
        },
        {
         "hovertemplate": "<b>%{hovertext}</b><br><br>город=Курган<br>mean_size_house=%{x}<br>mean_wage=%{y}<br>n_pop=%{marker.size}<extra></extra>",
         "hovertext": [
          "Курган"
         ],
         "legendgroup": "Курган",
         "marker": {
          "color": "#1F77B4",
          "size": [
           318
          ],
          "sizemode": "area",
          "sizeref": 31.26625,
          "symbol": "circle"
         },
         "mode": "markers",
         "name": "Курган",
         "orientation": "v",
         "showlegend": true,
         "type": "scatter",
         "x": [
          25.4
         ],
         "xaxis": "x",
         "y": [
          31201.4
         ],
         "yaxis": "y"
        },
        {
         "hovertemplate": "<b>%{hovertext}</b><br><br>город=Пенза<br>mean_size_house=%{x}<br>mean_wage=%{y}<br>n_pop=%{marker.size}<extra></extra>",
         "hovertext": [
          "Пенза"
         ],
         "legendgroup": "Пенза",
         "marker": {
          "color": "#FF7F0E",
          "size": [
           523.6
          ],
          "sizemode": "area",
          "sizeref": 31.26625,
          "symbol": "circle"
         },
         "mode": "markers",
         "name": "Пенза",
         "orientation": "v",
         "showlegend": true,
         "type": "scatter",
         "x": [
          28.7
         ],
         "xaxis": "x",
         "y": [
          31129.7
         ],
         "yaxis": "y"
        },
        {
         "hovertemplate": "<b>%{hovertext}</b><br><br>город=Йошкар-Ола<br>mean_size_house=%{x}<br>mean_wage=%{y}<br>n_pop=%{marker.size}<extra></extra>",
         "hovertext": [
          "Йошкар-Ола"
         ],
         "legendgroup": "Йошкар-Ола",
         "marker": {
          "color": "#2CA02C",
          "size": [
           279.3
          ],
          "sizemode": "area",
          "sizeref": 31.26625,
          "symbol": "circle"
         },
         "mode": "markers",
         "name": "Йошкар-Ола",
         "orientation": "v",
         "showlegend": true,
         "type": "scatter",
         "x": [
          25.5
         ],
         "xaxis": "x",
         "y": [
          31100.1
         ],
         "yaxis": "y"
        },
        {
         "hovertemplate": "<b>%{hovertext}</b><br><br>город=Барнаул<br>mean_size_house=%{x}<br>mean_wage=%{y}<br>n_pop=%{marker.size}<extra></extra>",
         "hovertext": [
          "Барнаул"
         ],
         "legendgroup": "Барнаул",
         "marker": {
          "color": "#D62728",
          "size": [
           696.4
          ],
          "sizemode": "area",
          "sizeref": 31.26625,
          "symbol": "circle"
         },
         "mode": "markers",
         "name": "Барнаул",
         "orientation": "v",
         "showlegend": true,
         "type": "scatter",
         "x": [
          23.9
         ],
         "xaxis": "x",
         "y": [
          31013.5
         ],
         "yaxis": "y"
        },
        {
         "hovertemplate": "<b>%{hovertext}</b><br><br>город=Брянск<br>mean_size_house=%{x}<br>mean_wage=%{y}<br>n_pop=%{marker.size}<extra></extra>",
         "hovertext": [
          "Брянск"
         ],
         "legendgroup": "Брянск",
         "marker": {
          "color": "#9467BD",
          "size": [
           424
          ],
          "sizemode": "area",
          "sizeref": 31.26625,
          "symbol": "circle"
         },
         "mode": "markers",
         "name": "Брянск",
         "orientation": "v",
         "showlegend": true,
         "type": "scatter",
         "x": [
          29.2
         ],
         "xaxis": "x",
         "y": [
          30540.9
         ],
         "yaxis": "y"
        },
        {
         "hovertemplate": "<b>%{hovertext}</b><br><br>город=Псков<br>mean_size_house=%{x}<br>mean_wage=%{y}<br>n_pop=%{marker.size}<extra></extra>",
         "hovertext": [
          "Псков"
         ],
         "legendgroup": "Псков",
         "marker": {
          "color": "#8C564B",
          "size": [
           210.5
          ],
          "sizemode": "area",
          "sizeref": 31.26625,
          "symbol": "circle"
         },
         "mode": "markers",
         "name": "Псков",
         "orientation": "v",
         "showlegend": true,
         "type": "scatter",
         "x": [
          25.3
         ],
         "xaxis": "x",
         "y": [
          30539.1
         ],
         "yaxis": "y"
        },
        {
         "hovertemplate": "<b>%{hovertext}</b><br><br>город=Чебоксары<br>mean_size_house=%{x}<br>mean_wage=%{y}<br>n_pop=%{marker.size}<extra></extra>",
         "hovertext": [
          "Чебоксары"
         ],
         "legendgroup": "Чебоксары",
         "marker": {
          "color": "#E377C2",
          "size": [
           502.9
          ],
          "sizemode": "area",
          "sizeref": 31.26625,
          "symbol": "circle"
         },
         "mode": "markers",
         "name": "Чебоксары",
         "orientation": "v",
         "showlegend": true,
         "type": "scatter",
         "x": [
          23.4
         ],
         "xaxis": "x",
         "y": [
          30510.3
         ],
         "yaxis": "y"
        },
        {
         "hovertemplate": "<b>%{hovertext}</b><br><br>город=Грозный<br>mean_size_house=%{x}<br>mean_wage=%{y}<br>n_pop=%{marker.size}<extra></extra>",
         "hovertext": [
          "Грозный"
         ],
         "legendgroup": "Грозный",
         "marker": {
          "color": "#7F7F7F",
          "size": [
           297.1
          ],
          "sizemode": "area",
          "sizeref": 31.26625,
          "symbol": "circle"
         },
         "mode": "markers",
         "name": "Грозный",
         "orientation": "v",
         "showlegend": true,
         "type": "scatter",
         "x": [
          26.7
         ],
         "xaxis": "x",
         "y": [
          30455
         ],
         "yaxis": "y"
        },
        {
         "hovertemplate": "<b>%{hovertext}</b><br><br>город=Кострома<br>mean_size_house=%{x}<br>mean_wage=%{y}<br>n_pop=%{marker.size}<extra></extra>",
         "hovertext": [
          "Кострома"
         ],
         "legendgroup": "Кострома",
         "marker": {
          "color": "#BCBD22",
          "size": [
           277.3
          ],
          "sizemode": "area",
          "sizeref": 31.26625,
          "symbol": "circle"
         },
         "mode": "markers",
         "name": "Кострома",
         "orientation": "v",
         "showlegend": true,
         "type": "scatter",
         "x": [
          25.4
         ],
         "xaxis": "x",
         "y": [
          30365.5
         ],
         "yaxis": "y"
        },
        {
         "hovertemplate": "<b>%{hovertext}</b><br><br>город=Курск<br>mean_size_house=%{x}<br>mean_wage=%{y}<br>n_pop=%{marker.size}<extra></extra>",
         "hovertext": [
          "Курск"
         ],
         "legendgroup": "Курск",
         "marker": {
          "color": "#17BECF",
          "size": [
           448.7
          ],
          "sizemode": "area",
          "sizeref": 31.26625,
          "symbol": "circle"
         },
         "mode": "markers",
         "name": "Курск",
         "orientation": "v",
         "showlegend": true,
         "type": "scatter",
         "x": [
          27.1
         ],
         "xaxis": "x",
         "y": [
          29746.8
         ],
         "yaxis": "y"
        },
        {
         "hovertemplate": "<b>%{hovertext}</b><br><br>город=Орел<br>mean_size_house=%{x}<br>mean_wage=%{y}<br>n_pop=%{marker.size}<extra></extra>",
         "hovertext": [
          "Орел"
         ],
         "legendgroup": "Орел",
         "marker": {
          "color": "#1F77B4",
          "size": [
           315.3
          ],
          "sizemode": "area",
          "sizeref": 31.26625,
          "symbol": "circle"
         },
         "mode": "markers",
         "name": "Орел",
         "orientation": "v",
         "showlegend": true,
         "type": "scatter",
         "x": [
          29.1
         ],
         "xaxis": "x",
         "y": [
          29583.6
         ],
         "yaxis": "y"
        },
        {
         "hovertemplate": "<b>%{hovertext}</b><br><br>город=Иваново<br>mean_size_house=%{x}<br>mean_wage=%{y}<br>n_pop=%{marker.size}<extra></extra>",
         "hovertext": [
          "Иваново"
         ],
         "legendgroup": "Иваново",
         "marker": {
          "color": "#FF7F0E",
          "size": [
           406.1
          ],
          "sizemode": "area",
          "sizeref": 31.26625,
          "symbol": "circle"
         },
         "mode": "markers",
         "name": "Иваново",
         "orientation": "v",
         "showlegend": true,
         "type": "scatter",
         "x": [
          24.3
         ],
         "xaxis": "x",
         "y": [
          29496.4
         ],
         "yaxis": "y"
        },
        {
         "hovertemplate": "<b>%{hovertext}</b><br><br>город=Тамбов<br>mean_size_house=%{x}<br>mean_wage=%{y}<br>n_pop=%{marker.size}<extra></extra>",
         "hovertext": [
          "Тамбов"
         ],
         "legendgroup": "Тамбов",
         "marker": {
          "color": "#2CA02C",
          "size": [
           293.7
          ],
          "sizemode": "area",
          "sizeref": 31.26625,
          "symbol": "circle"
         },
         "mode": "markers",
         "name": "Тамбов",
         "orientation": "v",
         "showlegend": true,
         "type": "scatter",
         "x": [
          26.6
         ],
         "xaxis": "x",
         "y": [
          28931.7
         ],
         "yaxis": "y"
        },
        {
         "hovertemplate": "<b>%{hovertext}</b><br><br>город=Махачкала<br>mean_size_house=%{x}<br>mean_wage=%{y}<br>n_pop=%{marker.size}<extra></extra>",
         "hovertext": [
          "Махачкала"
         ],
         "legendgroup": "Махачкала",
         "marker": {
          "color": "#D62728",
          "size": [
           726.7
          ],
          "sizemode": "area",
          "sizeref": 31.26625,
          "symbol": "circle"
         },
         "mode": "markers",
         "name": "Махачкала",
         "orientation": "v",
         "showlegend": true,
         "type": "scatter",
         "x": [
          17.5
         ],
         "xaxis": "x",
         "y": [
          28610.2
         ],
         "yaxis": "y"
        },
        {
         "hovertemplate": "<b>%{hovertext}</b><br><br>город=Саранск<br>mean_size_house=%{x}<br>mean_wage=%{y}<br>n_pop=%{marker.size}<extra></extra>",
         "hovertext": [
          "Саранск"
         ],
         "legendgroup": "Саранск",
         "marker": {
          "color": "#9467BD",
          "size": [
           348.4
          ],
          "sizemode": "area",
          "sizeref": 31.26625,
          "symbol": "circle"
         },
         "mode": "markers",
         "name": "Саранск",
         "orientation": "v",
         "showlegend": true,
         "type": "scatter",
         "x": [
          23.7
         ],
         "xaxis": "x",
         "y": [
          28210.8
         ],
         "yaxis": "y"
        },
        {
         "hovertemplate": "<b>%{hovertext}</b><br><br>город=Владикавказ<br>mean_size_house=%{x}<br>mean_wage=%{y}<br>n_pop=%{marker.size}<extra></extra>",
         "hovertext": [
          "Владикавказ"
         ],
         "legendgroup": "Владикавказ",
         "marker": {
          "color": "#8C564B",
          "size": [
           306.3
          ],
          "sizemode": "area",
          "sizeref": 31.26625,
          "symbol": "circle"
         },
         "mode": "markers",
         "name": "Владикавказ",
         "orientation": "v",
         "showlegend": true,
         "type": "scatter",
         "x": [
          35.3
         ],
         "xaxis": "x",
         "y": [
          28184.3
         ],
         "yaxis": "y"
        },
        {
         "hovertemplate": "<b>%{hovertext}</b><br><br>город=Нальчик<br>mean_size_house=%{x}<br>mean_wage=%{y}<br>n_pop=%{marker.size}<extra></extra>",
         "hovertext": [
          "Нальчик"
         ],
         "legendgroup": "Нальчик",
         "marker": {
          "color": "#E377C2",
          "size": [
           265.3
          ],
          "sizemode": "area",
          "sizeref": 31.26625,
          "symbol": "circle"
         },
         "mode": "markers",
         "name": "Нальчик",
         "orientation": "v",
         "showlegend": true,
         "type": "scatter",
         "x": [
          20
         ],
         "xaxis": "x",
         "y": [
          27958.3
         ],
         "yaxis": "y"
        },
        {
         "hovertemplate": "<b>%{hovertext}</b><br><br>город=Севастополь<br>mean_size_house=%{x}<br>mean_wage=%{y}<br>n_pop=%{marker.size}<extra></extra>",
         "hovertext": [
          "Севастополь"
         ],
         "legendgroup": "Севастополь",
         "marker": {
          "color": "#7F7F7F",
          "size": [
           436.7
          ],
          "sizemode": "area",
          "sizeref": 31.26625,
          "symbol": "circle"
         },
         "mode": "markers",
         "name": "Севастополь",
         "orientation": "v",
         "showlegend": true,
         "type": "scatter",
         "x": [
          25.5
         ],
         "xaxis": "x",
         "y": [
          27687
         ],
         "yaxis": "y"
        },
        {
         "hovertemplate": "<b>%{hovertext}</b><br><br>город=Майкоп<br>mean_size_house=%{x}<br>mean_wage=%{y}<br>n_pop=%{marker.size}<extra></extra>",
         "hovertext": [
          "Майкоп"
         ],
         "legendgroup": "Майкоп",
         "marker": {
          "color": "#BCBD22",
          "size": [
           165.3
          ],
          "sizemode": "area",
          "sizeref": 31.26625,
          "symbol": "circle"
         },
         "mode": "markers",
         "name": "Майкоп",
         "orientation": "v",
         "showlegend": true,
         "type": "scatter",
         "x": [
          28.6
         ],
         "xaxis": "x",
         "y": [
          27481.1
         ],
         "yaxis": "y"
        },
        {
         "hovertemplate": "<b>%{hovertext}</b><br><br>город=Черкесск<br>mean_size_house=%{x}<br>mean_wage=%{y}<br>n_pop=%{marker.size}<extra></extra>",
         "hovertext": [
          "Черкесск"
         ],
         "legendgroup": "Черкесск",
         "marker": {
          "color": "#17BECF",
          "size": [
           122.4
          ],
          "sizemode": "area",
          "sizeref": 31.26625,
          "symbol": "circle"
         },
         "mode": "markers",
         "name": "Черкесск",
         "orientation": "v",
         "showlegend": true,
         "type": "scatter",
         "x": [
          24.4
         ],
         "xaxis": "x",
         "y": [
          26960.8
         ],
         "yaxis": "y"
        },
        {
         "hovertemplate": "<b>%{hovertext}</b><br><br>город=Элиста<br>mean_size_house=%{x}<br>mean_wage=%{y}<br>n_pop=%{marker.size}<extra></extra>",
         "hovertext": [
          "Элиста"
         ],
         "legendgroup": "Элиста",
         "marker": {
          "color": "#1F77B4",
          "size": [
           103.1
          ],
          "sizemode": "area",
          "sizeref": 31.26625,
          "symbol": "circle"
         },
         "mode": "markers",
         "name": "Элиста",
         "orientation": "v",
         "showlegend": true,
         "type": "scatter",
         "x": [
          29.1
         ],
         "xaxis": "x",
         "y": [
          26639.8
         ],
         "yaxis": "y"
        },
        {
         "hovertemplate": "<b>%{hovertext}</b><br><br>город=Москва<br>mean_size_house=%{x}<br>mean_wage=%{y}<br>n_pop=%{marker.size}<extra></extra>",
         "hovertext": [
          "Москва"
         ],
         "legendgroup": "Москва",
         "marker": {
          "color": "#FF7F0E",
          "size": [
           12506.5
          ],
          "sizemode": "area",
          "sizeref": 31.26625,
          "symbol": "circle"
         },
         "mode": "markers",
         "name": "Москва",
         "orientation": "v",
         "showlegend": true,
         "type": "scatter",
         "x": [
          19.3
         ],
         "xaxis": "x",
         "y": [
          73812
         ],
         "yaxis": "y"
        },
        {
         "hovertemplate": "<b>%{hovertext}</b><br><br>город=Санкт-Петербург<br>mean_size_house=%{x}<br>mean_wage=%{y}<br>n_pop=%{marker.size}<extra></extra>",
         "hovertext": [
          "Санкт-Петербург"
         ],
         "legendgroup": "Санкт-Петербург",
         "marker": {
          "color": "#2CA02C",
          "size": [
           5351.9
          ],
          "sizemode": "area",
          "sizeref": 31.26625,
          "symbol": "circle"
         },
         "mode": "markers",
         "name": "Санкт-Петербург",
         "orientation": "v",
         "showlegend": true,
         "type": "scatter",
         "x": [
          24.9
         ],
         "xaxis": "x",
         "y": [
          53740
         ],
         "yaxis": "y"
        }
       ],
       "layout": {
        "legend": {
         "itemsizing": "constant",
         "title": {
          "text": "город"
         },
         "tracegroupgap": 0
        },
        "margin": {
         "t": 60
        },
        "showlegend": false,
        "template": {
         "data": {
          "bar": [
           {
            "error_x": {
             "color": "rgb(36,36,36)"
            },
            "error_y": {
             "color": "rgb(36,36,36)"
            },
            "marker": {
             "line": {
              "color": "white",
              "width": 0.5
             },
             "pattern": {
              "fillmode": "overlay",
              "size": 10,
              "solidity": 0.2
             }
            },
            "type": "bar"
           }
          ],
          "barpolar": [
           {
            "marker": {
             "line": {
              "color": "white",
              "width": 0.5
             },
             "pattern": {
              "fillmode": "overlay",
              "size": 10,
              "solidity": 0.2
             }
            },
            "type": "barpolar"
           }
          ],
          "carpet": [
           {
            "aaxis": {
             "endlinecolor": "rgb(36,36,36)",
             "gridcolor": "white",
             "linecolor": "white",
             "minorgridcolor": "white",
             "startlinecolor": "rgb(36,36,36)"
            },
            "baxis": {
             "endlinecolor": "rgb(36,36,36)",
             "gridcolor": "white",
             "linecolor": "white",
             "minorgridcolor": "white",
             "startlinecolor": "rgb(36,36,36)"
            },
            "type": "carpet"
           }
          ],
          "choropleth": [
           {
            "colorbar": {
             "outlinewidth": 1,
             "tickcolor": "rgb(36,36,36)",
             "ticks": "outside"
            },
            "type": "choropleth"
           }
          ],
          "contour": [
           {
            "colorbar": {
             "outlinewidth": 1,
             "tickcolor": "rgb(36,36,36)",
             "ticks": "outside"
            },
            "colorscale": [
             [
              0,
              "#440154"
             ],
             [
              0.1111111111111111,
              "#482878"
             ],
             [
              0.2222222222222222,
              "#3e4989"
             ],
             [
              0.3333333333333333,
              "#31688e"
             ],
             [
              0.4444444444444444,
              "#26828e"
             ],
             [
              0.5555555555555556,
              "#1f9e89"
             ],
             [
              0.6666666666666666,
              "#35b779"
             ],
             [
              0.7777777777777778,
              "#6ece58"
             ],
             [
              0.8888888888888888,
              "#b5de2b"
             ],
             [
              1,
              "#fde725"
             ]
            ],
            "type": "contour"
           }
          ],
          "contourcarpet": [
           {
            "colorbar": {
             "outlinewidth": 1,
             "tickcolor": "rgb(36,36,36)",
             "ticks": "outside"
            },
            "type": "contourcarpet"
           }
          ],
          "heatmap": [
           {
            "colorbar": {
             "outlinewidth": 1,
             "tickcolor": "rgb(36,36,36)",
             "ticks": "outside"
            },
            "colorscale": [
             [
              0,
              "#440154"
             ],
             [
              0.1111111111111111,
              "#482878"
             ],
             [
              0.2222222222222222,
              "#3e4989"
             ],
             [
              0.3333333333333333,
              "#31688e"
             ],
             [
              0.4444444444444444,
              "#26828e"
             ],
             [
              0.5555555555555556,
              "#1f9e89"
             ],
             [
              0.6666666666666666,
              "#35b779"
             ],
             [
              0.7777777777777778,
              "#6ece58"
             ],
             [
              0.8888888888888888,
              "#b5de2b"
             ],
             [
              1,
              "#fde725"
             ]
            ],
            "type": "heatmap"
           }
          ],
          "heatmapgl": [
           {
            "colorbar": {
             "outlinewidth": 1,
             "tickcolor": "rgb(36,36,36)",
             "ticks": "outside"
            },
            "colorscale": [
             [
              0,
              "#440154"
             ],
             [
              0.1111111111111111,
              "#482878"
             ],
             [
              0.2222222222222222,
              "#3e4989"
             ],
             [
              0.3333333333333333,
              "#31688e"
             ],
             [
              0.4444444444444444,
              "#26828e"
             ],
             [
              0.5555555555555556,
              "#1f9e89"
             ],
             [
              0.6666666666666666,
              "#35b779"
             ],
             [
              0.7777777777777778,
              "#6ece58"
             ],
             [
              0.8888888888888888,
              "#b5de2b"
             ],
             [
              1,
              "#fde725"
             ]
            ],
            "type": "heatmapgl"
           }
          ],
          "histogram": [
           {
            "marker": {
             "line": {
              "color": "white",
              "width": 0.6
             }
            },
            "type": "histogram"
           }
          ],
          "histogram2d": [
           {
            "colorbar": {
             "outlinewidth": 1,
             "tickcolor": "rgb(36,36,36)",
             "ticks": "outside"
            },
            "colorscale": [
             [
              0,
              "#440154"
             ],
             [
              0.1111111111111111,
              "#482878"
             ],
             [
              0.2222222222222222,
              "#3e4989"
             ],
             [
              0.3333333333333333,
              "#31688e"
             ],
             [
              0.4444444444444444,
              "#26828e"
             ],
             [
              0.5555555555555556,
              "#1f9e89"
             ],
             [
              0.6666666666666666,
              "#35b779"
             ],
             [
              0.7777777777777778,
              "#6ece58"
             ],
             [
              0.8888888888888888,
              "#b5de2b"
             ],
             [
              1,
              "#fde725"
             ]
            ],
            "type": "histogram2d"
           }
          ],
          "histogram2dcontour": [
           {
            "colorbar": {
             "outlinewidth": 1,
             "tickcolor": "rgb(36,36,36)",
             "ticks": "outside"
            },
            "colorscale": [
             [
              0,
              "#440154"
             ],
             [
              0.1111111111111111,
              "#482878"
             ],
             [
              0.2222222222222222,
              "#3e4989"
             ],
             [
              0.3333333333333333,
              "#31688e"
             ],
             [
              0.4444444444444444,
              "#26828e"
             ],
             [
              0.5555555555555556,
              "#1f9e89"
             ],
             [
              0.6666666666666666,
              "#35b779"
             ],
             [
              0.7777777777777778,
              "#6ece58"
             ],
             [
              0.8888888888888888,
              "#b5de2b"
             ],
             [
              1,
              "#fde725"
             ]
            ],
            "type": "histogram2dcontour"
           }
          ],
          "mesh3d": [
           {
            "colorbar": {
             "outlinewidth": 1,
             "tickcolor": "rgb(36,36,36)",
             "ticks": "outside"
            },
            "type": "mesh3d"
           }
          ],
          "parcoords": [
           {
            "line": {
             "colorbar": {
              "outlinewidth": 1,
              "tickcolor": "rgb(36,36,36)",
              "ticks": "outside"
             }
            },
            "type": "parcoords"
           }
          ],
          "pie": [
           {
            "automargin": true,
            "type": "pie"
           }
          ],
          "scatter": [
           {
            "fillpattern": {
             "fillmode": "overlay",
             "size": 10,
             "solidity": 0.2
            },
            "type": "scatter"
           }
          ],
          "scatter3d": [
           {
            "line": {
             "colorbar": {
              "outlinewidth": 1,
              "tickcolor": "rgb(36,36,36)",
              "ticks": "outside"
             }
            },
            "marker": {
             "colorbar": {
              "outlinewidth": 1,
              "tickcolor": "rgb(36,36,36)",
              "ticks": "outside"
             }
            },
            "type": "scatter3d"
           }
          ],
          "scattercarpet": [
           {
            "marker": {
             "colorbar": {
              "outlinewidth": 1,
              "tickcolor": "rgb(36,36,36)",
              "ticks": "outside"
             }
            },
            "type": "scattercarpet"
           }
          ],
          "scattergeo": [
           {
            "marker": {
             "colorbar": {
              "outlinewidth": 1,
              "tickcolor": "rgb(36,36,36)",
              "ticks": "outside"
             }
            },
            "type": "scattergeo"
           }
          ],
          "scattergl": [
           {
            "marker": {
             "colorbar": {
              "outlinewidth": 1,
              "tickcolor": "rgb(36,36,36)",
              "ticks": "outside"
             }
            },
            "type": "scattergl"
           }
          ],
          "scattermapbox": [
           {
            "marker": {
             "colorbar": {
              "outlinewidth": 1,
              "tickcolor": "rgb(36,36,36)",
              "ticks": "outside"
             }
            },
            "type": "scattermapbox"
           }
          ],
          "scatterpolar": [
           {
            "marker": {
             "colorbar": {
              "outlinewidth": 1,
              "tickcolor": "rgb(36,36,36)",
              "ticks": "outside"
             }
            },
            "type": "scatterpolar"
           }
          ],
          "scatterpolargl": [
           {
            "marker": {
             "colorbar": {
              "outlinewidth": 1,
              "tickcolor": "rgb(36,36,36)",
              "ticks": "outside"
             }
            },
            "type": "scatterpolargl"
           }
          ],
          "scatterternary": [
           {
            "marker": {
             "colorbar": {
              "outlinewidth": 1,
              "tickcolor": "rgb(36,36,36)",
              "ticks": "outside"
             }
            },
            "type": "scatterternary"
           }
          ],
          "surface": [
           {
            "colorbar": {
             "outlinewidth": 1,
             "tickcolor": "rgb(36,36,36)",
             "ticks": "outside"
            },
            "colorscale": [
             [
              0,
              "#440154"
             ],
             [
              0.1111111111111111,
              "#482878"
             ],
             [
              0.2222222222222222,
              "#3e4989"
             ],
             [
              0.3333333333333333,
              "#31688e"
             ],
             [
              0.4444444444444444,
              "#26828e"
             ],
             [
              0.5555555555555556,
              "#1f9e89"
             ],
             [
              0.6666666666666666,
              "#35b779"
             ],
             [
              0.7777777777777778,
              "#6ece58"
             ],
             [
              0.8888888888888888,
              "#b5de2b"
             ],
             [
              1,
              "#fde725"
             ]
            ],
            "type": "surface"
           }
          ],
          "table": [
           {
            "cells": {
             "fill": {
              "color": "rgb(237,237,237)"
             },
             "line": {
              "color": "white"
             }
            },
            "header": {
             "fill": {
              "color": "rgb(217,217,217)"
             },
             "line": {
              "color": "white"
             }
            },
            "type": "table"
           }
          ]
         },
         "layout": {
          "annotationdefaults": {
           "arrowhead": 0,
           "arrowwidth": 1
          },
          "autotypenumbers": "strict",
          "coloraxis": {
           "colorbar": {
            "outlinewidth": 1,
            "tickcolor": "rgb(36,36,36)",
            "ticks": "outside"
           }
          },
          "colorscale": {
           "diverging": [
            [
             0,
             "rgb(103,0,31)"
            ],
            [
             0.1,
             "rgb(178,24,43)"
            ],
            [
             0.2,
             "rgb(214,96,77)"
            ],
            [
             0.3,
             "rgb(244,165,130)"
            ],
            [
             0.4,
             "rgb(253,219,199)"
            ],
            [
             0.5,
             "rgb(247,247,247)"
            ],
            [
             0.6,
             "rgb(209,229,240)"
            ],
            [
             0.7,
             "rgb(146,197,222)"
            ],
            [
             0.8,
             "rgb(67,147,195)"
            ],
            [
             0.9,
             "rgb(33,102,172)"
            ],
            [
             1,
             "rgb(5,48,97)"
            ]
           ],
           "sequential": [
            [
             0,
             "#440154"
            ],
            [
             0.1111111111111111,
             "#482878"
            ],
            [
             0.2222222222222222,
             "#3e4989"
            ],
            [
             0.3333333333333333,
             "#31688e"
            ],
            [
             0.4444444444444444,
             "#26828e"
            ],
            [
             0.5555555555555556,
             "#1f9e89"
            ],
            [
             0.6666666666666666,
             "#35b779"
            ],
            [
             0.7777777777777778,
             "#6ece58"
            ],
            [
             0.8888888888888888,
             "#b5de2b"
            ],
            [
             1,
             "#fde725"
            ]
           ],
           "sequentialminus": [
            [
             0,
             "#440154"
            ],
            [
             0.1111111111111111,
             "#482878"
            ],
            [
             0.2222222222222222,
             "#3e4989"
            ],
            [
             0.3333333333333333,
             "#31688e"
            ],
            [
             0.4444444444444444,
             "#26828e"
            ],
            [
             0.5555555555555556,
             "#1f9e89"
            ],
            [
             0.6666666666666666,
             "#35b779"
            ],
            [
             0.7777777777777778,
             "#6ece58"
            ],
            [
             0.8888888888888888,
             "#b5de2b"
            ],
            [
             1,
             "#fde725"
            ]
           ]
          },
          "colorway": [
           "#1F77B4",
           "#FF7F0E",
           "#2CA02C",
           "#D62728",
           "#9467BD",
           "#8C564B",
           "#E377C2",
           "#7F7F7F",
           "#BCBD22",
           "#17BECF"
          ],
          "font": {
           "color": "rgb(36,36,36)"
          },
          "geo": {
           "bgcolor": "white",
           "lakecolor": "white",
           "landcolor": "white",
           "showlakes": true,
           "showland": true,
           "subunitcolor": "white"
          },
          "hoverlabel": {
           "align": "left"
          },
          "hovermode": "closest",
          "mapbox": {
           "style": "light"
          },
          "paper_bgcolor": "white",
          "plot_bgcolor": "white",
          "polar": {
           "angularaxis": {
            "gridcolor": "rgb(232,232,232)",
            "linecolor": "rgb(36,36,36)",
            "showgrid": false,
            "showline": true,
            "ticks": "outside"
           },
           "bgcolor": "white",
           "radialaxis": {
            "gridcolor": "rgb(232,232,232)",
            "linecolor": "rgb(36,36,36)",
            "showgrid": false,
            "showline": true,
            "ticks": "outside"
           }
          },
          "scene": {
           "xaxis": {
            "backgroundcolor": "white",
            "gridcolor": "rgb(232,232,232)",
            "gridwidth": 2,
            "linecolor": "rgb(36,36,36)",
            "showbackground": true,
            "showgrid": false,
            "showline": true,
            "ticks": "outside",
            "zeroline": false,
            "zerolinecolor": "rgb(36,36,36)"
           },
           "yaxis": {
            "backgroundcolor": "white",
            "gridcolor": "rgb(232,232,232)",
            "gridwidth": 2,
            "linecolor": "rgb(36,36,36)",
            "showbackground": true,
            "showgrid": false,
            "showline": true,
            "ticks": "outside",
            "zeroline": false,
            "zerolinecolor": "rgb(36,36,36)"
           },
           "zaxis": {
            "backgroundcolor": "white",
            "gridcolor": "rgb(232,232,232)",
            "gridwidth": 2,
            "linecolor": "rgb(36,36,36)",
            "showbackground": true,
            "showgrid": false,
            "showline": true,
            "ticks": "outside",
            "zeroline": false,
            "zerolinecolor": "rgb(36,36,36)"
           }
          },
          "shapedefaults": {
           "fillcolor": "black",
           "line": {
            "width": 0
           },
           "opacity": 0.3
          },
          "ternary": {
           "aaxis": {
            "gridcolor": "rgb(232,232,232)",
            "linecolor": "rgb(36,36,36)",
            "showgrid": false,
            "showline": true,
            "ticks": "outside"
           },
           "baxis": {
            "gridcolor": "rgb(232,232,232)",
            "linecolor": "rgb(36,36,36)",
            "showgrid": false,
            "showline": true,
            "ticks": "outside"
           },
           "bgcolor": "white",
           "caxis": {
            "gridcolor": "rgb(232,232,232)",
            "linecolor": "rgb(36,36,36)",
            "showgrid": false,
            "showline": true,
            "ticks": "outside"
           }
          },
          "title": {
           "x": 0.05
          },
          "xaxis": {
           "automargin": true,
           "gridcolor": "rgb(232,232,232)",
           "linecolor": "rgb(36,36,36)",
           "showgrid": false,
           "showline": true,
           "ticks": "outside",
           "title": {
            "standoff": 15
           },
           "zeroline": false,
           "zerolinecolor": "rgb(36,36,36)"
          },
          "yaxis": {
           "automargin": true,
           "gridcolor": "rgb(232,232,232)",
           "linecolor": "rgb(36,36,36)",
           "showgrid": false,
           "showline": true,
           "ticks": "outside",
           "title": {
            "standoff": 15
           },
           "zeroline": false,
           "zerolinecolor": "rgb(36,36,36)"
          }
         }
        },
        "xaxis": {
         "anchor": "y",
         "domain": [
          0,
          1
         ],
         "title": {
          "text": "mean_size_house"
         }
        },
        "yaxis": {
         "anchor": "x",
         "domain": [
          0,
          1
         ],
         "title": {
          "text": "mean_wage"
         }
        }
       }
      },
      "text/html": [
       "<div>                            <div id=\"edbefff5-fc7b-4a47-9992-ca5b71909cfd\" class=\"plotly-graph-div\" style=\"height:525px; width:100%;\"></div>            <script type=\"text/javascript\">                require([\"plotly\"], function(Plotly) {                    window.PLOTLYENV=window.PLOTLYENV || {};                                    if (document.getElementById(\"edbefff5-fc7b-4a47-9992-ca5b71909cfd\")) {                    Plotly.newPlot(                        \"edbefff5-fc7b-4a47-9992-ca5b71909cfd\",                        [{\"hovertemplate\":\"<b>%{hovertext}</b><br><br>\\u0433\\u043e\\u0440\\u043e\\u0434=\\u0410\\u043d\\u0430\\u0434\\u044b\\u0440\\u044c<br>mean_size_house=%{x}<br>mean_wage=%{y}<br>n_pop=%{marker.size}<extra></extra>\",\"hovertext\":[\"\\u0410\\u043d\\u0430\\u0434\\u044b\\u0440\\u044c\"],\"legendgroup\":\"\\u0410\\u043d\\u0430\\u0434\\u044b\\u0440\\u044c\",\"marker\":{\"color\":\"#1F77B4\",\"size\":[15.6],\"sizemode\":\"area\",\"sizeref\":31.26625,\"symbol\":\"circle\"},\"mode\":\"markers\",\"name\":\"\\u0410\\u043d\\u0430\\u0434\\u044b\\u0440\\u044c\",\"orientation\":\"v\",\"showlegend\":true,\"x\":[18.4],\"xaxis\":\"x\",\"y\":[107061.8],\"yaxis\":\"y\",\"type\":\"scatter\"},{\"hovertemplate\":\"<b>%{hovertext}</b><br><br>\\u0433\\u043e\\u0440\\u043e\\u0434=\\u0421\\u0430\\u043b\\u0435\\u0445\\u0430\\u0440\\u0434<br>mean_size_house=%{x}<br>mean_wage=%{y}<br>n_pop=%{marker.size}<extra></extra>\",\"hovertext\":[\"\\u0421\\u0430\\u043b\\u0435\\u0445\\u0430\\u0440\\u0434\"],\"legendgroup\":\"\\u0421\\u0430\\u043b\\u0435\\u0445\\u0430\\u0440\\u0434\",\"marker\":{\"color\":\"#FF7F0E\",\"size\":[49.5],\"sizemode\":\"area\",\"sizeref\":31.26625,\"symbol\":\"circle\"},\"mode\":\"markers\",\"name\":\"\\u0421\\u0430\\u043b\\u0435\\u0445\\u0430\\u0440\\u0434\",\"orientation\":\"v\",\"showlegend\":true,\"x\":[24.1],\"xaxis\":\"x\",\"y\":[95496.0],\"yaxis\":\"y\",\"type\":\"scatter\"},{\"hovertemplate\":\"<b>%{hovertext}</b><br><br>\\u0433\\u043e\\u0440\\u043e\\u0434=\\u042e\\u0436\\u043d\\u043e-\\u0421\\u0430\\u0445\\u0430\\u043b\\u0438\\u043d\\u0441\\u043a<br>mean_size_house=%{x}<br>mean_wage=%{y}<br>n_pop=%{marker.size}<extra></extra>\",\"hovertext\":[\"\\u042e\\u0436\\u043d\\u043e-\\u0421\\u0430\\u0445\\u0430\\u043b\\u0438\\u043d\\u0441\\u043a\"],\"legendgroup\":\"\\u042e\\u0436\\u043d\\u043e-\\u0421\\u0430\\u0445\\u0430\\u043b\\u0438\\u043d\\u0441\\u043a\",\"marker\":{\"color\":\"#2CA02C\",\"size\":[199.0],\"sizemode\":\"area\",\"sizeref\":31.26625,\"symbol\":\"circle\"},\"mode\":\"markers\",\"name\":\"\\u042e\\u0436\\u043d\\u043e-\\u0421\\u0430\\u0445\\u0430\\u043b\\u0438\\u043d\\u0441\\u043a\",\"orientation\":\"v\",\"showlegend\":true,\"x\":[23.3],\"xaxis\":\"x\",\"y\":[88147.74],\"yaxis\":\"y\",\"type\":\"scatter\"},{\"hovertemplate\":\"<b>%{hovertext}</b><br><br>\\u0433\\u043e\\u0440\\u043e\\u0434=\\u041c\\u0430\\u0433\\u0430\\u0434\\u0430\\u043d<br>mean_size_house=%{x}<br>mean_wage=%{y}<br>n_pop=%{marker.size}<extra></extra>\",\"hovertext\":[\"\\u041c\\u0430\\u0433\\u0430\\u0434\\u0430\\u043d\"],\"legendgroup\":\"\\u041c\\u0430\\u0433\\u0430\\u0434\\u0430\\u043d\",\"marker\":{\"color\":\"#D62728\",\"size\":[99.7],\"sizemode\":\"area\",\"sizeref\":31.26625,\"symbol\":\"circle\"},\"mode\":\"markers\",\"name\":\"\\u041c\\u0430\\u0433\\u0430\\u0434\\u0430\\u043d\",\"orientation\":\"v\",\"showlegend\":true,\"x\":[24.9],\"xaxis\":\"x\",\"y\":[79539.3],\"yaxis\":\"y\",\"type\":\"scatter\"},{\"hovertemplate\":\"<b>%{hovertext}</b><br><br>\\u0433\\u043e\\u0440\\u043e\\u0434=\\u041f\\u0435\\u0442\\u0440\\u043e\\u043f\\u0430\\u0432\\u043b\\u043e\\u0432\\u0441\\u043a-\\u041a\\u0430\\u043c\\u0447\\u0430\\u0442\\u0441\\u043a\\u0438\\u0439<br>mean_size_house=%{x}<br>mean_wage=%{y}<br>n_pop=%{marker.size}<extra></extra>\",\"hovertext\":[\"\\u041f\\u0435\\u0442\\u0440\\u043e\\u043f\\u0430\\u0432\\u043b\\u043e\\u0432\\u0441\\u043a-\\u041a\\u0430\\u043c\\u0447\\u0430\\u0442\\u0441\\u043a\\u0438\\u0439\"],\"legendgroup\":\"\\u041f\\u0435\\u0442\\u0440\\u043e\\u043f\\u0430\\u0432\\u043b\\u043e\\u0432\\u0441\\u043a-\\u041a\\u0430\\u043c\\u0447\\u0430\\u0442\\u0441\\u043a\\u0438\\u0439\",\"marker\":{\"color\":\"#9467BD\",\"size\":[181.2],\"sizemode\":\"area\",\"sizeref\":31.26625,\"symbol\":\"circle\"},\"mode\":\"markers\",\"name\":\"\\u041f\\u0435\\u0442\\u0440\\u043e\\u043f\\u0430\\u0432\\u043b\\u043e\\u0432\\u0441\\u043a-\\u041a\\u0430\\u043c\\u0447\\u0430\\u0442\\u0441\\u043a\\u0438\\u0439\",\"orientation\":\"v\",\"showlegend\":true,\"x\":[25.2],\"xaxis\":\"x\",\"y\":[76525.4],\"yaxis\":\"y\",\"type\":\"scatter\"},{\"hovertemplate\":\"<b>%{hovertext}</b><br><br>\\u0433\\u043e\\u0440\\u043e\\u0434=\\u0425\\u0430\\u043d\\u0442\\u044b-\\u041c\\u0430\\u043d\\u0441\\u0438\\u0439\\u0441\\u043a<br>mean_size_house=%{x}<br>mean_wage=%{y}<br>n_pop=%{marker.size}<extra></extra>\",\"hovertext\":[\"\\u0425\\u0430\\u043d\\u0442\\u044b-\\u041c\\u0430\\u043d\\u0441\\u0438\\u0439\\u0441\\u043a\"],\"legendgroup\":\"\\u0425\\u0430\\u043d\\u0442\\u044b-\\u041c\\u0430\\u043d\\u0441\\u0438\\u0439\\u0441\\u043a\",\"marker\":{\"color\":\"#8C564B\",\"size\":[98.5],\"sizemode\":\"area\",\"sizeref\":31.26625,\"symbol\":\"circle\"},\"mode\":\"markers\",\"name\":\"\\u0425\\u0430\\u043d\\u0442\\u044b-\\u041c\\u0430\\u043d\\u0441\\u0438\\u0439\\u0441\\u043a\",\"orientation\":\"v\",\"showlegend\":true,\"x\":[25.3],\"xaxis\":\"x\",\"y\":[72093.6],\"yaxis\":\"y\",\"type\":\"scatter\"},{\"hovertemplate\":\"<b>%{hovertext}</b><br><br>\\u0433\\u043e\\u0440\\u043e\\u0434=\\u041d\\u0430\\u0440\\u044c\\u044f\\u043d-\\u041c\\u0430\\u0440<br>mean_size_house=%{x}<br>mean_wage=%{y}<br>n_pop=%{marker.size}<extra></extra>\",\"hovertext\":[\"\\u041d\\u0430\\u0440\\u044c\\u044f\\u043d-\\u041c\\u0430\\u0440\"],\"legendgroup\":\"\\u041d\\u0430\\u0440\\u044c\\u044f\\u043d-\\u041c\\u0430\\u0440\",\"marker\":{\"color\":\"#E377C2\",\"size\":[24.8],\"sizemode\":\"area\",\"sizeref\":31.26625,\"symbol\":\"circle\"},\"mode\":\"markers\",\"name\":\"\\u041d\\u0430\\u0440\\u044c\\u044f\\u043d-\\u041c\\u0430\\u0440\",\"orientation\":\"v\",\"showlegend\":true,\"x\":[24.9],\"xaxis\":\"x\",\"y\":[70421.9],\"yaxis\":\"y\",\"type\":\"scatter\"},{\"hovertemplate\":\"<b>%{hovertext}</b><br><br>\\u0433\\u043e\\u0440\\u043e\\u0434=\\u042f\\u043a\\u0443\\u0442\\u0441\\u043a<br>mean_size_house=%{x}<br>mean_wage=%{y}<br>n_pop=%{marker.size}<extra></extra>\",\"hovertext\":[\"\\u042f\\u043a\\u0443\\u0442\\u0441\\u043a\"],\"legendgroup\":\"\\u042f\\u043a\\u0443\\u0442\\u0441\\u043a\",\"marker\":{\"color\":\"#7F7F7F\",\"size\":[311.8],\"sizemode\":\"area\",\"sizeref\":31.26625,\"symbol\":\"circle\"},\"mode\":\"markers\",\"name\":\"\\u042f\\u043a\\u0443\\u0442\\u0441\\u043a\",\"orientation\":\"v\",\"showlegend\":true,\"x\":[19.1],\"xaxis\":\"x\",\"y\":[64801.3],\"yaxis\":\"y\",\"type\":\"scatter\"},{\"hovertemplate\":\"<b>%{hovertext}</b><br><br>\\u0433\\u043e\\u0440\\u043e\\u0434=\\u041c\\u0443\\u0440\\u043c\\u0430\\u043d\\u0441\\u043a<br>mean_size_house=%{x}<br>mean_wage=%{y}<br>n_pop=%{marker.size}<extra></extra>\",\"hovertext\":[\"\\u041c\\u0443\\u0440\\u043c\\u0430\\u043d\\u0441\\u043a\"],\"legendgroup\":\"\\u041c\\u0443\\u0440\\u043c\\u0430\\u043d\\u0441\\u043a\",\"marker\":{\"color\":\"#BCBD22\",\"size\":[295.4],\"sizemode\":\"area\",\"sizeref\":31.26625,\"symbol\":\"circle\"},\"mode\":\"markers\",\"name\":\"\\u041c\\u0443\\u0440\\u043c\\u0430\\u043d\\u0441\\u043a\",\"orientation\":\"v\",\"showlegend\":true,\"x\":[23.8],\"xaxis\":\"x\",\"y\":[61261.6],\"yaxis\":\"y\",\"type\":\"scatter\"},{\"hovertemplate\":\"<b>%{hovertext}</b><br><br>\\u0433\\u043e\\u0440\\u043e\\u0434=\\u0422\\u044e\\u043c\\u0435\\u043d\\u044c<br>mean_size_house=%{x}<br>mean_wage=%{y}<br>n_pop=%{marker.size}<extra></extra>\",\"hovertext\":[\"\\u0422\\u044e\\u043c\\u0435\\u043d\\u044c\"],\"legendgroup\":\"\\u0422\\u044e\\u043c\\u0435\\u043d\\u044c\",\"marker\":{\"color\":\"#17BECF\",\"size\":[768.4],\"sizemode\":\"area\",\"sizeref\":31.26625,\"symbol\":\"circle\"},\"mode\":\"markers\",\"name\":\"\\u0422\\u044e\\u043c\\u0435\\u043d\\u044c\",\"orientation\":\"v\",\"showlegend\":true,\"x\":[29.3],\"xaxis\":\"x\",\"y\":[53830.5],\"yaxis\":\"y\",\"type\":\"scatter\"},{\"hovertemplate\":\"<b>%{hovertext}</b><br><br>\\u0433\\u043e\\u0440\\u043e\\u0434=\\u0425\\u0430\\u0431\\u0430\\u0440\\u043e\\u0432\\u0441\\u043a<br>mean_size_house=%{x}<br>mean_wage=%{y}<br>n_pop=%{marker.size}<extra></extra>\",\"hovertext\":[\"\\u0425\\u0430\\u0431\\u0430\\u0440\\u043e\\u0432\\u0441\\u043a\"],\"legendgroup\":\"\\u0425\\u0430\\u0431\\u0430\\u0440\\u043e\\u0432\\u0441\\u043a\",\"marker\":{\"color\":\"#1F77B4\",\"size\":[618.2],\"sizemode\":\"area\",\"sizeref\":31.26625,\"symbol\":\"circle\"},\"mode\":\"markers\",\"name\":\"\\u0425\\u0430\\u0431\\u0430\\u0440\\u043e\\u0432\\u0441\\u043a\",\"orientation\":\"v\",\"showlegend\":true,\"x\":[23.0],\"xaxis\":\"x\",\"y\":[52986.9],\"yaxis\":\"y\",\"type\":\"scatter\"},{\"hovertemplate\":\"<b>%{hovertext}</b><br><br>\\u0433\\u043e\\u0440\\u043e\\u0434=\\u0412\\u043b\\u0430\\u0434\\u0438\\u0432\\u043e\\u0441\\u0442\\u043e\\u043a<br>mean_size_house=%{x}<br>mean_wage=%{y}<br>n_pop=%{marker.size}<extra></extra>\",\"hovertext\":[\"\\u0412\\u043b\\u0430\\u0434\\u0438\\u0432\\u043e\\u0441\\u0442\\u043e\\u043a\"],\"legendgroup\":\"\\u0412\\u043b\\u0430\\u0434\\u0438\\u0432\\u043e\\u0441\\u0442\\u043e\\u043a\",\"marker\":{\"color\":\"#FF7F0E\",\"size\":[633.1],\"sizemode\":\"area\",\"sizeref\":31.26625,\"symbol\":\"circle\"},\"mode\":\"markers\",\"name\":\"\\u0412\\u043b\\u0430\\u0434\\u0438\\u0432\\u043e\\u0441\\u0442\\u043e\\u043a\",\"orientation\":\"v\",\"showlegend\":true,\"x\":[21.9],\"xaxis\":\"x\",\"y\":[51830.5],\"yaxis\":\"y\",\"type\":\"scatter\"},{\"hovertemplate\":\"<b>%{hovertext}</b><br><br>\\u0433\\u043e\\u0440\\u043e\\u0434=\\u0415\\u043a\\u0430\\u0442\\u0435\\u0440\\u0438\\u043d\\u0431\\u0443\\u0440\\u0433<br>mean_size_house=%{x}<br>mean_wage=%{y}<br>n_pop=%{marker.size}<extra></extra>\",\"hovertext\":[\"\\u0415\\u043a\\u0430\\u0442\\u0435\\u0440\\u0438\\u043d\\u0431\\u0443\\u0440\\u0433\"],\"legendgroup\":\"\\u0415\\u043a\\u0430\\u0442\\u0435\\u0440\\u0438\\u043d\\u0431\\u0443\\u0440\\u0433\",\"marker\":{\"color\":\"#2CA02C\",\"size\":[1501.7],\"sizemode\":\"area\",\"sizeref\":31.26625,\"symbol\":\"circle\"},\"mode\":\"markers\",\"name\":\"\\u0415\\u043a\\u0430\\u0442\\u0435\\u0440\\u0438\\u043d\\u0431\\u0443\\u0440\\u0433\",\"orientation\":\"v\",\"showlegend\":true,\"x\":[25.0],\"xaxis\":\"x\",\"y\":[47265.6],\"yaxis\":\"y\",\"type\":\"scatter\"},{\"hovertemplate\":\"<b>%{hovertext}</b><br><br>\\u0433\\u043e\\u0440\\u043e\\u0434=\\u0418\\u0440\\u043a\\u0443\\u0442\\u0441\\u043a<br>mean_size_house=%{x}<br>mean_wage=%{y}<br>n_pop=%{marker.size}<extra></extra>\",\"hovertext\":[\"\\u0418\\u0440\\u043a\\u0443\\u0442\\u0441\\u043a\"],\"legendgroup\":\"\\u0418\\u0440\\u043a\\u0443\\u0442\\u0441\\u043a\",\"marker\":{\"color\":\"#D62728\",\"size\":[623.9],\"sizemode\":\"area\",\"sizeref\":31.26625,\"symbol\":\"circle\"},\"mode\":\"markers\",\"name\":\"\\u0418\\u0440\\u043a\\u0443\\u0442\\u0441\\u043a\",\"orientation\":\"v\",\"showlegend\":true,\"x\":[27.7],\"xaxis\":\"x\",\"y\":[46980.0],\"yaxis\":\"y\",\"type\":\"scatter\"},{\"hovertemplate\":\"<b>%{hovertext}</b><br><br>\\u0433\\u043e\\u0440\\u043e\\u0434=\\u0410\\u0440\\u0445\\u0430\\u043d\\u0433\\u0435\\u043b\\u044c\\u0441\\u043a<br>mean_size_house=%{x}<br>mean_wage=%{y}<br>n_pop=%{marker.size}<extra></extra>\",\"hovertext\":[\"\\u0410\\u0440\\u0445\\u0430\\u043d\\u0433\\u0435\\u043b\\u044c\\u0441\\u043a\"],\"legendgroup\":\"\\u0410\\u0440\\u0445\\u0430\\u043d\\u0433\\u0435\\u043b\\u044c\\u0441\\u043a\",\"marker\":{\"color\":\"#9467BD\",\"size\":[356.9],\"sizemode\":\"area\",\"sizeref\":31.26625,\"symbol\":\"circle\"},\"mode\":\"markers\",\"name\":\"\\u0410\\u0440\\u0445\\u0430\\u043d\\u0433\\u0435\\u043b\\u044c\\u0441\\u043a\",\"orientation\":\"v\",\"showlegend\":true,\"x\":[23.3],\"xaxis\":\"x\",\"y\":[45097.7],\"yaxis\":\"y\",\"type\":\"scatter\"},{\"hovertemplate\":\"<b>%{hovertext}</b><br><br>\\u0433\\u043e\\u0440\\u043e\\u0434=\\u041a\\u0440\\u0430\\u0441\\u043d\\u043e\\u044f\\u0440\\u0441\\u043a<br>mean_size_house=%{x}<br>mean_wage=%{y}<br>n_pop=%{marker.size}<extra></extra>\",\"hovertext\":[\"\\u041a\\u0440\\u0430\\u0441\\u043d\\u043e\\u044f\\u0440\\u0441\\u043a\"],\"legendgroup\":\"\\u041a\\u0440\\u0430\\u0441\\u043d\\u043e\\u044f\\u0440\\u0441\\u043a\",\"marker\":{\"color\":\"#8C564B\",\"size\":[1091.6],\"sizemode\":\"area\",\"sizeref\":31.26625,\"symbol\":\"circle\"},\"mode\":\"markers\",\"name\":\"\\u041a\\u0440\\u0430\\u0441\\u043d\\u043e\\u044f\\u0440\\u0441\\u043a\",\"orientation\":\"v\",\"showlegend\":true,\"x\":[24.1],\"xaxis\":\"x\",\"y\":[44384.3],\"yaxis\":\"y\",\"type\":\"scatter\"},{\"hovertemplate\":\"<b>%{hovertext}</b><br><br>\\u0433\\u043e\\u0440\\u043e\\u0434=\\u0421\\u044b\\u043a\\u0442\\u044b\\u0432\\u043a\\u0430\\u0440<br>mean_size_house=%{x}<br>mean_wage=%{y}<br>n_pop=%{marker.size}<extra></extra>\",\"hovertext\":[\"\\u0421\\u044b\\u043a\\u0442\\u044b\\u0432\\u043a\\u0430\\u0440\"],\"legendgroup\":\"\\u0421\\u044b\\u043a\\u0442\\u044b\\u0432\\u043a\\u0430\\u0440\",\"marker\":{\"color\":\"#E377C2\",\"size\":[260.8],\"sizemode\":\"area\",\"sizeref\":31.26625,\"symbol\":\"circle\"},\"mode\":\"markers\",\"name\":\"\\u0421\\u044b\\u043a\\u0442\\u044b\\u0432\\u043a\\u0430\\u0440\",\"orientation\":\"v\",\"showlegend\":true,\"x\":[23.7],\"xaxis\":\"x\",\"y\":[44181.4],\"yaxis\":\"y\",\"type\":\"scatter\"},{\"hovertemplate\":\"<b>%{hovertext}</b><br><br>\\u0433\\u043e\\u0440\\u043e\\u0434=\\u0422\\u043e\\u043c\\u0441\\u043a<br>mean_size_house=%{x}<br>mean_wage=%{y}<br>n_pop=%{marker.size}<extra></extra>\",\"hovertext\":[\"\\u0422\\u043e\\u043c\\u0441\\u043a\"],\"legendgroup\":\"\\u0422\\u043e\\u043c\\u0441\\u043a\",\"marker\":{\"color\":\"#7F7F7F\",\"size\":[595.2],\"sizemode\":\"area\",\"sizeref\":31.26625,\"symbol\":\"circle\"},\"mode\":\"markers\",\"name\":\"\\u0422\\u043e\\u043c\\u0441\\u043a\",\"orientation\":\"v\",\"showlegend\":true,\"x\":[23.1],\"xaxis\":\"x\",\"y\":[43410.8],\"yaxis\":\"y\",\"type\":\"scatter\"},{\"hovertemplate\":\"<b>%{hovertext}</b><br><br>\\u0433\\u043e\\u0440\\u043e\\u0434=\\u041d\\u0438\\u0436\\u043d\\u0438\\u0439 \\u041d\\u043e\\u0432\\u0433\\u043e\\u0440\\u043e\\u0434<br>mean_size_house=%{x}<br>mean_wage=%{y}<br>n_pop=%{marker.size}<extra></extra>\",\"hovertext\":[\"\\u041d\\u0438\\u0436\\u043d\\u0438\\u0439 \\u041d\\u043e\\u0432\\u0433\\u043e\\u0440\\u043e\\u0434\"],\"legendgroup\":\"\\u041d\\u0438\\u0436\\u043d\\u0438\\u0439 \\u041d\\u043e\\u0432\\u0433\\u043e\\u0440\\u043e\\u0434\",\"marker\":{\"color\":\"#BCBD22\",\"size\":[1267.5],\"sizemode\":\"area\",\"sizeref\":31.26625,\"symbol\":\"circle\"},\"mode\":\"markers\",\"name\":\"\\u041d\\u0438\\u0436\\u043d\\u0438\\u0439 \\u041d\\u043e\\u0432\\u0433\\u043e\\u0440\\u043e\\u0434\",\"orientation\":\"v\",\"showlegend\":true,\"x\":[24.8],\"xaxis\":\"x\",\"y\":[42469.5],\"yaxis\":\"y\",\"type\":\"scatter\"},{\"hovertemplate\":\"<b>%{hovertext}</b><br><br>\\u0433\\u043e\\u0440\\u043e\\u0434=\\u0423\\u0444\\u0430<br>mean_size_house=%{x}<br>mean_wage=%{y}<br>n_pop=%{marker.size}<extra></extra>\",\"hovertext\":[\"\\u0423\\u0444\\u0430\"],\"legendgroup\":\"\\u0423\\u0444\\u0430\",\"marker\":{\"color\":\"#17BECF\",\"size\":[1120.5],\"sizemode\":\"area\",\"sizeref\":31.26625,\"symbol\":\"circle\"},\"mode\":\"markers\",\"name\":\"\\u0423\\u0444\\u0430\",\"orientation\":\"v\",\"showlegend\":true,\"x\":[23.6],\"xaxis\":\"x\",\"y\":[42312.8],\"yaxis\":\"y\",\"type\":\"scatter\"},{\"hovertemplate\":\"<b>%{hovertext}</b><br><br>\\u0433\\u043e\\u0440\\u043e\\u0434=\\u0427\\u0438\\u0442\\u0430<br>mean_size_house=%{x}<br>mean_wage=%{y}<br>n_pop=%{marker.size}<extra></extra>\",\"hovertext\":[\"\\u0427\\u0438\\u0442\\u0430\"],\"legendgroup\":\"\\u0427\\u0438\\u0442\\u0430\",\"marker\":{\"color\":\"#1F77B4\",\"size\":[349.0],\"sizemode\":\"area\",\"sizeref\":31.26625,\"symbol\":\"circle\"},\"mode\":\"markers\",\"name\":\"\\u0427\\u0438\\u0442\\u0430\",\"orientation\":\"v\",\"showlegend\":true,\"x\":[21.0],\"xaxis\":\"x\",\"y\":[42204.2],\"yaxis\":\"y\",\"type\":\"scatter\"},{\"hovertemplate\":\"<b>%{hovertext}</b><br><br>\\u0433\\u043e\\u0440\\u043e\\u0434=\\u041a\\u0440\\u0430\\u0441\\u043d\\u043e\\u0434\\u0430\\u0440<br>mean_size_house=%{x}<br>mean_wage=%{y}<br>n_pop=%{marker.size}<extra></extra>\",\"hovertext\":[\"\\u041a\\u0440\\u0430\\u0441\\u043d\\u043e\\u0434\\u0430\\u0440\"],\"legendgroup\":\"\\u041a\\u0440\\u0430\\u0441\\u043d\\u043e\\u0434\\u0430\\u0440\",\"marker\":{\"color\":\"#FF7F0E\",\"size\":[990.2],\"sizemode\":\"area\",\"sizeref\":31.26625,\"symbol\":\"circle\"},\"mode\":\"markers\",\"name\":\"\\u041a\\u0440\\u0430\\u0441\\u043d\\u043e\\u0434\\u0430\\u0440\",\"orientation\":\"v\",\"showlegend\":true,\"x\":[34.2],\"xaxis\":\"x\",\"y\":[42028.7],\"yaxis\":\"y\",\"type\":\"scatter\"},{\"hovertemplate\":\"<b>%{hovertext}</b><br><br>\\u0433\\u043e\\u0440\\u043e\\u0434=\\u041d\\u043e\\u0432\\u043e\\u0441\\u0438\\u0431\\u0438\\u0440\\u0441\\u043a<br>mean_size_house=%{x}<br>mean_wage=%{y}<br>n_pop=%{marker.size}<extra></extra>\",\"hovertext\":[\"\\u041d\\u043e\\u0432\\u043e\\u0441\\u0438\\u0431\\u0438\\u0440\\u0441\\u043a\"],\"legendgroup\":\"\\u041d\\u043e\\u0432\\u043e\\u0441\\u0438\\u0431\\u0438\\u0440\\u0441\\u043a\",\"marker\":{\"color\":\"#2CA02C\",\"size\":[1612.8],\"sizemode\":\"area\",\"sizeref\":31.26625,\"symbol\":\"circle\"},\"mode\":\"markers\",\"name\":\"\\u041d\\u043e\\u0432\\u043e\\u0441\\u0438\\u0431\\u0438\\u0440\\u0441\\u043a\",\"orientation\":\"v\",\"showlegend\":true,\"x\":[25.1],\"xaxis\":\"x\",\"y\":[41884.0],\"yaxis\":\"y\",\"type\":\"scatter\"},{\"hovertemplate\":\"<b>%{hovertext}</b><br><br>\\u0433\\u043e\\u0440\\u043e\\u0434=\\u0411\\u043b\\u0430\\u0433\\u043e\\u0432\\u0435\\u0449\\u0435\\u043d\\u0441\\u043a<br>mean_size_house=%{x}<br>mean_wage=%{y}<br>n_pop=%{marker.size}<extra></extra>\",\"hovertext\":[\"\\u0411\\u043b\\u0430\\u0433\\u043e\\u0432\\u0435\\u0449\\u0435\\u043d\\u0441\\u043a\"],\"legendgroup\":\"\\u0411\\u043b\\u0430\\u0433\\u043e\\u0432\\u0435\\u0449\\u0435\\u043d\\u0441\\u043a\",\"marker\":{\"color\":\"#D62728\",\"size\":[230.4],\"sizemode\":\"area\",\"sizeref\":31.26625,\"symbol\":\"circle\"},\"mode\":\"markers\",\"name\":\"\\u0411\\u043b\\u0430\\u0433\\u043e\\u0432\\u0435\\u0449\\u0435\\u043d\\u0441\\u043a\",\"orientation\":\"v\",\"showlegend\":true,\"x\":[25.2],\"xaxis\":\"x\",\"y\":[41808.1],\"yaxis\":\"y\",\"type\":\"scatter\"},{\"hovertemplate\":\"<b>%{hovertext}</b><br><br>\\u0433\\u043e\\u0440\\u043e\\u0434=\\u041a\\u044b\\u0437\\u044b\\u043b<br>mean_size_house=%{x}<br>mean_wage=%{y}<br>n_pop=%{marker.size}<extra></extra>\",\"hovertext\":[\"\\u041a\\u044b\\u0437\\u044b\\u043b\"],\"legendgroup\":\"\\u041a\\u044b\\u0437\\u044b\\u043b\",\"marker\":{\"color\":\"#9467BD\",\"size\":[117.0],\"sizemode\":\"area\",\"sizeref\":31.26625,\"symbol\":\"circle\"},\"mode\":\"markers\",\"name\":\"\\u041a\\u044b\\u0437\\u044b\\u043b\",\"orientation\":\"v\",\"showlegend\":true,\"x\":[15.4],\"xaxis\":\"x\",\"y\":[41383.0],\"yaxis\":\"y\",\"type\":\"scatter\"},{\"hovertemplate\":\"<b>%{hovertext}</b><br><br>\\u0433\\u043e\\u0440\\u043e\\u0434=\\u041f\\u0435\\u0440\\u043c\\u044c<br>mean_size_house=%{x}<br>mean_wage=%{y}<br>n_pop=%{marker.size}<extra></extra>\",\"hovertext\":[\"\\u041f\\u0435\\u0440\\u043c\\u044c\"],\"legendgroup\":\"\\u041f\\u0435\\u0440\\u043c\\u044c\",\"marker\":{\"color\":\"#8C564B\",\"size\":[1051.6],\"sizemode\":\"area\",\"sizeref\":31.26625,\"symbol\":\"circle\"},\"mode\":\"markers\",\"name\":\"\\u041f\\u0435\\u0440\\u043c\\u044c\",\"orientation\":\"v\",\"showlegend\":true,\"x\":[23.5],\"xaxis\":\"x\",\"y\":[41325.9],\"yaxis\":\"y\",\"type\":\"scatter\"},{\"hovertemplate\":\"<b>%{hovertext}</b><br><br>\\u0433\\u043e\\u0440\\u043e\\u0434=\\u041f\\u0435\\u0442\\u0440\\u043e\\u0437\\u0430\\u0432\\u043e\\u0434\\u0441\\u043a<br>mean_size_house=%{x}<br>mean_wage=%{y}<br>n_pop=%{marker.size}<extra></extra>\",\"hovertext\":[\"\\u041f\\u0435\\u0442\\u0440\\u043e\\u0437\\u0430\\u0432\\u043e\\u0434\\u0441\\u043a\"],\"legendgroup\":\"\\u041f\\u0435\\u0442\\u0440\\u043e\\u0437\\u0430\\u0432\\u043e\\u0434\\u0441\\u043a\",\"marker\":{\"color\":\"#E377C2\",\"size\":[279.2],\"sizemode\":\"area\",\"sizeref\":31.26625,\"symbol\":\"circle\"},\"mode\":\"markers\",\"name\":\"\\u041f\\u0435\\u0442\\u0440\\u043e\\u0437\\u0430\\u0432\\u043e\\u0434\\u0441\\u043a\",\"orientation\":\"v\",\"showlegend\":true,\"x\":[25.4],\"xaxis\":\"x\",\"y\":[41234.4],\"yaxis\":\"y\",\"type\":\"scatter\"},{\"hovertemplate\":\"<b>%{hovertext}</b><br><br>\\u0433\\u043e\\u0440\\u043e\\u0434=\\u0410\\u0431\\u0430\\u043a\\u0430\\u043d<br>mean_size_house=%{x}<br>mean_wage=%{y}<br>n_pop=%{marker.size}<extra></extra>\",\"hovertext\":[\"\\u0410\\u0431\\u0430\\u043a\\u0430\\u043d\"],\"legendgroup\":\"\\u0410\\u0431\\u0430\\u043a\\u0430\\u043d\",\"marker\":{\"color\":\"#7F7F7F\",\"size\":[184.2],\"sizemode\":\"area\",\"sizeref\":31.26625,\"symbol\":\"circle\"},\"mode\":\"markers\",\"name\":\"\\u0410\\u0431\\u0430\\u043a\\u0430\\u043d\",\"orientation\":\"v\",\"showlegend\":true,\"x\":[24.1],\"xaxis\":\"x\",\"y\":[41203.1],\"yaxis\":\"y\",\"type\":\"scatter\"},{\"hovertemplate\":\"<b>%{hovertext}</b><br><br>\\u0433\\u043e\\u0440\\u043e\\u0434=\\u041a\\u0430\\u0437\\u0430\\u043d\\u044c<br>mean_size_house=%{x}<br>mean_wage=%{y}<br>n_pop=%{marker.size}<extra></extra>\",\"hovertext\":[\"\\u041a\\u0430\\u0437\\u0430\\u043d\\u044c\"],\"legendgroup\":\"\\u041a\\u0430\\u0437\\u0430\\u043d\\u044c\",\"marker\":{\"color\":\"#BCBD22\",\"size\":[1243.5],\"sizemode\":\"area\",\"sizeref\":31.26625,\"symbol\":\"circle\"},\"mode\":\"markers\",\"name\":\"\\u041a\\u0430\\u0437\\u0430\\u043d\\u044c\",\"orientation\":\"v\",\"showlegend\":true,\"x\":[25.3],\"xaxis\":\"x\",\"y\":[41020.8],\"yaxis\":\"y\",\"type\":\"scatter\"},{\"hovertemplate\":\"<b>%{hovertext}</b><br><br>\\u0433\\u043e\\u0440\\u043e\\u0434=\\u0420\\u043e\\u0441\\u0442\\u043e\\u0432-\\u043d\\u0430-\\u0414\\u043e\\u043d\\u0443<br>mean_size_house=%{x}<br>mean_wage=%{y}<br>n_pop=%{marker.size}<extra></extra>\",\"hovertext\":[\"\\u0420\\u043e\\u0441\\u0442\\u043e\\u0432-\\u043d\\u0430-\\u0414\\u043e\\u043d\\u0443\"],\"legendgroup\":\"\\u0420\\u043e\\u0441\\u0442\\u043e\\u0432-\\u043d\\u0430-\\u0414\\u043e\\u043d\\u0443\",\"marker\":{\"color\":\"#17BECF\",\"size\":[1130.3],\"sizemode\":\"area\",\"sizeref\":31.26625,\"symbol\":\"circle\"},\"mode\":\"markers\",\"name\":\"\\u0420\\u043e\\u0441\\u0442\\u043e\\u0432-\\u043d\\u0430-\\u0414\\u043e\\u043d\\u0443\",\"orientation\":\"v\",\"showlegend\":true,\"x\":[26.9],\"xaxis\":\"x\",\"y\":[40556.7],\"yaxis\":\"y\",\"type\":\"scatter\"},{\"hovertemplate\":\"<b>%{hovertext}</b><br><br>\\u0433\\u043e\\u0440\\u043e\\u0434=\\u041a\\u0430\\u043b\\u0443\\u0433\\u0430<br>mean_size_house=%{x}<br>mean_wage=%{y}<br>n_pop=%{marker.size}<extra></extra>\",\"hovertext\":[\"\\u041a\\u0430\\u043b\\u0443\\u0433\\u0430\"],\"legendgroup\":\"\\u041a\\u0430\\u043b\\u0443\\u0433\\u0430\",\"marker\":{\"color\":\"#1F77B4\",\"size\":[340.9],\"sizemode\":\"area\",\"sizeref\":31.26625,\"symbol\":\"circle\"},\"mode\":\"markers\",\"name\":\"\\u041a\\u0430\\u043b\\u0443\\u0433\\u0430\",\"orientation\":\"v\",\"showlegend\":true,\"x\":[25.3],\"xaxis\":\"x\",\"y\":[39653.2],\"yaxis\":\"y\",\"type\":\"scatter\"},{\"hovertemplate\":\"<b>%{hovertext}</b><br><br>\\u0433\\u043e\\u0440\\u043e\\u0434=\\u041a\\u0435\\u043c\\u0435\\u0440\\u043e\\u0432\\u043e<br>mean_size_house=%{x}<br>mean_wage=%{y}<br>n_pop=%{marker.size}<extra></extra>\",\"hovertext\":[\"\\u041a\\u0435\\u043c\\u0435\\u0440\\u043e\\u0432\\u043e\"],\"legendgroup\":\"\\u041a\\u0435\\u043c\\u0435\\u0440\\u043e\\u0432\\u043e\",\"marker\":{\"color\":\"#FF7F0E\",\"size\":[559.0],\"sizemode\":\"area\",\"sizeref\":31.26625,\"symbol\":\"circle\"},\"mode\":\"markers\",\"name\":\"\\u041a\\u0435\\u043c\\u0435\\u0440\\u043e\\u0432\\u043e\",\"orientation\":\"v\",\"showlegend\":true,\"x\":[23.2],\"xaxis\":\"x\",\"y\":[39317.8],\"yaxis\":\"y\",\"type\":\"scatter\"},{\"hovertemplate\":\"<b>%{hovertext}</b><br><br>\\u0433\\u043e\\u0440\\u043e\\u0434=\\u0421\\u0430\\u043c\\u0430\\u0440\\u0430<br>mean_size_house=%{x}<br>mean_wage=%{y}<br>n_pop=%{marker.size}<extra></extra>\",\"hovertext\":[\"\\u0421\\u0430\\u043c\\u0430\\u0440\\u0430\"],\"legendgroup\":\"\\u0421\\u0430\\u043c\\u0430\\u0440\\u0430\",\"marker\":{\"color\":\"#2CA02C\",\"size\":[1163.4],\"sizemode\":\"area\",\"sizeref\":31.26625,\"symbol\":\"circle\"},\"mode\":\"markers\",\"name\":\"\\u0421\\u0430\\u043c\\u0430\\u0440\\u0430\",\"orientation\":\"v\",\"showlegend\":true,\"x\":[28.1],\"xaxis\":\"x\",\"y\":[39298.9],\"yaxis\":\"y\",\"type\":\"scatter\"},{\"hovertemplate\":\"<b>%{hovertext}</b><br><br>\\u0433\\u043e\\u0440\\u043e\\u0434=\\u0422\\u0443\\u043b\\u0430<br>mean_size_house=%{x}<br>mean_wage=%{y}<br>n_pop=%{marker.size}<extra></extra>\",\"hovertext\":[\"\\u0422\\u0443\\u043b\\u0430\"],\"legendgroup\":\"\\u0422\\u0443\\u043b\\u0430\",\"marker\":{\"color\":\"#D62728\",\"size\":[550.0],\"sizemode\":\"area\",\"sizeref\":31.26625,\"symbol\":\"circle\"},\"mode\":\"markers\",\"name\":\"\\u0422\\u0443\\u043b\\u0430\",\"orientation\":\"v\",\"showlegend\":true,\"x\":[28.6],\"xaxis\":\"x\",\"y\":[39180.2],\"yaxis\":\"y\",\"type\":\"scatter\"},{\"hovertemplate\":\"<b>%{hovertext}</b><br><br>\\u0433\\u043e\\u0440\\u043e\\u0434=\\u041a\\u0430\\u043b\\u0438\\u043d\\u0438\\u043d\\u0433\\u0440\\u0430\\u0434<br>mean_size_house=%{x}<br>mean_wage=%{y}<br>n_pop=%{marker.size}<extra></extra>\",\"hovertext\":[\"\\u041a\\u0430\\u043b\\u0438\\u043d\\u0438\\u043d\\u0433\\u0440\\u0430\\u0434\"],\"legendgroup\":\"\\u041a\\u0430\\u043b\\u0438\\u043d\\u0438\\u043d\\u0433\\u0440\\u0430\\u0434\",\"marker\":{\"color\":\"#9467BD\",\"size\":[475.1],\"sizemode\":\"area\",\"sizeref\":31.26625,\"symbol\":\"circle\"},\"mode\":\"markers\",\"name\":\"\\u041a\\u0430\\u043b\\u0438\\u043d\\u0438\\u043d\\u0433\\u0440\\u0430\\u0434\",\"orientation\":\"v\",\"showlegend\":true,\"x\":[28.7],\"xaxis\":\"x\",\"y\":[38686.0],\"yaxis\":\"y\",\"type\":\"scatter\"},{\"hovertemplate\":\"<b>%{hovertext}</b><br><br>\\u0433\\u043e\\u0440\\u043e\\u0434=\\u0427\\u0435\\u043b\\u044f\\u0431\\u0438\\u043d\\u0441\\u043a<br>mean_size_house=%{x}<br>mean_wage=%{y}<br>n_pop=%{marker.size}<extra></extra>\",\"hovertext\":[\"\\u0427\\u0435\\u043b\\u044f\\u0431\\u0438\\u043d\\u0441\\u043a\"],\"legendgroup\":\"\\u0427\\u0435\\u043b\\u044f\\u0431\\u0438\\u043d\\u0441\\u043a\",\"marker\":{\"color\":\"#8C564B\",\"size\":[1202.4],\"sizemode\":\"area\",\"sizeref\":31.26625,\"symbol\":\"circle\"},\"mode\":\"markers\",\"name\":\"\\u0427\\u0435\\u043b\\u044f\\u0431\\u0438\\u043d\\u0441\\u043a\",\"orientation\":\"v\",\"showlegend\":true,\"x\":[25.4],\"xaxis\":\"x\",\"y\":[38228.1],\"yaxis\":\"y\",\"type\":\"scatter\"},{\"hovertemplate\":\"<b>%{hovertext}</b><br><br>\\u0433\\u043e\\u0440\\u043e\\u0434=\\u0411\\u0438\\u0440\\u043e\\u0431\\u0438\\u0434\\u0436\\u0430\\u043d<br>mean_size_house=%{x}<br>mean_wage=%{y}<br>n_pop=%{marker.size}<extra></extra>\",\"hovertext\":[\"\\u0411\\u0438\\u0440\\u043e\\u0431\\u0438\\u0434\\u0436\\u0430\\u043d\"],\"legendgroup\":\"\\u0411\\u0438\\u0440\\u043e\\u0431\\u0438\\u0434\\u0436\\u0430\\u043d\",\"marker\":{\"color\":\"#E377C2\",\"size\":[73.6],\"sizemode\":\"area\",\"sizeref\":31.26625,\"symbol\":\"circle\"},\"mode\":\"markers\",\"name\":\"\\u0411\\u0438\\u0440\\u043e\\u0431\\u0438\\u0434\\u0436\\u0430\\u043d\",\"orientation\":\"v\",\"showlegend\":true,\"x\":[23.0],\"xaxis\":\"x\",\"y\":[37587.3],\"yaxis\":\"y\",\"type\":\"scatter\"},{\"hovertemplate\":\"<b>%{hovertext}</b><br><br>\\u0433\\u043e\\u0440\\u043e\\u0434=\\u042f\\u0440\\u043e\\u0441\\u043b\\u0430\\u0432\\u043b\\u044c<br>mean_size_house=%{x}<br>mean_wage=%{y}<br>n_pop=%{marker.size}<extra></extra>\",\"hovertext\":[\"\\u042f\\u0440\\u043e\\u0441\\u043b\\u0430\\u0432\\u043b\\u044c\"],\"legendgroup\":\"\\u042f\\u0440\\u043e\\u0441\\u043b\\u0430\\u0432\\u043b\\u044c\",\"marker\":{\"color\":\"#7F7F7F\",\"size\":[608.7],\"sizemode\":\"area\",\"sizeref\":31.26625,\"symbol\":\"circle\"},\"mode\":\"markers\",\"name\":\"\\u042f\\u0440\\u043e\\u0441\\u043b\\u0430\\u0432\\u043b\\u044c\",\"orientation\":\"v\",\"showlegend\":true,\"x\":[24.1],\"xaxis\":\"x\",\"y\":[37533.7],\"yaxis\":\"y\",\"type\":\"scatter\"},{\"hovertemplate\":\"<b>%{hovertext}</b><br><br>\\u0433\\u043e\\u0440\\u043e\\u0434=\\u0412\\u0435\\u043b\\u0438\\u043a\\u0438\\u0439 \\u041d\\u043e\\u0432\\u0433\\u043e\\u0440\\u043e\\u0434<br>mean_size_house=%{x}<br>mean_wage=%{y}<br>n_pop=%{marker.size}<extra></extra>\",\"hovertext\":[\"\\u0412\\u0435\\u043b\\u0438\\u043a\\u0438\\u0439 \\u041d\\u043e\\u0432\\u0433\\u043e\\u0440\\u043e\\u0434\"],\"legendgroup\":\"\\u0412\\u0435\\u043b\\u0438\\u043a\\u0438\\u0439 \\u041d\\u043e\\u0432\\u0433\\u043e\\u0440\\u043e\\u0434\",\"marker\":{\"color\":\"#BCBD22\",\"size\":[222.9],\"sizemode\":\"area\",\"sizeref\":31.26625,\"symbol\":\"circle\"},\"mode\":\"markers\",\"name\":\"\\u0412\\u0435\\u043b\\u0438\\u043a\\u0438\\u0439 \\u041d\\u043e\\u0432\\u0433\\u043e\\u0440\\u043e\\u0434\",\"orientation\":\"v\",\"showlegend\":true,\"x\":[25.0],\"xaxis\":\"x\",\"y\":[36640.1],\"yaxis\":\"y\",\"type\":\"scatter\"},{\"hovertemplate\":\"<b>%{hovertext}</b><br><br>\\u0433\\u043e\\u0440\\u043e\\u0434=\\u0423\\u043b\\u0430\\u043d-\\u0423\\u0434\\u044d<br>mean_size_house=%{x}<br>mean_wage=%{y}<br>n_pop=%{marker.size}<extra></extra>\",\"hovertext\":[\"\\u0423\\u043b\\u0430\\u043d-\\u0423\\u0434\\u044d\"],\"legendgroup\":\"\\u0423\\u043b\\u0430\\u043d-\\u0423\\u0434\\u044d\",\"marker\":{\"color\":\"#17BECF\",\"size\":[434.8],\"sizemode\":\"area\",\"sizeref\":31.26625,\"symbol\":\"circle\"},\"mode\":\"markers\",\"name\":\"\\u0423\\u043b\\u0430\\u043d-\\u0423\\u0434\\u044d\",\"orientation\":\"v\",\"showlegend\":true,\"x\":[20.1],\"xaxis\":\"x\",\"y\":[36536.7],\"yaxis\":\"y\",\"type\":\"scatter\"},{\"hovertemplate\":\"<b>%{hovertext}</b><br><br>\\u0433\\u043e\\u0440\\u043e\\u0434=\\u041c\\u0430\\u0433\\u0430\\u0441<br>mean_size_house=%{x}<br>mean_wage=%{y}<br>n_pop=%{marker.size}<extra></extra>\",\"hovertext\":[\"\\u041c\\u0430\\u0433\\u0430\\u0441\"],\"legendgroup\":\"\\u041c\\u0430\\u0433\\u0430\\u0441\",\"marker\":{\"color\":\"#1F77B4\",\"size\":[8.7],\"sizemode\":\"area\",\"sizeref\":31.26625,\"symbol\":\"circle\"},\"mode\":\"markers\",\"name\":\"\\u041c\\u0430\\u0433\\u0430\\u0441\",\"orientation\":\"v\",\"showlegend\":true,\"x\":[67.3],\"xaxis\":\"x\",\"y\":[36523.2],\"yaxis\":\"y\",\"type\":\"scatter\"},{\"hovertemplate\":\"<b>%{hovertext}</b><br><br>\\u0433\\u043e\\u0440\\u043e\\u0434=\\u041e\\u0440\\u0435\\u043d\\u0431\\u0443\\u0440\\u0433<br>mean_size_house=%{x}<br>mean_wage=%{y}<br>n_pop=%{marker.size}<extra></extra>\",\"hovertext\":[\"\\u041e\\u0440\\u0435\\u043d\\u0431\\u0443\\u0440\\u0433\"],\"legendgroup\":\"\\u041e\\u0440\\u0435\\u043d\\u0431\\u0443\\u0440\\u0433\",\"marker\":{\"color\":\"#FF7F0E\",\"size\":[579.8],\"sizemode\":\"area\",\"sizeref\":31.26625,\"symbol\":\"circle\"},\"mode\":\"markers\",\"name\":\"\\u041e\\u0440\\u0435\\u043d\\u0431\\u0443\\u0440\\u0433\",\"orientation\":\"v\",\"showlegend\":true,\"x\":[24.7],\"xaxis\":\"x\",\"y\":[36516.2],\"yaxis\":\"y\",\"type\":\"scatter\"},{\"hovertemplate\":\"<b>%{hovertext}</b><br><br>\\u0433\\u043e\\u0440\\u043e\\u0434=\\u041b\\u0438\\u043f\\u0435\\u0446\\u043a<br>mean_size_house=%{x}<br>mean_wage=%{y}<br>n_pop=%{marker.size}<extra></extra>\",\"hovertext\":[\"\\u041b\\u0438\\u043f\\u0435\\u0446\\u043a\"],\"legendgroup\":\"\\u041b\\u0438\\u043f\\u0435\\u0446\\u043a\",\"marker\":{\"color\":\"#2CA02C\",\"size\":[509.7],\"sizemode\":\"area\",\"sizeref\":31.26625,\"symbol\":\"circle\"},\"mode\":\"markers\",\"name\":\"\\u041b\\u0438\\u043f\\u0435\\u0446\\u043a\",\"orientation\":\"v\",\"showlegend\":true,\"x\":[27.1],\"xaxis\":\"x\",\"y\":[36194.5],\"yaxis\":\"y\",\"type\":\"scatter\"},{\"hovertemplate\":\"<b>%{hovertext}</b><br><br>\\u0433\\u043e\\u0440\\u043e\\u0434=\\u0422\\u0432\\u0435\\u0440\\u044c<br>mean_size_house=%{x}<br>mean_wage=%{y}<br>n_pop=%{marker.size}<extra></extra>\",\"hovertext\":[\"\\u0422\\u0432\\u0435\\u0440\\u044c\"],\"legendgroup\":\"\\u0422\\u0432\\u0435\\u0440\\u044c\",\"marker\":{\"color\":\"#D62728\",\"size\":[420.1],\"sizemode\":\"area\",\"sizeref\":31.26625,\"symbol\":\"circle\"},\"mode\":\"markers\",\"name\":\"\\u0422\\u0432\\u0435\\u0440\\u044c\",\"orientation\":\"v\",\"showlegend\":true,\"x\":[26.2],\"xaxis\":\"x\",\"y\":[36097.0],\"yaxis\":\"y\",\"type\":\"scatter\"},{\"hovertemplate\":\"<b>%{hovertext}</b><br><br>\\u0433\\u043e\\u0440\\u043e\\u0434=\\u0412\\u043e\\u043b\\u043e\\u0433\\u0434\\u0430<br>mean_size_house=%{x}<br>mean_wage=%{y}<br>n_pop=%{marker.size}<extra></extra>\",\"hovertext\":[\"\\u0412\\u043e\\u043b\\u043e\\u0433\\u0434\\u0430\"],\"legendgroup\":\"\\u0412\\u043e\\u043b\\u043e\\u0433\\u0434\\u0430\",\"marker\":{\"color\":\"#9467BD\",\"size\":[312.4],\"sizemode\":\"area\",\"sizeref\":31.26625,\"symbol\":\"circle\"},\"mode\":\"markers\",\"name\":\"\\u0412\\u043e\\u043b\\u043e\\u0433\\u0434\\u0430\",\"orientation\":\"v\",\"showlegend\":true,\"x\":[26.6],\"xaxis\":\"x\",\"y\":[36072.3],\"yaxis\":\"y\",\"type\":\"scatter\"},{\"hovertemplate\":\"<b>%{hovertext}</b><br><br>\\u0433\\u043e\\u0440\\u043e\\u0434=\\u0420\\u044f\\u0437\\u0430\\u043d\\u044c<br>mean_size_house=%{x}<br>mean_wage=%{y}<br>n_pop=%{marker.size}<extra></extra>\",\"hovertext\":[\"\\u0420\\u044f\\u0437\\u0430\\u043d\\u044c\"],\"legendgroup\":\"\\u0420\\u044f\\u0437\\u0430\\u043d\\u044c\",\"marker\":{\"color\":\"#8C564B\",\"size\":[539.0],\"sizemode\":\"area\",\"sizeref\":31.26625,\"symbol\":\"circle\"},\"mode\":\"markers\",\"name\":\"\\u0420\\u044f\\u0437\\u0430\\u043d\\u044c\",\"orientation\":\"v\",\"showlegend\":true,\"x\":[26.6],\"xaxis\":\"x\",\"y\":[36024.7],\"yaxis\":\"y\",\"type\":\"scatter\"},{\"hovertemplate\":\"<b>%{hovertext}</b><br><br>\\u0433\\u043e\\u0440\\u043e\\u0434=\\u041e\\u043c\\u0441\\u043a<br>mean_size_house=%{x}<br>mean_wage=%{y}<br>n_pop=%{marker.size}<extra></extra>\",\"hovertext\":[\"\\u041e\\u043c\\u0441\\u043a\"],\"legendgroup\":\"\\u041e\\u043c\\u0441\\u043a\",\"marker\":{\"color\":\"#E377C2\",\"size\":[1172.0],\"sizemode\":\"area\",\"sizeref\":31.26625,\"symbol\":\"circle\"},\"mode\":\"markers\",\"name\":\"\\u041e\\u043c\\u0441\\u043a\",\"orientation\":\"v\",\"showlegend\":true,\"x\":[24.1],\"xaxis\":\"x\",\"y\":[35602.0],\"yaxis\":\"y\",\"type\":\"scatter\"},{\"hovertemplate\":\"<b>%{hovertext}</b><br><br>\\u0433\\u043e\\u0440\\u043e\\u0434=\\u0412\\u043e\\u0440\\u043e\\u043d\\u0435\\u0436<br>mean_size_house=%{x}<br>mean_wage=%{y}<br>n_pop=%{marker.size}<extra></extra>\",\"hovertext\":[\"\\u0412\\u043e\\u0440\\u043e\\u043d\\u0435\\u0436\"],\"legendgroup\":\"\\u0412\\u043e\\u0440\\u043e\\u043d\\u0435\\u0436\",\"marker\":{\"color\":\"#7F7F7F\",\"size\":[1047.5],\"sizemode\":\"area\",\"sizeref\":31.26625,\"symbol\":\"circle\"},\"mode\":\"markers\",\"name\":\"\\u0412\\u043e\\u0440\\u043e\\u043d\\u0435\\u0436\",\"orientation\":\"v\",\"showlegend\":true,\"x\":[28.1],\"xaxis\":\"x\",\"y\":[35202.3],\"yaxis\":\"y\",\"type\":\"scatter\"},{\"hovertemplate\":\"<b>%{hovertext}</b><br><br>\\u0433\\u043e\\u0440\\u043e\\u0434=\\u0410\\u0441\\u0442\\u0440\\u0430\\u0445\\u0430\\u043d\\u044c<br>mean_size_house=%{x}<br>mean_wage=%{y}<br>n_pop=%{marker.size}<extra></extra>\",\"hovertext\":[\"\\u0410\\u0441\\u0442\\u0440\\u0430\\u0445\\u0430\\u043d\\u044c\"],\"legendgroup\":\"\\u0410\\u0441\\u0442\\u0440\\u0430\\u0445\\u0430\\u043d\\u044c\",\"marker\":{\"color\":\"#BCBD22\",\"size\":[533.9],\"sizemode\":\"area\",\"sizeref\":31.26625,\"symbol\":\"circle\"},\"mode\":\"markers\",\"name\":\"\\u0410\\u0441\\u0442\\u0440\\u0430\\u0445\\u0430\\u043d\\u044c\",\"orientation\":\"v\",\"showlegend\":true,\"x\":[24.8],\"xaxis\":\"x\",\"y\":[35179.0],\"yaxis\":\"y\",\"type\":\"scatter\"},{\"hovertemplate\":\"<b>%{hovertext}</b><br><br>\\u0433\\u043e\\u0440\\u043e\\u0434=\\u0418\\u0436\\u0435\\u0432\\u0441\\u043a<br>mean_size_house=%{x}<br>mean_wage=%{y}<br>n_pop=%{marker.size}<extra></extra>\",\"hovertext\":[\"\\u0418\\u0436\\u0435\\u0432\\u0441\\u043a\"],\"legendgroup\":\"\\u0418\\u0436\\u0435\\u0432\\u0441\\u043a\",\"marker\":{\"color\":\"#17BECF\",\"size\":[648.2],\"sizemode\":\"area\",\"sizeref\":31.26625,\"symbol\":\"circle\"},\"mode\":\"markers\",\"name\":\"\\u0418\\u0436\\u0435\\u0432\\u0441\\u043a\",\"orientation\":\"v\",\"showlegend\":true,\"x\":[21.1],\"xaxis\":\"x\",\"y\":[35011.6],\"yaxis\":\"y\",\"type\":\"scatter\"},{\"hovertemplate\":\"<b>%{hovertext}</b><br><br>\\u0433\\u043e\\u0440\\u043e\\u0434=\\u0413\\u043e\\u0440\\u043d\\u043e-\\u0410\\u043b\\u0442\\u0430\\u0439\\u0441\\u043a<br>mean_size_house=%{x}<br>mean_wage=%{y}<br>n_pop=%{marker.size}<extra></extra>\",\"hovertext\":[\"\\u0413\\u043e\\u0440\\u043d\\u043e-\\u0410\\u043b\\u0442\\u0430\\u0439\\u0441\\u043a\"],\"legendgroup\":\"\\u0413\\u043e\\u0440\\u043d\\u043e-\\u0410\\u043b\\u0442\\u0430\\u0439\\u0441\\u043a\",\"marker\":{\"color\":\"#1F77B4\",\"size\":[63.2],\"sizemode\":\"area\",\"sizeref\":31.26625,\"symbol\":\"circle\"},\"mode\":\"markers\",\"name\":\"\\u0413\\u043e\\u0440\\u043d\\u043e-\\u0410\\u043b\\u0442\\u0430\\u0439\\u0441\\u043a\",\"orientation\":\"v\",\"showlegend\":true,\"x\":[23.6],\"xaxis\":\"x\",\"y\":[33956.9],\"yaxis\":\"y\",\"type\":\"scatter\"},{\"hovertemplate\":\"<b>%{hovertext}</b><br><br>\\u0433\\u043e\\u0440\\u043e\\u0434=\\u0412\\u043e\\u043b\\u0433\\u043e\\u0433\\u0440\\u0430\\u0434 <br>mean_size_house=%{x}<br>mean_wage=%{y}<br>n_pop=%{marker.size}<extra></extra>\",\"hovertext\":[\"\\u0412\\u043e\\u043b\\u0433\\u043e\\u0433\\u0440\\u0430\\u0434 \"],\"legendgroup\":\"\\u0412\\u043e\\u043b\\u0433\\u043e\\u0433\\u0440\\u0430\\u0434 \",\"marker\":{\"color\":\"#FF7F0E\",\"size\":[1013.5],\"sizemode\":\"area\",\"sizeref\":31.26625,\"symbol\":\"circle\"},\"mode\":\"markers\",\"name\":\"\\u0412\\u043e\\u043b\\u0433\\u043e\\u0433\\u0440\\u0430\\u0434 \",\"orientation\":\"v\",\"showlegend\":true,\"x\":[23.9],\"xaxis\":\"x\",\"y\":[33718.9],\"yaxis\":\"y\",\"type\":\"scatter\"},{\"hovertemplate\":\"<b>%{hovertext}</b><br><br>\\u0433\\u043e\\u0440\\u043e\\u0434=\\u0411\\u0435\\u043b\\u0433\\u043e\\u0440\\u043e\\u0434<br>mean_size_house=%{x}<br>mean_wage=%{y}<br>n_pop=%{marker.size}<extra></extra>\",\"hovertext\":[\"\\u0411\\u0435\\u043b\\u0433\\u043e\\u0440\\u043e\\u0434\"],\"legendgroup\":\"\\u0411\\u0435\\u043b\\u0433\\u043e\\u0440\\u043e\\u0434\",\"marker\":{\"color\":\"#2CA02C\",\"size\":[391.6],\"sizemode\":\"area\",\"sizeref\":31.26625,\"symbol\":\"circle\"},\"mode\":\"markers\",\"name\":\"\\u0411\\u0435\\u043b\\u0433\\u043e\\u0440\\u043e\\u0434\",\"orientation\":\"v\",\"showlegend\":true,\"x\":[24.8],\"xaxis\":\"x\",\"y\":[33566.7],\"yaxis\":\"y\",\"type\":\"scatter\"},{\"hovertemplate\":\"<b>%{hovertext}</b><br><br>\\u0433\\u043e\\u0440\\u043e\\u0434=\\u0421\\u0442\\u0430\\u0432\\u0440\\u043e\\u043f\\u043e\\u043b\\u044c<br>mean_size_house=%{x}<br>mean_wage=%{y}<br>n_pop=%{marker.size}<extra></extra>\",\"hovertext\":[\"\\u0421\\u0442\\u0430\\u0432\\u0440\\u043e\\u043f\\u043e\\u043b\\u044c\"],\"legendgroup\":\"\\u0421\\u0442\\u0430\\u0432\\u0440\\u043e\\u043f\\u043e\\u043b\\u044c\",\"marker\":{\"color\":\"#D62728\",\"size\":[434.1],\"sizemode\":\"area\",\"sizeref\":31.26625,\"symbol\":\"circle\"},\"mode\":\"markers\",\"name\":\"\\u0421\\u0442\\u0430\\u0432\\u0440\\u043e\\u043f\\u043e\\u043b\\u044c\",\"orientation\":\"v\",\"showlegend\":true,\"x\":[29.6],\"xaxis\":\"x\",\"y\":[33290.1],\"yaxis\":\"y\",\"type\":\"scatter\"},{\"hovertemplate\":\"<b>%{hovertext}</b><br><br>\\u0433\\u043e\\u0440\\u043e\\u0434=\\u0421\\u0438\\u043c\\u0444\\u0435\\u0440\\u043e\\u043f\\u043e\\u043b\\u044c<br>mean_size_house=%{x}<br>mean_wage=%{y}<br>n_pop=%{marker.size}<extra></extra>\",\"hovertext\":[\"\\u0421\\u0438\\u043c\\u0444\\u0435\\u0440\\u043e\\u043f\\u043e\\u043b\\u044c\"],\"legendgroup\":\"\\u0421\\u0438\\u043c\\u0444\\u0435\\u0440\\u043e\\u043f\\u043e\\u043b\\u044c\",\"marker\":{\"color\":\"#9467BD\",\"size\":[341.8],\"sizemode\":\"area\",\"sizeref\":31.26625,\"symbol\":\"circle\"},\"mode\":\"markers\",\"name\":\"\\u0421\\u0438\\u043c\\u0444\\u0435\\u0440\\u043e\\u043f\\u043e\\u043b\\u044c\",\"orientation\":\"v\",\"showlegend\":true,\"x\":[12.1],\"xaxis\":\"x\",\"y\":[33279.7],\"yaxis\":\"y\",\"type\":\"scatter\"},{\"hovertemplate\":\"<b>%{hovertext}</b><br><br>\\u0433\\u043e\\u0440\\u043e\\u0434=\\u0412\\u043b\\u0430\\u0434\\u0438\\u043c\\u0438\\u0440<br>mean_size_house=%{x}<br>mean_wage=%{y}<br>n_pop=%{marker.size}<extra></extra>\",\"hovertext\":[\"\\u0412\\u043b\\u0430\\u0434\\u0438\\u043c\\u0438\\u0440\"],\"legendgroup\":\"\\u0412\\u043b\\u0430\\u0434\\u0438\\u043c\\u0438\\u0440\",\"marker\":{\"color\":\"#8C564B\",\"size\":[359.5],\"sizemode\":\"area\",\"sizeref\":31.26625,\"symbol\":\"circle\"},\"mode\":\"markers\",\"name\":\"\\u0412\\u043b\\u0430\\u0434\\u0438\\u043c\\u0438\\u0440\",\"orientation\":\"v\",\"showlegend\":true,\"x\":[25.6],\"xaxis\":\"x\",\"y\":[33213.1],\"yaxis\":\"y\",\"type\":\"scatter\"},{\"hovertemplate\":\"<b>%{hovertext}</b><br><br>\\u0433\\u043e\\u0440\\u043e\\u0434=\\u041a\\u0438\\u0440\\u043e\\u0432<br>mean_size_house=%{x}<br>mean_wage=%{y}<br>n_pop=%{marker.size}<extra></extra>\",\"hovertext\":[\"\\u041a\\u0438\\u0440\\u043e\\u0432\"],\"legendgroup\":\"\\u041a\\u0438\\u0440\\u043e\\u0432\",\"marker\":{\"color\":\"#E377C2\",\"size\":[533.2],\"sizemode\":\"area\",\"sizeref\":31.26625,\"symbol\":\"circle\"},\"mode\":\"markers\",\"name\":\"\\u041a\\u0438\\u0440\\u043e\\u0432\",\"orientation\":\"v\",\"showlegend\":true,\"x\":[24.3],\"xaxis\":\"x\",\"y\":[32720.3],\"yaxis\":\"y\",\"type\":\"scatter\"},{\"hovertemplate\":\"<b>%{hovertext}</b><br><br>\\u0433\\u043e\\u0440\\u043e\\u0434=\\u0423\\u043b\\u044c\\u044f\\u043d\\u043e\\u0432\\u0441\\u043a<br>mean_size_house=%{x}<br>mean_wage=%{y}<br>n_pop=%{marker.size}<extra></extra>\",\"hovertext\":[\"\\u0423\\u043b\\u044c\\u044f\\u043d\\u043e\\u0432\\u0441\\u043a\"],\"legendgroup\":\"\\u0423\\u043b\\u044c\\u044f\\u043d\\u043e\\u0432\\u0441\\u043a\",\"marker\":{\"color\":\"#7F7F7F\",\"size\":[649.4],\"sizemode\":\"area\",\"sizeref\":31.26625,\"symbol\":\"circle\"},\"mode\":\"markers\",\"name\":\"\\u0423\\u043b\\u044c\\u044f\\u043d\\u043e\\u0432\\u0441\\u043a\",\"orientation\":\"v\",\"showlegend\":true,\"x\":[26.0],\"xaxis\":\"x\",\"y\":[32555.7],\"yaxis\":\"y\",\"type\":\"scatter\"},{\"hovertemplate\":\"<b>%{hovertext}</b><br><br>\\u0433\\u043e\\u0440\\u043e\\u0434=\\u0421\\u0430\\u0440\\u0430\\u0442\\u043e\\u0432<br>mean_size_house=%{x}<br>mean_wage=%{y}<br>n_pop=%{marker.size}<extra></extra>\",\"hovertext\":[\"\\u0421\\u0430\\u0440\\u0430\\u0442\\u043e\\u0432\"],\"legendgroup\":\"\\u0421\\u0430\\u0440\\u0430\\u0442\\u043e\\u0432\",\"marker\":{\"color\":\"#BCBD22\",\"size\":[844.9],\"sizemode\":\"area\",\"sizeref\":31.26625,\"symbol\":\"circle\"},\"mode\":\"markers\",\"name\":\"\\u0421\\u0430\\u0440\\u0430\\u0442\\u043e\\u0432\",\"orientation\":\"v\",\"showlegend\":true,\"x\":[28.9],\"xaxis\":\"x\",\"y\":[32504.7],\"yaxis\":\"y\",\"type\":\"scatter\"},{\"hovertemplate\":\"<b>%{hovertext}</b><br><br>\\u0433\\u043e\\u0440\\u043e\\u0434=\\u0421\\u043c\\u043e\\u043b\\u0435\\u043d\\u0441\\u043a<br>mean_size_house=%{x}<br>mean_wage=%{y}<br>n_pop=%{marker.size}<extra></extra>\",\"hovertext\":[\"\\u0421\\u043c\\u043e\\u043b\\u0435\\u043d\\u0441\\u043a\"],\"legendgroup\":\"\\u0421\\u043c\\u043e\\u043b\\u0435\\u043d\\u0441\\u043a\",\"marker\":{\"color\":\"#17BECF\",\"size\":[330.0],\"sizemode\":\"area\",\"sizeref\":31.26625,\"symbol\":\"circle\"},\"mode\":\"markers\",\"name\":\"\\u0421\\u043c\\u043e\\u043b\\u0435\\u043d\\u0441\\u043a\",\"orientation\":\"v\",\"showlegend\":true,\"x\":[27.1],\"xaxis\":\"x\",\"y\":[31462.0],\"yaxis\":\"y\",\"type\":\"scatter\"},{\"hovertemplate\":\"<b>%{hovertext}</b><br><br>\\u0433\\u043e\\u0440\\u043e\\u0434=\\u041a\\u0443\\u0440\\u0433\\u0430\\u043d<br>mean_size_house=%{x}<br>mean_wage=%{y}<br>n_pop=%{marker.size}<extra></extra>\",\"hovertext\":[\"\\u041a\\u0443\\u0440\\u0433\\u0430\\u043d\"],\"legendgroup\":\"\\u041a\\u0443\\u0440\\u0433\\u0430\\u043d\",\"marker\":{\"color\":\"#1F77B4\",\"size\":[318.0],\"sizemode\":\"area\",\"sizeref\":31.26625,\"symbol\":\"circle\"},\"mode\":\"markers\",\"name\":\"\\u041a\\u0443\\u0440\\u0433\\u0430\\u043d\",\"orientation\":\"v\",\"showlegend\":true,\"x\":[25.4],\"xaxis\":\"x\",\"y\":[31201.4],\"yaxis\":\"y\",\"type\":\"scatter\"},{\"hovertemplate\":\"<b>%{hovertext}</b><br><br>\\u0433\\u043e\\u0440\\u043e\\u0434=\\u041f\\u0435\\u043d\\u0437\\u0430<br>mean_size_house=%{x}<br>mean_wage=%{y}<br>n_pop=%{marker.size}<extra></extra>\",\"hovertext\":[\"\\u041f\\u0435\\u043d\\u0437\\u0430\"],\"legendgroup\":\"\\u041f\\u0435\\u043d\\u0437\\u0430\",\"marker\":{\"color\":\"#FF7F0E\",\"size\":[523.6],\"sizemode\":\"area\",\"sizeref\":31.26625,\"symbol\":\"circle\"},\"mode\":\"markers\",\"name\":\"\\u041f\\u0435\\u043d\\u0437\\u0430\",\"orientation\":\"v\",\"showlegend\":true,\"x\":[28.7],\"xaxis\":\"x\",\"y\":[31129.7],\"yaxis\":\"y\",\"type\":\"scatter\"},{\"hovertemplate\":\"<b>%{hovertext}</b><br><br>\\u0433\\u043e\\u0440\\u043e\\u0434=\\u0419\\u043e\\u0448\\u043a\\u0430\\u0440-\\u041e\\u043b\\u0430<br>mean_size_house=%{x}<br>mean_wage=%{y}<br>n_pop=%{marker.size}<extra></extra>\",\"hovertext\":[\"\\u0419\\u043e\\u0448\\u043a\\u0430\\u0440-\\u041e\\u043b\\u0430\"],\"legendgroup\":\"\\u0419\\u043e\\u0448\\u043a\\u0430\\u0440-\\u041e\\u043b\\u0430\",\"marker\":{\"color\":\"#2CA02C\",\"size\":[279.3],\"sizemode\":\"area\",\"sizeref\":31.26625,\"symbol\":\"circle\"},\"mode\":\"markers\",\"name\":\"\\u0419\\u043e\\u0448\\u043a\\u0430\\u0440-\\u041e\\u043b\\u0430\",\"orientation\":\"v\",\"showlegend\":true,\"x\":[25.5],\"xaxis\":\"x\",\"y\":[31100.1],\"yaxis\":\"y\",\"type\":\"scatter\"},{\"hovertemplate\":\"<b>%{hovertext}</b><br><br>\\u0433\\u043e\\u0440\\u043e\\u0434=\\u0411\\u0430\\u0440\\u043d\\u0430\\u0443\\u043b<br>mean_size_house=%{x}<br>mean_wage=%{y}<br>n_pop=%{marker.size}<extra></extra>\",\"hovertext\":[\"\\u0411\\u0430\\u0440\\u043d\\u0430\\u0443\\u043b\"],\"legendgroup\":\"\\u0411\\u0430\\u0440\\u043d\\u0430\\u0443\\u043b\",\"marker\":{\"color\":\"#D62728\",\"size\":[696.4],\"sizemode\":\"area\",\"sizeref\":31.26625,\"symbol\":\"circle\"},\"mode\":\"markers\",\"name\":\"\\u0411\\u0430\\u0440\\u043d\\u0430\\u0443\\u043b\",\"orientation\":\"v\",\"showlegend\":true,\"x\":[23.9],\"xaxis\":\"x\",\"y\":[31013.5],\"yaxis\":\"y\",\"type\":\"scatter\"},{\"hovertemplate\":\"<b>%{hovertext}</b><br><br>\\u0433\\u043e\\u0440\\u043e\\u0434=\\u0411\\u0440\\u044f\\u043d\\u0441\\u043a<br>mean_size_house=%{x}<br>mean_wage=%{y}<br>n_pop=%{marker.size}<extra></extra>\",\"hovertext\":[\"\\u0411\\u0440\\u044f\\u043d\\u0441\\u043a\"],\"legendgroup\":\"\\u0411\\u0440\\u044f\\u043d\\u0441\\u043a\",\"marker\":{\"color\":\"#9467BD\",\"size\":[424.0],\"sizemode\":\"area\",\"sizeref\":31.26625,\"symbol\":\"circle\"},\"mode\":\"markers\",\"name\":\"\\u0411\\u0440\\u044f\\u043d\\u0441\\u043a\",\"orientation\":\"v\",\"showlegend\":true,\"x\":[29.2],\"xaxis\":\"x\",\"y\":[30540.9],\"yaxis\":\"y\",\"type\":\"scatter\"},{\"hovertemplate\":\"<b>%{hovertext}</b><br><br>\\u0433\\u043e\\u0440\\u043e\\u0434=\\u041f\\u0441\\u043a\\u043e\\u0432<br>mean_size_house=%{x}<br>mean_wage=%{y}<br>n_pop=%{marker.size}<extra></extra>\",\"hovertext\":[\"\\u041f\\u0441\\u043a\\u043e\\u0432\"],\"legendgroup\":\"\\u041f\\u0441\\u043a\\u043e\\u0432\",\"marker\":{\"color\":\"#8C564B\",\"size\":[210.5],\"sizemode\":\"area\",\"sizeref\":31.26625,\"symbol\":\"circle\"},\"mode\":\"markers\",\"name\":\"\\u041f\\u0441\\u043a\\u043e\\u0432\",\"orientation\":\"v\",\"showlegend\":true,\"x\":[25.3],\"xaxis\":\"x\",\"y\":[30539.1],\"yaxis\":\"y\",\"type\":\"scatter\"},{\"hovertemplate\":\"<b>%{hovertext}</b><br><br>\\u0433\\u043e\\u0440\\u043e\\u0434=\\u0427\\u0435\\u0431\\u043e\\u043a\\u0441\\u0430\\u0440\\u044b<br>mean_size_house=%{x}<br>mean_wage=%{y}<br>n_pop=%{marker.size}<extra></extra>\",\"hovertext\":[\"\\u0427\\u0435\\u0431\\u043e\\u043a\\u0441\\u0430\\u0440\\u044b\"],\"legendgroup\":\"\\u0427\\u0435\\u0431\\u043e\\u043a\\u0441\\u0430\\u0440\\u044b\",\"marker\":{\"color\":\"#E377C2\",\"size\":[502.9],\"sizemode\":\"area\",\"sizeref\":31.26625,\"symbol\":\"circle\"},\"mode\":\"markers\",\"name\":\"\\u0427\\u0435\\u0431\\u043e\\u043a\\u0441\\u0430\\u0440\\u044b\",\"orientation\":\"v\",\"showlegend\":true,\"x\":[23.4],\"xaxis\":\"x\",\"y\":[30510.3],\"yaxis\":\"y\",\"type\":\"scatter\"},{\"hovertemplate\":\"<b>%{hovertext}</b><br><br>\\u0433\\u043e\\u0440\\u043e\\u0434=\\u0413\\u0440\\u043e\\u0437\\u043d\\u044b\\u0439<br>mean_size_house=%{x}<br>mean_wage=%{y}<br>n_pop=%{marker.size}<extra></extra>\",\"hovertext\":[\"\\u0413\\u0440\\u043e\\u0437\\u043d\\u044b\\u0439\"],\"legendgroup\":\"\\u0413\\u0440\\u043e\\u0437\\u043d\\u044b\\u0439\",\"marker\":{\"color\":\"#7F7F7F\",\"size\":[297.1],\"sizemode\":\"area\",\"sizeref\":31.26625,\"symbol\":\"circle\"},\"mode\":\"markers\",\"name\":\"\\u0413\\u0440\\u043e\\u0437\\u043d\\u044b\\u0439\",\"orientation\":\"v\",\"showlegend\":true,\"x\":[26.7],\"xaxis\":\"x\",\"y\":[30455.0],\"yaxis\":\"y\",\"type\":\"scatter\"},{\"hovertemplate\":\"<b>%{hovertext}</b><br><br>\\u0433\\u043e\\u0440\\u043e\\u0434=\\u041a\\u043e\\u0441\\u0442\\u0440\\u043e\\u043c\\u0430<br>mean_size_house=%{x}<br>mean_wage=%{y}<br>n_pop=%{marker.size}<extra></extra>\",\"hovertext\":[\"\\u041a\\u043e\\u0441\\u0442\\u0440\\u043e\\u043c\\u0430\"],\"legendgroup\":\"\\u041a\\u043e\\u0441\\u0442\\u0440\\u043e\\u043c\\u0430\",\"marker\":{\"color\":\"#BCBD22\",\"size\":[277.3],\"sizemode\":\"area\",\"sizeref\":31.26625,\"symbol\":\"circle\"},\"mode\":\"markers\",\"name\":\"\\u041a\\u043e\\u0441\\u0442\\u0440\\u043e\\u043c\\u0430\",\"orientation\":\"v\",\"showlegend\":true,\"x\":[25.4],\"xaxis\":\"x\",\"y\":[30365.5],\"yaxis\":\"y\",\"type\":\"scatter\"},{\"hovertemplate\":\"<b>%{hovertext}</b><br><br>\\u0433\\u043e\\u0440\\u043e\\u0434=\\u041a\\u0443\\u0440\\u0441\\u043a<br>mean_size_house=%{x}<br>mean_wage=%{y}<br>n_pop=%{marker.size}<extra></extra>\",\"hovertext\":[\"\\u041a\\u0443\\u0440\\u0441\\u043a\"],\"legendgroup\":\"\\u041a\\u0443\\u0440\\u0441\\u043a\",\"marker\":{\"color\":\"#17BECF\",\"size\":[448.7],\"sizemode\":\"area\",\"sizeref\":31.26625,\"symbol\":\"circle\"},\"mode\":\"markers\",\"name\":\"\\u041a\\u0443\\u0440\\u0441\\u043a\",\"orientation\":\"v\",\"showlegend\":true,\"x\":[27.1],\"xaxis\":\"x\",\"y\":[29746.8],\"yaxis\":\"y\",\"type\":\"scatter\"},{\"hovertemplate\":\"<b>%{hovertext}</b><br><br>\\u0433\\u043e\\u0440\\u043e\\u0434=\\u041e\\u0440\\u0435\\u043b<br>mean_size_house=%{x}<br>mean_wage=%{y}<br>n_pop=%{marker.size}<extra></extra>\",\"hovertext\":[\"\\u041e\\u0440\\u0435\\u043b\"],\"legendgroup\":\"\\u041e\\u0440\\u0435\\u043b\",\"marker\":{\"color\":\"#1F77B4\",\"size\":[315.3],\"sizemode\":\"area\",\"sizeref\":31.26625,\"symbol\":\"circle\"},\"mode\":\"markers\",\"name\":\"\\u041e\\u0440\\u0435\\u043b\",\"orientation\":\"v\",\"showlegend\":true,\"x\":[29.1],\"xaxis\":\"x\",\"y\":[29583.6],\"yaxis\":\"y\",\"type\":\"scatter\"},{\"hovertemplate\":\"<b>%{hovertext}</b><br><br>\\u0433\\u043e\\u0440\\u043e\\u0434=\\u0418\\u0432\\u0430\\u043d\\u043e\\u0432\\u043e<br>mean_size_house=%{x}<br>mean_wage=%{y}<br>n_pop=%{marker.size}<extra></extra>\",\"hovertext\":[\"\\u0418\\u0432\\u0430\\u043d\\u043e\\u0432\\u043e\"],\"legendgroup\":\"\\u0418\\u0432\\u0430\\u043d\\u043e\\u0432\\u043e\",\"marker\":{\"color\":\"#FF7F0E\",\"size\":[406.1],\"sizemode\":\"area\",\"sizeref\":31.26625,\"symbol\":\"circle\"},\"mode\":\"markers\",\"name\":\"\\u0418\\u0432\\u0430\\u043d\\u043e\\u0432\\u043e\",\"orientation\":\"v\",\"showlegend\":true,\"x\":[24.3],\"xaxis\":\"x\",\"y\":[29496.4],\"yaxis\":\"y\",\"type\":\"scatter\"},{\"hovertemplate\":\"<b>%{hovertext}</b><br><br>\\u0433\\u043e\\u0440\\u043e\\u0434=\\u0422\\u0430\\u043c\\u0431\\u043e\\u0432<br>mean_size_house=%{x}<br>mean_wage=%{y}<br>n_pop=%{marker.size}<extra></extra>\",\"hovertext\":[\"\\u0422\\u0430\\u043c\\u0431\\u043e\\u0432\"],\"legendgroup\":\"\\u0422\\u0430\\u043c\\u0431\\u043e\\u0432\",\"marker\":{\"color\":\"#2CA02C\",\"size\":[293.7],\"sizemode\":\"area\",\"sizeref\":31.26625,\"symbol\":\"circle\"},\"mode\":\"markers\",\"name\":\"\\u0422\\u0430\\u043c\\u0431\\u043e\\u0432\",\"orientation\":\"v\",\"showlegend\":true,\"x\":[26.6],\"xaxis\":\"x\",\"y\":[28931.7],\"yaxis\":\"y\",\"type\":\"scatter\"},{\"hovertemplate\":\"<b>%{hovertext}</b><br><br>\\u0433\\u043e\\u0440\\u043e\\u0434=\\u041c\\u0430\\u0445\\u0430\\u0447\\u043a\\u0430\\u043b\\u0430<br>mean_size_house=%{x}<br>mean_wage=%{y}<br>n_pop=%{marker.size}<extra></extra>\",\"hovertext\":[\"\\u041c\\u0430\\u0445\\u0430\\u0447\\u043a\\u0430\\u043b\\u0430\"],\"legendgroup\":\"\\u041c\\u0430\\u0445\\u0430\\u0447\\u043a\\u0430\\u043b\\u0430\",\"marker\":{\"color\":\"#D62728\",\"size\":[726.7],\"sizemode\":\"area\",\"sizeref\":31.26625,\"symbol\":\"circle\"},\"mode\":\"markers\",\"name\":\"\\u041c\\u0430\\u0445\\u0430\\u0447\\u043a\\u0430\\u043b\\u0430\",\"orientation\":\"v\",\"showlegend\":true,\"x\":[17.5],\"xaxis\":\"x\",\"y\":[28610.2],\"yaxis\":\"y\",\"type\":\"scatter\"},{\"hovertemplate\":\"<b>%{hovertext}</b><br><br>\\u0433\\u043e\\u0440\\u043e\\u0434=\\u0421\\u0430\\u0440\\u0430\\u043d\\u0441\\u043a<br>mean_size_house=%{x}<br>mean_wage=%{y}<br>n_pop=%{marker.size}<extra></extra>\",\"hovertext\":[\"\\u0421\\u0430\\u0440\\u0430\\u043d\\u0441\\u043a\"],\"legendgroup\":\"\\u0421\\u0430\\u0440\\u0430\\u043d\\u0441\\u043a\",\"marker\":{\"color\":\"#9467BD\",\"size\":[348.4],\"sizemode\":\"area\",\"sizeref\":31.26625,\"symbol\":\"circle\"},\"mode\":\"markers\",\"name\":\"\\u0421\\u0430\\u0440\\u0430\\u043d\\u0441\\u043a\",\"orientation\":\"v\",\"showlegend\":true,\"x\":[23.7],\"xaxis\":\"x\",\"y\":[28210.8],\"yaxis\":\"y\",\"type\":\"scatter\"},{\"hovertemplate\":\"<b>%{hovertext}</b><br><br>\\u0433\\u043e\\u0440\\u043e\\u0434=\\u0412\\u043b\\u0430\\u0434\\u0438\\u043a\\u0430\\u0432\\u043a\\u0430\\u0437<br>mean_size_house=%{x}<br>mean_wage=%{y}<br>n_pop=%{marker.size}<extra></extra>\",\"hovertext\":[\"\\u0412\\u043b\\u0430\\u0434\\u0438\\u043a\\u0430\\u0432\\u043a\\u0430\\u0437\"],\"legendgroup\":\"\\u0412\\u043b\\u0430\\u0434\\u0438\\u043a\\u0430\\u0432\\u043a\\u0430\\u0437\",\"marker\":{\"color\":\"#8C564B\",\"size\":[306.3],\"sizemode\":\"area\",\"sizeref\":31.26625,\"symbol\":\"circle\"},\"mode\":\"markers\",\"name\":\"\\u0412\\u043b\\u0430\\u0434\\u0438\\u043a\\u0430\\u0432\\u043a\\u0430\\u0437\",\"orientation\":\"v\",\"showlegend\":true,\"x\":[35.3],\"xaxis\":\"x\",\"y\":[28184.3],\"yaxis\":\"y\",\"type\":\"scatter\"},{\"hovertemplate\":\"<b>%{hovertext}</b><br><br>\\u0433\\u043e\\u0440\\u043e\\u0434=\\u041d\\u0430\\u043b\\u044c\\u0447\\u0438\\u043a<br>mean_size_house=%{x}<br>mean_wage=%{y}<br>n_pop=%{marker.size}<extra></extra>\",\"hovertext\":[\"\\u041d\\u0430\\u043b\\u044c\\u0447\\u0438\\u043a\"],\"legendgroup\":\"\\u041d\\u0430\\u043b\\u044c\\u0447\\u0438\\u043a\",\"marker\":{\"color\":\"#E377C2\",\"size\":[265.3],\"sizemode\":\"area\",\"sizeref\":31.26625,\"symbol\":\"circle\"},\"mode\":\"markers\",\"name\":\"\\u041d\\u0430\\u043b\\u044c\\u0447\\u0438\\u043a\",\"orientation\":\"v\",\"showlegend\":true,\"x\":[20.0],\"xaxis\":\"x\",\"y\":[27958.3],\"yaxis\":\"y\",\"type\":\"scatter\"},{\"hovertemplate\":\"<b>%{hovertext}</b><br><br>\\u0433\\u043e\\u0440\\u043e\\u0434=\\u0421\\u0435\\u0432\\u0430\\u0441\\u0442\\u043e\\u043f\\u043e\\u043b\\u044c<br>mean_size_house=%{x}<br>mean_wage=%{y}<br>n_pop=%{marker.size}<extra></extra>\",\"hovertext\":[\"\\u0421\\u0435\\u0432\\u0430\\u0441\\u0442\\u043e\\u043f\\u043e\\u043b\\u044c\"],\"legendgroup\":\"\\u0421\\u0435\\u0432\\u0430\\u0441\\u0442\\u043e\\u043f\\u043e\\u043b\\u044c\",\"marker\":{\"color\":\"#7F7F7F\",\"size\":[436.7],\"sizemode\":\"area\",\"sizeref\":31.26625,\"symbol\":\"circle\"},\"mode\":\"markers\",\"name\":\"\\u0421\\u0435\\u0432\\u0430\\u0441\\u0442\\u043e\\u043f\\u043e\\u043b\\u044c\",\"orientation\":\"v\",\"showlegend\":true,\"x\":[25.5],\"xaxis\":\"x\",\"y\":[27687.0],\"yaxis\":\"y\",\"type\":\"scatter\"},{\"hovertemplate\":\"<b>%{hovertext}</b><br><br>\\u0433\\u043e\\u0440\\u043e\\u0434=\\u041c\\u0430\\u0439\\u043a\\u043e\\u043f<br>mean_size_house=%{x}<br>mean_wage=%{y}<br>n_pop=%{marker.size}<extra></extra>\",\"hovertext\":[\"\\u041c\\u0430\\u0439\\u043a\\u043e\\u043f\"],\"legendgroup\":\"\\u041c\\u0430\\u0439\\u043a\\u043e\\u043f\",\"marker\":{\"color\":\"#BCBD22\",\"size\":[165.3],\"sizemode\":\"area\",\"sizeref\":31.26625,\"symbol\":\"circle\"},\"mode\":\"markers\",\"name\":\"\\u041c\\u0430\\u0439\\u043a\\u043e\\u043f\",\"orientation\":\"v\",\"showlegend\":true,\"x\":[28.6],\"xaxis\":\"x\",\"y\":[27481.1],\"yaxis\":\"y\",\"type\":\"scatter\"},{\"hovertemplate\":\"<b>%{hovertext}</b><br><br>\\u0433\\u043e\\u0440\\u043e\\u0434=\\u0427\\u0435\\u0440\\u043a\\u0435\\u0441\\u0441\\u043a<br>mean_size_house=%{x}<br>mean_wage=%{y}<br>n_pop=%{marker.size}<extra></extra>\",\"hovertext\":[\"\\u0427\\u0435\\u0440\\u043a\\u0435\\u0441\\u0441\\u043a\"],\"legendgroup\":\"\\u0427\\u0435\\u0440\\u043a\\u0435\\u0441\\u0441\\u043a\",\"marker\":{\"color\":\"#17BECF\",\"size\":[122.4],\"sizemode\":\"area\",\"sizeref\":31.26625,\"symbol\":\"circle\"},\"mode\":\"markers\",\"name\":\"\\u0427\\u0435\\u0440\\u043a\\u0435\\u0441\\u0441\\u043a\",\"orientation\":\"v\",\"showlegend\":true,\"x\":[24.4],\"xaxis\":\"x\",\"y\":[26960.8],\"yaxis\":\"y\",\"type\":\"scatter\"},{\"hovertemplate\":\"<b>%{hovertext}</b><br><br>\\u0433\\u043e\\u0440\\u043e\\u0434=\\u042d\\u043b\\u0438\\u0441\\u0442\\u0430<br>mean_size_house=%{x}<br>mean_wage=%{y}<br>n_pop=%{marker.size}<extra></extra>\",\"hovertext\":[\"\\u042d\\u043b\\u0438\\u0441\\u0442\\u0430\"],\"legendgroup\":\"\\u042d\\u043b\\u0438\\u0441\\u0442\\u0430\",\"marker\":{\"color\":\"#1F77B4\",\"size\":[103.1],\"sizemode\":\"area\",\"sizeref\":31.26625,\"symbol\":\"circle\"},\"mode\":\"markers\",\"name\":\"\\u042d\\u043b\\u0438\\u0441\\u0442\\u0430\",\"orientation\":\"v\",\"showlegend\":true,\"x\":[29.1],\"xaxis\":\"x\",\"y\":[26639.8],\"yaxis\":\"y\",\"type\":\"scatter\"},{\"hovertemplate\":\"<b>%{hovertext}</b><br><br>\\u0433\\u043e\\u0440\\u043e\\u0434=\\u041c\\u043e\\u0441\\u043a\\u0432\\u0430<br>mean_size_house=%{x}<br>mean_wage=%{y}<br>n_pop=%{marker.size}<extra></extra>\",\"hovertext\":[\"\\u041c\\u043e\\u0441\\u043a\\u0432\\u0430\"],\"legendgroup\":\"\\u041c\\u043e\\u0441\\u043a\\u0432\\u0430\",\"marker\":{\"color\":\"#FF7F0E\",\"size\":[12506.5],\"sizemode\":\"area\",\"sizeref\":31.26625,\"symbol\":\"circle\"},\"mode\":\"markers\",\"name\":\"\\u041c\\u043e\\u0441\\u043a\\u0432\\u0430\",\"orientation\":\"v\",\"showlegend\":true,\"x\":[19.3],\"xaxis\":\"x\",\"y\":[73812.0],\"yaxis\":\"y\",\"type\":\"scatter\"},{\"hovertemplate\":\"<b>%{hovertext}</b><br><br>\\u0433\\u043e\\u0440\\u043e\\u0434=\\u0421\\u0430\\u043d\\u043a\\u0442-\\u041f\\u0435\\u0442\\u0435\\u0440\\u0431\\u0443\\u0440\\u0433<br>mean_size_house=%{x}<br>mean_wage=%{y}<br>n_pop=%{marker.size}<extra></extra>\",\"hovertext\":[\"\\u0421\\u0430\\u043d\\u043a\\u0442-\\u041f\\u0435\\u0442\\u0435\\u0440\\u0431\\u0443\\u0440\\u0433\"],\"legendgroup\":\"\\u0421\\u0430\\u043d\\u043a\\u0442-\\u041f\\u0435\\u0442\\u0435\\u0440\\u0431\\u0443\\u0440\\u0433\",\"marker\":{\"color\":\"#2CA02C\",\"size\":[5351.9],\"sizemode\":\"area\",\"sizeref\":31.26625,\"symbol\":\"circle\"},\"mode\":\"markers\",\"name\":\"\\u0421\\u0430\\u043d\\u043a\\u0442-\\u041f\\u0435\\u0442\\u0435\\u0440\\u0431\\u0443\\u0440\\u0433\",\"orientation\":\"v\",\"showlegend\":true,\"x\":[24.9],\"xaxis\":\"x\",\"y\":[53740.0],\"yaxis\":\"y\",\"type\":\"scatter\"}],                        {\"template\":{\"data\":{\"barpolar\":[{\"marker\":{\"line\":{\"color\":\"white\",\"width\":0.5},\"pattern\":{\"fillmode\":\"overlay\",\"size\":10,\"solidity\":0.2}},\"type\":\"barpolar\"}],\"bar\":[{\"error_x\":{\"color\":\"rgb(36,36,36)\"},\"error_y\":{\"color\":\"rgb(36,36,36)\"},\"marker\":{\"line\":{\"color\":\"white\",\"width\":0.5},\"pattern\":{\"fillmode\":\"overlay\",\"size\":10,\"solidity\":0.2}},\"type\":\"bar\"}],\"carpet\":[{\"aaxis\":{\"endlinecolor\":\"rgb(36,36,36)\",\"gridcolor\":\"white\",\"linecolor\":\"white\",\"minorgridcolor\":\"white\",\"startlinecolor\":\"rgb(36,36,36)\"},\"baxis\":{\"endlinecolor\":\"rgb(36,36,36)\",\"gridcolor\":\"white\",\"linecolor\":\"white\",\"minorgridcolor\":\"white\",\"startlinecolor\":\"rgb(36,36,36)\"},\"type\":\"carpet\"}],\"choropleth\":[{\"colorbar\":{\"outlinewidth\":1,\"tickcolor\":\"rgb(36,36,36)\",\"ticks\":\"outside\"},\"type\":\"choropleth\"}],\"contourcarpet\":[{\"colorbar\":{\"outlinewidth\":1,\"tickcolor\":\"rgb(36,36,36)\",\"ticks\":\"outside\"},\"type\":\"contourcarpet\"}],\"contour\":[{\"colorbar\":{\"outlinewidth\":1,\"tickcolor\":\"rgb(36,36,36)\",\"ticks\":\"outside\"},\"colorscale\":[[0.0,\"#440154\"],[0.1111111111111111,\"#482878\"],[0.2222222222222222,\"#3e4989\"],[0.3333333333333333,\"#31688e\"],[0.4444444444444444,\"#26828e\"],[0.5555555555555556,\"#1f9e89\"],[0.6666666666666666,\"#35b779\"],[0.7777777777777778,\"#6ece58\"],[0.8888888888888888,\"#b5de2b\"],[1.0,\"#fde725\"]],\"type\":\"contour\"}],\"heatmapgl\":[{\"colorbar\":{\"outlinewidth\":1,\"tickcolor\":\"rgb(36,36,36)\",\"ticks\":\"outside\"},\"colorscale\":[[0.0,\"#440154\"],[0.1111111111111111,\"#482878\"],[0.2222222222222222,\"#3e4989\"],[0.3333333333333333,\"#31688e\"],[0.4444444444444444,\"#26828e\"],[0.5555555555555556,\"#1f9e89\"],[0.6666666666666666,\"#35b779\"],[0.7777777777777778,\"#6ece58\"],[0.8888888888888888,\"#b5de2b\"],[1.0,\"#fde725\"]],\"type\":\"heatmapgl\"}],\"heatmap\":[{\"colorbar\":{\"outlinewidth\":1,\"tickcolor\":\"rgb(36,36,36)\",\"ticks\":\"outside\"},\"colorscale\":[[0.0,\"#440154\"],[0.1111111111111111,\"#482878\"],[0.2222222222222222,\"#3e4989\"],[0.3333333333333333,\"#31688e\"],[0.4444444444444444,\"#26828e\"],[0.5555555555555556,\"#1f9e89\"],[0.6666666666666666,\"#35b779\"],[0.7777777777777778,\"#6ece58\"],[0.8888888888888888,\"#b5de2b\"],[1.0,\"#fde725\"]],\"type\":\"heatmap\"}],\"histogram2dcontour\":[{\"colorbar\":{\"outlinewidth\":1,\"tickcolor\":\"rgb(36,36,36)\",\"ticks\":\"outside\"},\"colorscale\":[[0.0,\"#440154\"],[0.1111111111111111,\"#482878\"],[0.2222222222222222,\"#3e4989\"],[0.3333333333333333,\"#31688e\"],[0.4444444444444444,\"#26828e\"],[0.5555555555555556,\"#1f9e89\"],[0.6666666666666666,\"#35b779\"],[0.7777777777777778,\"#6ece58\"],[0.8888888888888888,\"#b5de2b\"],[1.0,\"#fde725\"]],\"type\":\"histogram2dcontour\"}],\"histogram2d\":[{\"colorbar\":{\"outlinewidth\":1,\"tickcolor\":\"rgb(36,36,36)\",\"ticks\":\"outside\"},\"colorscale\":[[0.0,\"#440154\"],[0.1111111111111111,\"#482878\"],[0.2222222222222222,\"#3e4989\"],[0.3333333333333333,\"#31688e\"],[0.4444444444444444,\"#26828e\"],[0.5555555555555556,\"#1f9e89\"],[0.6666666666666666,\"#35b779\"],[0.7777777777777778,\"#6ece58\"],[0.8888888888888888,\"#b5de2b\"],[1.0,\"#fde725\"]],\"type\":\"histogram2d\"}],\"histogram\":[{\"marker\":{\"line\":{\"color\":\"white\",\"width\":0.6}},\"type\":\"histogram\"}],\"mesh3d\":[{\"colorbar\":{\"outlinewidth\":1,\"tickcolor\":\"rgb(36,36,36)\",\"ticks\":\"outside\"},\"type\":\"mesh3d\"}],\"parcoords\":[{\"line\":{\"colorbar\":{\"outlinewidth\":1,\"tickcolor\":\"rgb(36,36,36)\",\"ticks\":\"outside\"}},\"type\":\"parcoords\"}],\"pie\":[{\"automargin\":true,\"type\":\"pie\"}],\"scatter3d\":[{\"line\":{\"colorbar\":{\"outlinewidth\":1,\"tickcolor\":\"rgb(36,36,36)\",\"ticks\":\"outside\"}},\"marker\":{\"colorbar\":{\"outlinewidth\":1,\"tickcolor\":\"rgb(36,36,36)\",\"ticks\":\"outside\"}},\"type\":\"scatter3d\"}],\"scattercarpet\":[{\"marker\":{\"colorbar\":{\"outlinewidth\":1,\"tickcolor\":\"rgb(36,36,36)\",\"ticks\":\"outside\"}},\"type\":\"scattercarpet\"}],\"scattergeo\":[{\"marker\":{\"colorbar\":{\"outlinewidth\":1,\"tickcolor\":\"rgb(36,36,36)\",\"ticks\":\"outside\"}},\"type\":\"scattergeo\"}],\"scattergl\":[{\"marker\":{\"colorbar\":{\"outlinewidth\":1,\"tickcolor\":\"rgb(36,36,36)\",\"ticks\":\"outside\"}},\"type\":\"scattergl\"}],\"scattermapbox\":[{\"marker\":{\"colorbar\":{\"outlinewidth\":1,\"tickcolor\":\"rgb(36,36,36)\",\"ticks\":\"outside\"}},\"type\":\"scattermapbox\"}],\"scatterpolargl\":[{\"marker\":{\"colorbar\":{\"outlinewidth\":1,\"tickcolor\":\"rgb(36,36,36)\",\"ticks\":\"outside\"}},\"type\":\"scatterpolargl\"}],\"scatterpolar\":[{\"marker\":{\"colorbar\":{\"outlinewidth\":1,\"tickcolor\":\"rgb(36,36,36)\",\"ticks\":\"outside\"}},\"type\":\"scatterpolar\"}],\"scatter\":[{\"fillpattern\":{\"fillmode\":\"overlay\",\"size\":10,\"solidity\":0.2},\"type\":\"scatter\"}],\"scatterternary\":[{\"marker\":{\"colorbar\":{\"outlinewidth\":1,\"tickcolor\":\"rgb(36,36,36)\",\"ticks\":\"outside\"}},\"type\":\"scatterternary\"}],\"surface\":[{\"colorbar\":{\"outlinewidth\":1,\"tickcolor\":\"rgb(36,36,36)\",\"ticks\":\"outside\"},\"colorscale\":[[0.0,\"#440154\"],[0.1111111111111111,\"#482878\"],[0.2222222222222222,\"#3e4989\"],[0.3333333333333333,\"#31688e\"],[0.4444444444444444,\"#26828e\"],[0.5555555555555556,\"#1f9e89\"],[0.6666666666666666,\"#35b779\"],[0.7777777777777778,\"#6ece58\"],[0.8888888888888888,\"#b5de2b\"],[1.0,\"#fde725\"]],\"type\":\"surface\"}],\"table\":[{\"cells\":{\"fill\":{\"color\":\"rgb(237,237,237)\"},\"line\":{\"color\":\"white\"}},\"header\":{\"fill\":{\"color\":\"rgb(217,217,217)\"},\"line\":{\"color\":\"white\"}},\"type\":\"table\"}]},\"layout\":{\"annotationdefaults\":{\"arrowhead\":0,\"arrowwidth\":1},\"autotypenumbers\":\"strict\",\"coloraxis\":{\"colorbar\":{\"outlinewidth\":1,\"tickcolor\":\"rgb(36,36,36)\",\"ticks\":\"outside\"}},\"colorscale\":{\"diverging\":[[0.0,\"rgb(103,0,31)\"],[0.1,\"rgb(178,24,43)\"],[0.2,\"rgb(214,96,77)\"],[0.3,\"rgb(244,165,130)\"],[0.4,\"rgb(253,219,199)\"],[0.5,\"rgb(247,247,247)\"],[0.6,\"rgb(209,229,240)\"],[0.7,\"rgb(146,197,222)\"],[0.8,\"rgb(67,147,195)\"],[0.9,\"rgb(33,102,172)\"],[1.0,\"rgb(5,48,97)\"]],\"sequential\":[[0.0,\"#440154\"],[0.1111111111111111,\"#482878\"],[0.2222222222222222,\"#3e4989\"],[0.3333333333333333,\"#31688e\"],[0.4444444444444444,\"#26828e\"],[0.5555555555555556,\"#1f9e89\"],[0.6666666666666666,\"#35b779\"],[0.7777777777777778,\"#6ece58\"],[0.8888888888888888,\"#b5de2b\"],[1.0,\"#fde725\"]],\"sequentialminus\":[[0.0,\"#440154\"],[0.1111111111111111,\"#482878\"],[0.2222222222222222,\"#3e4989\"],[0.3333333333333333,\"#31688e\"],[0.4444444444444444,\"#26828e\"],[0.5555555555555556,\"#1f9e89\"],[0.6666666666666666,\"#35b779\"],[0.7777777777777778,\"#6ece58\"],[0.8888888888888888,\"#b5de2b\"],[1.0,\"#fde725\"]]},\"colorway\":[\"#1F77B4\",\"#FF7F0E\",\"#2CA02C\",\"#D62728\",\"#9467BD\",\"#8C564B\",\"#E377C2\",\"#7F7F7F\",\"#BCBD22\",\"#17BECF\"],\"font\":{\"color\":\"rgb(36,36,36)\"},\"geo\":{\"bgcolor\":\"white\",\"lakecolor\":\"white\",\"landcolor\":\"white\",\"showlakes\":true,\"showland\":true,\"subunitcolor\":\"white\"},\"hoverlabel\":{\"align\":\"left\"},\"hovermode\":\"closest\",\"mapbox\":{\"style\":\"light\"},\"paper_bgcolor\":\"white\",\"plot_bgcolor\":\"white\",\"polar\":{\"angularaxis\":{\"gridcolor\":\"rgb(232,232,232)\",\"linecolor\":\"rgb(36,36,36)\",\"showgrid\":false,\"showline\":true,\"ticks\":\"outside\"},\"bgcolor\":\"white\",\"radialaxis\":{\"gridcolor\":\"rgb(232,232,232)\",\"linecolor\":\"rgb(36,36,36)\",\"showgrid\":false,\"showline\":true,\"ticks\":\"outside\"}},\"scene\":{\"xaxis\":{\"backgroundcolor\":\"white\",\"gridcolor\":\"rgb(232,232,232)\",\"gridwidth\":2,\"linecolor\":\"rgb(36,36,36)\",\"showbackground\":true,\"showgrid\":false,\"showline\":true,\"ticks\":\"outside\",\"zeroline\":false,\"zerolinecolor\":\"rgb(36,36,36)\"},\"yaxis\":{\"backgroundcolor\":\"white\",\"gridcolor\":\"rgb(232,232,232)\",\"gridwidth\":2,\"linecolor\":\"rgb(36,36,36)\",\"showbackground\":true,\"showgrid\":false,\"showline\":true,\"ticks\":\"outside\",\"zeroline\":false,\"zerolinecolor\":\"rgb(36,36,36)\"},\"zaxis\":{\"backgroundcolor\":\"white\",\"gridcolor\":\"rgb(232,232,232)\",\"gridwidth\":2,\"linecolor\":\"rgb(36,36,36)\",\"showbackground\":true,\"showgrid\":false,\"showline\":true,\"ticks\":\"outside\",\"zeroline\":false,\"zerolinecolor\":\"rgb(36,36,36)\"}},\"shapedefaults\":{\"fillcolor\":\"black\",\"line\":{\"width\":0},\"opacity\":0.3},\"ternary\":{\"aaxis\":{\"gridcolor\":\"rgb(232,232,232)\",\"linecolor\":\"rgb(36,36,36)\",\"showgrid\":false,\"showline\":true,\"ticks\":\"outside\"},\"baxis\":{\"gridcolor\":\"rgb(232,232,232)\",\"linecolor\":\"rgb(36,36,36)\",\"showgrid\":false,\"showline\":true,\"ticks\":\"outside\"},\"bgcolor\":\"white\",\"caxis\":{\"gridcolor\":\"rgb(232,232,232)\",\"linecolor\":\"rgb(36,36,36)\",\"showgrid\":false,\"showline\":true,\"ticks\":\"outside\"}},\"title\":{\"x\":0.05},\"xaxis\":{\"automargin\":true,\"gridcolor\":\"rgb(232,232,232)\",\"linecolor\":\"rgb(36,36,36)\",\"showgrid\":false,\"showline\":true,\"ticks\":\"outside\",\"title\":{\"standoff\":15},\"zeroline\":false,\"zerolinecolor\":\"rgb(36,36,36)\"},\"yaxis\":{\"automargin\":true,\"gridcolor\":\"rgb(232,232,232)\",\"linecolor\":\"rgb(36,36,36)\",\"showgrid\":false,\"showline\":true,\"ticks\":\"outside\",\"title\":{\"standoff\":15},\"zeroline\":false,\"zerolinecolor\":\"rgb(36,36,36)\"}}},\"xaxis\":{\"anchor\":\"y\",\"domain\":[0.0,1.0],\"title\":{\"text\":\"mean_size_house\"}},\"yaxis\":{\"anchor\":\"x\",\"domain\":[0.0,1.0],\"title\":{\"text\":\"mean_wage\"}},\"legend\":{\"title\":{\"text\":\"\\u0433\\u043e\\u0440\\u043e\\u0434\"},\"tracegroupgap\":0,\"itemsizing\":\"constant\"},\"margin\":{\"t\":60},\"showlegend\":false},                        {\"responsive\": true}                    ).then(function(){\n",
       "                            \n",
       "var gd = document.getElementById('edbefff5-fc7b-4a47-9992-ca5b71909cfd');\n",
       "var x = new MutationObserver(function (mutations, observer) {{\n",
       "        var display = window.getComputedStyle(gd).display;\n",
       "        if (!display || display === 'none') {{\n",
       "            console.log([gd, 'removed!']);\n",
       "            Plotly.purge(gd);\n",
       "            observer.disconnect();\n",
       "        }}\n",
       "}});\n",
       "\n",
       "// Listen for the removal of the full notebook cells\n",
       "var notebookContainer = gd.closest('#notebook-container');\n",
       "if (notebookContainer) {{\n",
       "    x.observe(notebookContainer, {childList: true});\n",
       "}}\n",
       "\n",
       "// Listen for the clearing of the current output cell\n",
       "var outputEl = gd.closest('.output');\n",
       "if (outputEl) {{\n",
       "    x.observe(outputEl, {childList: true});\n",
       "}}\n",
       "\n",
       "                        })                };                });            </script>        </div>"
      ]
     },
     "metadata": {},
     "output_type": "display_data"
    }
   ],
   "source": [
    "fig=px.scatter(df, x='mean_size_house', y='mean_wage', template='simple_white',\n",
    "          hover_name='город', color='город', size='n_pop')\n",
    "fig.update_layout(showlegend=False)"
   ]
  },
  {
   "cell_type": "code",
   "execution_count": 15,
   "id": "1095b397",
   "metadata": {},
   "outputs": [
    {
     "data": {
      "application/vnd.plotly.v1+json": {
       "config": {
        "plotlyServerURL": "https://plot.ly"
       },
       "data": [
        {
         "hovertemplate": "<b>%{hovertext}</b><br><br>mean_size_house=%{x}<br>mean_wage=%{y}<br>n_pop=%{marker.color}<extra></extra>",
         "hovertext": [
          "Анадырь",
          "Салехард",
          "Южно-Сахалинск",
          "Магадан",
          "Петропавловск-Камчатский",
          "Ханты-Мансийск",
          "Нарьян-Мар",
          "Якутск",
          "Мурманск",
          "Тюмень",
          "Хабаровск",
          "Владивосток",
          "Екатеринбург",
          "Иркутск",
          "Архангельск",
          "Красноярск",
          "Сыктывкар",
          "Томск",
          "Нижний Новгород",
          "Уфа",
          "Чита",
          "Краснодар",
          "Новосибирск",
          "Благовещенск",
          "Кызыл",
          "Пермь",
          "Петрозаводск",
          "Абакан",
          "Казань",
          "Ростов-на-Дону",
          "Калуга",
          "Кемерово",
          "Самара",
          "Тула",
          "Калининград",
          "Челябинск",
          "Биробиджан",
          "Ярославль",
          "Великий Новгород",
          "Улан-Удэ",
          "Магас",
          "Оренбург",
          "Липецк",
          "Тверь",
          "Вологда",
          "Рязань",
          "Омск",
          "Воронеж",
          "Астрахань",
          "Ижевск",
          "Горно-Алтайск",
          "Волгоград ",
          "Белгород",
          "Ставрополь",
          "Симферополь",
          "Владимир",
          "Киров",
          "Ульяновск",
          "Саратов",
          "Смоленск",
          "Курган",
          "Пенза",
          "Йошкар-Ола",
          "Барнаул",
          "Брянск",
          "Псков",
          "Чебоксары",
          "Грозный",
          "Кострома",
          "Курск",
          "Орел",
          "Иваново",
          "Тамбов",
          "Махачкала",
          "Саранск",
          "Владикавказ",
          "Нальчик",
          "Севастополь",
          "Майкоп",
          "Черкесск",
          "Элиста",
          "Москва",
          "Санкт-Петербург"
         ],
         "legendgroup": "",
         "marker": {
          "color": [
           15.6,
           49.5,
           199,
           99.7,
           181.2,
           98.5,
           24.8,
           311.8,
           295.4,
           768.4,
           618.2,
           633.1,
           1501.7,
           623.9,
           356.9,
           1091.6,
           260.8,
           595.2,
           1267.5,
           1120.5,
           349,
           990.2,
           1612.8,
           230.4,
           117,
           1051.6,
           279.2,
           184.2,
           1243.5,
           1130.3,
           340.9,
           559,
           1163.4,
           550,
           475.1,
           1202.4,
           73.6,
           608.7,
           222.9,
           434.8,
           8.7,
           579.8,
           509.7,
           420.1,
           312.4,
           539,
           1172,
           1047.5,
           533.9,
           648.2,
           63.2,
           1013.5,
           391.6,
           434.1,
           341.8,
           359.5,
           533.2,
           649.4,
           844.9,
           330,
           318,
           523.6,
           279.3,
           696.4,
           424,
           210.5,
           502.9,
           297.1,
           277.3,
           448.7,
           315.3,
           406.1,
           293.7,
           726.7,
           348.4,
           306.3,
           265.3,
           436.7,
           165.3,
           122.4,
           103.1,
           12506.5,
           5351.9
          ],
          "coloraxis": "coloraxis",
          "size": [
           15.6,
           49.5,
           199,
           99.7,
           181.2,
           98.5,
           24.8,
           311.8,
           295.4,
           768.4,
           618.2,
           633.1,
           1501.7,
           623.9,
           356.9,
           1091.6,
           260.8,
           595.2,
           1267.5,
           1120.5,
           349,
           990.2,
           1612.8,
           230.4,
           117,
           1051.6,
           279.2,
           184.2,
           1243.5,
           1130.3,
           340.9,
           559,
           1163.4,
           550,
           475.1,
           1202.4,
           73.6,
           608.7,
           222.9,
           434.8,
           8.7,
           579.8,
           509.7,
           420.1,
           312.4,
           539,
           1172,
           1047.5,
           533.9,
           648.2,
           63.2,
           1013.5,
           391.6,
           434.1,
           341.8,
           359.5,
           533.2,
           649.4,
           844.9,
           330,
           318,
           523.6,
           279.3,
           696.4,
           424,
           210.5,
           502.9,
           297.1,
           277.3,
           448.7,
           315.3,
           406.1,
           293.7,
           726.7,
           348.4,
           306.3,
           265.3,
           436.7,
           165.3,
           122.4,
           103.1,
           12506.5,
           5351.9
          ],
          "sizemode": "area",
          "sizeref": 7.8165625,
          "symbol": "circle"
         },
         "mode": "markers",
         "name": "",
         "orientation": "v",
         "showlegend": false,
         "type": "scatter",
         "x": [
          18.4,
          24.1,
          23.3,
          24.9,
          25.2,
          25.3,
          24.9,
          19.1,
          23.8,
          29.3,
          23,
          21.9,
          25,
          27.7,
          23.3,
          24.1,
          23.7,
          23.1,
          24.8,
          23.6,
          21,
          34.2,
          25.1,
          25.2,
          15.4,
          23.5,
          25.4,
          24.1,
          25.3,
          26.9,
          25.3,
          23.2,
          28.1,
          28.6,
          28.7,
          25.4,
          23,
          24.1,
          25,
          20.1,
          67.3,
          24.7,
          27.1,
          26.2,
          26.6,
          26.6,
          24.1,
          28.1,
          24.8,
          21.1,
          23.6,
          23.9,
          24.8,
          29.6,
          12.1,
          25.6,
          24.3,
          26,
          28.9,
          27.1,
          25.4,
          28.7,
          25.5,
          23.9,
          29.2,
          25.3,
          23.4,
          26.7,
          25.4,
          27.1,
          29.1,
          24.3,
          26.6,
          17.5,
          23.7,
          35.3,
          20,
          25.5,
          28.6,
          24.4,
          29.1,
          19.3,
          24.9
         ],
         "xaxis": "x",
         "y": [
          107061.8,
          95496,
          88147.74,
          79539.3,
          76525.4,
          72093.6,
          70421.9,
          64801.3,
          61261.6,
          53830.5,
          52986.9,
          51830.5,
          47265.6,
          46980,
          45097.7,
          44384.3,
          44181.4,
          43410.8,
          42469.5,
          42312.8,
          42204.2,
          42028.7,
          41884,
          41808.1,
          41383,
          41325.9,
          41234.4,
          41203.1,
          41020.8,
          40556.7,
          39653.2,
          39317.8,
          39298.9,
          39180.2,
          38686,
          38228.1,
          37587.3,
          37533.7,
          36640.1,
          36536.7,
          36523.2,
          36516.2,
          36194.5,
          36097,
          36072.3,
          36024.7,
          35602,
          35202.3,
          35179,
          35011.6,
          33956.9,
          33718.9,
          33566.7,
          33290.1,
          33279.7,
          33213.1,
          32720.3,
          32555.7,
          32504.7,
          31462,
          31201.4,
          31129.7,
          31100.1,
          31013.5,
          30540.9,
          30539.1,
          30510.3,
          30455,
          30365.5,
          29746.8,
          29583.6,
          29496.4,
          28931.7,
          28610.2,
          28210.8,
          28184.3,
          27958.3,
          27687,
          27481.1,
          26960.8,
          26639.8,
          73812,
          53740
         ],
         "yaxis": "y"
        }
       ],
       "layout": {
        "coloraxis": {
         "colorbar": {
          "title": {
           "text": "n_pop"
          }
         },
         "colorscale": [
          [
           0,
           "#440154"
          ],
          [
           0.1111111111111111,
           "#482878"
          ],
          [
           0.2222222222222222,
           "#3e4989"
          ],
          [
           0.3333333333333333,
           "#31688e"
          ],
          [
           0.4444444444444444,
           "#26828e"
          ],
          [
           0.5555555555555556,
           "#1f9e89"
          ],
          [
           0.6666666666666666,
           "#35b779"
          ],
          [
           0.7777777777777778,
           "#6ece58"
          ],
          [
           0.8888888888888888,
           "#b5de2b"
          ],
          [
           1,
           "#fde725"
          ]
         ]
        },
        "legend": {
         "itemsizing": "constant",
         "tracegroupgap": 0
        },
        "margin": {
         "t": 60
        },
        "showlegend": false,
        "template": {
         "data": {
          "bar": [
           {
            "error_x": {
             "color": "rgb(36,36,36)"
            },
            "error_y": {
             "color": "rgb(36,36,36)"
            },
            "marker": {
             "line": {
              "color": "white",
              "width": 0.5
             },
             "pattern": {
              "fillmode": "overlay",
              "size": 10,
              "solidity": 0.2
             }
            },
            "type": "bar"
           }
          ],
          "barpolar": [
           {
            "marker": {
             "line": {
              "color": "white",
              "width": 0.5
             },
             "pattern": {
              "fillmode": "overlay",
              "size": 10,
              "solidity": 0.2
             }
            },
            "type": "barpolar"
           }
          ],
          "carpet": [
           {
            "aaxis": {
             "endlinecolor": "rgb(36,36,36)",
             "gridcolor": "white",
             "linecolor": "white",
             "minorgridcolor": "white",
             "startlinecolor": "rgb(36,36,36)"
            },
            "baxis": {
             "endlinecolor": "rgb(36,36,36)",
             "gridcolor": "white",
             "linecolor": "white",
             "minorgridcolor": "white",
             "startlinecolor": "rgb(36,36,36)"
            },
            "type": "carpet"
           }
          ],
          "choropleth": [
           {
            "colorbar": {
             "outlinewidth": 1,
             "tickcolor": "rgb(36,36,36)",
             "ticks": "outside"
            },
            "type": "choropleth"
           }
          ],
          "contour": [
           {
            "colorbar": {
             "outlinewidth": 1,
             "tickcolor": "rgb(36,36,36)",
             "ticks": "outside"
            },
            "colorscale": [
             [
              0,
              "#440154"
             ],
             [
              0.1111111111111111,
              "#482878"
             ],
             [
              0.2222222222222222,
              "#3e4989"
             ],
             [
              0.3333333333333333,
              "#31688e"
             ],
             [
              0.4444444444444444,
              "#26828e"
             ],
             [
              0.5555555555555556,
              "#1f9e89"
             ],
             [
              0.6666666666666666,
              "#35b779"
             ],
             [
              0.7777777777777778,
              "#6ece58"
             ],
             [
              0.8888888888888888,
              "#b5de2b"
             ],
             [
              1,
              "#fde725"
             ]
            ],
            "type": "contour"
           }
          ],
          "contourcarpet": [
           {
            "colorbar": {
             "outlinewidth": 1,
             "tickcolor": "rgb(36,36,36)",
             "ticks": "outside"
            },
            "type": "contourcarpet"
           }
          ],
          "heatmap": [
           {
            "colorbar": {
             "outlinewidth": 1,
             "tickcolor": "rgb(36,36,36)",
             "ticks": "outside"
            },
            "colorscale": [
             [
              0,
              "#440154"
             ],
             [
              0.1111111111111111,
              "#482878"
             ],
             [
              0.2222222222222222,
              "#3e4989"
             ],
             [
              0.3333333333333333,
              "#31688e"
             ],
             [
              0.4444444444444444,
              "#26828e"
             ],
             [
              0.5555555555555556,
              "#1f9e89"
             ],
             [
              0.6666666666666666,
              "#35b779"
             ],
             [
              0.7777777777777778,
              "#6ece58"
             ],
             [
              0.8888888888888888,
              "#b5de2b"
             ],
             [
              1,
              "#fde725"
             ]
            ],
            "type": "heatmap"
           }
          ],
          "heatmapgl": [
           {
            "colorbar": {
             "outlinewidth": 1,
             "tickcolor": "rgb(36,36,36)",
             "ticks": "outside"
            },
            "colorscale": [
             [
              0,
              "#440154"
             ],
             [
              0.1111111111111111,
              "#482878"
             ],
             [
              0.2222222222222222,
              "#3e4989"
             ],
             [
              0.3333333333333333,
              "#31688e"
             ],
             [
              0.4444444444444444,
              "#26828e"
             ],
             [
              0.5555555555555556,
              "#1f9e89"
             ],
             [
              0.6666666666666666,
              "#35b779"
             ],
             [
              0.7777777777777778,
              "#6ece58"
             ],
             [
              0.8888888888888888,
              "#b5de2b"
             ],
             [
              1,
              "#fde725"
             ]
            ],
            "type": "heatmapgl"
           }
          ],
          "histogram": [
           {
            "marker": {
             "line": {
              "color": "white",
              "width": 0.6
             }
            },
            "type": "histogram"
           }
          ],
          "histogram2d": [
           {
            "colorbar": {
             "outlinewidth": 1,
             "tickcolor": "rgb(36,36,36)",
             "ticks": "outside"
            },
            "colorscale": [
             [
              0,
              "#440154"
             ],
             [
              0.1111111111111111,
              "#482878"
             ],
             [
              0.2222222222222222,
              "#3e4989"
             ],
             [
              0.3333333333333333,
              "#31688e"
             ],
             [
              0.4444444444444444,
              "#26828e"
             ],
             [
              0.5555555555555556,
              "#1f9e89"
             ],
             [
              0.6666666666666666,
              "#35b779"
             ],
             [
              0.7777777777777778,
              "#6ece58"
             ],
             [
              0.8888888888888888,
              "#b5de2b"
             ],
             [
              1,
              "#fde725"
             ]
            ],
            "type": "histogram2d"
           }
          ],
          "histogram2dcontour": [
           {
            "colorbar": {
             "outlinewidth": 1,
             "tickcolor": "rgb(36,36,36)",
             "ticks": "outside"
            },
            "colorscale": [
             [
              0,
              "#440154"
             ],
             [
              0.1111111111111111,
              "#482878"
             ],
             [
              0.2222222222222222,
              "#3e4989"
             ],
             [
              0.3333333333333333,
              "#31688e"
             ],
             [
              0.4444444444444444,
              "#26828e"
             ],
             [
              0.5555555555555556,
              "#1f9e89"
             ],
             [
              0.6666666666666666,
              "#35b779"
             ],
             [
              0.7777777777777778,
              "#6ece58"
             ],
             [
              0.8888888888888888,
              "#b5de2b"
             ],
             [
              1,
              "#fde725"
             ]
            ],
            "type": "histogram2dcontour"
           }
          ],
          "mesh3d": [
           {
            "colorbar": {
             "outlinewidth": 1,
             "tickcolor": "rgb(36,36,36)",
             "ticks": "outside"
            },
            "type": "mesh3d"
           }
          ],
          "parcoords": [
           {
            "line": {
             "colorbar": {
              "outlinewidth": 1,
              "tickcolor": "rgb(36,36,36)",
              "ticks": "outside"
             }
            },
            "type": "parcoords"
           }
          ],
          "pie": [
           {
            "automargin": true,
            "type": "pie"
           }
          ],
          "scatter": [
           {
            "fillpattern": {
             "fillmode": "overlay",
             "size": 10,
             "solidity": 0.2
            },
            "type": "scatter"
           }
          ],
          "scatter3d": [
           {
            "line": {
             "colorbar": {
              "outlinewidth": 1,
              "tickcolor": "rgb(36,36,36)",
              "ticks": "outside"
             }
            },
            "marker": {
             "colorbar": {
              "outlinewidth": 1,
              "tickcolor": "rgb(36,36,36)",
              "ticks": "outside"
             }
            },
            "type": "scatter3d"
           }
          ],
          "scattercarpet": [
           {
            "marker": {
             "colorbar": {
              "outlinewidth": 1,
              "tickcolor": "rgb(36,36,36)",
              "ticks": "outside"
             }
            },
            "type": "scattercarpet"
           }
          ],
          "scattergeo": [
           {
            "marker": {
             "colorbar": {
              "outlinewidth": 1,
              "tickcolor": "rgb(36,36,36)",
              "ticks": "outside"
             }
            },
            "type": "scattergeo"
           }
          ],
          "scattergl": [
           {
            "marker": {
             "colorbar": {
              "outlinewidth": 1,
              "tickcolor": "rgb(36,36,36)",
              "ticks": "outside"
             }
            },
            "type": "scattergl"
           }
          ],
          "scattermapbox": [
           {
            "marker": {
             "colorbar": {
              "outlinewidth": 1,
              "tickcolor": "rgb(36,36,36)",
              "ticks": "outside"
             }
            },
            "type": "scattermapbox"
           }
          ],
          "scatterpolar": [
           {
            "marker": {
             "colorbar": {
              "outlinewidth": 1,
              "tickcolor": "rgb(36,36,36)",
              "ticks": "outside"
             }
            },
            "type": "scatterpolar"
           }
          ],
          "scatterpolargl": [
           {
            "marker": {
             "colorbar": {
              "outlinewidth": 1,
              "tickcolor": "rgb(36,36,36)",
              "ticks": "outside"
             }
            },
            "type": "scatterpolargl"
           }
          ],
          "scatterternary": [
           {
            "marker": {
             "colorbar": {
              "outlinewidth": 1,
              "tickcolor": "rgb(36,36,36)",
              "ticks": "outside"
             }
            },
            "type": "scatterternary"
           }
          ],
          "surface": [
           {
            "colorbar": {
             "outlinewidth": 1,
             "tickcolor": "rgb(36,36,36)",
             "ticks": "outside"
            },
            "colorscale": [
             [
              0,
              "#440154"
             ],
             [
              0.1111111111111111,
              "#482878"
             ],
             [
              0.2222222222222222,
              "#3e4989"
             ],
             [
              0.3333333333333333,
              "#31688e"
             ],
             [
              0.4444444444444444,
              "#26828e"
             ],
             [
              0.5555555555555556,
              "#1f9e89"
             ],
             [
              0.6666666666666666,
              "#35b779"
             ],
             [
              0.7777777777777778,
              "#6ece58"
             ],
             [
              0.8888888888888888,
              "#b5de2b"
             ],
             [
              1,
              "#fde725"
             ]
            ],
            "type": "surface"
           }
          ],
          "table": [
           {
            "cells": {
             "fill": {
              "color": "rgb(237,237,237)"
             },
             "line": {
              "color": "white"
             }
            },
            "header": {
             "fill": {
              "color": "rgb(217,217,217)"
             },
             "line": {
              "color": "white"
             }
            },
            "type": "table"
           }
          ]
         },
         "layout": {
          "annotationdefaults": {
           "arrowhead": 0,
           "arrowwidth": 1
          },
          "autotypenumbers": "strict",
          "coloraxis": {
           "colorbar": {
            "outlinewidth": 1,
            "tickcolor": "rgb(36,36,36)",
            "ticks": "outside"
           }
          },
          "colorscale": {
           "diverging": [
            [
             0,
             "rgb(103,0,31)"
            ],
            [
             0.1,
             "rgb(178,24,43)"
            ],
            [
             0.2,
             "rgb(214,96,77)"
            ],
            [
             0.3,
             "rgb(244,165,130)"
            ],
            [
             0.4,
             "rgb(253,219,199)"
            ],
            [
             0.5,
             "rgb(247,247,247)"
            ],
            [
             0.6,
             "rgb(209,229,240)"
            ],
            [
             0.7,
             "rgb(146,197,222)"
            ],
            [
             0.8,
             "rgb(67,147,195)"
            ],
            [
             0.9,
             "rgb(33,102,172)"
            ],
            [
             1,
             "rgb(5,48,97)"
            ]
           ],
           "sequential": [
            [
             0,
             "#440154"
            ],
            [
             0.1111111111111111,
             "#482878"
            ],
            [
             0.2222222222222222,
             "#3e4989"
            ],
            [
             0.3333333333333333,
             "#31688e"
            ],
            [
             0.4444444444444444,
             "#26828e"
            ],
            [
             0.5555555555555556,
             "#1f9e89"
            ],
            [
             0.6666666666666666,
             "#35b779"
            ],
            [
             0.7777777777777778,
             "#6ece58"
            ],
            [
             0.8888888888888888,
             "#b5de2b"
            ],
            [
             1,
             "#fde725"
            ]
           ],
           "sequentialminus": [
            [
             0,
             "#440154"
            ],
            [
             0.1111111111111111,
             "#482878"
            ],
            [
             0.2222222222222222,
             "#3e4989"
            ],
            [
             0.3333333333333333,
             "#31688e"
            ],
            [
             0.4444444444444444,
             "#26828e"
            ],
            [
             0.5555555555555556,
             "#1f9e89"
            ],
            [
             0.6666666666666666,
             "#35b779"
            ],
            [
             0.7777777777777778,
             "#6ece58"
            ],
            [
             0.8888888888888888,
             "#b5de2b"
            ],
            [
             1,
             "#fde725"
            ]
           ]
          },
          "colorway": [
           "#1F77B4",
           "#FF7F0E",
           "#2CA02C",
           "#D62728",
           "#9467BD",
           "#8C564B",
           "#E377C2",
           "#7F7F7F",
           "#BCBD22",
           "#17BECF"
          ],
          "font": {
           "color": "rgb(36,36,36)"
          },
          "geo": {
           "bgcolor": "white",
           "lakecolor": "white",
           "landcolor": "white",
           "showlakes": true,
           "showland": true,
           "subunitcolor": "white"
          },
          "hoverlabel": {
           "align": "left"
          },
          "hovermode": "closest",
          "mapbox": {
           "style": "light"
          },
          "paper_bgcolor": "white",
          "plot_bgcolor": "white",
          "polar": {
           "angularaxis": {
            "gridcolor": "rgb(232,232,232)",
            "linecolor": "rgb(36,36,36)",
            "showgrid": false,
            "showline": true,
            "ticks": "outside"
           },
           "bgcolor": "white",
           "radialaxis": {
            "gridcolor": "rgb(232,232,232)",
            "linecolor": "rgb(36,36,36)",
            "showgrid": false,
            "showline": true,
            "ticks": "outside"
           }
          },
          "scene": {
           "xaxis": {
            "backgroundcolor": "white",
            "gridcolor": "rgb(232,232,232)",
            "gridwidth": 2,
            "linecolor": "rgb(36,36,36)",
            "showbackground": true,
            "showgrid": false,
            "showline": true,
            "ticks": "outside",
            "zeroline": false,
            "zerolinecolor": "rgb(36,36,36)"
           },
           "yaxis": {
            "backgroundcolor": "white",
            "gridcolor": "rgb(232,232,232)",
            "gridwidth": 2,
            "linecolor": "rgb(36,36,36)",
            "showbackground": true,
            "showgrid": false,
            "showline": true,
            "ticks": "outside",
            "zeroline": false,
            "zerolinecolor": "rgb(36,36,36)"
           },
           "zaxis": {
            "backgroundcolor": "white",
            "gridcolor": "rgb(232,232,232)",
            "gridwidth": 2,
            "linecolor": "rgb(36,36,36)",
            "showbackground": true,
            "showgrid": false,
            "showline": true,
            "ticks": "outside",
            "zeroline": false,
            "zerolinecolor": "rgb(36,36,36)"
           }
          },
          "shapedefaults": {
           "fillcolor": "black",
           "line": {
            "width": 0
           },
           "opacity": 0.3
          },
          "ternary": {
           "aaxis": {
            "gridcolor": "rgb(232,232,232)",
            "linecolor": "rgb(36,36,36)",
            "showgrid": false,
            "showline": true,
            "ticks": "outside"
           },
           "baxis": {
            "gridcolor": "rgb(232,232,232)",
            "linecolor": "rgb(36,36,36)",
            "showgrid": false,
            "showline": true,
            "ticks": "outside"
           },
           "bgcolor": "white",
           "caxis": {
            "gridcolor": "rgb(232,232,232)",
            "linecolor": "rgb(36,36,36)",
            "showgrid": false,
            "showline": true,
            "ticks": "outside"
           }
          },
          "title": {
           "x": 0.05
          },
          "xaxis": {
           "automargin": true,
           "gridcolor": "rgb(232,232,232)",
           "linecolor": "rgb(36,36,36)",
           "showgrid": false,
           "showline": true,
           "ticks": "outside",
           "title": {
            "standoff": 15
           },
           "zeroline": false,
           "zerolinecolor": "rgb(36,36,36)"
          },
          "yaxis": {
           "automargin": true,
           "gridcolor": "rgb(232,232,232)",
           "linecolor": "rgb(36,36,36)",
           "showgrid": false,
           "showline": true,
           "ticks": "outside",
           "title": {
            "standoff": 15
           },
           "zeroline": false,
           "zerolinecolor": "rgb(36,36,36)"
          }
         }
        },
        "xaxis": {
         "anchor": "y",
         "domain": [
          0,
          1
         ],
         "title": {
          "text": "mean_size_house"
         }
        },
        "yaxis": {
         "anchor": "x",
         "domain": [
          0,
          1
         ],
         "title": {
          "text": "mean_wage"
         }
        }
       }
      },
      "text/html": [
       "<div>                            <div id=\"1188d672-316d-4e65-bc77-f4fe1202d24c\" class=\"plotly-graph-div\" style=\"height:525px; width:100%;\"></div>            <script type=\"text/javascript\">                require([\"plotly\"], function(Plotly) {                    window.PLOTLYENV=window.PLOTLYENV || {};                                    if (document.getElementById(\"1188d672-316d-4e65-bc77-f4fe1202d24c\")) {                    Plotly.newPlot(                        \"1188d672-316d-4e65-bc77-f4fe1202d24c\",                        [{\"hovertemplate\":\"<b>%{hovertext}</b><br><br>mean_size_house=%{x}<br>mean_wage=%{y}<br>n_pop=%{marker.color}<extra></extra>\",\"hovertext\":[\"\\u0410\\u043d\\u0430\\u0434\\u044b\\u0440\\u044c\",\"\\u0421\\u0430\\u043b\\u0435\\u0445\\u0430\\u0440\\u0434\",\"\\u042e\\u0436\\u043d\\u043e-\\u0421\\u0430\\u0445\\u0430\\u043b\\u0438\\u043d\\u0441\\u043a\",\"\\u041c\\u0430\\u0433\\u0430\\u0434\\u0430\\u043d\",\"\\u041f\\u0435\\u0442\\u0440\\u043e\\u043f\\u0430\\u0432\\u043b\\u043e\\u0432\\u0441\\u043a-\\u041a\\u0430\\u043c\\u0447\\u0430\\u0442\\u0441\\u043a\\u0438\\u0439\",\"\\u0425\\u0430\\u043d\\u0442\\u044b-\\u041c\\u0430\\u043d\\u0441\\u0438\\u0439\\u0441\\u043a\",\"\\u041d\\u0430\\u0440\\u044c\\u044f\\u043d-\\u041c\\u0430\\u0440\",\"\\u042f\\u043a\\u0443\\u0442\\u0441\\u043a\",\"\\u041c\\u0443\\u0440\\u043c\\u0430\\u043d\\u0441\\u043a\",\"\\u0422\\u044e\\u043c\\u0435\\u043d\\u044c\",\"\\u0425\\u0430\\u0431\\u0430\\u0440\\u043e\\u0432\\u0441\\u043a\",\"\\u0412\\u043b\\u0430\\u0434\\u0438\\u0432\\u043e\\u0441\\u0442\\u043e\\u043a\",\"\\u0415\\u043a\\u0430\\u0442\\u0435\\u0440\\u0438\\u043d\\u0431\\u0443\\u0440\\u0433\",\"\\u0418\\u0440\\u043a\\u0443\\u0442\\u0441\\u043a\",\"\\u0410\\u0440\\u0445\\u0430\\u043d\\u0433\\u0435\\u043b\\u044c\\u0441\\u043a\",\"\\u041a\\u0440\\u0430\\u0441\\u043d\\u043e\\u044f\\u0440\\u0441\\u043a\",\"\\u0421\\u044b\\u043a\\u0442\\u044b\\u0432\\u043a\\u0430\\u0440\",\"\\u0422\\u043e\\u043c\\u0441\\u043a\",\"\\u041d\\u0438\\u0436\\u043d\\u0438\\u0439 \\u041d\\u043e\\u0432\\u0433\\u043e\\u0440\\u043e\\u0434\",\"\\u0423\\u0444\\u0430\",\"\\u0427\\u0438\\u0442\\u0430\",\"\\u041a\\u0440\\u0430\\u0441\\u043d\\u043e\\u0434\\u0430\\u0440\",\"\\u041d\\u043e\\u0432\\u043e\\u0441\\u0438\\u0431\\u0438\\u0440\\u0441\\u043a\",\"\\u0411\\u043b\\u0430\\u0433\\u043e\\u0432\\u0435\\u0449\\u0435\\u043d\\u0441\\u043a\",\"\\u041a\\u044b\\u0437\\u044b\\u043b\",\"\\u041f\\u0435\\u0440\\u043c\\u044c\",\"\\u041f\\u0435\\u0442\\u0440\\u043e\\u0437\\u0430\\u0432\\u043e\\u0434\\u0441\\u043a\",\"\\u0410\\u0431\\u0430\\u043a\\u0430\\u043d\",\"\\u041a\\u0430\\u0437\\u0430\\u043d\\u044c\",\"\\u0420\\u043e\\u0441\\u0442\\u043e\\u0432-\\u043d\\u0430-\\u0414\\u043e\\u043d\\u0443\",\"\\u041a\\u0430\\u043b\\u0443\\u0433\\u0430\",\"\\u041a\\u0435\\u043c\\u0435\\u0440\\u043e\\u0432\\u043e\",\"\\u0421\\u0430\\u043c\\u0430\\u0440\\u0430\",\"\\u0422\\u0443\\u043b\\u0430\",\"\\u041a\\u0430\\u043b\\u0438\\u043d\\u0438\\u043d\\u0433\\u0440\\u0430\\u0434\",\"\\u0427\\u0435\\u043b\\u044f\\u0431\\u0438\\u043d\\u0441\\u043a\",\"\\u0411\\u0438\\u0440\\u043e\\u0431\\u0438\\u0434\\u0436\\u0430\\u043d\",\"\\u042f\\u0440\\u043e\\u0441\\u043b\\u0430\\u0432\\u043b\\u044c\",\"\\u0412\\u0435\\u043b\\u0438\\u043a\\u0438\\u0439 \\u041d\\u043e\\u0432\\u0433\\u043e\\u0440\\u043e\\u0434\",\"\\u0423\\u043b\\u0430\\u043d-\\u0423\\u0434\\u044d\",\"\\u041c\\u0430\\u0433\\u0430\\u0441\",\"\\u041e\\u0440\\u0435\\u043d\\u0431\\u0443\\u0440\\u0433\",\"\\u041b\\u0438\\u043f\\u0435\\u0446\\u043a\",\"\\u0422\\u0432\\u0435\\u0440\\u044c\",\"\\u0412\\u043e\\u043b\\u043e\\u0433\\u0434\\u0430\",\"\\u0420\\u044f\\u0437\\u0430\\u043d\\u044c\",\"\\u041e\\u043c\\u0441\\u043a\",\"\\u0412\\u043e\\u0440\\u043e\\u043d\\u0435\\u0436\",\"\\u0410\\u0441\\u0442\\u0440\\u0430\\u0445\\u0430\\u043d\\u044c\",\"\\u0418\\u0436\\u0435\\u0432\\u0441\\u043a\",\"\\u0413\\u043e\\u0440\\u043d\\u043e-\\u0410\\u043b\\u0442\\u0430\\u0439\\u0441\\u043a\",\"\\u0412\\u043e\\u043b\\u0433\\u043e\\u0433\\u0440\\u0430\\u0434 \",\"\\u0411\\u0435\\u043b\\u0433\\u043e\\u0440\\u043e\\u0434\",\"\\u0421\\u0442\\u0430\\u0432\\u0440\\u043e\\u043f\\u043e\\u043b\\u044c\",\"\\u0421\\u0438\\u043c\\u0444\\u0435\\u0440\\u043e\\u043f\\u043e\\u043b\\u044c\",\"\\u0412\\u043b\\u0430\\u0434\\u0438\\u043c\\u0438\\u0440\",\"\\u041a\\u0438\\u0440\\u043e\\u0432\",\"\\u0423\\u043b\\u044c\\u044f\\u043d\\u043e\\u0432\\u0441\\u043a\",\"\\u0421\\u0430\\u0440\\u0430\\u0442\\u043e\\u0432\",\"\\u0421\\u043c\\u043e\\u043b\\u0435\\u043d\\u0441\\u043a\",\"\\u041a\\u0443\\u0440\\u0433\\u0430\\u043d\",\"\\u041f\\u0435\\u043d\\u0437\\u0430\",\"\\u0419\\u043e\\u0448\\u043a\\u0430\\u0440-\\u041e\\u043b\\u0430\",\"\\u0411\\u0430\\u0440\\u043d\\u0430\\u0443\\u043b\",\"\\u0411\\u0440\\u044f\\u043d\\u0441\\u043a\",\"\\u041f\\u0441\\u043a\\u043e\\u0432\",\"\\u0427\\u0435\\u0431\\u043e\\u043a\\u0441\\u0430\\u0440\\u044b\",\"\\u0413\\u0440\\u043e\\u0437\\u043d\\u044b\\u0439\",\"\\u041a\\u043e\\u0441\\u0442\\u0440\\u043e\\u043c\\u0430\",\"\\u041a\\u0443\\u0440\\u0441\\u043a\",\"\\u041e\\u0440\\u0435\\u043b\",\"\\u0418\\u0432\\u0430\\u043d\\u043e\\u0432\\u043e\",\"\\u0422\\u0430\\u043c\\u0431\\u043e\\u0432\",\"\\u041c\\u0430\\u0445\\u0430\\u0447\\u043a\\u0430\\u043b\\u0430\",\"\\u0421\\u0430\\u0440\\u0430\\u043d\\u0441\\u043a\",\"\\u0412\\u043b\\u0430\\u0434\\u0438\\u043a\\u0430\\u0432\\u043a\\u0430\\u0437\",\"\\u041d\\u0430\\u043b\\u044c\\u0447\\u0438\\u043a\",\"\\u0421\\u0435\\u0432\\u0430\\u0441\\u0442\\u043e\\u043f\\u043e\\u043b\\u044c\",\"\\u041c\\u0430\\u0439\\u043a\\u043e\\u043f\",\"\\u0427\\u0435\\u0440\\u043a\\u0435\\u0441\\u0441\\u043a\",\"\\u042d\\u043b\\u0438\\u0441\\u0442\\u0430\",\"\\u041c\\u043e\\u0441\\u043a\\u0432\\u0430\",\"\\u0421\\u0430\\u043d\\u043a\\u0442-\\u041f\\u0435\\u0442\\u0435\\u0440\\u0431\\u0443\\u0440\\u0433\"],\"legendgroup\":\"\",\"marker\":{\"color\":[15.6,49.5,199.0,99.7,181.2,98.5,24.8,311.8,295.4,768.4,618.2,633.1,1501.7,623.9,356.9,1091.6,260.8,595.2,1267.5,1120.5,349.0,990.2,1612.8,230.4,117.0,1051.6,279.2,184.2,1243.5,1130.3,340.9,559.0,1163.4,550.0,475.1,1202.4,73.6,608.7,222.9,434.8,8.7,579.8,509.7,420.1,312.4,539.0,1172.0,1047.5,533.9,648.2,63.2,1013.5,391.6,434.1,341.8,359.5,533.2,649.4,844.9,330.0,318.0,523.6,279.3,696.4,424.0,210.5,502.9,297.1,277.3,448.7,315.3,406.1,293.7,726.7,348.4,306.3,265.3,436.7,165.3,122.4,103.1,12506.5,5351.9],\"coloraxis\":\"coloraxis\",\"size\":[15.6,49.5,199.0,99.7,181.2,98.5,24.8,311.8,295.4,768.4,618.2,633.1,1501.7,623.9,356.9,1091.6,260.8,595.2,1267.5,1120.5,349.0,990.2,1612.8,230.4,117.0,1051.6,279.2,184.2,1243.5,1130.3,340.9,559.0,1163.4,550.0,475.1,1202.4,73.6,608.7,222.9,434.8,8.7,579.8,509.7,420.1,312.4,539.0,1172.0,1047.5,533.9,648.2,63.2,1013.5,391.6,434.1,341.8,359.5,533.2,649.4,844.9,330.0,318.0,523.6,279.3,696.4,424.0,210.5,502.9,297.1,277.3,448.7,315.3,406.1,293.7,726.7,348.4,306.3,265.3,436.7,165.3,122.4,103.1,12506.5,5351.9],\"sizemode\":\"area\",\"sizeref\":7.8165625,\"symbol\":\"circle\"},\"mode\":\"markers\",\"name\":\"\",\"orientation\":\"v\",\"showlegend\":false,\"x\":[18.4,24.1,23.3,24.9,25.2,25.3,24.9,19.1,23.8,29.3,23.0,21.9,25.0,27.7,23.3,24.1,23.7,23.1,24.8,23.6,21.0,34.2,25.1,25.2,15.4,23.5,25.4,24.1,25.3,26.9,25.3,23.2,28.1,28.6,28.7,25.4,23.0,24.1,25.0,20.1,67.3,24.7,27.1,26.2,26.6,26.6,24.1,28.1,24.8,21.1,23.6,23.9,24.8,29.6,12.1,25.6,24.3,26.0,28.9,27.1,25.4,28.7,25.5,23.9,29.2,25.3,23.4,26.7,25.4,27.1,29.1,24.3,26.6,17.5,23.7,35.3,20.0,25.5,28.6,24.4,29.1,19.3,24.9],\"xaxis\":\"x\",\"y\":[107061.8,95496.0,88147.74,79539.3,76525.4,72093.6,70421.9,64801.3,61261.6,53830.5,52986.9,51830.5,47265.6,46980.0,45097.7,44384.3,44181.4,43410.8,42469.5,42312.8,42204.2,42028.7,41884.0,41808.1,41383.0,41325.9,41234.4,41203.1,41020.8,40556.7,39653.2,39317.8,39298.9,39180.2,38686.0,38228.1,37587.3,37533.7,36640.1,36536.7,36523.2,36516.2,36194.5,36097.0,36072.3,36024.7,35602.0,35202.3,35179.0,35011.6,33956.9,33718.9,33566.7,33290.1,33279.7,33213.1,32720.3,32555.7,32504.7,31462.0,31201.4,31129.7,31100.1,31013.5,30540.9,30539.1,30510.3,30455.0,30365.5,29746.8,29583.6,29496.4,28931.7,28610.2,28210.8,28184.3,27958.3,27687.0,27481.1,26960.8,26639.8,73812.0,53740.0],\"yaxis\":\"y\",\"type\":\"scatter\"}],                        {\"template\":{\"data\":{\"barpolar\":[{\"marker\":{\"line\":{\"color\":\"white\",\"width\":0.5},\"pattern\":{\"fillmode\":\"overlay\",\"size\":10,\"solidity\":0.2}},\"type\":\"barpolar\"}],\"bar\":[{\"error_x\":{\"color\":\"rgb(36,36,36)\"},\"error_y\":{\"color\":\"rgb(36,36,36)\"},\"marker\":{\"line\":{\"color\":\"white\",\"width\":0.5},\"pattern\":{\"fillmode\":\"overlay\",\"size\":10,\"solidity\":0.2}},\"type\":\"bar\"}],\"carpet\":[{\"aaxis\":{\"endlinecolor\":\"rgb(36,36,36)\",\"gridcolor\":\"white\",\"linecolor\":\"white\",\"minorgridcolor\":\"white\",\"startlinecolor\":\"rgb(36,36,36)\"},\"baxis\":{\"endlinecolor\":\"rgb(36,36,36)\",\"gridcolor\":\"white\",\"linecolor\":\"white\",\"minorgridcolor\":\"white\",\"startlinecolor\":\"rgb(36,36,36)\"},\"type\":\"carpet\"}],\"choropleth\":[{\"colorbar\":{\"outlinewidth\":1,\"tickcolor\":\"rgb(36,36,36)\",\"ticks\":\"outside\"},\"type\":\"choropleth\"}],\"contourcarpet\":[{\"colorbar\":{\"outlinewidth\":1,\"tickcolor\":\"rgb(36,36,36)\",\"ticks\":\"outside\"},\"type\":\"contourcarpet\"}],\"contour\":[{\"colorbar\":{\"outlinewidth\":1,\"tickcolor\":\"rgb(36,36,36)\",\"ticks\":\"outside\"},\"colorscale\":[[0.0,\"#440154\"],[0.1111111111111111,\"#482878\"],[0.2222222222222222,\"#3e4989\"],[0.3333333333333333,\"#31688e\"],[0.4444444444444444,\"#26828e\"],[0.5555555555555556,\"#1f9e89\"],[0.6666666666666666,\"#35b779\"],[0.7777777777777778,\"#6ece58\"],[0.8888888888888888,\"#b5de2b\"],[1.0,\"#fde725\"]],\"type\":\"contour\"}],\"heatmapgl\":[{\"colorbar\":{\"outlinewidth\":1,\"tickcolor\":\"rgb(36,36,36)\",\"ticks\":\"outside\"},\"colorscale\":[[0.0,\"#440154\"],[0.1111111111111111,\"#482878\"],[0.2222222222222222,\"#3e4989\"],[0.3333333333333333,\"#31688e\"],[0.4444444444444444,\"#26828e\"],[0.5555555555555556,\"#1f9e89\"],[0.6666666666666666,\"#35b779\"],[0.7777777777777778,\"#6ece58\"],[0.8888888888888888,\"#b5de2b\"],[1.0,\"#fde725\"]],\"type\":\"heatmapgl\"}],\"heatmap\":[{\"colorbar\":{\"outlinewidth\":1,\"tickcolor\":\"rgb(36,36,36)\",\"ticks\":\"outside\"},\"colorscale\":[[0.0,\"#440154\"],[0.1111111111111111,\"#482878\"],[0.2222222222222222,\"#3e4989\"],[0.3333333333333333,\"#31688e\"],[0.4444444444444444,\"#26828e\"],[0.5555555555555556,\"#1f9e89\"],[0.6666666666666666,\"#35b779\"],[0.7777777777777778,\"#6ece58\"],[0.8888888888888888,\"#b5de2b\"],[1.0,\"#fde725\"]],\"type\":\"heatmap\"}],\"histogram2dcontour\":[{\"colorbar\":{\"outlinewidth\":1,\"tickcolor\":\"rgb(36,36,36)\",\"ticks\":\"outside\"},\"colorscale\":[[0.0,\"#440154\"],[0.1111111111111111,\"#482878\"],[0.2222222222222222,\"#3e4989\"],[0.3333333333333333,\"#31688e\"],[0.4444444444444444,\"#26828e\"],[0.5555555555555556,\"#1f9e89\"],[0.6666666666666666,\"#35b779\"],[0.7777777777777778,\"#6ece58\"],[0.8888888888888888,\"#b5de2b\"],[1.0,\"#fde725\"]],\"type\":\"histogram2dcontour\"}],\"histogram2d\":[{\"colorbar\":{\"outlinewidth\":1,\"tickcolor\":\"rgb(36,36,36)\",\"ticks\":\"outside\"},\"colorscale\":[[0.0,\"#440154\"],[0.1111111111111111,\"#482878\"],[0.2222222222222222,\"#3e4989\"],[0.3333333333333333,\"#31688e\"],[0.4444444444444444,\"#26828e\"],[0.5555555555555556,\"#1f9e89\"],[0.6666666666666666,\"#35b779\"],[0.7777777777777778,\"#6ece58\"],[0.8888888888888888,\"#b5de2b\"],[1.0,\"#fde725\"]],\"type\":\"histogram2d\"}],\"histogram\":[{\"marker\":{\"line\":{\"color\":\"white\",\"width\":0.6}},\"type\":\"histogram\"}],\"mesh3d\":[{\"colorbar\":{\"outlinewidth\":1,\"tickcolor\":\"rgb(36,36,36)\",\"ticks\":\"outside\"},\"type\":\"mesh3d\"}],\"parcoords\":[{\"line\":{\"colorbar\":{\"outlinewidth\":1,\"tickcolor\":\"rgb(36,36,36)\",\"ticks\":\"outside\"}},\"type\":\"parcoords\"}],\"pie\":[{\"automargin\":true,\"type\":\"pie\"}],\"scatter3d\":[{\"line\":{\"colorbar\":{\"outlinewidth\":1,\"tickcolor\":\"rgb(36,36,36)\",\"ticks\":\"outside\"}},\"marker\":{\"colorbar\":{\"outlinewidth\":1,\"tickcolor\":\"rgb(36,36,36)\",\"ticks\":\"outside\"}},\"type\":\"scatter3d\"}],\"scattercarpet\":[{\"marker\":{\"colorbar\":{\"outlinewidth\":1,\"tickcolor\":\"rgb(36,36,36)\",\"ticks\":\"outside\"}},\"type\":\"scattercarpet\"}],\"scattergeo\":[{\"marker\":{\"colorbar\":{\"outlinewidth\":1,\"tickcolor\":\"rgb(36,36,36)\",\"ticks\":\"outside\"}},\"type\":\"scattergeo\"}],\"scattergl\":[{\"marker\":{\"colorbar\":{\"outlinewidth\":1,\"tickcolor\":\"rgb(36,36,36)\",\"ticks\":\"outside\"}},\"type\":\"scattergl\"}],\"scattermapbox\":[{\"marker\":{\"colorbar\":{\"outlinewidth\":1,\"tickcolor\":\"rgb(36,36,36)\",\"ticks\":\"outside\"}},\"type\":\"scattermapbox\"}],\"scatterpolargl\":[{\"marker\":{\"colorbar\":{\"outlinewidth\":1,\"tickcolor\":\"rgb(36,36,36)\",\"ticks\":\"outside\"}},\"type\":\"scatterpolargl\"}],\"scatterpolar\":[{\"marker\":{\"colorbar\":{\"outlinewidth\":1,\"tickcolor\":\"rgb(36,36,36)\",\"ticks\":\"outside\"}},\"type\":\"scatterpolar\"}],\"scatter\":[{\"fillpattern\":{\"fillmode\":\"overlay\",\"size\":10,\"solidity\":0.2},\"type\":\"scatter\"}],\"scatterternary\":[{\"marker\":{\"colorbar\":{\"outlinewidth\":1,\"tickcolor\":\"rgb(36,36,36)\",\"ticks\":\"outside\"}},\"type\":\"scatterternary\"}],\"surface\":[{\"colorbar\":{\"outlinewidth\":1,\"tickcolor\":\"rgb(36,36,36)\",\"ticks\":\"outside\"},\"colorscale\":[[0.0,\"#440154\"],[0.1111111111111111,\"#482878\"],[0.2222222222222222,\"#3e4989\"],[0.3333333333333333,\"#31688e\"],[0.4444444444444444,\"#26828e\"],[0.5555555555555556,\"#1f9e89\"],[0.6666666666666666,\"#35b779\"],[0.7777777777777778,\"#6ece58\"],[0.8888888888888888,\"#b5de2b\"],[1.0,\"#fde725\"]],\"type\":\"surface\"}],\"table\":[{\"cells\":{\"fill\":{\"color\":\"rgb(237,237,237)\"},\"line\":{\"color\":\"white\"}},\"header\":{\"fill\":{\"color\":\"rgb(217,217,217)\"},\"line\":{\"color\":\"white\"}},\"type\":\"table\"}]},\"layout\":{\"annotationdefaults\":{\"arrowhead\":0,\"arrowwidth\":1},\"autotypenumbers\":\"strict\",\"coloraxis\":{\"colorbar\":{\"outlinewidth\":1,\"tickcolor\":\"rgb(36,36,36)\",\"ticks\":\"outside\"}},\"colorscale\":{\"diverging\":[[0.0,\"rgb(103,0,31)\"],[0.1,\"rgb(178,24,43)\"],[0.2,\"rgb(214,96,77)\"],[0.3,\"rgb(244,165,130)\"],[0.4,\"rgb(253,219,199)\"],[0.5,\"rgb(247,247,247)\"],[0.6,\"rgb(209,229,240)\"],[0.7,\"rgb(146,197,222)\"],[0.8,\"rgb(67,147,195)\"],[0.9,\"rgb(33,102,172)\"],[1.0,\"rgb(5,48,97)\"]],\"sequential\":[[0.0,\"#440154\"],[0.1111111111111111,\"#482878\"],[0.2222222222222222,\"#3e4989\"],[0.3333333333333333,\"#31688e\"],[0.4444444444444444,\"#26828e\"],[0.5555555555555556,\"#1f9e89\"],[0.6666666666666666,\"#35b779\"],[0.7777777777777778,\"#6ece58\"],[0.8888888888888888,\"#b5de2b\"],[1.0,\"#fde725\"]],\"sequentialminus\":[[0.0,\"#440154\"],[0.1111111111111111,\"#482878\"],[0.2222222222222222,\"#3e4989\"],[0.3333333333333333,\"#31688e\"],[0.4444444444444444,\"#26828e\"],[0.5555555555555556,\"#1f9e89\"],[0.6666666666666666,\"#35b779\"],[0.7777777777777778,\"#6ece58\"],[0.8888888888888888,\"#b5de2b\"],[1.0,\"#fde725\"]]},\"colorway\":[\"#1F77B4\",\"#FF7F0E\",\"#2CA02C\",\"#D62728\",\"#9467BD\",\"#8C564B\",\"#E377C2\",\"#7F7F7F\",\"#BCBD22\",\"#17BECF\"],\"font\":{\"color\":\"rgb(36,36,36)\"},\"geo\":{\"bgcolor\":\"white\",\"lakecolor\":\"white\",\"landcolor\":\"white\",\"showlakes\":true,\"showland\":true,\"subunitcolor\":\"white\"},\"hoverlabel\":{\"align\":\"left\"},\"hovermode\":\"closest\",\"mapbox\":{\"style\":\"light\"},\"paper_bgcolor\":\"white\",\"plot_bgcolor\":\"white\",\"polar\":{\"angularaxis\":{\"gridcolor\":\"rgb(232,232,232)\",\"linecolor\":\"rgb(36,36,36)\",\"showgrid\":false,\"showline\":true,\"ticks\":\"outside\"},\"bgcolor\":\"white\",\"radialaxis\":{\"gridcolor\":\"rgb(232,232,232)\",\"linecolor\":\"rgb(36,36,36)\",\"showgrid\":false,\"showline\":true,\"ticks\":\"outside\"}},\"scene\":{\"xaxis\":{\"backgroundcolor\":\"white\",\"gridcolor\":\"rgb(232,232,232)\",\"gridwidth\":2,\"linecolor\":\"rgb(36,36,36)\",\"showbackground\":true,\"showgrid\":false,\"showline\":true,\"ticks\":\"outside\",\"zeroline\":false,\"zerolinecolor\":\"rgb(36,36,36)\"},\"yaxis\":{\"backgroundcolor\":\"white\",\"gridcolor\":\"rgb(232,232,232)\",\"gridwidth\":2,\"linecolor\":\"rgb(36,36,36)\",\"showbackground\":true,\"showgrid\":false,\"showline\":true,\"ticks\":\"outside\",\"zeroline\":false,\"zerolinecolor\":\"rgb(36,36,36)\"},\"zaxis\":{\"backgroundcolor\":\"white\",\"gridcolor\":\"rgb(232,232,232)\",\"gridwidth\":2,\"linecolor\":\"rgb(36,36,36)\",\"showbackground\":true,\"showgrid\":false,\"showline\":true,\"ticks\":\"outside\",\"zeroline\":false,\"zerolinecolor\":\"rgb(36,36,36)\"}},\"shapedefaults\":{\"fillcolor\":\"black\",\"line\":{\"width\":0},\"opacity\":0.3},\"ternary\":{\"aaxis\":{\"gridcolor\":\"rgb(232,232,232)\",\"linecolor\":\"rgb(36,36,36)\",\"showgrid\":false,\"showline\":true,\"ticks\":\"outside\"},\"baxis\":{\"gridcolor\":\"rgb(232,232,232)\",\"linecolor\":\"rgb(36,36,36)\",\"showgrid\":false,\"showline\":true,\"ticks\":\"outside\"},\"bgcolor\":\"white\",\"caxis\":{\"gridcolor\":\"rgb(232,232,232)\",\"linecolor\":\"rgb(36,36,36)\",\"showgrid\":false,\"showline\":true,\"ticks\":\"outside\"}},\"title\":{\"x\":0.05},\"xaxis\":{\"automargin\":true,\"gridcolor\":\"rgb(232,232,232)\",\"linecolor\":\"rgb(36,36,36)\",\"showgrid\":false,\"showline\":true,\"ticks\":\"outside\",\"title\":{\"standoff\":15},\"zeroline\":false,\"zerolinecolor\":\"rgb(36,36,36)\"},\"yaxis\":{\"automargin\":true,\"gridcolor\":\"rgb(232,232,232)\",\"linecolor\":\"rgb(36,36,36)\",\"showgrid\":false,\"showline\":true,\"ticks\":\"outside\",\"title\":{\"standoff\":15},\"zeroline\":false,\"zerolinecolor\":\"rgb(36,36,36)\"}}},\"xaxis\":{\"anchor\":\"y\",\"domain\":[0.0,1.0],\"title\":{\"text\":\"mean_size_house\"}},\"yaxis\":{\"anchor\":\"x\",\"domain\":[0.0,1.0],\"title\":{\"text\":\"mean_wage\"}},\"coloraxis\":{\"colorbar\":{\"title\":{\"text\":\"n_pop\"}},\"colorscale\":[[0.0,\"#440154\"],[0.1111111111111111,\"#482878\"],[0.2222222222222222,\"#3e4989\"],[0.3333333333333333,\"#31688e\"],[0.4444444444444444,\"#26828e\"],[0.5555555555555556,\"#1f9e89\"],[0.6666666666666666,\"#35b779\"],[0.7777777777777778,\"#6ece58\"],[0.8888888888888888,\"#b5de2b\"],[1.0,\"#fde725\"]]},\"legend\":{\"tracegroupgap\":0,\"itemsizing\":\"constant\"},\"margin\":{\"t\":60},\"showlegend\":false},                        {\"responsive\": true}                    ).then(function(){\n",
       "                            \n",
       "var gd = document.getElementById('1188d672-316d-4e65-bc77-f4fe1202d24c');\n",
       "var x = new MutationObserver(function (mutations, observer) {{\n",
       "        var display = window.getComputedStyle(gd).display;\n",
       "        if (!display || display === 'none') {{\n",
       "            console.log([gd, 'removed!']);\n",
       "            Plotly.purge(gd);\n",
       "            observer.disconnect();\n",
       "        }}\n",
       "}});\n",
       "\n",
       "// Listen for the removal of the full notebook cells\n",
       "var notebookContainer = gd.closest('#notebook-container');\n",
       "if (notebookContainer) {{\n",
       "    x.observe(notebookContainer, {childList: true});\n",
       "}}\n",
       "\n",
       "// Listen for the clearing of the current output cell\n",
       "var outputEl = gd.closest('.output');\n",
       "if (outputEl) {{\n",
       "    x.observe(outputEl, {childList: true});\n",
       "}}\n",
       "\n",
       "                        })                };                });            </script>        </div>"
      ]
     },
     "metadata": {},
     "output_type": "display_data"
    }
   ],
   "source": [
    "fig=px.scatter(df, x='mean_size_house', y='mean_wage', template='simple_white',\n",
    "          hover_name='город', color='n_pop', size='n_pop', size_max=40)\n",
    "fig.update_layout(showlegend=False)"
   ]
  },
  {
   "cell_type": "code",
   "execution_count": 16,
   "id": "03538b67",
   "metadata": {},
   "outputs": [
    {
     "data": {
      "application/vnd.plotly.v1+json": {
       "config": {
        "plotlyServerURL": "https://plot.ly"
       },
       "data": [
        {
         "hovertemplate": "<b>%{hovertext}</b><br><br>mean_size_house=%{x}<br>mean_wage=%{y}<br>n_pop=%{marker.color}<extra></extra>",
         "hovertext": [
          "Анадырь",
          "Салехард",
          "Южно-Сахалинск",
          "Магадан",
          "Петропавловск-Камчатский",
          "Ханты-Мансийск",
          "Нарьян-Мар",
          "Якутск",
          "Мурманск",
          "Тюмень",
          "Хабаровск",
          "Владивосток",
          "Екатеринбург",
          "Иркутск",
          "Архангельск",
          "Красноярск",
          "Сыктывкар",
          "Томск",
          "Нижний Новгород",
          "Уфа",
          "Чита",
          "Краснодар",
          "Новосибирск",
          "Благовещенск",
          "Кызыл",
          "Пермь",
          "Петрозаводск",
          "Абакан",
          "Казань",
          "Ростов-на-Дону",
          "Калуга",
          "Кемерово",
          "Самара",
          "Тула",
          "Калининград",
          "Челябинск",
          "Биробиджан",
          "Ярославль",
          "Великий Новгород",
          "Улан-Удэ"
         ],
         "legendgroup": "",
         "marker": {
          "color": [
           15.6,
           49.5,
           199,
           99.7,
           181.2,
           98.5,
           24.8,
           311.8,
           295.4,
           768.4,
           618.2,
           633.1,
           1501.7,
           623.9,
           356.9,
           1091.6,
           260.8,
           595.2,
           1267.5,
           1120.5,
           349,
           990.2,
           1612.8,
           230.4,
           117,
           1051.6,
           279.2,
           184.2,
           1243.5,
           1130.3,
           340.9,
           559,
           1163.4,
           550,
           475.1,
           1202.4,
           73.6,
           608.7,
           222.9,
           434.8
          ],
          "coloraxis": "coloraxis",
          "size": [
           15.6,
           49.5,
           199,
           99.7,
           181.2,
           98.5,
           24.8,
           311.8,
           295.4,
           768.4,
           618.2,
           633.1,
           1501.7,
           623.9,
           356.9,
           1091.6,
           260.8,
           595.2,
           1267.5,
           1120.5,
           349,
           990.2,
           1612.8,
           230.4,
           117,
           1051.6,
           279.2,
           184.2,
           1243.5,
           1130.3,
           340.9,
           559,
           1163.4,
           550,
           475.1,
           1202.4,
           73.6,
           608.7,
           222.9,
           434.8
          ],
          "sizemode": "area",
          "sizeref": 1.008,
          "symbol": "circle"
         },
         "mode": "markers",
         "name": "",
         "orientation": "v",
         "showlegend": false,
         "type": "scatter",
         "x": [
          18.4,
          24.1,
          23.3,
          24.9,
          25.2,
          25.3,
          24.9,
          19.1,
          23.8,
          29.3,
          23,
          21.9,
          25,
          27.7,
          23.3,
          24.1,
          23.7,
          23.1,
          24.8,
          23.6,
          21,
          34.2,
          25.1,
          25.2,
          15.4,
          23.5,
          25.4,
          24.1,
          25.3,
          26.9,
          25.3,
          23.2,
          28.1,
          28.6,
          28.7,
          25.4,
          23,
          24.1,
          25,
          20.1
         ],
         "xaxis": "x",
         "y": [
          107061.8,
          95496,
          88147.74,
          79539.3,
          76525.4,
          72093.6,
          70421.9,
          64801.3,
          61261.6,
          53830.5,
          52986.9,
          51830.5,
          47265.6,
          46980,
          45097.7,
          44384.3,
          44181.4,
          43410.8,
          42469.5,
          42312.8,
          42204.2,
          42028.7,
          41884,
          41808.1,
          41383,
          41325.9,
          41234.4,
          41203.1,
          41020.8,
          40556.7,
          39653.2,
          39317.8,
          39298.9,
          39180.2,
          38686,
          38228.1,
          37587.3,
          37533.7,
          36640.1,
          36536.7
         ],
         "yaxis": "y"
        }
       ],
       "layout": {
        "coloraxis": {
         "colorbar": {
          "title": {
           "text": "n_pop"
          }
         },
         "colorscale": [
          [
           0,
           "#440154"
          ],
          [
           0.1111111111111111,
           "#482878"
          ],
          [
           0.2222222222222222,
           "#3e4989"
          ],
          [
           0.3333333333333333,
           "#31688e"
          ],
          [
           0.4444444444444444,
           "#26828e"
          ],
          [
           0.5555555555555556,
           "#1f9e89"
          ],
          [
           0.6666666666666666,
           "#35b779"
          ],
          [
           0.7777777777777778,
           "#6ece58"
          ],
          [
           0.8888888888888888,
           "#b5de2b"
          ],
          [
           1,
           "#fde725"
          ]
         ]
        },
        "legend": {
         "itemsizing": "constant",
         "tracegroupgap": 0
        },
        "margin": {
         "t": 60
        },
        "showlegend": false,
        "template": {
         "data": {
          "bar": [
           {
            "error_x": {
             "color": "rgb(36,36,36)"
            },
            "error_y": {
             "color": "rgb(36,36,36)"
            },
            "marker": {
             "line": {
              "color": "white",
              "width": 0.5
             },
             "pattern": {
              "fillmode": "overlay",
              "size": 10,
              "solidity": 0.2
             }
            },
            "type": "bar"
           }
          ],
          "barpolar": [
           {
            "marker": {
             "line": {
              "color": "white",
              "width": 0.5
             },
             "pattern": {
              "fillmode": "overlay",
              "size": 10,
              "solidity": 0.2
             }
            },
            "type": "barpolar"
           }
          ],
          "carpet": [
           {
            "aaxis": {
             "endlinecolor": "rgb(36,36,36)",
             "gridcolor": "white",
             "linecolor": "white",
             "minorgridcolor": "white",
             "startlinecolor": "rgb(36,36,36)"
            },
            "baxis": {
             "endlinecolor": "rgb(36,36,36)",
             "gridcolor": "white",
             "linecolor": "white",
             "minorgridcolor": "white",
             "startlinecolor": "rgb(36,36,36)"
            },
            "type": "carpet"
           }
          ],
          "choropleth": [
           {
            "colorbar": {
             "outlinewidth": 1,
             "tickcolor": "rgb(36,36,36)",
             "ticks": "outside"
            },
            "type": "choropleth"
           }
          ],
          "contour": [
           {
            "colorbar": {
             "outlinewidth": 1,
             "tickcolor": "rgb(36,36,36)",
             "ticks": "outside"
            },
            "colorscale": [
             [
              0,
              "#440154"
             ],
             [
              0.1111111111111111,
              "#482878"
             ],
             [
              0.2222222222222222,
              "#3e4989"
             ],
             [
              0.3333333333333333,
              "#31688e"
             ],
             [
              0.4444444444444444,
              "#26828e"
             ],
             [
              0.5555555555555556,
              "#1f9e89"
             ],
             [
              0.6666666666666666,
              "#35b779"
             ],
             [
              0.7777777777777778,
              "#6ece58"
             ],
             [
              0.8888888888888888,
              "#b5de2b"
             ],
             [
              1,
              "#fde725"
             ]
            ],
            "type": "contour"
           }
          ],
          "contourcarpet": [
           {
            "colorbar": {
             "outlinewidth": 1,
             "tickcolor": "rgb(36,36,36)",
             "ticks": "outside"
            },
            "type": "contourcarpet"
           }
          ],
          "heatmap": [
           {
            "colorbar": {
             "outlinewidth": 1,
             "tickcolor": "rgb(36,36,36)",
             "ticks": "outside"
            },
            "colorscale": [
             [
              0,
              "#440154"
             ],
             [
              0.1111111111111111,
              "#482878"
             ],
             [
              0.2222222222222222,
              "#3e4989"
             ],
             [
              0.3333333333333333,
              "#31688e"
             ],
             [
              0.4444444444444444,
              "#26828e"
             ],
             [
              0.5555555555555556,
              "#1f9e89"
             ],
             [
              0.6666666666666666,
              "#35b779"
             ],
             [
              0.7777777777777778,
              "#6ece58"
             ],
             [
              0.8888888888888888,
              "#b5de2b"
             ],
             [
              1,
              "#fde725"
             ]
            ],
            "type": "heatmap"
           }
          ],
          "heatmapgl": [
           {
            "colorbar": {
             "outlinewidth": 1,
             "tickcolor": "rgb(36,36,36)",
             "ticks": "outside"
            },
            "colorscale": [
             [
              0,
              "#440154"
             ],
             [
              0.1111111111111111,
              "#482878"
             ],
             [
              0.2222222222222222,
              "#3e4989"
             ],
             [
              0.3333333333333333,
              "#31688e"
             ],
             [
              0.4444444444444444,
              "#26828e"
             ],
             [
              0.5555555555555556,
              "#1f9e89"
             ],
             [
              0.6666666666666666,
              "#35b779"
             ],
             [
              0.7777777777777778,
              "#6ece58"
             ],
             [
              0.8888888888888888,
              "#b5de2b"
             ],
             [
              1,
              "#fde725"
             ]
            ],
            "type": "heatmapgl"
           }
          ],
          "histogram": [
           {
            "marker": {
             "line": {
              "color": "white",
              "width": 0.6
             }
            },
            "type": "histogram"
           }
          ],
          "histogram2d": [
           {
            "colorbar": {
             "outlinewidth": 1,
             "tickcolor": "rgb(36,36,36)",
             "ticks": "outside"
            },
            "colorscale": [
             [
              0,
              "#440154"
             ],
             [
              0.1111111111111111,
              "#482878"
             ],
             [
              0.2222222222222222,
              "#3e4989"
             ],
             [
              0.3333333333333333,
              "#31688e"
             ],
             [
              0.4444444444444444,
              "#26828e"
             ],
             [
              0.5555555555555556,
              "#1f9e89"
             ],
             [
              0.6666666666666666,
              "#35b779"
             ],
             [
              0.7777777777777778,
              "#6ece58"
             ],
             [
              0.8888888888888888,
              "#b5de2b"
             ],
             [
              1,
              "#fde725"
             ]
            ],
            "type": "histogram2d"
           }
          ],
          "histogram2dcontour": [
           {
            "colorbar": {
             "outlinewidth": 1,
             "tickcolor": "rgb(36,36,36)",
             "ticks": "outside"
            },
            "colorscale": [
             [
              0,
              "#440154"
             ],
             [
              0.1111111111111111,
              "#482878"
             ],
             [
              0.2222222222222222,
              "#3e4989"
             ],
             [
              0.3333333333333333,
              "#31688e"
             ],
             [
              0.4444444444444444,
              "#26828e"
             ],
             [
              0.5555555555555556,
              "#1f9e89"
             ],
             [
              0.6666666666666666,
              "#35b779"
             ],
             [
              0.7777777777777778,
              "#6ece58"
             ],
             [
              0.8888888888888888,
              "#b5de2b"
             ],
             [
              1,
              "#fde725"
             ]
            ],
            "type": "histogram2dcontour"
           }
          ],
          "mesh3d": [
           {
            "colorbar": {
             "outlinewidth": 1,
             "tickcolor": "rgb(36,36,36)",
             "ticks": "outside"
            },
            "type": "mesh3d"
           }
          ],
          "parcoords": [
           {
            "line": {
             "colorbar": {
              "outlinewidth": 1,
              "tickcolor": "rgb(36,36,36)",
              "ticks": "outside"
             }
            },
            "type": "parcoords"
           }
          ],
          "pie": [
           {
            "automargin": true,
            "type": "pie"
           }
          ],
          "scatter": [
           {
            "fillpattern": {
             "fillmode": "overlay",
             "size": 10,
             "solidity": 0.2
            },
            "type": "scatter"
           }
          ],
          "scatter3d": [
           {
            "line": {
             "colorbar": {
              "outlinewidth": 1,
              "tickcolor": "rgb(36,36,36)",
              "ticks": "outside"
             }
            },
            "marker": {
             "colorbar": {
              "outlinewidth": 1,
              "tickcolor": "rgb(36,36,36)",
              "ticks": "outside"
             }
            },
            "type": "scatter3d"
           }
          ],
          "scattercarpet": [
           {
            "marker": {
             "colorbar": {
              "outlinewidth": 1,
              "tickcolor": "rgb(36,36,36)",
              "ticks": "outside"
             }
            },
            "type": "scattercarpet"
           }
          ],
          "scattergeo": [
           {
            "marker": {
             "colorbar": {
              "outlinewidth": 1,
              "tickcolor": "rgb(36,36,36)",
              "ticks": "outside"
             }
            },
            "type": "scattergeo"
           }
          ],
          "scattergl": [
           {
            "marker": {
             "colorbar": {
              "outlinewidth": 1,
              "tickcolor": "rgb(36,36,36)",
              "ticks": "outside"
             }
            },
            "type": "scattergl"
           }
          ],
          "scattermapbox": [
           {
            "marker": {
             "colorbar": {
              "outlinewidth": 1,
              "tickcolor": "rgb(36,36,36)",
              "ticks": "outside"
             }
            },
            "type": "scattermapbox"
           }
          ],
          "scatterpolar": [
           {
            "marker": {
             "colorbar": {
              "outlinewidth": 1,
              "tickcolor": "rgb(36,36,36)",
              "ticks": "outside"
             }
            },
            "type": "scatterpolar"
           }
          ],
          "scatterpolargl": [
           {
            "marker": {
             "colorbar": {
              "outlinewidth": 1,
              "tickcolor": "rgb(36,36,36)",
              "ticks": "outside"
             }
            },
            "type": "scatterpolargl"
           }
          ],
          "scatterternary": [
           {
            "marker": {
             "colorbar": {
              "outlinewidth": 1,
              "tickcolor": "rgb(36,36,36)",
              "ticks": "outside"
             }
            },
            "type": "scatterternary"
           }
          ],
          "surface": [
           {
            "colorbar": {
             "outlinewidth": 1,
             "tickcolor": "rgb(36,36,36)",
             "ticks": "outside"
            },
            "colorscale": [
             [
              0,
              "#440154"
             ],
             [
              0.1111111111111111,
              "#482878"
             ],
             [
              0.2222222222222222,
              "#3e4989"
             ],
             [
              0.3333333333333333,
              "#31688e"
             ],
             [
              0.4444444444444444,
              "#26828e"
             ],
             [
              0.5555555555555556,
              "#1f9e89"
             ],
             [
              0.6666666666666666,
              "#35b779"
             ],
             [
              0.7777777777777778,
              "#6ece58"
             ],
             [
              0.8888888888888888,
              "#b5de2b"
             ],
             [
              1,
              "#fde725"
             ]
            ],
            "type": "surface"
           }
          ],
          "table": [
           {
            "cells": {
             "fill": {
              "color": "rgb(237,237,237)"
             },
             "line": {
              "color": "white"
             }
            },
            "header": {
             "fill": {
              "color": "rgb(217,217,217)"
             },
             "line": {
              "color": "white"
             }
            },
            "type": "table"
           }
          ]
         },
         "layout": {
          "annotationdefaults": {
           "arrowhead": 0,
           "arrowwidth": 1
          },
          "autotypenumbers": "strict",
          "coloraxis": {
           "colorbar": {
            "outlinewidth": 1,
            "tickcolor": "rgb(36,36,36)",
            "ticks": "outside"
           }
          },
          "colorscale": {
           "diverging": [
            [
             0,
             "rgb(103,0,31)"
            ],
            [
             0.1,
             "rgb(178,24,43)"
            ],
            [
             0.2,
             "rgb(214,96,77)"
            ],
            [
             0.3,
             "rgb(244,165,130)"
            ],
            [
             0.4,
             "rgb(253,219,199)"
            ],
            [
             0.5,
             "rgb(247,247,247)"
            ],
            [
             0.6,
             "rgb(209,229,240)"
            ],
            [
             0.7,
             "rgb(146,197,222)"
            ],
            [
             0.8,
             "rgb(67,147,195)"
            ],
            [
             0.9,
             "rgb(33,102,172)"
            ],
            [
             1,
             "rgb(5,48,97)"
            ]
           ],
           "sequential": [
            [
             0,
             "#440154"
            ],
            [
             0.1111111111111111,
             "#482878"
            ],
            [
             0.2222222222222222,
             "#3e4989"
            ],
            [
             0.3333333333333333,
             "#31688e"
            ],
            [
             0.4444444444444444,
             "#26828e"
            ],
            [
             0.5555555555555556,
             "#1f9e89"
            ],
            [
             0.6666666666666666,
             "#35b779"
            ],
            [
             0.7777777777777778,
             "#6ece58"
            ],
            [
             0.8888888888888888,
             "#b5de2b"
            ],
            [
             1,
             "#fde725"
            ]
           ],
           "sequentialminus": [
            [
             0,
             "#440154"
            ],
            [
             0.1111111111111111,
             "#482878"
            ],
            [
             0.2222222222222222,
             "#3e4989"
            ],
            [
             0.3333333333333333,
             "#31688e"
            ],
            [
             0.4444444444444444,
             "#26828e"
            ],
            [
             0.5555555555555556,
             "#1f9e89"
            ],
            [
             0.6666666666666666,
             "#35b779"
            ],
            [
             0.7777777777777778,
             "#6ece58"
            ],
            [
             0.8888888888888888,
             "#b5de2b"
            ],
            [
             1,
             "#fde725"
            ]
           ]
          },
          "colorway": [
           "#1F77B4",
           "#FF7F0E",
           "#2CA02C",
           "#D62728",
           "#9467BD",
           "#8C564B",
           "#E377C2",
           "#7F7F7F",
           "#BCBD22",
           "#17BECF"
          ],
          "font": {
           "color": "rgb(36,36,36)"
          },
          "geo": {
           "bgcolor": "white",
           "lakecolor": "white",
           "landcolor": "white",
           "showlakes": true,
           "showland": true,
           "subunitcolor": "white"
          },
          "hoverlabel": {
           "align": "left"
          },
          "hovermode": "closest",
          "mapbox": {
           "style": "light"
          },
          "paper_bgcolor": "white",
          "plot_bgcolor": "white",
          "polar": {
           "angularaxis": {
            "gridcolor": "rgb(232,232,232)",
            "linecolor": "rgb(36,36,36)",
            "showgrid": false,
            "showline": true,
            "ticks": "outside"
           },
           "bgcolor": "white",
           "radialaxis": {
            "gridcolor": "rgb(232,232,232)",
            "linecolor": "rgb(36,36,36)",
            "showgrid": false,
            "showline": true,
            "ticks": "outside"
           }
          },
          "scene": {
           "xaxis": {
            "backgroundcolor": "white",
            "gridcolor": "rgb(232,232,232)",
            "gridwidth": 2,
            "linecolor": "rgb(36,36,36)",
            "showbackground": true,
            "showgrid": false,
            "showline": true,
            "ticks": "outside",
            "zeroline": false,
            "zerolinecolor": "rgb(36,36,36)"
           },
           "yaxis": {
            "backgroundcolor": "white",
            "gridcolor": "rgb(232,232,232)",
            "gridwidth": 2,
            "linecolor": "rgb(36,36,36)",
            "showbackground": true,
            "showgrid": false,
            "showline": true,
            "ticks": "outside",
            "zeroline": false,
            "zerolinecolor": "rgb(36,36,36)"
           },
           "zaxis": {
            "backgroundcolor": "white",
            "gridcolor": "rgb(232,232,232)",
            "gridwidth": 2,
            "linecolor": "rgb(36,36,36)",
            "showbackground": true,
            "showgrid": false,
            "showline": true,
            "ticks": "outside",
            "zeroline": false,
            "zerolinecolor": "rgb(36,36,36)"
           }
          },
          "shapedefaults": {
           "fillcolor": "black",
           "line": {
            "width": 0
           },
           "opacity": 0.3
          },
          "ternary": {
           "aaxis": {
            "gridcolor": "rgb(232,232,232)",
            "linecolor": "rgb(36,36,36)",
            "showgrid": false,
            "showline": true,
            "ticks": "outside"
           },
           "baxis": {
            "gridcolor": "rgb(232,232,232)",
            "linecolor": "rgb(36,36,36)",
            "showgrid": false,
            "showline": true,
            "ticks": "outside"
           },
           "bgcolor": "white",
           "caxis": {
            "gridcolor": "rgb(232,232,232)",
            "linecolor": "rgb(36,36,36)",
            "showgrid": false,
            "showline": true,
            "ticks": "outside"
           }
          },
          "title": {
           "x": 0.05
          },
          "xaxis": {
           "automargin": true,
           "gridcolor": "rgb(232,232,232)",
           "linecolor": "rgb(36,36,36)",
           "showgrid": false,
           "showline": true,
           "ticks": "outside",
           "title": {
            "standoff": 15
           },
           "zeroline": false,
           "zerolinecolor": "rgb(36,36,36)"
          },
          "yaxis": {
           "automargin": true,
           "gridcolor": "rgb(232,232,232)",
           "linecolor": "rgb(36,36,36)",
           "showgrid": false,
           "showline": true,
           "ticks": "outside",
           "title": {
            "standoff": 15
           },
           "zeroline": false,
           "zerolinecolor": "rgb(36,36,36)"
          }
         }
        },
        "xaxis": {
         "anchor": "y",
         "domain": [
          0,
          1
         ],
         "title": {
          "text": "mean_size_house"
         }
        },
        "yaxis": {
         "anchor": "x",
         "domain": [
          0,
          1
         ],
         "title": {
          "text": "mean_wage"
         }
        }
       }
      },
      "text/html": [
       "<div>                            <div id=\"89bde0e4-260d-43f0-8f35-f5dae67365cd\" class=\"plotly-graph-div\" style=\"height:525px; width:100%;\"></div>            <script type=\"text/javascript\">                require([\"plotly\"], function(Plotly) {                    window.PLOTLYENV=window.PLOTLYENV || {};                                    if (document.getElementById(\"89bde0e4-260d-43f0-8f35-f5dae67365cd\")) {                    Plotly.newPlot(                        \"89bde0e4-260d-43f0-8f35-f5dae67365cd\",                        [{\"hovertemplate\":\"<b>%{hovertext}</b><br><br>mean_size_house=%{x}<br>mean_wage=%{y}<br>n_pop=%{marker.color}<extra></extra>\",\"hovertext\":[\"\\u0410\\u043d\\u0430\\u0434\\u044b\\u0440\\u044c\",\"\\u0421\\u0430\\u043b\\u0435\\u0445\\u0430\\u0440\\u0434\",\"\\u042e\\u0436\\u043d\\u043e-\\u0421\\u0430\\u0445\\u0430\\u043b\\u0438\\u043d\\u0441\\u043a\",\"\\u041c\\u0430\\u0433\\u0430\\u0434\\u0430\\u043d\",\"\\u041f\\u0435\\u0442\\u0440\\u043e\\u043f\\u0430\\u0432\\u043b\\u043e\\u0432\\u0441\\u043a-\\u041a\\u0430\\u043c\\u0447\\u0430\\u0442\\u0441\\u043a\\u0438\\u0439\",\"\\u0425\\u0430\\u043d\\u0442\\u044b-\\u041c\\u0430\\u043d\\u0441\\u0438\\u0439\\u0441\\u043a\",\"\\u041d\\u0430\\u0440\\u044c\\u044f\\u043d-\\u041c\\u0430\\u0440\",\"\\u042f\\u043a\\u0443\\u0442\\u0441\\u043a\",\"\\u041c\\u0443\\u0440\\u043c\\u0430\\u043d\\u0441\\u043a\",\"\\u0422\\u044e\\u043c\\u0435\\u043d\\u044c\",\"\\u0425\\u0430\\u0431\\u0430\\u0440\\u043e\\u0432\\u0441\\u043a\",\"\\u0412\\u043b\\u0430\\u0434\\u0438\\u0432\\u043e\\u0441\\u0442\\u043e\\u043a\",\"\\u0415\\u043a\\u0430\\u0442\\u0435\\u0440\\u0438\\u043d\\u0431\\u0443\\u0440\\u0433\",\"\\u0418\\u0440\\u043a\\u0443\\u0442\\u0441\\u043a\",\"\\u0410\\u0440\\u0445\\u0430\\u043d\\u0433\\u0435\\u043b\\u044c\\u0441\\u043a\",\"\\u041a\\u0440\\u0430\\u0441\\u043d\\u043e\\u044f\\u0440\\u0441\\u043a\",\"\\u0421\\u044b\\u043a\\u0442\\u044b\\u0432\\u043a\\u0430\\u0440\",\"\\u0422\\u043e\\u043c\\u0441\\u043a\",\"\\u041d\\u0438\\u0436\\u043d\\u0438\\u0439 \\u041d\\u043e\\u0432\\u0433\\u043e\\u0440\\u043e\\u0434\",\"\\u0423\\u0444\\u0430\",\"\\u0427\\u0438\\u0442\\u0430\",\"\\u041a\\u0440\\u0430\\u0441\\u043d\\u043e\\u0434\\u0430\\u0440\",\"\\u041d\\u043e\\u0432\\u043e\\u0441\\u0438\\u0431\\u0438\\u0440\\u0441\\u043a\",\"\\u0411\\u043b\\u0430\\u0433\\u043e\\u0432\\u0435\\u0449\\u0435\\u043d\\u0441\\u043a\",\"\\u041a\\u044b\\u0437\\u044b\\u043b\",\"\\u041f\\u0435\\u0440\\u043c\\u044c\",\"\\u041f\\u0435\\u0442\\u0440\\u043e\\u0437\\u0430\\u0432\\u043e\\u0434\\u0441\\u043a\",\"\\u0410\\u0431\\u0430\\u043a\\u0430\\u043d\",\"\\u041a\\u0430\\u0437\\u0430\\u043d\\u044c\",\"\\u0420\\u043e\\u0441\\u0442\\u043e\\u0432-\\u043d\\u0430-\\u0414\\u043e\\u043d\\u0443\",\"\\u041a\\u0430\\u043b\\u0443\\u0433\\u0430\",\"\\u041a\\u0435\\u043c\\u0435\\u0440\\u043e\\u0432\\u043e\",\"\\u0421\\u0430\\u043c\\u0430\\u0440\\u0430\",\"\\u0422\\u0443\\u043b\\u0430\",\"\\u041a\\u0430\\u043b\\u0438\\u043d\\u0438\\u043d\\u0433\\u0440\\u0430\\u0434\",\"\\u0427\\u0435\\u043b\\u044f\\u0431\\u0438\\u043d\\u0441\\u043a\",\"\\u0411\\u0438\\u0440\\u043e\\u0431\\u0438\\u0434\\u0436\\u0430\\u043d\",\"\\u042f\\u0440\\u043e\\u0441\\u043b\\u0430\\u0432\\u043b\\u044c\",\"\\u0412\\u0435\\u043b\\u0438\\u043a\\u0438\\u0439 \\u041d\\u043e\\u0432\\u0433\\u043e\\u0440\\u043e\\u0434\",\"\\u0423\\u043b\\u0430\\u043d-\\u0423\\u0434\\u044d\"],\"legendgroup\":\"\",\"marker\":{\"color\":[15.6,49.5,199.0,99.7,181.2,98.5,24.8,311.8,295.4,768.4,618.2,633.1,1501.7,623.9,356.9,1091.6,260.8,595.2,1267.5,1120.5,349.0,990.2,1612.8,230.4,117.0,1051.6,279.2,184.2,1243.5,1130.3,340.9,559.0,1163.4,550.0,475.1,1202.4,73.6,608.7,222.9,434.8],\"coloraxis\":\"coloraxis\",\"size\":[15.6,49.5,199.0,99.7,181.2,98.5,24.8,311.8,295.4,768.4,618.2,633.1,1501.7,623.9,356.9,1091.6,260.8,595.2,1267.5,1120.5,349.0,990.2,1612.8,230.4,117.0,1051.6,279.2,184.2,1243.5,1130.3,340.9,559.0,1163.4,550.0,475.1,1202.4,73.6,608.7,222.9,434.8],\"sizemode\":\"area\",\"sizeref\":1.008,\"symbol\":\"circle\"},\"mode\":\"markers\",\"name\":\"\",\"orientation\":\"v\",\"showlegend\":false,\"x\":[18.4,24.1,23.3,24.9,25.2,25.3,24.9,19.1,23.8,29.3,23.0,21.9,25.0,27.7,23.3,24.1,23.7,23.1,24.8,23.6,21.0,34.2,25.1,25.2,15.4,23.5,25.4,24.1,25.3,26.9,25.3,23.2,28.1,28.6,28.7,25.4,23.0,24.1,25.0,20.1],\"xaxis\":\"x\",\"y\":[107061.8,95496.0,88147.74,79539.3,76525.4,72093.6,70421.9,64801.3,61261.6,53830.5,52986.9,51830.5,47265.6,46980.0,45097.7,44384.3,44181.4,43410.8,42469.5,42312.8,42204.2,42028.7,41884.0,41808.1,41383.0,41325.9,41234.4,41203.1,41020.8,40556.7,39653.2,39317.8,39298.9,39180.2,38686.0,38228.1,37587.3,37533.7,36640.1,36536.7],\"yaxis\":\"y\",\"type\":\"scatter\"}],                        {\"template\":{\"data\":{\"barpolar\":[{\"marker\":{\"line\":{\"color\":\"white\",\"width\":0.5},\"pattern\":{\"fillmode\":\"overlay\",\"size\":10,\"solidity\":0.2}},\"type\":\"barpolar\"}],\"bar\":[{\"error_x\":{\"color\":\"rgb(36,36,36)\"},\"error_y\":{\"color\":\"rgb(36,36,36)\"},\"marker\":{\"line\":{\"color\":\"white\",\"width\":0.5},\"pattern\":{\"fillmode\":\"overlay\",\"size\":10,\"solidity\":0.2}},\"type\":\"bar\"}],\"carpet\":[{\"aaxis\":{\"endlinecolor\":\"rgb(36,36,36)\",\"gridcolor\":\"white\",\"linecolor\":\"white\",\"minorgridcolor\":\"white\",\"startlinecolor\":\"rgb(36,36,36)\"},\"baxis\":{\"endlinecolor\":\"rgb(36,36,36)\",\"gridcolor\":\"white\",\"linecolor\":\"white\",\"minorgridcolor\":\"white\",\"startlinecolor\":\"rgb(36,36,36)\"},\"type\":\"carpet\"}],\"choropleth\":[{\"colorbar\":{\"outlinewidth\":1,\"tickcolor\":\"rgb(36,36,36)\",\"ticks\":\"outside\"},\"type\":\"choropleth\"}],\"contourcarpet\":[{\"colorbar\":{\"outlinewidth\":1,\"tickcolor\":\"rgb(36,36,36)\",\"ticks\":\"outside\"},\"type\":\"contourcarpet\"}],\"contour\":[{\"colorbar\":{\"outlinewidth\":1,\"tickcolor\":\"rgb(36,36,36)\",\"ticks\":\"outside\"},\"colorscale\":[[0.0,\"#440154\"],[0.1111111111111111,\"#482878\"],[0.2222222222222222,\"#3e4989\"],[0.3333333333333333,\"#31688e\"],[0.4444444444444444,\"#26828e\"],[0.5555555555555556,\"#1f9e89\"],[0.6666666666666666,\"#35b779\"],[0.7777777777777778,\"#6ece58\"],[0.8888888888888888,\"#b5de2b\"],[1.0,\"#fde725\"]],\"type\":\"contour\"}],\"heatmapgl\":[{\"colorbar\":{\"outlinewidth\":1,\"tickcolor\":\"rgb(36,36,36)\",\"ticks\":\"outside\"},\"colorscale\":[[0.0,\"#440154\"],[0.1111111111111111,\"#482878\"],[0.2222222222222222,\"#3e4989\"],[0.3333333333333333,\"#31688e\"],[0.4444444444444444,\"#26828e\"],[0.5555555555555556,\"#1f9e89\"],[0.6666666666666666,\"#35b779\"],[0.7777777777777778,\"#6ece58\"],[0.8888888888888888,\"#b5de2b\"],[1.0,\"#fde725\"]],\"type\":\"heatmapgl\"}],\"heatmap\":[{\"colorbar\":{\"outlinewidth\":1,\"tickcolor\":\"rgb(36,36,36)\",\"ticks\":\"outside\"},\"colorscale\":[[0.0,\"#440154\"],[0.1111111111111111,\"#482878\"],[0.2222222222222222,\"#3e4989\"],[0.3333333333333333,\"#31688e\"],[0.4444444444444444,\"#26828e\"],[0.5555555555555556,\"#1f9e89\"],[0.6666666666666666,\"#35b779\"],[0.7777777777777778,\"#6ece58\"],[0.8888888888888888,\"#b5de2b\"],[1.0,\"#fde725\"]],\"type\":\"heatmap\"}],\"histogram2dcontour\":[{\"colorbar\":{\"outlinewidth\":1,\"tickcolor\":\"rgb(36,36,36)\",\"ticks\":\"outside\"},\"colorscale\":[[0.0,\"#440154\"],[0.1111111111111111,\"#482878\"],[0.2222222222222222,\"#3e4989\"],[0.3333333333333333,\"#31688e\"],[0.4444444444444444,\"#26828e\"],[0.5555555555555556,\"#1f9e89\"],[0.6666666666666666,\"#35b779\"],[0.7777777777777778,\"#6ece58\"],[0.8888888888888888,\"#b5de2b\"],[1.0,\"#fde725\"]],\"type\":\"histogram2dcontour\"}],\"histogram2d\":[{\"colorbar\":{\"outlinewidth\":1,\"tickcolor\":\"rgb(36,36,36)\",\"ticks\":\"outside\"},\"colorscale\":[[0.0,\"#440154\"],[0.1111111111111111,\"#482878\"],[0.2222222222222222,\"#3e4989\"],[0.3333333333333333,\"#31688e\"],[0.4444444444444444,\"#26828e\"],[0.5555555555555556,\"#1f9e89\"],[0.6666666666666666,\"#35b779\"],[0.7777777777777778,\"#6ece58\"],[0.8888888888888888,\"#b5de2b\"],[1.0,\"#fde725\"]],\"type\":\"histogram2d\"}],\"histogram\":[{\"marker\":{\"line\":{\"color\":\"white\",\"width\":0.6}},\"type\":\"histogram\"}],\"mesh3d\":[{\"colorbar\":{\"outlinewidth\":1,\"tickcolor\":\"rgb(36,36,36)\",\"ticks\":\"outside\"},\"type\":\"mesh3d\"}],\"parcoords\":[{\"line\":{\"colorbar\":{\"outlinewidth\":1,\"tickcolor\":\"rgb(36,36,36)\",\"ticks\":\"outside\"}},\"type\":\"parcoords\"}],\"pie\":[{\"automargin\":true,\"type\":\"pie\"}],\"scatter3d\":[{\"line\":{\"colorbar\":{\"outlinewidth\":1,\"tickcolor\":\"rgb(36,36,36)\",\"ticks\":\"outside\"}},\"marker\":{\"colorbar\":{\"outlinewidth\":1,\"tickcolor\":\"rgb(36,36,36)\",\"ticks\":\"outside\"}},\"type\":\"scatter3d\"}],\"scattercarpet\":[{\"marker\":{\"colorbar\":{\"outlinewidth\":1,\"tickcolor\":\"rgb(36,36,36)\",\"ticks\":\"outside\"}},\"type\":\"scattercarpet\"}],\"scattergeo\":[{\"marker\":{\"colorbar\":{\"outlinewidth\":1,\"tickcolor\":\"rgb(36,36,36)\",\"ticks\":\"outside\"}},\"type\":\"scattergeo\"}],\"scattergl\":[{\"marker\":{\"colorbar\":{\"outlinewidth\":1,\"tickcolor\":\"rgb(36,36,36)\",\"ticks\":\"outside\"}},\"type\":\"scattergl\"}],\"scattermapbox\":[{\"marker\":{\"colorbar\":{\"outlinewidth\":1,\"tickcolor\":\"rgb(36,36,36)\",\"ticks\":\"outside\"}},\"type\":\"scattermapbox\"}],\"scatterpolargl\":[{\"marker\":{\"colorbar\":{\"outlinewidth\":1,\"tickcolor\":\"rgb(36,36,36)\",\"ticks\":\"outside\"}},\"type\":\"scatterpolargl\"}],\"scatterpolar\":[{\"marker\":{\"colorbar\":{\"outlinewidth\":1,\"tickcolor\":\"rgb(36,36,36)\",\"ticks\":\"outside\"}},\"type\":\"scatterpolar\"}],\"scatter\":[{\"fillpattern\":{\"fillmode\":\"overlay\",\"size\":10,\"solidity\":0.2},\"type\":\"scatter\"}],\"scatterternary\":[{\"marker\":{\"colorbar\":{\"outlinewidth\":1,\"tickcolor\":\"rgb(36,36,36)\",\"ticks\":\"outside\"}},\"type\":\"scatterternary\"}],\"surface\":[{\"colorbar\":{\"outlinewidth\":1,\"tickcolor\":\"rgb(36,36,36)\",\"ticks\":\"outside\"},\"colorscale\":[[0.0,\"#440154\"],[0.1111111111111111,\"#482878\"],[0.2222222222222222,\"#3e4989\"],[0.3333333333333333,\"#31688e\"],[0.4444444444444444,\"#26828e\"],[0.5555555555555556,\"#1f9e89\"],[0.6666666666666666,\"#35b779\"],[0.7777777777777778,\"#6ece58\"],[0.8888888888888888,\"#b5de2b\"],[1.0,\"#fde725\"]],\"type\":\"surface\"}],\"table\":[{\"cells\":{\"fill\":{\"color\":\"rgb(237,237,237)\"},\"line\":{\"color\":\"white\"}},\"header\":{\"fill\":{\"color\":\"rgb(217,217,217)\"},\"line\":{\"color\":\"white\"}},\"type\":\"table\"}]},\"layout\":{\"annotationdefaults\":{\"arrowhead\":0,\"arrowwidth\":1},\"autotypenumbers\":\"strict\",\"coloraxis\":{\"colorbar\":{\"outlinewidth\":1,\"tickcolor\":\"rgb(36,36,36)\",\"ticks\":\"outside\"}},\"colorscale\":{\"diverging\":[[0.0,\"rgb(103,0,31)\"],[0.1,\"rgb(178,24,43)\"],[0.2,\"rgb(214,96,77)\"],[0.3,\"rgb(244,165,130)\"],[0.4,\"rgb(253,219,199)\"],[0.5,\"rgb(247,247,247)\"],[0.6,\"rgb(209,229,240)\"],[0.7,\"rgb(146,197,222)\"],[0.8,\"rgb(67,147,195)\"],[0.9,\"rgb(33,102,172)\"],[1.0,\"rgb(5,48,97)\"]],\"sequential\":[[0.0,\"#440154\"],[0.1111111111111111,\"#482878\"],[0.2222222222222222,\"#3e4989\"],[0.3333333333333333,\"#31688e\"],[0.4444444444444444,\"#26828e\"],[0.5555555555555556,\"#1f9e89\"],[0.6666666666666666,\"#35b779\"],[0.7777777777777778,\"#6ece58\"],[0.8888888888888888,\"#b5de2b\"],[1.0,\"#fde725\"]],\"sequentialminus\":[[0.0,\"#440154\"],[0.1111111111111111,\"#482878\"],[0.2222222222222222,\"#3e4989\"],[0.3333333333333333,\"#31688e\"],[0.4444444444444444,\"#26828e\"],[0.5555555555555556,\"#1f9e89\"],[0.6666666666666666,\"#35b779\"],[0.7777777777777778,\"#6ece58\"],[0.8888888888888888,\"#b5de2b\"],[1.0,\"#fde725\"]]},\"colorway\":[\"#1F77B4\",\"#FF7F0E\",\"#2CA02C\",\"#D62728\",\"#9467BD\",\"#8C564B\",\"#E377C2\",\"#7F7F7F\",\"#BCBD22\",\"#17BECF\"],\"font\":{\"color\":\"rgb(36,36,36)\"},\"geo\":{\"bgcolor\":\"white\",\"lakecolor\":\"white\",\"landcolor\":\"white\",\"showlakes\":true,\"showland\":true,\"subunitcolor\":\"white\"},\"hoverlabel\":{\"align\":\"left\"},\"hovermode\":\"closest\",\"mapbox\":{\"style\":\"light\"},\"paper_bgcolor\":\"white\",\"plot_bgcolor\":\"white\",\"polar\":{\"angularaxis\":{\"gridcolor\":\"rgb(232,232,232)\",\"linecolor\":\"rgb(36,36,36)\",\"showgrid\":false,\"showline\":true,\"ticks\":\"outside\"},\"bgcolor\":\"white\",\"radialaxis\":{\"gridcolor\":\"rgb(232,232,232)\",\"linecolor\":\"rgb(36,36,36)\",\"showgrid\":false,\"showline\":true,\"ticks\":\"outside\"}},\"scene\":{\"xaxis\":{\"backgroundcolor\":\"white\",\"gridcolor\":\"rgb(232,232,232)\",\"gridwidth\":2,\"linecolor\":\"rgb(36,36,36)\",\"showbackground\":true,\"showgrid\":false,\"showline\":true,\"ticks\":\"outside\",\"zeroline\":false,\"zerolinecolor\":\"rgb(36,36,36)\"},\"yaxis\":{\"backgroundcolor\":\"white\",\"gridcolor\":\"rgb(232,232,232)\",\"gridwidth\":2,\"linecolor\":\"rgb(36,36,36)\",\"showbackground\":true,\"showgrid\":false,\"showline\":true,\"ticks\":\"outside\",\"zeroline\":false,\"zerolinecolor\":\"rgb(36,36,36)\"},\"zaxis\":{\"backgroundcolor\":\"white\",\"gridcolor\":\"rgb(232,232,232)\",\"gridwidth\":2,\"linecolor\":\"rgb(36,36,36)\",\"showbackground\":true,\"showgrid\":false,\"showline\":true,\"ticks\":\"outside\",\"zeroline\":false,\"zerolinecolor\":\"rgb(36,36,36)\"}},\"shapedefaults\":{\"fillcolor\":\"black\",\"line\":{\"width\":0},\"opacity\":0.3},\"ternary\":{\"aaxis\":{\"gridcolor\":\"rgb(232,232,232)\",\"linecolor\":\"rgb(36,36,36)\",\"showgrid\":false,\"showline\":true,\"ticks\":\"outside\"},\"baxis\":{\"gridcolor\":\"rgb(232,232,232)\",\"linecolor\":\"rgb(36,36,36)\",\"showgrid\":false,\"showline\":true,\"ticks\":\"outside\"},\"bgcolor\":\"white\",\"caxis\":{\"gridcolor\":\"rgb(232,232,232)\",\"linecolor\":\"rgb(36,36,36)\",\"showgrid\":false,\"showline\":true,\"ticks\":\"outside\"}},\"title\":{\"x\":0.05},\"xaxis\":{\"automargin\":true,\"gridcolor\":\"rgb(232,232,232)\",\"linecolor\":\"rgb(36,36,36)\",\"showgrid\":false,\"showline\":true,\"ticks\":\"outside\",\"title\":{\"standoff\":15},\"zeroline\":false,\"zerolinecolor\":\"rgb(36,36,36)\"},\"yaxis\":{\"automargin\":true,\"gridcolor\":\"rgb(232,232,232)\",\"linecolor\":\"rgb(36,36,36)\",\"showgrid\":false,\"showline\":true,\"ticks\":\"outside\",\"title\":{\"standoff\":15},\"zeroline\":false,\"zerolinecolor\":\"rgb(36,36,36)\"}}},\"xaxis\":{\"anchor\":\"y\",\"domain\":[0.0,1.0],\"title\":{\"text\":\"mean_size_house\"}},\"yaxis\":{\"anchor\":\"x\",\"domain\":[0.0,1.0],\"title\":{\"text\":\"mean_wage\"}},\"coloraxis\":{\"colorbar\":{\"title\":{\"text\":\"n_pop\"}},\"colorscale\":[[0.0,\"#440154\"],[0.1111111111111111,\"#482878\"],[0.2222222222222222,\"#3e4989\"],[0.3333333333333333,\"#31688e\"],[0.4444444444444444,\"#26828e\"],[0.5555555555555556,\"#1f9e89\"],[0.6666666666666666,\"#35b779\"],[0.7777777777777778,\"#6ece58\"],[0.8888888888888888,\"#b5de2b\"],[1.0,\"#fde725\"]]},\"legend\":{\"tracegroupgap\":0,\"itemsizing\":\"constant\"},\"margin\":{\"t\":60},\"showlegend\":false},                        {\"responsive\": true}                    ).then(function(){\n",
       "                            \n",
       "var gd = document.getElementById('89bde0e4-260d-43f0-8f35-f5dae67365cd');\n",
       "var x = new MutationObserver(function (mutations, observer) {{\n",
       "        var display = window.getComputedStyle(gd).display;\n",
       "        if (!display || display === 'none') {{\n",
       "            console.log([gd, 'removed!']);\n",
       "            Plotly.purge(gd);\n",
       "            observer.disconnect();\n",
       "        }}\n",
       "}});\n",
       "\n",
       "// Listen for the removal of the full notebook cells\n",
       "var notebookContainer = gd.closest('#notebook-container');\n",
       "if (notebookContainer) {{\n",
       "    x.observe(notebookContainer, {childList: true});\n",
       "}}\n",
       "\n",
       "// Listen for the clearing of the current output cell\n",
       "var outputEl = gd.closest('.output');\n",
       "if (outputEl) {{\n",
       "    x.observe(outputEl, {childList: true});\n",
       "}}\n",
       "\n",
       "                        })                };                });            </script>        </div>"
      ]
     },
     "metadata": {},
     "output_type": "display_data"
    }
   ],
   "source": [
    "fig=px.scatter(df.head(40), x='mean_size_house', y='mean_wage', template='simple_white',\n",
    "          hover_name='город', color='n_pop', size='n_pop', size_max=40)\n",
    "fig.update_layout(showlegend=False)"
   ]
  },
  {
   "cell_type": "code",
   "execution_count": 17,
   "id": "d81e51c9",
   "metadata": {},
   "outputs": [],
   "source": [
    "fig.write_html('file.html')"
   ]
  },
  {
   "cell_type": "code",
   "execution_count": null,
   "id": "ef938bd1",
   "metadata": {},
   "outputs": [],
   "source": []
  }
 ],
 "metadata": {
  "kernelspec": {
   "display_name": "Python 3 (ipykernel)",
   "language": "python",
   "name": "python3"
  },
  "language_info": {
   "codemirror_mode": {
    "name": "ipython",
    "version": 3
   },
   "file_extension": ".py",
   "mimetype": "text/x-python",
   "name": "python",
   "nbconvert_exporter": "python",
   "pygments_lexer": "ipython3",
   "version": "3.8.7"
  }
 },
 "nbformat": 4,
 "nbformat_minor": 5
}
